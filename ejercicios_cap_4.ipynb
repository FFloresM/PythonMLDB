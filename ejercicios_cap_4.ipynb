{
 "cells": [
  {
   "cell_type": "markdown",
   "metadata": {},
   "source": [
    "# Funciones\n",
    "Diviértase resolviendo los siguientes ejercicios <br>\n",
    "![](https://media2.giphy.com/media/LmNwrBhejkK9EFP504/giphy.gif)"
   ]
  },
  {
   "cell_type": "markdown",
   "metadata": {},
   "source": [
    "1) ¿qué está mal con la siguiente definición de función `cubo` ?"
   ]
  },
  {
   "cell_type": "code",
   "execution_count": 5,
   "metadata": {},
   "outputs": [
    {
     "name": "stdout",
     "output_type": "stream",
     "text": [
      "El cubo de 2 es 27\n"
     ]
    }
   ],
   "source": [
    "def cubo(x):\n",
    "    \"\"\"Calcula el cubo de x\"\"\"\n",
    "    x**3\n",
    "    return (x**3)\n",
    "print(\"El cubo de 2 es\", cubo(3))"
   ]
  },
  {
   "cell_type": "markdown",
   "metadata": {},
   "source": [
    "2) ¿qué hace la siguiente función `misterio`? Asume que pasas la lista `[1, 2, 3, 4, 5]` como argumento."
   ]
  },
  {
   "cell_type": "code",
   "execution_count": 12,
   "metadata": {},
   "outputs": [
    {
     "data": {
      "text/plain": [
       "55"
      ]
     },
     "execution_count": 12,
     "metadata": {},
     "output_type": "execute_result"
    }
   ],
   "source": [
    "def misterio(x):\n",
    "    y = 0\n",
    "    for value in x:\n",
    "        y += value ** 2\n",
    "    return y\n",
    "\n",
    "lista = [1,2,3,4,5]\n",
    "lista = misterio(lista)\n",
    "lista"
   ]
  },
  {
   "cell_type": "markdown",
   "metadata": {},
   "source": [
    "3) Reemplace los `***` en la función `segundos_desde_medianoche` para que retorne en número de segundos desde la medianoche (00:00:00). La función debe recibir tres enteros que representan la hora actual del día. Asuma que la hora es un valor desde 0 (medianoche) hasta 23 (11 PM) y que el minuto y el segundo son valores desde 0 hasta 59. Pruebe su función con horas actuales. Por ejemplo, si llmas a la funcion para 1:30:45 PM pasando a la función los valores 13, 30 y 45, la función debe devolver 48645."
   ]
  },
  {
   "cell_type": "code",
   "execution_count": 13,
   "metadata": {},
   "outputs": [
    {
     "name": "stdout",
     "output_type": "stream",
     "text": [
      "48645\n"
     ]
    }
   ],
   "source": [
    "def segundos_desde_medianoche(hh,mm,ss):\n",
    "    hora_en_segundos = hh*60*60\n",
    "    minuto_en_segundos= mm*60\n",
    "    return (hora_en_segundos+minuto_en_segundos+ss)\n",
    "print(segundos_desde_medianoche(13,30,45))\n"
   ]
  },
  {
   "cell_type": "markdown",
   "metadata": {},
   "source": [
    "4) El módulo de python **`datetime`** contiene un tipo **`datetime`** con un método **`today`** que retorna la fecha y hora actual como un objeto `datetime`. Escruba una función sin parámetros `fecha_y_hora` que contenga la siguiente sentencia, luego llame a esa función para que muestre la fecha y hora actual:\n",
    "```python\n",
    "print(datetime.datetime.today())\n",
    "```\n",
    "La fecha y hora se muestra con el siguiente formato:<br>\n",
    "`2021-01-08 11:59:13.561391`"
   ]
  },
  {
   "cell_type": "code",
   "execution_count": 19,
   "metadata": {},
   "outputs": [
    {
     "name": "stdout",
     "output_type": "stream",
     "text": [
      "2021-01-23 11:02:52.148285\n"
     ]
    }
   ],
   "source": [
    "import datetime\n",
    "def fech_y_hora():\n",
    "    print(datetime.datetime.today())\n",
    "    \n",
    "fech_y_hora()"
   ]
  },
  {
   "cell_type": "markdown",
   "metadata": {},
   "source": [
    "5) Investigue la función incorporada `round` en <br> \n",
    "[https://docs.python.org/3/library/functions.html#round](https://docs.python.org/3/library/functions.html#round) <br>\n",
    "luego úsela para redondear el valor `float` `13.56449` al entero más cercano, a la décima, centésima y milésima posición."
   ]
  },
  {
   "cell_type": "code",
   "execution_count": null,
   "metadata": {},
   "outputs": [],
   "source": []
  },
  {
   "cell_type": "markdown",
   "metadata": {},
   "source": [
    "6) Implemente una función `fahrenheit` que retorne la termperatura en Fahrenheit equivalente a Celcius. Use la siguiente fórmula: $$F = (9/5) \\cdot C + 32$$\n",
    "Use esta función para imprimir un tabla que muestre la temperatura en Fahrenheit equivalente a todas las temperaturas Celcius en el rango 0-100 grados. Use un dígito de presición para los resultados. Imprima los resultados en formato tabla ordenado."
   ]
  },
  {
   "cell_type": "code",
   "execution_count": 28,
   "metadata": {},
   "outputs": [
    {
     "name": "stdout",
     "output_type": "stream",
     "text": [
      "0, 32.00\n",
      "1, 33.80\n",
      "2, 35.60\n",
      "3, 37.40\n",
      "4, 39.20\n",
      "5, 41.00\n",
      "6, 42.80\n",
      "7, 44.60\n",
      "8, 46.40\n",
      "9, 48.20\n",
      "10, 50.00\n",
      "11, 51.80\n",
      "12, 53.60\n",
      "13, 55.40\n",
      "14, 57.20\n",
      "15, 59.00\n",
      "16, 60.80\n",
      "17, 62.60\n",
      "18, 64.40\n",
      "19, 66.20\n",
      "20, 68.00\n",
      "21, 69.80\n",
      "22, 71.60\n",
      "23, 73.40\n",
      "24, 75.20\n",
      "25, 77.00\n",
      "26, 78.80\n",
      "27, 80.60\n",
      "28, 82.40\n",
      "29, 84.20\n",
      "30, 86.00\n",
      "31, 87.80\n",
      "32, 89.60\n",
      "33, 91.40\n",
      "34, 93.20\n",
      "35, 95.00\n",
      "36, 96.80\n",
      "37, 98.60\n",
      "38, 100.40\n",
      "39, 102.20\n",
      "40, 104.00\n",
      "41, 105.80\n",
      "42, 107.60\n",
      "43, 109.40\n",
      "44, 111.20\n",
      "45, 113.00\n",
      "46, 114.80\n",
      "47, 116.60\n",
      "48, 118.40\n",
      "49, 120.20\n",
      "50, 122.00\n",
      "51, 123.80\n",
      "52, 125.60\n",
      "53, 127.40\n",
      "54, 129.20\n",
      "55, 131.00\n",
      "56, 132.80\n",
      "57, 134.60\n",
      "58, 136.40\n",
      "59, 138.20\n",
      "60, 140.00\n",
      "61, 141.80\n",
      "62, 143.60\n",
      "63, 145.40\n",
      "64, 147.20\n",
      "65, 149.00\n",
      "66, 150.80\n",
      "67, 152.60\n",
      "68, 154.40\n",
      "69, 156.20\n",
      "70, 158.00\n",
      "71, 159.80\n",
      "72, 161.60\n",
      "73, 163.40\n",
      "74, 165.20\n",
      "75, 167.00\n",
      "76, 168.80\n",
      "77, 170.60\n",
      "78, 172.40\n",
      "79, 174.20\n",
      "80, 176.00\n",
      "81, 177.80\n",
      "82, 179.60\n",
      "83, 181.40\n",
      "84, 183.20\n",
      "85, 185.00\n",
      "86, 186.80\n",
      "87, 188.60\n",
      "88, 190.40\n",
      "89, 192.20\n",
      "90, 194.00\n",
      "91, 195.80\n",
      "92, 197.60\n",
      "93, 199.40\n",
      "94, 201.20\n",
      "95, 203.00\n",
      "96, 204.80\n",
      "97, 206.60\n",
      "98, 208.40\n",
      "99, 210.20\n",
      "100, 212.00\n"
     ]
    }
   ],
   "source": [
    "def farenheit():\n",
    "    for c in range (0,101):\n",
    "        F = (9/5)*c+32\n",
    "        print(f'{c}, {F:.2f}')\n",
    "\n",
    "farenheit()"
   ]
  },
  {
   "cell_type": "markdown",
   "metadata": {},
   "source": [
    "7) **Adivina el número** Escribe un script para jugar \"adivina el número\". Escoje el número a ser adivinado seleccionando un entero aleatorio en el rango 1 a 1000. No reveles el número al usuario. Muestre el mensaje `\"Adivine el número entre 1 y 1000 con el menor número de intentos:\"`. El usuario ingresa un primer número. Si el intento es incorrecto, muestre `\"Demasiado alto. Intente nuevamente.\"` o `\"Demasiado bajo. Intente uevamente.\"` según corresponda para ayudar al jugador a \"concentrarse\" en la respuests correcta, luego solicite al usuario el siguiente número a adivinar. Cuando el usuario ingrese la respuesta correcta, muestre `\"Felicitaciones. ¡Adivinaste el numero!\"`, y permita al usuario decidir si quiere volver a jugar o no."
   ]
  },
  {
   "cell_type": "code",
   "execution_count": 34,
   "metadata": {},
   "outputs": [
    {
     "name": "stdout",
     "output_type": "stream",
     "text": [
      "Adivine el número entre 1 y 1000 con el menor número de intentos:1\n",
      "Demasiado bajo. Intente nuevamente\n",
      "Adivine el número entre 1 y 1000 con el menor número de intentos:2\n",
      "Demasiado bajo. Intente nuevamente\n",
      "Adivine el número entre 1 y 1000 con el menor número de intentos:3\n",
      "Demasiado bajo. Intente nuevamente\n",
      "Adivine el número entre 1 y 1000 con el menor número de intentos:4\n",
      "Demasiado bajo. Intente nuevamente\n",
      "Adivine el número entre 1 y 1000 con el menor número de intentos:5\n",
      "Demasiado bajo. Intente nuevamente\n",
      "Adivine el número entre 1 y 1000 con el menor número de intentos:6\n",
      "Demasiado bajo. Intente nuevamente\n",
      "Adivine el número entre 1 y 1000 con el menor número de intentos:7\n",
      "Demasiado bajo. Intente nuevamente\n",
      "Adivine el número entre 1 y 1000 con el menor número de intentos:8\n",
      "Demasiado bajo. Intente nuevamente\n",
      "Adivine el número entre 1 y 1000 con el menor número de intentos:9\n",
      "Demasiado bajo. Intente nuevamente\n",
      "Adivine el número entre 1 y 1000 con el menor número de intentos:10\n",
      "Demasiado bajo. Intente nuevamente\n",
      "Game over\n"
     ]
    }
   ],
   "source": [
    "import random\n",
    "numero = random.randint(1,1000)\n",
    "\n",
    "for i in range(10):\n",
    "\n",
    "    usuario = int(input('Adivine el número entre 1 y 1000 con el menor número de intentos:'))\n",
    "    if usuario == numero:\n",
    "        print('Felicitaciones. ¡Adivinaste el número!')\n",
    "        break\n",
    "    elif usuario > numero:\n",
    "        print('Demasiado alto. Intente nuevamente.')\n",
    "    \n",
    "    else:\n",
    "        print('Demasiado bajo. Intente nuevamente')\n",
    "    \n",
    "    if i == 9:\n",
    "       print('Game over!!!')\n"
   ]
  },
  {
   "cell_type": "markdown",
   "metadata": {},
   "source": [
    "8) Calcule el producto de una serie de enteros que son pasados a la función `producto`, la cual que recibe una cantidad arbitraria de números. Pruebe su función con varias llamadas, cada una con distinto número de argumentos."
   ]
  },
  {
   "cell_type": "code",
   "execution_count": 49,
   "metadata": {},
   "outputs": [
    {
     "data": {
      "text/plain": [
       "0"
      ]
     },
     "execution_count": 49,
     "metadata": {},
     "output_type": "execute_result"
    }
   ],
   "source": [
    "def producto(*args):\n",
    "    args = list(args)\n",
    "    producto = 1\n",
    "    for i in args:\n",
    "        producto = producto*i\n",
    "    return(producto)\n",
    "\n",
    "producto(10,20,0)"
   ]
  },
  {
   "cell_type": "markdown",
   "metadata": {},
   "source": [
    "9) Escriba un programa en python que ayude a estudiantes de básica a aprender a multiplicar. Cree una función que genere aleatoriamente y retorne un par de números positivos de ún dígito. Use esa función para pedir al usuario que responda, por ejemplo:<br> `¿cuánto es 6 veces 7?`<br>\n",
    "Para una respuesta correcta, muestre el mensaje `\"¡Muy bien!\"` y pida responder otra multiplicación. Para una respuesta incorrecta, muestre el mensaje `\"No. por favor intente nuevamente.\"` y permita al estudiante intentar la misma pregunta hasta que finalmente responda correctamente."
   ]
  },
  {
   "cell_type": "code",
   "execution_count": 55,
   "metadata": {},
   "outputs": [
    {
     "name": "stdout",
     "output_type": "stream",
     "text": [
      "Cuánto es 3,veces,1\n",
      "Ingreses su resultado:5\n",
      "No. por favor intente nuevamente.\n",
      "Ingreses su resultado:2\n",
      "No. por favor intente nuevamente.\n",
      "Ingreses su resultado:3\n",
      "¡Muy bien!\n"
     ]
    }
   ],
   "source": [
    "import random\n",
    "def numeros():\n",
    "    n1 = random.randint(1,10)\n",
    "    n2 = random.randint(1,10)\n",
    "    return (n1,n2)\n",
    "\n",
    "n1,n2 = numeros()\n",
    "print(f'Cuánto es {n1},veces,{n2}')\n",
    "resultado = n1*n2\n",
    "\n",
    "while (1):\n",
    "    alumno = int(input('Ingreses su resultado:'))\n",
    "    if alumno == resultado:\n",
    "        print('¡Muy bien!')\n",
    "        break\n",
    "    else:\n",
    "        print('No. por favor intente nuevamente.')"
   ]
  },
  {
   "cell_type": "code",
   "execution_count": null,
   "metadata": {},
   "outputs": [],
   "source": []
  }
 ],
 "metadata": {
  "kernelspec": {
   "display_name": "Python 3",
   "language": "python",
   "name": "python3"
  },
  "language_info": {
   "codemirror_mode": {
    "name": "ipython",
    "version": 3
   },
   "file_extension": ".py",
   "mimetype": "text/x-python",
   "name": "python",
   "nbconvert_exporter": "python",
   "pygments_lexer": "ipython3",
   "version": "3.8.5"
  }
 },
 "nbformat": 4,
 "nbformat_minor": 4
}
