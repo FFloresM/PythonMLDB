{
 "cells": [
  {
   "cell_type": "markdown",
   "metadata": {},
   "source": [
    "# Funciones\n",
    "Diviértase resolviendo los siguientes ejercicios\n",
    "![](https://media2.giphy.com/media/LmNwrBhejkK9EFP504/giphy.gif)"
   ]
  },
  {
   "cell_type": "markdown",
   "metadata": {},
   "source": [
    "1) ¿qué está mal con la siguiente definición de función `cubo` ?"
   ]
  },
  {
   "cell_type": "code",
   "execution_count": null,
   "metadata": {},
   "outputs": [],
   "source": [
    "def cubo(x):\n",
    "    \"\"\"Calcula el cubo de x\"\"\"\n",
    "    x ** 3\n",
    "print(\"El cubo de 2 es\", cubo(2))"
   ]
  },
  {
   "cell_type": "markdown",
   "metadata": {},
   "source": [
    "2) ¿qué hace la siguiente función `misterio`? Asume que pasas la lista `[1, 2, 3, 4, 5]` como argumento."
   ]
  },
  {
   "cell_type": "code",
   "execution_count": null,
   "metadata": {},
   "outputs": [],
   "source": [
    "def misterio(x):\n",
    "    y = 0\n",
    "    for value in x:\n",
    "        y += value ** 2\n",
    "    return y"
   ]
  },
  {
   "cell_type": "markdown",
   "metadata": {},
   "source": [
    "3) Reemplace los `***` en la función `segundos_desde_medianoche` para que retorne en número de segundos desde la medianoche (00:00:00). La función debe recibir tres enteros que representan la hora actual del día. Asuma que la hora es un valor desde 0 (medianoche) hasta 23 (11 PM) y que el minuto y el segundo son valores desde 0 hasta 59. Pruebe su función con horas actuales. Por ejemplo, si llmas a la funcion para 1:30:45 PM pasando a la función los valores 13, 30 y 45, la función debe devolver 48645."
   ]
  },
  {
   "cell_type": "code",
   "execution_count": null,
   "metadata": {},
   "outputs": [],
   "source": [
    "def segundos_desde_medianoche(***):\n",
    "    hora_en_segundos = ***\n",
    "    minuto_en_segundos= ***\n",
    "    return ***"
   ]
  },
  {
   "cell_type": "markdown",
   "metadata": {},
   "source": [
    "4) El módulo de python **`datetime`** contiene un tipo **`datetime`** con un método **`today`** que retorna la fecha y hora actual como un objeto `datetime`. Escruba una función sin parámetros `fecha_y_hora` que contenga la siguiente sentencia, luego llame a esa función para que muestre la fecha y hora actual:\n",
    "```python\n",
    "print(datetime.datetime.today())\n",
    "```\n",
    "La fecha y hora se muestra con el siguiente formato:<br>\n",
    "`2021-01-08 11:59:13.561391`"
   ]
  },
  {
   "cell_type": "code",
   "execution_count": null,
   "metadata": {},
   "outputs": [],
   "source": []
  },
  {
   "cell_type": "markdown",
   "metadata": {},
   "source": [
    "5) Investigue la función incorporada `round` en <br> \n",
    "[https://docs.python.org/3/library/functions.html#round](https://docs.python.org/3/library/functions.html#round) <br>\n",
    "luego úsela para redondear el valor `float` `13.56449` al entero más cercano, a la décima, centésima y milésima posición."
   ]
  },
  {
   "cell_type": "code",
   "execution_count": null,
   "metadata": {},
   "outputs": [],
   "source": []
  },
  {
   "cell_type": "markdown",
   "metadata": {},
   "source": [
    "6) Implemente una función `fahrenheit` que retorne la termperatura en Fahrenheit equivalente a Celcius. Use la siguiente fórmula: $$F = (9/5) \\cdot C + 32$$\n",
    "Use esta función para imprimir un tabla que muestre la temperatura en Fahrenheit equivalente a todas las temperaturas Celcius en el rango 0-100 grados. Use un dígito de presición para los resultados. Imprima los resultados en formato tabla ordenado."
   ]
  },
  {
   "cell_type": "code",
   "execution_count": null,
   "metadata": {},
   "outputs": [],
   "source": []
  },
  {
   "cell_type": "markdown",
   "metadata": {},
   "source": [
    "7) **Adivina el número** Escribe un script para jugar \"adivina el número\". Escoje el número a ser adivinado seleccionando un entero aleatorio en el rango 1 a 1000. No reveles el número al usuario. Muestre el mensaje `\"Adivine el número entre 1 y 1000 con el menor número de intentos:\"`. El usuario ingresa un primer número. Si el intento es incorrecto, muestre `\"Demasiado alto. Intente nuevamente.\"` o `\"Demasiado bajo. Intente uevamente.\"` según corresponda para ayudar al jugador a \"concentrarse\" en la respuests correcta, luego solicite al usuario el siguiente número a adivinar. Cuando el usuario ingrese la respuesta correcta, muestre `\"Felicitaciones. ¡Adivinaste el numero!\"`, y permita al usuario decidir si quiere volver a jugar o no."
   ]
  },
  {
   "cell_type": "code",
   "execution_count": null,
   "metadata": {},
   "outputs": [],
   "source": []
  },
  {
   "cell_type": "markdown",
   "metadata": {},
   "source": [
    "8) Calcule el producto de una serie de enteros que son pasados a la función `producto`, la cual que recibe una cantidad arbitraria de números. Pruebe su función con varias llamadas, cada una con distinto número de argumentos."
   ]
  },
  {
   "cell_type": "code",
   "execution_count": null,
   "metadata": {},
   "outputs": [],
   "source": []
  },
  {
   "cell_type": "markdown",
   "metadata": {},
   "source": [
    "9) Escriba un programa en python que ayude a estudiantes de básica a aprender a multiplicar. Cree una función que genere aleatoriamente y retorne un par de números positivos de ún dígito. Use esa función para pedir al usuario que responda, por ejemplo:<br> `¿cuánto es 6 veces 7?`<br>\n",
    "Para una respuesta correcta, muestre el mensaje `\"¡Muy bien!\"` y pida responder otra multiplicación. Para una respuesta incorrecta, muestre el mensaje `\"No. por favor intente nuevamente.\"` y permita al estudiante intentar la misma pregunta hasta que finalmente responda correctamente."
   ]
  },
  {
   "cell_type": "code",
   "execution_count": null,
   "metadata": {},
   "outputs": [],
   "source": []
  }
 ],
 "metadata": {
  "kernelspec": {
   "display_name": "Python 3",
   "language": "python",
   "name": "python3"
  },
  "language_info": {
   "codemirror_mode": {
    "name": "ipython",
    "version": 3
   },
   "file_extension": ".py",
   "mimetype": "text/x-python",
   "name": "python",
   "nbconvert_exporter": "python",
   "pygments_lexer": "ipython3",
   "version": "3.8.5"
  }
 },
 "nbformat": 4,
 "nbformat_minor": 4
}
