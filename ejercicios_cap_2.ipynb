{
 "cells": [
  {
   "cell_type": "markdown",
   "metadata": {},
   "source": [
    "# Ejercicios Capítulo 2: introducción a la programación con Python"
   ]
  },
  {
   "cell_type": "markdown",
   "metadata": {},
   "source": [
    "1) Cree las variables `x = 2` e `y = 3`, luego determine que despliega cada uno de las siguientes sentencias: <br>\n",
    "a) `print('x =',x)`<br>\n",
    "b) `print('el valor de', x, '+', x, 'es', (x+x))` <br>\n",
    "c) `print('x =')`<br>\n",
    "d) `print((x+y), '=', (y+x))`<br>"
   ]
  },
  {
   "cell_type": "code",
   "execution_count": null,
   "metadata": {},
   "outputs": [],
   "source": []
  },
  {
   "cell_type": "markdown",
   "metadata": {},
   "source": [
    "2) El siguiente código debería leer un entero y asignarlo a la variable `rating`. ¿cuál es el error?"
   ]
  },
  {
   "cell_type": "code",
   "execution_count": null,
   "metadata": {},
   "outputs": [],
   "source": [
    "rating = input('ingrese un entero entre 1 y 10')"
   ]
  },
  {
   "cell_type": "markdown",
   "metadata": {},
   "source": [
    "3) Reemplace *** en el siguiente código con una sentencia que imprima el mensaje: \"Felicitaciones! Tu nota es un 6.7, obtienes un sobresaliente.\" La sentencia debe imprimir el valor almacenado en la variable nota:"
   ]
  },
  {
   "cell_type": "code",
   "execution_count": null,
   "metadata": {},
   "outputs": [],
   "source": [
    "if nota>= 6.7:\n",
    "    ***"
   ]
  },
  {
   "cell_type": "markdown",
   "metadata": {},
   "source": [
    "4) PAra cada una de los operadores aritméticos `+, -, *, /, // y **`, muestre el valor de la expresión con 27.5 en el operando izquierdo y 2 en el derecho."
   ]
  },
  {
   "cell_type": "code",
   "execution_count": null,
   "metadata": {},
   "outputs": [],
   "source": []
  },
  {
   "cell_type": "markdown",
   "metadata": {},
   "source": [
    "5) Para una circunferencia de radio 2, muestre el diámetro, perímetro y área. Use el valor 3.14159 para $\\pi$. Use las siguientes fórmulas (r es el radio):\n",
    "* $diametro = 2r$\n",
    "* $perimetro = 2\\pi r$\n",
    "* $area = \\pi r^{2}$"
   ]
  },
  {
   "cell_type": "code",
   "execution_count": null,
   "metadata": {},
   "outputs": [],
   "source": []
  },
  {
   "cell_type": "markdown",
   "metadata": {},
   "source": [
    "6) Use sentencias `if` para determinar si un entero es par o impar [HINT: use el operador módulo `%`]"
   ]
  },
  {
   "cell_type": "code",
   "execution_count": null,
   "metadata": {},
   "outputs": [],
   "source": []
  },
  {
   "cell_type": "markdown",
   "metadata": {},
   "source": [
    "7) Use sentencias `if` para determinar si 1024 es un múltiplo de 4 y si 2 es un múltiplo de 10.  [HINT: use el operador módulo `%`]"
   ]
  },
  {
   "cell_type": "code",
   "execution_count": null,
   "metadata": {},
   "outputs": [],
   "source": []
  },
  {
   "cell_type": "markdown",
   "metadata": {},
   "source": [
    "8) Escriba un script que calcule el cuadrado y cubo de los número des 0 al 5. Imprima el resultado en formato tabla, como se muestra a continuación:<br>\n",
    "`número   cuadrado   cubo\n",
    " 0        0          0\n",
    " 1        1          1\n",
    " 2        4          8\n",
    " 3        9          27\n",
    " 4        16         64\n",
    " 5        25         125`"
   ]
  },
  {
   "cell_type": "code",
   "execution_count": null,
   "metadata": {},
   "outputs": [],
   "source": []
  },
  {
   "cell_type": "markdown",
   "metadata": {},
   "source": [
    "9) Cada caracter tiene una representación entera. El conjunto de caracteres que un computador usa junto con su representación numérica entera es conocido como conjunto de caracteres del computador (más información [ASCII](https://es.wikipedia.org/wiki/ASCII)). Se puede indicar un caracter en un programa escribiendo dicho caracter entre comillas `'A'`. Para determinar el valor entero de un caracter, llame a la función incorporada `ord`:"
   ]
  },
  {
   "cell_type": "code",
   "execution_count": 7,
   "metadata": {},
   "outputs": [
    {
     "data": {
      "text/plain": [
       "65"
      ]
     },
     "execution_count": 7,
     "metadata": {},
     "output_type": "execute_result"
    }
   ],
   "source": [
    "ord('A')"
   ]
  },
  {
   "cell_type": "markdown",
   "metadata": {},
   "source": [
    "Muestre los enteros equivalentes a `B C D b c d 1 2 $ * +` junto con el caracter de espacio `' '`. [tabla ascii](https://elcodigoascii.com.ar/)"
   ]
  },
  {
   "cell_type": "code",
   "execution_count": null,
   "metadata": {},
   "outputs": [],
   "source": []
  },
  {
   "cell_type": "markdown",
   "metadata": {},
   "source": [
    "10) Escriba un script que reciba de entrada tres dígitos enteros desde el usuario. Muestre la suma, promedio, producto, el menor y el mayor de los números. "
   ]
  },
  {
   "cell_type": "code",
   "execution_count": null,
   "metadata": {},
   "outputs": [],
   "source": []
  },
  {
   "cell_type": "markdown",
   "metadata": {},
   "source": [
    "11) Escriba un script que reciba de entrada un número entero de cinco dígitos desde el usuario. Separe el número en sus dígitos individuales. Imprímalos separados por tres espacios cada uno. Por ejemplo, si el usuario ingresa el número `42339`, su programa debe imprimir <br> `4   2   3   3   9`<br> Asuma que el usuario ingresa el correcto número de dígitos. Use la división entera y el operador módulo para obtener cada dígito."
   ]
  },
  {
   "cell_type": "code",
   "execution_count": null,
   "metadata": {},
   "outputs": [],
   "source": []
  },
  {
   "cell_type": "markdown",
   "metadata": {},
   "source": [
    "12) Un acesor de inversiones dice que es razonable esperar un rendimiento del 7% a largo plazo en el mercado de valores. Asume que tú comienzas con $\\$$1.000 y dejas tu dinero invertido, calcule y muestre cuanto dinero tendrás después de 10, 20 y 30 años. Use la siguiente fórmula para determinar esas cantidades:<br>\n",
    "$$a = p(1 + r)^n$$\n",
    "donde:\n",
    "* $p$ es la cantidad original invertida \n",
    "* $r$ es la tasa de retorno anual\n",
    "* $n$ es el número de años y\n",
    "* $a$ es la cantidad en depósito al final del $n-ésimo$ año"
   ]
  },
  {
   "cell_type": "code",
   "execution_count": null,
   "metadata": {},
   "outputs": [],
   "source": []
  }
 ],
 "metadata": {
  "kernelspec": {
   "display_name": "Python 3",
   "language": "python",
   "name": "python3"
  },
  "language_info": {
   "codemirror_mode": {
    "name": "ipython",
    "version": 3
   },
   "file_extension": ".py",
   "mimetype": "text/x-python",
   "name": "python",
   "nbconvert_exporter": "python",
   "pygments_lexer": "ipython3",
   "version": "3.8.5"
  }
 },
 "nbformat": 4,
 "nbformat_minor": 4
}
