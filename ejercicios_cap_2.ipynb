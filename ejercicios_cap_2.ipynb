{
 "cells": [
  {
   "cell_type": "markdown",
   "metadata": {},
   "source": [
    "# Ejercicios Capítulo 2: introducción a la programación con Python"
   ]
  },
  {
   "cell_type": "markdown",
   "metadata": {},
   "source": [
    "1) Cree las variables `x = 2` e `y = 3`, luego determine que despliega cada uno de las siguientes sentencias: <br>\n",
    "a) `print('x =',x)`<br>\n",
    "b) `print('el valor de', x, '+', x, 'es', (x+x))` <br>\n",
    "c) `print('x =')`<br>\n",
    "d) `print((x+y), '=', (y+x))`<br>"
   ]
  },
  {
   "cell_type": "code",
   "execution_count": 1,
   "metadata": {},
   "outputs": [
    {
     "name": "stdout",
     "output_type": "stream",
     "text": [
      "x = 2\n",
      "el valor de 2 + 2 es 4\n",
      "x = es blanco, no se define nada para impresión\n",
      "5 = 5\n"
     ]
    }
   ],
   "source": [
    "x = 2\n",
    "y = 3\n",
    "print('x =', x)\n",
    "print ('el valor de', x, '+', x, 'es', (x+x))\n",
    "print(('x ='), 'es blanco, no se define nada para impresión')\n",
    "print ((x+y), '=', (y+x))"
   ]
  },
  {
   "cell_type": "markdown",
   "metadata": {},
   "source": [
    "2) El siguiente código debería leer un entero y asignarlo a la variable `rating`. ¿cuál es el error? \n",
    "\n",
    "No entiendo la pregunta.\n",
    "Respuesta tentativa, debiera incorporarse int(input())... ?\n"
   ]
  },
  {
   "cell_type": "code",
   "execution_count": 2,
   "metadata": {},
   "outputs": [
    {
     "name": "stdout",
     "output_type": "stream",
     "text": [
      "ingrese un entero entre 1 y 10:  5\n"
     ]
    },
    {
     "data": {
      "text/plain": [
       "int"
      ]
     },
     "execution_count": 2,
     "metadata": {},
     "output_type": "execute_result"
    }
   ],
   "source": [
    "rating = int(input('ingrese un entero entre 1 y 10:  '))\n",
    "type (rating)"
   ]
  },
  {
   "cell_type": "markdown",
   "metadata": {},
   "source": [
    "3) Reemplace *** en el siguiente código con una sentencia que imprima el mensaje: \"Felicitaciones! Tu nota es un 6.7, obtienes un sobresaliente.\" La sentencia debe imprimir el valor almacenado en la variable nota:"
   ]
  },
  {
   "cell_type": "code",
   "execution_count": 3,
   "metadata": {},
   "outputs": [
    {
     "name": "stdout",
     "output_type": "stream",
     "text": [
      "Felicitaciones, tu nota es un 6.7\n"
     ]
    }
   ],
   "source": [
    "nota = 6.7\n",
    "if nota>= 6.7:\n",
    "    print ('Felicitaciones, tu nota es un', nota)\n",
    "    "
   ]
  },
  {
   "cell_type": "markdown",
   "metadata": {},
   "source": [
    "4) Para cada una de los operadores aritméticos `+, -, *, /, // y **`, muestre el valor de la expresión con 27.5 en el operando izquierdo y 2 en el derecho."
   ]
  },
  {
   "cell_type": "code",
   "execution_count": 4,
   "metadata": {},
   "outputs": [
    {
     "name": "stdout",
     "output_type": "stream",
     "text": [
      "29.5 25.5 55.0 13.75 13.0 756.25\n"
     ]
    }
   ],
   "source": [
    "x = 27.5 + 2\n",
    "y = 27.5 - 2\n",
    "z = 27.5 * 2\n",
    "w = 27.5 / 2\n",
    "q = 27.5 // 2\n",
    "t = 27.5 ** 2\n",
    "\n",
    "print (x,y,z,w,q,t)"
   ]
  },
  {
   "cell_type": "markdown",
   "metadata": {},
   "source": [
    "5) Para una circunferencia de radio 2, muestre el diámetro, perímetro y área. Use el valor 3.14159 para $\\pi$. Use las siguientes fórmulas (r es el radio):\n",
    "* $diametro = 2r$\n",
    "* $perimetro = 2\\pi r$\n",
    "* $area = \\pi r^{2}$"
   ]
  },
  {
   "cell_type": "code",
   "execution_count": 5,
   "metadata": {},
   "outputs": [
    {
     "name": "stdout",
     "output_type": "stream",
     "text": [
      "el diametro es 4 , el perimetro es 12.48636 , y el area es 12.48636\n"
     ]
    }
   ],
   "source": [
    "r = 2\n",
    "pi = 3.12159\n",
    "diametro = 2*r\n",
    "perimetro = 2*pi*r\n",
    "area = pi*r**2\n",
    "print ('el diametro es', diametro, ', el perimetro es', perimetro, ', y el area es', area)"
   ]
  },
  {
   "cell_type": "markdown",
   "metadata": {},
   "source": [
    "6) Use sentencias `if` para determinar si un entero es par o impar [HINT: use el operador módulo `%`]"
   ]
  },
  {
   "cell_type": "code",
   "execution_count": 6,
   "metadata": {},
   "outputs": [
    {
     "name": "stdout",
     "output_type": "stream",
     "text": [
      "ingrese el número: 10\n",
      "el número es par\n"
     ]
    }
   ],
   "source": [
    "numero = int(input('ingrese el número: '))\n",
    "par = numero % 2\n",
    "if par == 0:\n",
    "    print('el número es par')\n",
    "else:\n",
    "    print ('el número es impar')"
   ]
  },
  {
   "cell_type": "markdown",
   "metadata": {},
   "source": [
    "7) Use sentencias `if` para determinar si 1024 es un múltiplo de 4 y si 2 es un múltiplo de 10.  [HINT: use el operador módulo `%`]"
   ]
  },
  {
   "cell_type": "code",
   "execution_count": 7,
   "metadata": {},
   "outputs": [
    {
     "name": "stdout",
     "output_type": "stream",
     "text": [
      "ingresa el número a probar:1024\n",
      "es múltiplo de 4 y es múltiplo de 2\n"
     ]
    }
   ],
   "source": [
    "number = int(input('ingresa el número a probar:'))\n",
    "multiplo4 = number % 4\n",
    "multiplo2 = number % 2\n",
    "\n",
    "if multiplo4 == 0 and multiplo2 == 0:\n",
    "    print('es múltiplo de 4 y es múltiplo de 2')\n",
    "\n",
    "elif multiplo2 == 0:\n",
    "        print('es multiplo de 2')\n",
    "        \n",
    "elif multiplo4 >0 and multiplo2 >0:\n",
    "        print('no es multiplo de 4 ni de 2')"
   ]
  },
  {
   "cell_type": "markdown",
   "metadata": {},
   "source": [
    "8) Escriba un script que calcule el cuadrado y cubo de los número des 0 al 5. Imprima el resultado en formato tabla, como se muestra a continuación:<br>\n",
    "`número   cuadrado   cubo\n",
    " 0        0          0\n",
    " 1        1          1\n",
    " 2        4          8\n",
    " 3        9          27\n",
    " 4        16         64\n",
    " 5        25         125`"
   ]
  },
  {
   "cell_type": "code",
   "execution_count": 8,
   "metadata": {},
   "outputs": [
    {
     "name": "stdout",
     "output_type": "stream",
     "text": [
      "0 0 0\n",
      "1 1 1\n",
      "2 4 8\n",
      "3 9 27\n",
      "4 16 64\n",
      "5 25 125\n"
     ]
    }
   ],
   "source": [
    "for i in range (6):\n",
    "    numero = i\n",
    "    cuadrado = numero **2\n",
    "    cubo = cuadrado * numero\n",
    "    print (numero, cuadrado, cubo)"
   ]
  },
  {
   "cell_type": "markdown",
   "metadata": {},
   "source": [
    "#### SOLUCIÓN"
   ]
  },
  {
   "cell_type": "code",
   "execution_count": 7,
   "metadata": {},
   "outputs": [
    {
     "name": "stdout",
     "output_type": "stream",
     "text": [
      "número   cuadrado  cubo\n",
      "0 \t 0 \t   0\n",
      "1 \t 1 \t   1\n",
      "2 \t 4 \t   8\n",
      "3 \t 9 \t   27\n",
      "4 \t 16 \t   64\n",
      "5 \t 25 \t   125\n"
     ]
    }
   ],
   "source": [
    "print(\"número   cuadrado  cubo\")\n",
    "for i in range(6):\n",
    "    print(i,'\\t',i**2,'\\t  ',i**3)"
   ]
  },
  {
   "cell_type": "markdown",
   "metadata": {},
   "source": [
    "9) Cada caracter tiene una representación entera. El conjunto de caracteres que un computador usa junto con su representación numérica entera es conocido como conjunto de caracteres del computador (más información [ASCII](https://es.wikipedia.org/wiki/ASCII)). Se puede indicar un caracter en un programa escribiendo dicho caracter entre comillas `'A'`. Para determinar el valor entero de un caracter, llame a la función incorporada `ord`:"
   ]
  },
  {
   "cell_type": "code",
   "execution_count": 7,
   "metadata": {},
   "outputs": [
    {
     "data": {
      "text/plain": [
       "65"
      ]
     },
     "execution_count": 7,
     "metadata": {},
     "output_type": "execute_result"
    }
   ],
   "source": [
    "ord('A')"
   ]
  },
  {
   "cell_type": "markdown",
   "metadata": {},
   "source": [
    "Muestre los enteros equivalentes a `B C D b c d 1 2 $ * +` junto con el caracter de espacio `' '`. [tabla ascii](https://elcodigoascii.com.ar/)"
   ]
  },
  {
   "cell_type": "code",
   "execution_count": 18,
   "metadata": {},
   "outputs": [
    {
     "name": "stdout",
     "output_type": "stream",
     "text": [
      "66 67 68 98 99 100 49 50 36 43 32\n"
     ]
    }
   ],
   "source": [
    "B = ord('B')\n",
    "C = ord('C')\n",
    "D = ord('D')\n",
    "b = ord('b')\n",
    "c = ord('c')\n",
    "d = ord('d')\n",
    "uno = ord('1')\n",
    "dos = ord('2')\n",
    "peso = ord('$')\n",
    "mas = ord('+')\n",
    "esp = ord(' ')\n",
    "\n",
    "print(B,C,D,b,c,d,uno,dos,peso,mas, esp)"
   ]
  },
  {
   "cell_type": "markdown",
   "metadata": {},
   "source": [
    "10) Escriba un script que reciba de entrada tres dígitos enteros desde el usuario. Muestre la suma, promedio, producto, el menor y el mayor de los números. "
   ]
  },
  {
   "cell_type": "code",
   "execution_count": 10,
   "metadata": {},
   "outputs": [
    {
     "name": "stdout",
     "output_type": "stream",
     "text": [
      "ingrese su primer número: 10\n",
      "ingrese su segundo número: 20\n",
      "ingrese su tercer número: 30\n",
      "La suma de sus números es:  60\n",
      "El promedio de sus números es:  20.0\n",
      "El producto de sus números es:  6000\n",
      "Su número mayor es:   30\n",
      "Su número mínimo es;  10\n"
     ]
    }
   ],
   "source": [
    "n1 = int(input('ingrese su primer número: '))\n",
    "n2 = int(input('ingrese su segundo número: '))\n",
    "n3 = int(input('ingrese su tercer número: '))\n",
    "\n",
    "suma = n1+n2+n3\n",
    "promedio = (suma)/3\n",
    "producto = n1*n2*n3\n",
    "\n",
    "maximo = max(n1,n2,n3)\n",
    "minimo = min(n1,n2,n3)\n",
    "    \n",
    "print('La suma de sus números es: ', suma)\n",
    "print('El promedio de sus números es: ', promedio)\n",
    "print('El producto de sus números es: ', producto)\n",
    "print('Su número mayor es:  ', maximo)\n",
    "print('Su número mínimo es; ', minimo)\n",
    "    "
   ]
  },
  {
   "cell_type": "markdown",
   "metadata": {},
   "source": [
    "11) Escriba un script que reciba de entrada un número entero de cinco dígitos desde el usuario. Separe el número en sus dígitos individuales. Imprímalos separados por tres espacios cada uno. Por ejemplo, si el usuario ingresa el número `42339`, su programa debe imprimir <br> `4   2   3   3   9`<br> Asuma que el usuario ingresa el correcto número de dígitos. Use la división entera y el operador módulo para obtener cada dígito."
   ]
  },
  {
   "cell_type": "code",
   "execution_count": 11,
   "metadata": {},
   "outputs": [
    {
     "name": "stdout",
     "output_type": "stream",
     "text": [
      "ingrese un número de 5 dígitos:  42339\n",
      "4   2   3   3   9\n"
     ]
    }
   ],
   "source": [
    "numero = int(input('ingrese un número de 5 dígitos:  '))\n",
    "\n",
    "dm = numero // 10000\n",
    "um = (numero-dm*10000)// 1000\n",
    "centena = (numero-dm*10000-um*1000) //100\n",
    "decena = (numero-dm*10000-um*1000-centena*100) // 10\n",
    "unidad = (numero-dm*10000-um*1000-centena*100-decena*10) //1\n",
    "\n",
    "\n",
    "print (dm, um, centena, decena, unidad, sep = \"   \")"
   ]
  },
  {
   "cell_type": "markdown",
   "metadata": {},
   "source": [
    "#### alternativa "
   ]
  },
  {
   "cell_type": "code",
   "execution_count": 17,
   "metadata": {},
   "outputs": [
    {
     "name": "stdout",
     "output_type": "stream",
     "text": [
      "ingrese un número de 5 dígitos:  12345\n",
      "1   2   3   4   5\n"
     ]
    }
   ],
   "source": [
    "numero = int(input('ingrese un número de 5 dígitos:  '))\n",
    "print(numero//10000, (numero//1000)%10, (numero//100)%10, (numero//10)%10, numero%10,sep=\"   \")"
   ]
  },
  {
   "cell_type": "markdown",
   "metadata": {},
   "source": [
    "12) Un acesor de inversiones dice que es razonable esperar un rendimiento del 7% a largo plazo en el mercado de valores. Asume que tú comienzas con $\\$$1.000 y dejas tu dinero invertido, calcule y muestre cuanto dinero tendrás después de 10, 20 y 30 años. Use la siguiente fórmula para determinar esas cantidades:<br>\n",
    "$$a = p(1 + r)^n$$\n",
    "donde:\n",
    "* $p$ es la cantidad original invertida \n",
    "* $r$ es la tasa de retorno anual\n",
    "* $n$ es el número de años y\n",
    "* $a$ es la cantidad en depósito al final del $n-ésimo$ año"
   ]
  },
  {
   "cell_type": "code",
   "execution_count": 12,
   "metadata": {},
   "outputs": [
    {
     "name": "stdout",
     "output_type": "stream",
     "text": [
      "Ingrese la cantidad inicial a invertir:  1000\n",
      "Ingrese el valor esperado del rendimiento de la inversión en número decimal:   .07\n",
      "Ingrese el número de años para la simulación de la inversión:  20\n",
      "el valor esperado de su inversión después de 20 años,  es:   3869.6844624861833\n"
     ]
    }
   ],
   "source": [
    "p = 0 #cantidad original invertida\n",
    "r = 0 #tasa de retorno anual\n",
    "n = 0 #número de años \n",
    "\n",
    "\n",
    "p = int(input('Ingrese la cantidad inicial a invertir:  '))\n",
    "r = float(input('Ingrese el valor esperado del rendimiento de la inversión en número decimal:   '))\n",
    "n = int(input ('Ingrese el número de años para la simulación de la inversión:  '))\n",
    "\n",
    "a = p*((1+r)**n)\n",
    "\n",
    "print ('el valor esperado de su inversión después de', n, 'años, ', 'es:  ', a)"
   ]
  },
  {
   "cell_type": "code",
   "execution_count": null,
   "metadata": {},
   "outputs": [],
   "source": []
  }
 ],
 "metadata": {
  "kernelspec": {
   "display_name": "Python 3",
   "language": "python",
   "name": "python3"
  },
  "language_info": {
   "codemirror_mode": {
    "name": "ipython",
    "version": 3
   },
   "file_extension": ".py",
   "mimetype": "text/x-python",
   "name": "python",
   "nbconvert_exporter": "python",
   "pygments_lexer": "ipython3",
   "version": "3.8.5"
  }
 },
 "nbformat": 4,
 "nbformat_minor": 4
}
