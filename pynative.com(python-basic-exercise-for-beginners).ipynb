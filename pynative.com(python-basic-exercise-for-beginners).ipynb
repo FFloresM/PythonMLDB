{
 "cells": [
  {
   "cell_type": "code",
   "execution_count": 3,
   "metadata": {},
   "outputs": [],
   "source": [
    "# Question 1: Given a two integer numbers return their product and  if the product is greater\n",
    "# than 1000, then return their sum"
   ]
  },
  {
   "cell_type": "code",
   "execution_count": 7,
   "metadata": {},
   "outputs": [
    {
     "name": "stdout",
     "output_type": "stream",
     "text": [
      "Ingrese el primer número: 100\n",
      "Ingrese el segundo número: 100\n",
      "200\n"
     ]
    }
   ],
   "source": [
    "n1 = int(input('Ingrese el primer número: '))\n",
    "n2 = int(input('Ingrese el segundo número: '))\n",
    "\n",
    "producto = n1*n2\n",
    "suma = n1+n2\n",
    "if producto < 1000:\n",
    "    print(producto)\n",
    "else:\n",
    "    print(suma)"
   ]
  },
  {
   "cell_type": "code",
   "execution_count": null,
   "metadata": {},
   "outputs": [],
   "source": [
    "#Question 2: Given a range of first 10 numbers,\n",
    "#Iterate from start number to the end number and print the sum of the current number and previous number"
   ]
  },
  {
   "cell_type": "code",
   "execution_count": 26,
   "metadata": {},
   "outputs": [
    {
     "name": "stdout",
     "output_type": "stream",
     "text": [
      "numero actual: 0 número previo: 0 Suma = 0\n",
      "numero actual: 1 número previo: 0 Suma = 1\n",
      "numero actual: 2 número previo: 1 Suma = 3\n",
      "numero actual: 3 número previo: 2 Suma = 5\n",
      "numero actual: 4 número previo: 3 Suma = 7\n",
      "numero actual: 5 número previo: 4 Suma = 9\n",
      "numero actual: 6 número previo: 5 Suma = 11\n",
      "numero actual: 7 número previo: 6 Suma = 13\n",
      "numero actual: 8 número previo: 7 Suma = 15\n",
      "numero actual: 9 número previo: 8 Suma = 17\n"
     ]
    }
   ],
   "source": [
    "def sumnum(num):\n",
    "    numeroprevio = 0\n",
    "    for i in range(num):\n",
    "        sum = numeroprevio+i\n",
    "        print('numero actual:', i, 'número previo:', numeroprevio, 'Suma =', sum)\n",
    "        numeroprevio = i\n",
    "sumnum(10)"
   ]
  },
  {
   "cell_type": "code",
   "execution_count": null,
   "metadata": {},
   "outputs": [],
   "source": [
    "#Question 3: Given a string, display only those characters which are present at an even index number.\n"
   ]
  },
  {
   "cell_type": "code",
   "execution_count": null,
   "metadata": {},
   "outputs": [],
   "source": [
    "def string(letra)\n",
    "    for i in letra:\n",
    "        "
   ]
  }
 ],
 "metadata": {
  "kernelspec": {
   "display_name": "Python 3",
   "language": "python",
   "name": "python3"
  },
  "language_info": {
   "codemirror_mode": {
    "name": "ipython",
    "version": 3
   },
   "file_extension": ".py",
   "mimetype": "text/x-python",
   "name": "python",
   "nbconvert_exporter": "python",
   "pygments_lexer": "ipython3",
   "version": "3.8.5"
  }
 },
 "nbformat": 4,
 "nbformat_minor": 4
}
