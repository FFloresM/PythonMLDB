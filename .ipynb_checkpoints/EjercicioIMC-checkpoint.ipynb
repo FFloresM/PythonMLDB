{
 "cells": [
  {
   "cell_type": "code",
   "execution_count": 1,
   "metadata": {},
   "outputs": [
    {
     "name": "stdout",
     "output_type": "stream",
     "text": [
      "Ingrese su estatura en centimetros:173\n",
      "Ingrese su peso en kilogramos:80\n",
      "Su indice de masa corporal es: 26.729927495071667\n",
      "Su estado es de sobrepeso\n"
     ]
    }
   ],
   "source": [
    "#Ejercicio de cálculo del IMC\n",
    "\n",
    "estatura = float(input(\"Ingrese su estatura en centimetros:\"))\n",
    "peso = float(input(\"Ingrese su peso en kilogramos:\"))\n",
    "\n",
    "#La formula de calculo es el peso dividido por la estatura al cuadrado\n",
    "imc = peso / ((estatura/100) ** 2)\n",
    "print(\"Su indice de masa corporal es:\", imc)\n",
    "if imc < 16: print(\"Su estado es de delgadez severa\")\n",
    "if imc > 40: print(\"Su estado es de obeso tipo III\")\n",
    "elif imc > 35 : print(\"Su estado es obeso tipo II\")\n",
    "elif imc > 30 : print(\"Su estado es obeso tipo I\")\n",
    "elif imc > 25 : print(\"Su estado es de sobrepeso\")\n",
    "elif imc > 18.5 : print(\"Su estado es normal\")\n",
    "elif imc > 17 : print (\"Su estado es de delgadez aceptable\")\n",
    "elif imc > 16 : print(\"Su estado es de delgadez moderada\")"
   ]
  },
  {
   "cell_type": "code",
   "execution_count": null,
   "metadata": {},
   "outputs": [],
   "source": [
    "\n"
   ]
  },
  {
   "cell_type": "code",
   "execution_count": null,
   "metadata": {},
   "outputs": [],
   "source": []
  },
  {
   "cell_type": "code",
   "execution_count": null,
   "metadata": {},
   "outputs": [],
   "source": []
  },
  {
   "cell_type": "code",
   "execution_count": null,
   "metadata": {},
   "outputs": [],
   "source": []
  }
 ],
 "metadata": {
  "kernelspec": {
   "display_name": "Python 3",
   "language": "python",
   "name": "python3"
  },
  "language_info": {
   "codemirror_mode": {
    "name": "ipython",
    "version": 3
   },
   "file_extension": ".py",
   "mimetype": "text/x-python",
   "name": "python",
   "nbconvert_exporter": "python",
   "pygments_lexer": "ipython3",
   "version": "3.8.5"
  }
 },
 "nbformat": 4,
 "nbformat_minor": 4
}
