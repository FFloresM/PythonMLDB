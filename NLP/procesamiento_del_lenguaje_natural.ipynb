{
 "cells": [
  {
   "cell_type": "code",
   "execution_count": 7,
   "metadata": {},
   "outputs": [],
   "source": [
    "import textblob #basado en NLTK"
   ]
  },
  {
   "cell_type": "code",
   "execution_count": 8,
   "metadata": {},
   "outputs": [],
   "source": [
    "from textblob import TextBlob"
   ]
  },
  {
   "cell_type": "code",
   "execution_count": 9,
   "metadata": {},
   "outputs": [],
   "source": [
    "TextBlob?"
   ]
  },
  {
   "cell_type": "code",
   "execution_count": 16,
   "metadata": {},
   "outputs": [],
   "source": [
    "text = \"Today is a beautiful day. Tomorrow looks like a bad weather.\"\n",
    "texto = \"Hoy es un día hermoso. Mañana estará feo.\""
   ]
  },
  {
   "cell_type": "code",
   "execution_count": 17,
   "metadata": {},
   "outputs": [],
   "source": [
    "blob = TextBlob(text)\n",
    "blob_es = TextBlob(texto)"
   ]
  },
  {
   "cell_type": "code",
   "execution_count": 13,
   "metadata": {},
   "outputs": [
    {
     "data": {
      "text/plain": [
       "TextBlob(\"Today is a beautiful day. Tomorrow looks like a bad weather.\")"
      ]
     },
     "execution_count": 13,
     "metadata": {},
     "output_type": "execute_result"
    }
   ],
   "source": [
    "blob"
   ]
  },
  {
   "cell_type": "code",
   "execution_count": 18,
   "metadata": {},
   "outputs": [
    {
     "data": {
      "text/plain": [
       "[Sentence(\"Today is a beautiful day.\"),\n",
       " Sentence(\"Tomorrow looks like a bad weather.\")]"
      ]
     },
     "execution_count": 18,
     "metadata": {},
     "output_type": "execute_result"
    }
   ],
   "source": [
    "#obtener las sentencias\n",
    "blob.sentences"
   ]
  },
  {
   "cell_type": "code",
   "execution_count": 19,
   "metadata": {},
   "outputs": [
    {
     "data": {
      "text/plain": [
       "[Sentence(\"Hoy es un día hermoso.\"), Sentence(\"Mañana estará feo.\")]"
      ]
     },
     "execution_count": 19,
     "metadata": {},
     "output_type": "execute_result"
    }
   ],
   "source": [
    "blob_es.sentences"
   ]
  },
  {
   "cell_type": "code",
   "execution_count": 20,
   "metadata": {},
   "outputs": [
    {
     "data": {
      "text/plain": [
       "WordList(['Today', 'is', 'a', 'beautiful', 'day', 'Tomorrow', 'looks', 'like', 'a', 'bad', 'weather'])"
      ]
     },
     "execution_count": 20,
     "metadata": {},
     "output_type": "execute_result"
    }
   ],
   "source": [
    "#obtener las palabras\n",
    "blob.words"
   ]
  },
  {
   "cell_type": "code",
   "execution_count": 21,
   "metadata": {},
   "outputs": [
    {
     "data": {
      "text/plain": [
       "WordList(['Hoy', 'es', 'un', 'día', 'hermoso', 'Mañana', 'estará', 'feo'])"
      ]
     },
     "execution_count": 21,
     "metadata": {},
     "output_type": "execute_result"
    }
   ],
   "source": [
    "blob_es.words"
   ]
  },
  {
   "cell_type": "code",
   "execution_count": 22,
   "metadata": {},
   "outputs": [
    {
     "data": {
      "text/plain": [
       "['Hoy', 'es', 'un', 'día', 'hermoso.', 'Mañana', 'estará', 'feo.']"
      ]
     },
     "execution_count": 22,
     "metadata": {},
     "output_type": "execute_result"
    }
   ],
   "source": [
    "texto.split()"
   ]
  },
  {
   "cell_type": "code",
   "execution_count": 24,
   "metadata": {},
   "outputs": [],
   "source": [
    "#PArt-of-speech (POS) Tagging\n",
    "import nltk"
   ]
  },
  {
   "cell_type": "code",
   "execution_count": 25,
   "metadata": {},
   "outputs": [
    {
     "name": "stderr",
     "output_type": "stream",
     "text": [
      "[nltk_data] Downloading package averaged_perceptron_tagger to\n",
      "[nltk_data]     /home/francisco/nltk_data...\n",
      "[nltk_data]   Unzipping taggers/averaged_perceptron_tagger.zip.\n"
     ]
    },
    {
     "data": {
      "text/plain": [
       "True"
      ]
     },
     "execution_count": 25,
     "metadata": {},
     "output_type": "execute_result"
    }
   ],
   "source": [
    "nltk.download('averaged_perceptron_tagger')"
   ]
  },
  {
   "cell_type": "code",
   "execution_count": 26,
   "metadata": {},
   "outputs": [
    {
     "data": {
      "text/plain": [
       "[('Today', 'NN'),\n",
       " ('is', 'VBZ'),\n",
       " ('a', 'DT'),\n",
       " ('beautiful', 'JJ'),\n",
       " ('day', 'NN'),\n",
       " ('Tomorrow', 'NNP'),\n",
       " ('looks', 'VBZ'),\n",
       " ('like', 'IN'),\n",
       " ('a', 'DT'),\n",
       " ('bad', 'JJ'),\n",
       " ('weather', 'NN')]"
      ]
     },
     "execution_count": 26,
     "metadata": {},
     "output_type": "execute_result"
    }
   ],
   "source": [
    "blob.tags"
   ]
  },
  {
   "cell_type": "code",
   "execution_count": 27,
   "metadata": {},
   "outputs": [
    {
     "data": {
      "text/plain": [
       "[('Hoy', 'NNP'),\n",
       " ('es', 'CC'),\n",
       " ('un', 'JJ'),\n",
       " ('día', 'NN'),\n",
       " ('hermoso', 'NN'),\n",
       " ('Mañana', 'NNP'),\n",
       " ('estará', 'NN'),\n",
       " ('feo', 'NN')]"
      ]
     },
     "execution_count": 27,
     "metadata": {},
     "output_type": "execute_result"
    }
   ],
   "source": [
    "blob_es.tags"
   ]
  },
  {
   "cell_type": "markdown",
   "metadata": {},
   "source": [
    "# POS tags meaning\n",
    "[tags](https://www.ling.upenn.edu/courses/Fall_2003/ling001/penn_treebank_pos.html)"
   ]
  },
  {
   "cell_type": "code",
   "execution_count": 28,
   "metadata": {},
   "outputs": [
    {
     "data": {
      "text/plain": [
       "[('Juanito', 'NNP'), ('tiene', 'NN'), ('sueño', 'NN')]"
      ]
     },
     "execution_count": 28,
     "metadata": {},
     "output_type": "execute_result"
    }
   ],
   "source": [
    "TextBlob('Juanito tiene sueño').tags"
   ]
  },
  {
   "cell_type": "code",
   "execution_count": 30,
   "metadata": {},
   "outputs": [
    {
     "name": "stderr",
     "output_type": "stream",
     "text": [
      "[nltk_data] Downloading package brown to /home/francisco/nltk_data...\n",
      "[nltk_data]   Unzipping corpora/brown.zip.\n"
     ]
    },
    {
     "data": {
      "text/plain": [
       "True"
      ]
     },
     "execution_count": 30,
     "metadata": {},
     "output_type": "execute_result"
    }
   ],
   "source": [
    "nltk.download('brown')"
   ]
  },
  {
   "cell_type": "code",
   "execution_count": 31,
   "metadata": {},
   "outputs": [
    {
     "data": {
      "text/plain": [
       "WordList(['beautiful day', 'tomorrow', 'bad weather'])"
      ]
     },
     "execution_count": 31,
     "metadata": {},
     "output_type": "execute_result"
    }
   ],
   "source": [
    "#noun phrases\n",
    "blob.noun_phrases"
   ]
  },
  {
   "cell_type": "code",
   "execution_count": 32,
   "metadata": {},
   "outputs": [
    {
     "data": {
      "text/plain": [
       "WordList(['hoy', 'es un día hermoso', 'mañana', 'estará feo'])"
      ]
     },
     "execution_count": 32,
     "metadata": {},
     "output_type": "execute_result"
    }
   ],
   "source": [
    "blob_es.noun_phrases"
   ]
  },
  {
   "cell_type": "code",
   "execution_count": 33,
   "metadata": {},
   "outputs": [
    {
     "data": {
      "text/plain": [
       "Sentiment(polarity=0.07500000000000007, subjectivity=0.8333333333333333)"
      ]
     },
     "execution_count": 33,
     "metadata": {},
     "output_type": "execute_result"
    }
   ],
   "source": [
    "#sentiment analisys\n",
    "blob.sentiment"
   ]
  },
  {
   "cell_type": "code",
   "execution_count": 34,
   "metadata": {},
   "outputs": [
    {
     "data": {
      "text/plain": [
       "Sentiment(polarity=0.0, subjectivity=0.0)"
      ]
     },
     "execution_count": 34,
     "metadata": {},
     "output_type": "execute_result"
    }
   ],
   "source": [
    "blob_es.sentiment"
   ]
  },
  {
   "cell_type": "code",
   "execution_count": 36,
   "metadata": {},
   "outputs": [
    {
     "data": {
      "text/plain": [
       "'0.83'"
      ]
     },
     "execution_count": 36,
     "metadata": {},
     "output_type": "execute_result"
    }
   ],
   "source": [
    "f\"{blob.sentiment.subjectivity:.2f}\""
   ]
  },
  {
   "cell_type": "code",
   "execution_count": 38,
   "metadata": {
    "scrolled": true
   },
   "outputs": [
    {
     "name": "stdout",
     "output_type": "stream",
     "text": [
      "Today is a beautiful day.\n",
      "Sentiment(polarity=0.85, subjectivity=1.0)\n",
      "Tomorrow looks like a bad weather.\n",
      "Sentiment(polarity=-0.6999999999999998, subjectivity=0.6666666666666666)\n"
     ]
    }
   ],
   "source": [
    "for oracion in blob.sentences:\n",
    "    print(oracion)\n",
    "    print(oracion.sentiment)"
   ]
  },
  {
   "cell_type": "code",
   "execution_count": 41,
   "metadata": {},
   "outputs": [
    {
     "name": "stdout",
     "output_type": "stream",
     "text": [
      "Hoy es un día hermoso.\n",
      "Sentiment(polarity=0.0, subjectivity=0.0)\n",
      "Mañana estará feo.\n",
      "Sentiment(polarity=0.0, subjectivity=0.0)\n"
     ]
    }
   ],
   "source": [
    "for oracion in blob_es.sentences:\n",
    "    print(oracion)\n",
    "    print(oracion.sentiment)"
   ]
  },
  {
   "cell_type": "code",
   "execution_count": 39,
   "metadata": {},
   "outputs": [
    {
     "data": {
      "text/plain": [
       "'en'"
      ]
     },
     "execution_count": 39,
     "metadata": {},
     "output_type": "execute_result"
    }
   ],
   "source": [
    "#detectar idioma\n",
    "blob.detect_language()"
   ]
  },
  {
   "cell_type": "code",
   "execution_count": 40,
   "metadata": {},
   "outputs": [
    {
     "data": {
      "text/plain": [
       "'es'"
      ]
     },
     "execution_count": 40,
     "metadata": {},
     "output_type": "execute_result"
    }
   ],
   "source": [
    "blob_es.detect_language()"
   ]
  },
  {
   "cell_type": "code",
   "execution_count": 42,
   "metadata": {},
   "outputs": [],
   "source": [
    "blob_spanish = blob.translate(to='es')"
   ]
  },
  {
   "cell_type": "code",
   "execution_count": 43,
   "metadata": {},
   "outputs": [
    {
     "data": {
      "text/plain": [
       "TextBlob(\"Hoy es un hermoso dia. Mañana parece un mal tiempo.\")"
      ]
     },
     "execution_count": 43,
     "metadata": {},
     "output_type": "execute_result"
    }
   ],
   "source": [
    "blob_spanish"
   ]
  },
  {
   "cell_type": "code",
   "execution_count": 44,
   "metadata": {},
   "outputs": [
    {
     "data": {
      "text/plain": [
       "'es'"
      ]
     },
     "execution_count": 44,
     "metadata": {},
     "output_type": "execute_result"
    }
   ],
   "source": [
    "blob_spanish.detect_language()"
   ]
  },
  {
   "cell_type": "code",
   "execution_count": 45,
   "metadata": {},
   "outputs": [],
   "source": [
    "chino = blob.translate(to='zh')"
   ]
  },
  {
   "cell_type": "code",
   "execution_count": 46,
   "metadata": {},
   "outputs": [
    {
     "data": {
      "text/plain": [
       "TextBlob(\"今天是美好的一天。明天看起来天气不好。\")"
      ]
     },
     "execution_count": 46,
     "metadata": {},
     "output_type": "execute_result"
    }
   ],
   "source": [
    "chino"
   ]
  },
  {
   "cell_type": "code",
   "execution_count": 47,
   "metadata": {},
   "outputs": [
    {
     "data": {
      "text/plain": [
       "TextBlob(\"Сегодня прекрасный день. Завтра похоже ненастье.\")"
      ]
     },
     "execution_count": 47,
     "metadata": {},
     "output_type": "execute_result"
    }
   ],
   "source": [
    "blob.translate(to='ru')"
   ]
  },
  {
   "cell_type": "code",
   "execution_count": 48,
   "metadata": {},
   "outputs": [
    {
     "data": {
      "text/plain": [
       "TextBlob(\"Today is a beautiful day. Tomorrow looks like bad weather.\")"
      ]
     },
     "execution_count": 48,
     "metadata": {},
     "output_type": "execute_result"
    }
   ],
   "source": [
    "blob_spanish.translate()"
   ]
  },
  {
   "cell_type": "code",
   "execution_count": 49,
   "metadata": {},
   "outputs": [
    {
     "data": {
      "text/plain": [
       "TextBlob(\"Today is a beautiful day. It looks bad tomorrow.\")"
      ]
     },
     "execution_count": 49,
     "metadata": {},
     "output_type": "execute_result"
    }
   ],
   "source": [
    "chino.translate()"
   ]
  },
  {
   "cell_type": "code",
   "execution_count": 50,
   "metadata": {},
   "outputs": [],
   "source": [
    "from textblob import Word"
   ]
  },
  {
   "cell_type": "code",
   "execution_count": 51,
   "metadata": {},
   "outputs": [],
   "source": [
    "index = Word('index')"
   ]
  },
  {
   "cell_type": "code",
   "execution_count": 53,
   "metadata": {},
   "outputs": [
    {
     "data": {
      "text/plain": [
       "'index'"
      ]
     },
     "execution_count": 53,
     "metadata": {},
     "output_type": "execute_result"
    }
   ],
   "source": [
    "index"
   ]
  },
  {
   "cell_type": "code",
   "execution_count": 54,
   "metadata": {},
   "outputs": [
    {
     "data": {
      "text/plain": [
       "'indices'"
      ]
     },
     "execution_count": 54,
     "metadata": {},
     "output_type": "execute_result"
    }
   ],
   "source": [
    "index.pluralize()"
   ]
  },
  {
   "cell_type": "code",
   "execution_count": 55,
   "metadata": {},
   "outputs": [],
   "source": [
    "gato = Word('gato')"
   ]
  },
  {
   "cell_type": "code",
   "execution_count": 58,
   "metadata": {},
   "outputs": [
    {
     "data": {
      "text/plain": [
       "'gatoes'"
      ]
     },
     "execution_count": 58,
     "metadata": {},
     "output_type": "execute_result"
    }
   ],
   "source": [
    "gato.pluralize()"
   ]
  },
  {
   "cell_type": "code",
   "execution_count": 59,
   "metadata": {},
   "outputs": [],
   "source": [
    "from pathlib import Path"
   ]
  },
  {
   "cell_type": "code",
   "execution_count": 61,
   "metadata": {},
   "outputs": [],
   "source": [
    "blob_ryj = TextBlob(Path('romeoYjulieta.txt').read_text())"
   ]
  },
  {
   "cell_type": "code",
   "execution_count": 63,
   "metadata": {},
   "outputs": [
    {
     "data": {
      "text/plain": [
       "56"
      ]
     },
     "execution_count": 63,
     "metadata": {},
     "output_type": "execute_result"
    }
   ],
   "source": [
    "blob_ryj.word_counts['juliet']"
   ]
  },
  {
   "cell_type": "code",
   "execution_count": 64,
   "metadata": {},
   "outputs": [
    {
     "data": {
      "text/plain": [
       "121"
      ]
     },
     "execution_count": 64,
     "metadata": {},
     "output_type": "execute_result"
    }
   ],
   "source": [
    "blob_ryj.word_counts['romeo']"
   ]
  },
  {
   "cell_type": "code",
   "execution_count": 71,
   "metadata": {},
   "outputs": [
    {
     "data": {
      "text/plain": [
       "WordList(['SAMPSON', \"'Tis\", 'all', 'one', ',', 'I', 'will', 'show', 'myself', 'a', 'tyrant', ':', 'when', 'I', 'have', 'fought', 'with', 'the', 'men', ',', 'I', 'will', 'be', 'cruel', 'with', 'the', 'maids', ',', 'and', 'cut', 'off', 'their', 'heads', '.', 'GREGORY', 'The', 'heads', 'of', 'the', 'maids', '?', 'SAMPSON', 'Ay', ',', 'the', 'heads', 'of', 'the', 'maids', ',', 'or', 'their', 'maidenheads', ';', 'take', 'it', 'in', 'what', 'sense', 'thou', 'wilt', '.', 'GREGORY', 'They', 'must', 'take', 'it', 'in', 'sense', 'that', 'feel', 'it', '.', 'SAMPSON', 'Me', 'they', 'shall', 'feel', 'while', 'I', 'am', 'able', 'to', 'stand', ':', 'and', \"'tis\", 'known', 'I', 'am', 'a', 'pretty', 'piece', 'of', 'flesh', '.', 'GREGORY', \"'Tis\", 'well', 'thou', 'art', 'not', 'fish', ';', 'if', 'thou', 'hadst', ',', 'thou', 'hadst', 'been', 'poor', 'John', '.', 'Draw', 'thy', 'tool', '!', 'here', 'comes', 'two', 'of', 'the', 'house', 'of', 'the', 'Montagues', '.', 'SAMPSON', 'My', 'naked', 'weapon', 'is', 'out', ':', 'quarrel', ',', 'I', 'will', 'back', 'thee', '.', 'GREGORY', 'How', '!', 'turn', 'thy', 'back', 'and', 'run', '?', 'SAMPSON', 'Fear', 'me', 'not', '.', 'GREGORY', 'No', ',', 'marry', ';', 'I', 'fear', 'thee', '!', 'SAMPSON', 'Let', 'us', 'take', 'the', 'law', 'of', 'our', 'sides', ';', 'let', 'them', 'begin', '.', 'GREGORY', 'I', 'will', 'frown', 'as', 'I', 'pass', 'by', ',', 'and', 'let', 'them', 'take', 'it', 'as', 'they', 'list', '.', 'SAMPSON', 'Nay', ',', 'as', 'they', 'dare', '.', 'I', 'will', 'bite', 'my', 'thumb', 'at', 'them', ';', 'which', 'is', 'a', 'disgrace', 'to', 'them', ',', 'if', 'they', 'bear', 'it', '.', 'Enter', 'ABRAHAM', 'and', 'BALTHASAR', 'ABRAHAM', 'Do', 'you', 'bite', 'your', 'thumb', 'at', 'us', ',', 'sir', '?', 'SAMPSON', 'I', 'do', 'bite', 'my', 'thumb', ',', 'sir', '.', 'ABRAHAM', 'Do', 'you', 'bite', 'your', 'thumb', 'at', 'us', ',', 'sir', '?', 'SAMPSON', '[', 'Aside', 'to', 'GREGORY', ']', 'Is', 'the', 'law', 'of', 'our', 'side', ',', 'if', 'I', 'say', 'ay', '?', 'GREGORY', 'No', '.', 'SAMPSON', 'No', ',', 'sir', ',', 'I', 'do', 'not', 'bite', 'my', 'thumb', 'at', 'you', ',', 'sir', ',', 'but', 'I', 'bite', 'my', 'thumb', ',', 'sir', '.', 'GREGORY', 'Do', 'you', 'quarrel', ',', 'sir', '?', 'ABRAHAM', 'Quarrel', 'sir', '!', 'no', ',', 'sir', '.', 'SAMPSON', 'If', 'you', 'do', ',', 'sir', ',', 'I', 'am', 'for', 'you', ':', 'I', 'serve', 'as', 'good', 'a', 'man', 'as', 'you', '.', 'ABRAHAM', 'No', 'better', '.', 'SAMPSON', 'Well', ',', 'sir', '.', 'GREGORY', 'Say', \"'better\", ':', \"'\", 'here', 'comes', 'one', 'of', 'my', 'master', \"'s\", 'kinsmen', '.', 'SAMPSON', 'Yes', ',', 'better', ',', 'sir', '.', 'ABRAHAM', 'You', 'lie', '.', 'SAMPSON', 'Draw', ',', 'if', 'you', 'be', 'men', '.', 'Gregory', ',', 'remember', 'thy', 'swashing', 'blow', '.', 'They', 'fight', 'Enter', 'BENVOLIO', 'BENVOLIO', 'Part', ',', 'fools', '!', 'Put', 'up', 'your', 'swords', ';', 'you', 'know', 'not', 'what', 'you', 'do', '.', 'Beats', 'down', 'their', 'swords', 'Enter', 'TYBALT', 'TYBALT', 'What', ',', 'art', 'thou', 'drawn', 'among', 'these', 'heartless', 'hinds', '?', 'Turn', 'thee', ',', 'Benvolio', ',', 'look', 'upon', 'thy', 'death', '.', 'BENVOLIO', 'I', 'do', 'but', 'keep', 'the', 'peace', ':', 'put', 'up', 'thy', 'sword', ',', 'Or', 'manage', 'it', 'to', 'part', 'these', 'men', 'with', 'me', '.', 'TYBALT', 'What', ',', 'drawn', ',', 'and', 'talk', 'of', 'peace', '!', 'I', 'hate', 'the', 'word', ',', 'As', 'I', 'hate', 'hell', ',', 'all', 'Montagues', ',', 'and', 'thee', ':', 'Have', 'at', 'thee', ',', 'coward', '!', 'They', 'fight', 'Enter', ',', 'several', 'of', 'both', 'houses', ',', 'who', 'join', 'the', 'fray', ';', 'then', 'enter', 'Citizens', ',', 'with', 'clubs', 'First', 'Citizen', 'Clubs', ',', 'bills', ',', 'and', 'partisans', '!', 'strike', '!', 'beat', 'them', 'down', '!', 'Down', 'with', 'the', 'Capulets', '!', 'down', 'with', 'the', 'Montagues', '!', 'Enter', 'CAPULET', 'in', 'his', 'gown', ',', 'and', 'LADY', 'CAPULET', 'CAPULET', 'What', 'noise', 'is', 'this', '?', 'Give', 'me', 'my', 'long', 'sword', ',', 'ho', '!', 'LADY', 'CAPULET', 'A', 'crutch', ',', 'a', 'crutch', '!', 'why', 'call', 'you', 'for', 'a', 'sword', '?', 'CAPULET', 'My', 'sword', ',', 'I', 'say', '!', 'Old', 'Montague', 'is', 'come', ',', 'And', 'flourishes', 'his', 'blade', 'in', 'spite', 'of', 'me', '.', 'Enter', 'MONTAGUE', 'and', 'LADY', 'MONTAGUE', 'MONTAGUE', 'Thou', 'villain', 'Capulet', ',', '--', 'Hold', 'me', 'not', ',', 'let', 'me', 'go', '.', 'LADY', 'MONTAGUE', 'Thou', 'shalt', 'not', 'stir', 'a', 'foot', 'to', 'seek', 'a', 'foe', '.', 'Enter', 'PRINCE', ',', 'with', 'Attendants', 'PRINCE', 'Rebellious', 'subjects', ',', 'enemies', 'to', 'peace', ',', 'Profaners', 'of', 'this', 'neighbour-stained', 'steel', ',', '--', 'Will', 'they', 'not', 'hear', '?', 'What', ',', 'ho', '!', 'you', 'men', ',', 'you', 'beasts', ',', 'That', 'quench', 'the', 'fire', 'of', 'your', 'pernicious', 'rage', 'With', 'purple', 'fountains', 'issuing', 'from', 'your', 'veins', ',', 'On', 'pain', 'of', 'torture', ',', 'from', 'those', 'bloody', 'hands', 'Throw', 'your', 'mistemper', \"'d\", 'weapons', 'to', 'the', 'ground', ',', 'And', 'hear', 'the', 'sentence', 'of', 'your', 'moved', 'prince', '.', 'Three', 'civil', 'brawls', ',', 'bred', 'of', 'an', 'airy', 'word', ',', 'By', 'thee', ',', 'old', 'Capulet', ',', 'and', 'Montague', ',', 'Have', 'thrice', 'disturb', \"'d\", 'the', 'quiet', 'of', 'our', 'streets', ',', 'And', 'made', 'Verona', \"'s\", 'ancient', 'citizens', 'Cast', 'by', 'their', 'grave', 'beseeming', 'ornaments', ',', 'To', 'wield', 'old', 'partisans', ',', 'in', 'hands', 'as', 'old', ',', 'Canker', \"'d\", 'with', 'peace', ',', 'to', 'part', 'your', 'canker', \"'d\", 'hate', ':', 'If', 'ever', 'you', 'disturb', 'our', 'streets', 'again', ',', 'Your', 'lives', 'shall', 'pay', 'the', 'forfeit', 'of', 'the', 'peace', '.', 'For', 'this', 'time', ',', 'all', 'the', 'rest', 'depart', 'away', ':', 'You', 'Capulet', ';', 'shall', 'go', 'along', 'with', 'me', ':', 'And', ',', 'Montague', ',', 'come', 'you', 'this', 'afternoon', ',', 'To', 'know', 'our', 'further', 'pleasure', 'in', 'this', 'case', ',', 'To', 'old', 'Free-town', ',', 'our', 'common', 'judgment-place', '.', 'Once', 'more', ',', 'on', 'pain', 'of', 'death', ',', 'all', 'men', 'depart', '.', 'Exeunt', 'all', 'but', 'MONTAGUE', ',', 'LADY', 'MONTAGUE', ',', 'and', 'BENVOLIO', 'MONTAGUE', 'Who', 'set', 'this', 'ancient', 'quarrel', 'new', 'abroach', '?', 'Speak', ',', 'nephew', ',', 'were', 'you', 'by', 'when', 'it', 'began', '?', 'BENVOLIO', 'Here', 'were', 'the', 'servants', 'of', 'your', 'adversary', ',', 'And', 'yours', ',', 'close', 'fighting', 'ere', 'I', 'did', 'approach', ':', 'I', 'drew', 'to', 'part', 'them', ':', 'in', 'the', 'instant', 'came', 'The', 'fiery', 'Tybalt', ',', 'with', 'his', 'sword', 'prepared', ',', 'Which', ',', 'as', 'he', 'breathed', 'defiance', 'to', 'my', 'ears', ',', 'He', 'swung', 'about', 'his', 'head', 'and', 'cut', 'the', 'winds', ',', 'Who', 'nothing', 'hurt', 'withal', 'hiss', \"'d\", 'him', 'in', 'scorn', ':', 'While', 'we', 'were', 'interchanging', 'thrusts', 'and', 'blows', ',', 'Came', 'more', 'and', 'more', 'and', 'fought', 'on', 'part', 'and', 'part', ',', 'Till', 'the', 'prince', 'came', ',', 'who', 'parted', 'either', 'part', '.', 'LADY', 'MONTAGUE', 'O', ',', 'where', 'is', 'Romeo', '?', 'saw', 'you', 'him', 'to-day', '?', 'Right', 'glad', 'I', 'am', 'he', 'was', 'not', 'at', 'this', 'fray', '.', 'BENVOLIO', 'Madam', ',', 'an', 'hour', 'before', 'the', 'worshipp', \"'d\", 'sun', 'Peer', \"'d\", 'forth', 'the', 'golden', 'window', 'of', 'the', 'east', ',', 'A', 'troubled', 'mind', 'drave', 'me', 'to', 'walk', 'abroad', ';', 'Where', ',', 'underneath', 'the', 'grove', 'of', 'sycamore', 'That', 'westward', 'rooteth', 'from', 'the', 'city', \"'s\", 'side', ',', 'So', 'early', 'walking', 'did', 'I', 'see', 'your', 'son', ':', 'Towards', 'him', 'I', 'made', ',', 'but', 'he', 'was', 'ware', 'of', 'me', 'And', 'stole', 'into', 'the', 'covert', 'of', 'the', 'wood', ':', 'I', ',', 'measuring', 'his', 'affections', 'by', 'my', 'own', ',', 'That', 'most', 'are', 'busied', 'when', 'they', \"'re\", 'most', 'alone', ',', 'Pursued', 'my', 'humour', 'not', 'pursuing', 'his', ',', 'And', 'gladly', 'shunn', \"'d\", 'who', 'gladly', 'fled', 'from', 'me', '.', 'MONTAGUE', 'Many', 'a', 'morning', 'hath', 'he', 'there', 'been', 'seen', ',', 'With', 'tears', 'augmenting', 'the', 'fresh', 'morning', 'dew', '.', 'Adding', 'to', 'clouds', 'more', 'clouds', 'with', 'his', 'deep', 'sighs', ';', 'But', 'all', 'so', 'soon', 'as', 'the', 'all-cheering', 'sun', 'Should', 'in', 'the', 'furthest', 'east', 'begin', 'to', 'draw', 'The', 'shady', 'curtains', 'from', 'Aurora', \"'s\", 'bed', ',', 'Away', 'from', 'the', 'light', 'steals', 'home', 'my', 'heavy', 'son', ',', 'And', 'private', 'in', 'his', 'chamber', 'pens', 'himself', ',', 'Shuts', 'up', 'his', 'windows', ',', 'locks', 'far', 'daylight', 'out', 'And', 'makes', 'himself', 'an', 'artificial', 'night', ':', 'Black', 'and', 'portentous', 'must', 'this', 'humour', 'prove', ',', 'Unless', 'good', 'counsel', 'may', 'the', 'cause', 'remove', '.', 'BENVOLIO', 'My', 'noble', 'uncle', ',', 'do', 'you', 'know', 'the', 'cause', '?', 'MONTAGUE', 'I', 'neither', 'know', 'it', 'nor', 'can', 'learn', 'of', 'him', '.', 'BENVOLIO', 'Have', 'you', 'importuned', 'him', 'by', 'any', 'means', '?', 'MONTAGUE', 'Both', 'by', 'myself', 'and', 'many', 'other', 'friends', ':', 'But', 'he', ',', 'his', 'own', 'affections', \"'\", 'counsellor', ',', 'Is', 'to', 'himself', '--', 'I', 'will', 'not', 'say', 'how', 'true', '--', 'But', 'to', 'himself', 'so', 'secret', 'and', 'so', 'close', ',', 'So', 'far', 'from', 'sounding', 'and', 'discovery', ',', 'As', 'is', 'the', 'bud', 'bit', 'with', 'an', 'envious', 'worm', ',', 'Ere', 'he', 'can', 'spread', 'his', 'sweet', 'leaves', 'to', 'the', 'air', ',', 'Or', 'dedicate', 'his', 'beauty', 'to', 'the', 'sun', '.', 'Could', 'we', 'but', 'learn', 'from', 'whence', 'his', 'sorrows', 'grow', '.', 'We', 'would', 'as', 'willingly', 'give', 'cure', 'as', 'know', '.', 'Enter', 'ROMEO', 'BENVOLIO', 'See', ',', 'where', 'he', 'comes', ':', 'so', 'please', 'you', ',', 'step', 'aside', ';', 'I', \"'ll\", 'know', 'his', 'grievance', ',', 'or', 'be', 'much', 'denied', '.', 'MONTAGUE', 'I', 'would', 'thou', 'wert', 'so', 'happy', 'by', 'thy', 'stay', ',', 'To', 'hear', 'true', 'shrift', '.', 'Come', ',', 'madam', ',', 'let', \"'s\", 'away', '.', 'Exeunt', 'MONTAGUE', 'and', 'LADY', 'MONTAGUE', 'BENVOLIO', 'Good-morrow', ',', 'cousin', '.', 'ROMEO', 'Is', 'the', 'day', 'so', 'young', '?', 'BENVOLIO', 'But', 'new', 'struck', 'nine', '.', 'ROMEO', 'Ay', 'me', '!', 'sad', 'hours', 'seem', 'long', '.', 'Was', 'that', 'my', 'father', 'that', 'went', 'hence', 'so', 'fast', '?', 'BENVOLIO', 'It', 'was', '.', 'What', 'sadness', 'lengthens', 'Romeo', \"'s\", 'hours', '?', 'ROMEO', 'Not', 'having', 'that', ',', 'which', ',', 'having', ',', 'makes', 'them', 'short', '.', 'BENVOLIO', 'In', 'love', '?', 'ROMEO', 'Out', '--', 'BENVOLIO', 'Of', 'love', '?', 'ROMEO', 'Out', 'of', 'her', 'favour', ',', 'where', 'I', 'am', 'in', 'love', '.', 'BENVOLIO', 'Alas', ',', 'that', 'love', ',', 'so', 'gentle', 'in', 'his', 'view', ',', 'Should', 'be', 'so', 'tyrannous', 'and', 'rough', 'in', 'proof', '!', 'ROMEO', 'Alas', ',', 'that', 'love', ',', 'whose', 'view', 'is', 'muffled', 'still', ',', 'Should', ',', 'without', 'eyes', ',', 'see', 'pathways', 'to', 'his', 'will', '!', 'Where', 'shall', 'we', 'dine', '?', 'O', 'me', '!', 'What', 'fray', 'was', 'here', '?', 'Yet', 'tell', 'me', 'not', ',', 'for', 'I', 'have', 'heard', 'it', 'all', '.', 'Here', \"'s\", 'much', 'to', 'do', 'with', 'hate', ',', 'but', 'more', 'with', 'love', '.', 'Why', ',', 'then', ',', 'O', 'brawling', 'love', '!', 'O', 'loving', 'hate', '!', 'O', 'any', 'thing', ',', 'of', 'nothing', 'first', 'create', '!', 'O', 'heavy', 'lightness', '!', 'serious', 'vanity', '!', 'Mis-shapen', 'chaos', 'of', 'well-seeming', 'forms', '!', 'Feather', 'of', 'lead', ',', 'bright', 'smoke', ',', 'cold', 'fire', ',', 'sick', 'health', '!', 'Still-waking', 'sleep', ',', 'that', 'is', 'not', 'what', 'it', 'is', '!', 'This', 'love', 'feel', 'I', ',', 'that', 'feel', 'no', 'love', 'in', 'this', '.', 'Dost', 'thou', 'not', 'laugh', '?', 'BENVOLIO', 'No', ',', 'coz', ',', 'I', 'rather', 'weep', '.', 'ROMEO', 'Good', 'heart', ',', 'at', 'what', '?', 'BENVOLIO', 'At', 'thy', 'good', 'heart', \"'s\", 'oppression', '.', 'ROMEO', 'Why', ',', 'such', 'is', 'love', \"'s\", 'transgression', '.', 'Griefs', 'of', 'mine', 'own', 'lie', 'heavy', 'in', 'my', 'breast', ',', 'Which', 'thou', 'wilt', 'propagate', ',', 'to', 'have', 'it', 'prest', 'With', 'more', 'of', 'thine', ':', 'this', 'love', 'that', 'thou', 'hast', 'shown', 'Doth', 'add', 'more', 'grief', 'to', 'too', 'much', 'of', 'mine', 'own', '.', 'Love', 'is', 'a', 'smoke', 'raised', 'with', 'the', 'fume', 'of', 'sighs', ';', 'Being', 'purged', ',', 'a', 'fire', 'sparkling', 'in', 'lovers', \"'\", 'eyes', ';', 'Being', 'vex', \"'d\", 'a', 'sea', 'nourish', \"'d\", 'with', 'lovers', \"'\", 'tears', ':', 'What', 'is', 'it', 'else', '?', 'a', 'madness', 'most', 'discreet', ',', 'A', 'choking', 'gall', 'and', 'a', 'preserving', 'sweet', '.', 'Farewell', ',', 'my', 'coz', '.', 'BENVOLIO', 'Soft', '!', 'I', 'will', 'go', 'along', ';', 'An', 'if', 'you', 'leave', 'me', 'so', ',', 'you', 'do', 'me', 'wrong', '.', 'ROMEO', 'Tut', ',', 'I', 'have', 'lost', 'myself', ';', 'I', 'am', 'not', 'here', ';', 'This', 'is', 'not', 'Romeo', ',', 'he', \"'s\", 'some', 'other', 'where', '.', 'BENVOLIO', 'Tell', 'me', 'in', 'sadness', ',', 'who', 'is', 'that', 'you', 'love', '.', 'ROMEO', 'What', ',', 'shall', 'I', 'groan', 'and', 'tell', 'thee', '?', 'BENVOLIO', 'Groan', '!', 'why', ',', 'no', '.', 'But', 'sadly', 'tell', 'me', 'who', '.', 'ROMEO', 'Bid', 'a', 'sick', 'man', 'in', 'sadness', 'make', 'his', 'will', ':', 'Ah', ',', 'word', 'ill', 'urged', 'to', 'one', 'that', 'is', 'so', 'ill', '!', 'In', 'sadness', ',', 'cousin', ',', 'I', 'do', 'love', 'a', 'woman', '.', 'BENVOLIO', 'I', 'aim', \"'d\", 'so', 'near', ',', 'when', 'I', 'supposed', 'you', 'loved', '.', 'ROMEO', 'A', 'right', 'good', 'mark-man', '!', 'And', 'she', \"'s\", 'fair', 'I', 'love', '.', 'BENVOLIO', 'A', 'right', 'fair', 'mark', ',', 'fair', 'coz', ',', 'is', 'soonest', 'hit', '.', 'ROMEO', 'Well', ',', 'in', 'that', 'hit', 'you', 'miss', ':', 'she', \"'ll\", 'not', 'be', 'hit', 'With', 'Cupid', \"'s\", 'arrow', ';', 'she', 'hath', 'Dian', \"'s\", 'wit', ';', 'And', ',', 'in', 'strong', 'proof', 'of', 'chastity', 'well', 'arm', \"'d\", ',', 'From', 'love', \"'s\", 'weak', 'childish', 'bow', 'she', 'lives', 'unharm', \"'d\", '.', 'She', 'will', 'not', 'stay', 'the', 'siege', 'of', 'loving', 'terms', ',', 'Nor', 'bide', 'the', 'encounter', 'of', 'assailing', 'eyes', ',', 'Nor', 'ope', 'her', 'lap', 'to', 'saint-seducing', 'gold', ':', 'O', ',', 'she', 'is', 'rich', 'in', 'beauty', ',', 'only', 'poor', ',', 'That', 'when', 'she', 'dies', 'with', 'beauty', 'dies', 'her', 'store', '.', 'BENVOLIO', 'Then', 'she', 'hath', 'sworn', 'that', 'she', 'will', 'still', 'live', 'chaste', '?', 'ROMEO', 'She', 'hath', ',', 'and', 'in', 'that', 'sparing', 'makes', 'huge', 'waste', ',', 'For', 'beauty', 'starved', 'with', 'her', 'severity', 'Cuts', 'beauty', 'off', 'from', 'all', 'posterity', '.', 'She', 'is', 'too', 'fair', ',', 'too', 'wise', ',', 'wisely', 'too', 'fair', ',', 'To', 'merit', 'bliss', 'by', 'making', 'me', 'despair', ':', 'She', 'hath', 'forsworn', 'to', 'love', ',', 'and', 'in', 'that', 'vow', 'Do', 'I', 'live', 'dead', 'that', 'live', 'to', 'tell', 'it', 'now', '.', 'BENVOLIO', 'Be', 'ruled', 'by', 'me', ',', 'forget', 'to', 'think', 'of', 'her', '.', 'ROMEO', 'O', ',', 'teach', 'me', 'how', 'I', 'should', 'forget', 'to', 'think', '.', 'BENVOLIO', 'By', 'giving', 'liberty', 'unto', 'thine', 'eyes', ';', 'Examine', 'other', 'beauties', '.', 'ROMEO', \"'Tis\", 'the', 'way', 'To', 'call', 'hers', 'exquisite', ',', 'in', 'question', 'more', ':', 'These', 'happy', 'masks', 'that', 'kiss', 'fair', 'ladies', \"'\", 'brows', 'Being', 'black', 'put', 'us', 'in', 'mind', 'they', 'hide', 'the', 'fair', ';', 'He', 'that', 'is', 'strucken', 'blind', 'can', 'not', 'forget', 'The', 'precious', 'treasure', 'of', 'his', 'eyesight', 'lost', ':', 'Show', 'me', 'a', 'mistress', 'that', 'is', 'passing', 'fair', ',', 'What', 'doth', 'her', 'beauty', 'serve', ',', 'but', 'as', 'a', 'note', 'Where', 'I', 'may', 'read', 'who', 'pass', \"'d\", 'that', 'passing', 'fair', '?', 'Farewell', ':', 'thou', 'canst', 'not', 'teach', 'me', 'to', 'forget', '.', 'BENVOLIO', 'I', \"'ll\", 'pay', 'that', 'doctrine', ',', 'or', 'else', 'die', 'in', 'debt', '.', 'Exeunt', 'SCENE', 'II', '.', 'A', 'street', '.', 'Enter', 'CAPULET', ',', 'PARIS', ',', 'and', 'Servant', 'CAPULET', 'But', 'Montague', 'is', 'bound', 'as', 'well', 'as', 'I', ',', 'In', 'penalty', 'alike', ';', 'and', \"'t\", 'is', 'not', 'hard', ',', 'I', 'think', ',', 'For', 'men', 'so', 'old', 'as', 'we', 'to', 'keep', 'the', 'peace', '.', 'PARIS', 'Of', 'honourable', 'reckoning', 'are', 'you', 'both', ';', 'And', 'pity', \"'t\", 'is', 'you', 'lived', 'at', 'odds', 'so', 'long', '.', 'But', 'now', ',', 'my', 'lord', ',', 'what', 'say', 'you', 'to', 'my', 'suit', '?', 'CAPULET', 'But', 'saying', \"o'er\", 'what', 'I', 'have', 'said', 'before', ':', 'My', 'child', 'is', 'yet', 'a', 'stranger', 'in', 'the', 'world', ';', 'She', 'hath', 'not', 'seen', 'the', 'change', 'of', 'fourteen', 'years', ',', 'Let', 'two', 'more', 'summers', 'wither', 'in', 'their', 'pride', ',', 'Ere', 'we', 'may', 'think', 'her', 'ripe', 'to', 'be', 'a', 'bride', '.', 'PARIS', 'Younger', 'than', 'she', 'are', 'happy', 'mothers', 'made', '.', 'CAPULET', 'And', 'too', 'soon', 'marr', \"'d\", 'are', 'those', 'so', 'early', 'made', '.', 'The', 'earth', 'hath', 'swallow', \"'d\", 'all', 'my', 'hopes', 'but', 'she', ',', 'She', 'is', 'the', 'hopeful', 'lady', 'of', 'my', 'earth', ':', 'But', 'woo', 'her', ',', 'gentle', 'Paris', ',', 'get', 'her', 'heart', ',', 'My', 'will', 'to', 'her', 'consent', 'is', 'but', 'a', 'part', ';', 'An', 'she', 'agree', ',', 'within', 'her', 'scope', 'of', 'choice', 'Lies', 'my', 'consent', 'and', 'fair', 'according', 'voice', '.', 'This', 'night', 'I', 'hold', 'an', 'old', 'accustom', \"'d\", 'feast', ',', 'Whereto', 'I', 'have', 'invited', 'many', 'a', 'guest', ',', 'Such', 'as', 'I', 'love', ';', 'and', 'you', ',', 'among', 'the', 'store', ',', 'One', 'more', ',', 'most', 'welcome', ',', 'makes', 'my', 'number', 'more', '.', 'At', 'my', 'poor', 'house', 'look', 'to', 'behold', 'this', 'night', 'Earth-treading', 'stars', 'that', 'make', 'dark', 'heaven', 'light', ':', 'Such', 'comfort', 'as', 'do', 'lusty', 'young', 'men', 'feel', 'When', 'well-apparell', \"'d\", 'April', 'on', 'the', 'heel', 'Of', 'limping', 'winter', 'treads', ',', 'even', 'such', 'delight', 'Among', 'fresh', 'female', 'buds', 'shall', 'you', 'this', 'night', 'Inherit', 'at', 'my', 'house', ';', 'hear', 'all', ',', 'all', 'see', ',', 'And', 'like', 'her', 'most', 'whose', 'merit', 'most', 'shall', 'be', ':', 'Which', 'on', 'more', 'view', ',', 'of', 'many', 'mine', 'being', 'one', 'May', 'stand', 'in', 'number', ',', 'though', 'in', 'reckoning', 'none', ',', 'Come', ',', 'go', 'with', 'me', '.', 'To', 'Servant', ',', 'giving', 'a', 'paper', 'Go', ',', 'sirrah', ',', 'trudge', 'about', 'Through', 'fair', 'Verona', ';', 'find', 'those', 'persons', 'out', 'Whose', 'names', 'are', 'written', 'there', ',', 'and', 'to', 'them', 'say', ',', 'My', 'house', 'and', 'welcome', 'on', 'their', 'pleasure', 'stay', '.', 'Exeunt', 'CAPULET', 'and', 'PARIS', 'Servant', 'Find', 'them', 'out', 'whose', 'names', 'are', 'written', 'here', '!', 'It', 'is', 'written', ',', 'that', 'the', 'shoemaker', 'should', 'meddle', 'with', 'his', 'yard', ',', 'and', 'the', 'tailor', 'with', 'his', 'last', ',', 'the', 'fisher', 'with', 'his', 'pencil', ',', 'and', 'the', 'painter', 'with', 'his', 'nets', ';', 'but', 'I', 'am', 'sent', 'to', 'find', 'those', 'persons', 'whose', 'names', 'are', 'here', 'writ', ',', 'and', 'can', 'never', 'find', 'what', 'names', 'the', 'writing', 'person', 'hath', 'here', 'writ', '.', 'I', 'must', 'to', 'the', 'learned.', '--', 'In', 'good', 'time', '.', 'Enter', 'BENVOLIO', 'and', 'ROMEO', 'BENVOLIO', 'Tut', ',', 'man', ',', 'one', 'fire', 'burns', 'out', 'another', \"'s\", 'burning', ',', 'One', 'pain', 'is', 'lessen', \"'d\", 'by', 'another', \"'s\", 'anguish', ';', 'Turn', 'giddy', ',', 'and', 'be', 'holp', 'by', 'backward', 'turning', ';', 'One', 'desperate', 'grief', 'cures', 'with', 'another', \"'s\", 'languish', ':', 'Take', 'thou', 'some', 'new', 'infection', 'to', 'thy', 'eye', ',', 'And', 'the', 'rank', 'poison', 'of', 'the', 'old', 'will', 'die', '.', 'ROMEO', 'Your', 'plaintain-leaf', 'is', 'excellent', 'for', 'that', '.', 'BENVOLIO', 'For', 'what', ',', 'I', 'pray', 'thee', '?', 'ROMEO', 'For', 'your', 'broken', 'shin', '.', 'BENVOLIO', 'Why', ',', 'Romeo', ',', 'art', 'thou', 'mad', '?', 'ROMEO', 'Not', 'mad', ',', 'but', 'bound', 'more', 'than', 'a', 'mad-man', 'is', ';', 'Shut', 'up', 'in', 'prison', ',', 'kept', 'without', 'my', 'food', ',', 'Whipp', \"'d\", 'and', 'tormented', 'and', '--', 'God-den', ',', 'good', 'fellow', '.', 'Servant', 'God', 'gi', \"'\", 'god-den', '.', 'I', 'pray', ',', 'sir', ',', 'can', 'you', 'read', '?', 'ROMEO', 'Ay', ',', 'mine', 'own', 'fortune', 'in', 'my', 'misery', '.', 'Servant', 'Perhaps', 'you', 'have', 'learned', 'it', 'without', 'book', ':', 'but', ',', 'I', 'pray', ',', 'can', 'you', 'read', 'any', 'thing', 'you', 'see', '?', 'ROMEO', 'Ay', ',', 'if', 'I', 'know', 'the', 'letters', 'and', 'the', 'language', '.', 'Servant', 'Ye', 'say', 'honestly', ':', 'rest', 'you', 'merry', '!', 'ROMEO', 'Stay', ',', 'fellow', ';', 'I', 'can', 'read', '.', 'Reads', \"'Signior\", 'Martino', 'and', 'his', 'wife', 'and', 'daughters', ';', 'County', 'Anselme', 'and', 'his', 'beauteous', 'sisters', ';', 'the', 'lady', 'widow', 'of', 'Vitravio', ';', 'Signior', 'Placentio', 'and', 'his', 'lovely', 'nieces', ';', 'Mercutio', 'and', 'his', 'brother', 'Valentine', ';', 'mine', 'uncle', 'Capulet', ',', 'his', 'wife', 'and', 'daughters', ';', 'my', 'fair', 'niece', 'Rosaline', ';', 'Livia', ';', 'Signior', 'Valentio', 'and', 'his', 'cousin', 'Tybalt', ',', 'Lucio', 'and', 'the', 'lively', 'Helena', '.', \"'\", 'A', 'fair', 'assembly', ':', 'whither', 'should', 'they', 'come', '?', 'Servant', 'Up', '.', 'ROMEO', 'Whither', '?', 'Servant', 'To', 'supper', ';', 'to', 'our', 'house', '.', 'ROMEO', 'Whose', 'house', '?', 'Servant', 'My', 'master', \"'s\", '.', 'ROMEO', 'Indeed', ',', 'I', 'should', 'have', 'ask', \"'d\", 'you', 'that', 'before', '.', 'Servant', 'Now', 'I', \"'ll\", 'tell', 'you', 'without', 'asking', ':', 'my', 'master', 'is', 'the', 'great', 'rich', 'Capulet', ';', 'and', 'if', 'you', 'be', 'not', 'of', 'the', 'house', 'of', 'Montagues', ',', 'I', 'pray', ',', 'come', 'and', 'crush', 'a', 'cup', 'of', 'wine', '.', 'Rest', 'you', 'merry', '!', 'Exit', 'BENVOLIO', 'At', 'this', 'same', 'ancient', 'feast', 'of', \"Capulet's\", 'Sups', 'the', 'fair', 'Rosaline', 'whom', 'thou', 'so', 'lovest', ',', 'With', 'all', 'the', 'admired', 'beauties', 'of', 'Verona', ':', 'Go', 'thither', ';', 'and', ',', 'with', 'unattainted', 'eye', ',', 'Compare', 'her', 'face', 'with', 'some', 'that', 'I', 'shall', 'show', ',', 'And', 'I', 'will', 'make', 'thee', 'think', 'thy', 'swan', 'a', 'crow', '.', 'ROMEO', 'When', 'the', 'devout', 'religion', 'of', 'mine', 'eye', 'Maintains', 'such', 'falsehood', ',', 'then', 'turn', 'tears', 'to', 'fires', ';', 'And', 'these', ',', 'who', 'often', 'drown', \"'d\", 'could', 'never', 'die', ',', 'Transparent', 'heretics', ',', 'be', 'burnt', 'for', 'liars', '!', 'One', 'fairer', 'than', 'my', 'love', '!', 'the', 'all-seeing', 'sun', \"Ne'er\", 'saw', 'her', 'match', 'since', 'first', 'the', 'world', 'begun', '.', 'BENVOLIO', 'Tut', ',', 'you', 'saw', 'her', 'fair', ',', 'none', 'else', 'being', 'by', ',', 'Herself', 'poised', 'with', 'herself', 'in', 'either', 'eye', ':', 'But', 'in', 'that', 'crystal', 'scales', 'let', 'there', 'be', \"weigh'd\", 'Your', 'lady', \"'s\", 'love', 'against', 'some', 'other', 'maid', 'That', 'I', 'will', 'show', 'you', 'shining', 'at', 'this', 'feast', ',', 'And', 'she', 'shall', 'scant', 'show', 'well', 'that', 'now', 'shows', 'best', '.', 'ROMEO', 'I', \"'ll\", 'go', 'along', ',', 'no', 'such', 'sight', 'to', 'be', 'shown', ',', 'But', 'to', 'rejoice', 'in', 'splendor', 'of', 'mine', 'own', '.', 'Exeunt', 'SCENE', 'III', '.', 'A', 'room', 'in', 'Capulet', \"'s\", 'house', '.', 'Enter', 'LADY', 'CAPULET', 'and', 'Nurse', 'LADY', 'CAPULET', 'Nurse', ',', 'where', \"'s\", 'my', 'daughter', '?', 'call', 'her', 'forth', 'to', 'me', '.', 'Nurse', 'Now', ',', 'by', 'my', 'maidenhead', ',', 'at', 'twelve', 'year', 'old', ',', 'I', 'bade', 'her', 'come', '.', 'What', ',', 'lamb', '!', 'what', ',', 'ladybird', '!', 'God', 'forbid', '!', 'Where', \"'s\", 'this', 'girl', '?', 'What', ',', 'Juliet', '!', 'Enter', 'JULIET', 'JULIET', 'How', 'now', '!', 'who', 'calls', '?', 'Nurse', 'Your', 'mother', '.', 'JULIET', 'Madam', ',', 'I', 'am', 'here', '.', 'What', 'is', 'your', 'will', '?', 'LADY', 'CAPULET', 'This', 'is', 'the', 'matter', ':', '--', 'Nurse', ',', 'give', 'leave', 'awhile', ',', 'We', 'must', 'talk', 'in', 'secret', ':', '--', 'nurse', ',', 'come', 'back', 'again', ';', 'I', 'have', 'remember', \"'d\", 'me', ',', 'thou', \"'s\", 'hear', 'our', 'counsel', '.', 'Thou', \"know'st\", 'my', 'daughter', \"'s\", 'of', 'a', 'pretty', 'age', '.', 'Nurse', 'Faith', ',', 'I', 'can', 'tell', 'her', 'age', 'unto', 'an', 'hour', '.', 'LADY', 'CAPULET', 'She', \"'s\", 'not', 'fourteen', '.', 'Nurse', 'I', \"'ll\", 'lay', 'fourteen', 'of', 'my', 'teeth', ',', '--', 'And', 'yet', ',', 'to', 'my', 'teeth', 'be', 'it', 'spoken', ',', 'I', 'have', 'but', 'four', '--', 'She', 'is', 'not', 'fourteen', '.', 'How', 'long', 'is', 'it', 'now', 'To', 'Lammas-tide', '?', 'LADY', 'CAPULET', 'A', 'fortnight', 'and', 'odd', 'days', '.', 'Nurse', 'Even', 'or', 'odd', ',', 'of', 'all', 'days', 'in', 'the', 'year', ',', 'Come', 'Lammas-eve', 'at', 'night', 'shall', 'she', 'be', 'fourteen', '.', 'Susan', 'and', 'she', '--', 'God', 'rest', 'all', 'Christian', 'souls', '!', '--', 'Were', 'of', 'an', 'age', ':', 'well', ',', 'Susan', 'is', 'with', 'God', ';', 'She', 'was', 'too', 'good', 'for', 'me', ':', 'but', ',', 'as', 'I', 'said', ',', 'On', 'Lammas-eve', 'at', 'night', 'shall', 'she', 'be', 'fourteen', ';', 'That', 'shall', 'she', ',', 'marry', ';', 'I', 'remember', 'it', 'well', '.', \"'T\", 'is', 'since', 'the', 'earthquake', 'now', 'eleven', 'years', ';', 'And', 'she', 'was', 'wean', \"'d\", ',', '--', 'I', 'never', 'shall', 'forget', 'it', ',', '--', 'Of', 'all', 'the', 'days', 'of', 'the', 'year', ',', 'upon', 'that', 'day', ':', 'For', 'I', 'had', 'then', 'laid', 'wormwood', 'to', 'my', 'dug', ',', 'Sitting', 'in', 'the', 'sun', 'under', 'the', 'dove-house', 'wall', ';', 'My', 'lord', 'and', 'you', 'were', 'then', 'at', 'Mantua', ':', '--', 'Nay', ',', 'I', 'do', 'bear', 'a', 'brain', ':', '--', 'but', ',', 'as', 'I', 'said', ',', 'When', 'it', 'did', 'taste', 'the', 'wormwood', 'on', 'the', 'nipple', 'Of', 'my', 'dug', 'and', 'felt', 'it', 'bitter', ',', 'pretty', 'fool', ',', 'To', 'see', 'it', 'tetchy', 'and', 'fall', 'out', 'with', 'the', 'dug', '!', 'Shake', 'quoth', 'the', 'dove-house', ':', \"'t\", 'was', 'no', 'need', ',', 'I', 'trow', ',', 'To', 'bid', 'me', 'trudge', ':', 'And', 'since', 'that', 'time', 'it', 'is', 'eleven', 'years', ';', 'For', 'then', 'she', 'could', 'stand', 'alone', ';', 'nay', ',', 'by', 'the', 'rood', ',', 'She', 'could', 'have', 'run', 'and', 'waddled', 'all', 'about', ';', 'For', 'even', 'the', 'day', 'before', ',', 'she', 'broke', 'her', 'brow', ':', 'And', 'then', 'my', 'husband', '--', 'God', 'be', 'with', 'his', 'soul', '!', 'A', \"'\", 'was', 'a', 'merry', 'man', '--', 'took', 'up', 'the', 'child', ':', \"'Yea\", ',', \"'\", 'quoth', 'he', ',', \"'dost\", 'thou', 'fall', 'upon', 'thy', 'face', '?', 'Thou', 'wilt', 'fall', 'backward', 'when', 'thou', 'hast', 'more', 'wit', ';', 'Wilt', 'thou', 'not', ',', 'Jule', '?', \"'\", 'and', ',', 'by', 'my', 'holidame', ',', 'The', 'pretty', 'wretch', 'left', 'crying', 'and', 'said', \"'Ay\", '.', \"'\", 'To', 'see', ',', 'now', ',', 'how', 'a', 'jest', 'shall', 'come', 'about', '!', 'I', 'warrant', ',', 'an', 'I', 'should', 'live', 'a', 'thousand', 'years', ',', 'I', 'never', 'should', 'forget', 'it', ':', \"'Wilt\", 'thou', 'not', ',', 'Jule', '?', \"'\", 'quoth', 'he', ';', 'And', ',', 'pretty', 'fool', ',', 'it', 'stinted', 'and', 'said', \"'Ay\", '.', \"'\", 'LADY', 'CAPULET', 'Enough', 'of', 'this', ';', 'I', 'pray', 'thee', ',', 'hold', 'thy', 'peace', '.', 'Nurse', 'Yes', ',', 'madam', ':', 'yet', 'I', 'can', 'not', 'choose', 'but', 'laugh', ',', 'To', 'think', 'it', 'should', 'leave', 'crying', 'and', 'say', \"'Ay\", '.', \"'\", 'And', 'yet', ',', 'I', 'warrant', ',', 'it', 'had', 'upon', 'its', 'brow', 'A', 'bump', 'as', 'big', 'as', 'a', 'young', 'cockerel', \"'s\", 'stone', ';', 'A', 'parlous', 'knock', ';', 'and', 'it', 'cried', 'bitterly', ':', \"'Yea\", ',', \"'\", 'quoth', 'my', 'husband', ',', \"'fall'st\", 'upon', 'thy', 'face', '?', 'Thou', 'wilt', 'fall', 'backward', 'when', 'thou', 'comest', 'to', 'age', ';', 'Wilt', 'thou', 'not', ',', 'Jule', '?', \"'\", 'it', 'stinted', 'and', 'said', \"'Ay\", '.', \"'\", 'JULIET', 'And', 'stint', 'thou', 'too', ',', 'I', 'pray', 'thee', ',', 'nurse', ',', 'say', 'I', '.', 'Nurse', 'Peace', ',', 'I', 'have', 'done', '.', 'God', 'mark', 'thee', 'to', 'his', 'grace', '!', 'Thou', 'wast', 'the', 'prettiest', 'babe', 'that', \"e'er\", 'I', 'nursed', ':', 'An', 'I', 'might', 'live', 'to', 'see', 'thee', 'married', 'once', ',', 'I', 'have', 'my', 'wish', '.', 'LADY', 'CAPULET', 'Marry', ',', 'that', \"'marry\", \"'\", 'is', 'the', 'very', 'theme', 'I', 'came', 'to', 'talk', 'of', '.', 'Tell', 'me', ',', 'daughter', 'Juliet', ',', 'How', 'stands', 'your', 'disposition', 'to', 'be', 'married', '?', 'JULIET', 'It', 'is', 'an', 'honour', 'that', 'I', 'dream', 'not', 'of', '.', 'Nurse', 'An', 'honour', '!', 'were', 'not', 'I', 'thine', 'only', 'nurse', ',', 'I', 'would', 'say', 'thou', 'hadst', 'suck', \"'d\", 'wisdom', 'from', 'thy', 'teat', '.', 'LADY', 'CAPULET', 'Well', ',', 'think', 'of', 'marriage', 'now', ';', 'younger', 'than', 'you', ',', 'Here', 'in', 'Verona', ',', 'ladies', 'of', 'esteem', ',', 'Are', 'made', 'already', 'mothers', ':', 'by', 'my', 'count', ',', 'I', 'was', 'your', 'mother', 'much', 'upon', 'these', 'years', 'That', 'you', 'are', 'now', 'a', 'maid', '.', 'Thus', 'then', 'in', 'brief', ':', 'The', 'valiant', 'Paris', 'seeks', 'you', 'for', 'his', 'love', '.', 'Nurse', 'A', 'man', ',', 'young', 'lady', '!', 'lady', ',', 'such', 'a', 'man', 'As', 'all', 'the', 'world', '--', 'why', ',', 'he', \"'s\", 'a', 'man', 'of', 'wax', '.', 'LADY', 'CAPULET', 'Verona', \"'s\", 'summer', 'hath', 'not', 'such', 'a', 'flower', '.', 'Nurse', 'Nay', ',', 'he', \"'s\", 'a', 'flower', ';', 'in', 'faith', ',', 'a', 'very', 'flower', '.', 'LADY', 'CAPULET', 'What', 'say', 'you', '?', 'can', 'you', 'love', 'the', 'gentleman', '?', 'This', 'night', 'you', 'shall', 'behold', 'him', 'at', 'our', 'feast', ';', 'Read', \"o'er\", 'the', 'volume', 'of', 'young', 'Paris', \"'\", 'face', ',', 'And', 'find', 'delight', 'writ', 'there', 'with', 'beauty', \"'s\", 'pen', ';', 'Examine', 'every', 'married', 'lineament', ',', 'And', 'see', 'how', 'one', 'another', 'lends', 'content', 'And', 'what', 'obscured', 'in', 'this', 'fair', 'volume', 'lies', 'Find', 'written', 'in', 'the', 'margent', 'of', 'his', 'eyes', '.', 'This', 'precious', 'book', 'of', 'love', ',', 'this', 'unbound', 'lover', ',', 'To', 'beautify', 'him', ',', 'only', 'lacks', 'a', 'cover', ':', 'The', 'fish', 'lives', 'in', 'the', 'sea', ',', 'and', \"'t\", 'is', 'much', 'pride', 'For', 'fair', 'without', 'the', 'fair', 'within', 'to', 'hide', ':', 'That', 'book', 'in', 'many', \"'s\", 'eyes', 'doth', 'share', 'the', 'glory', ',', 'That', 'in', 'gold', 'clasps', 'locks', 'in', 'the', 'golden', 'story', ';', 'So', 'shall', 'you', 'share', 'all', 'that', 'he', 'doth', 'possess', ',', 'By', 'having', 'him', ',', 'making', 'yourself', 'no', 'less', '.', 'Nurse', 'No', 'less', '!', 'nay', ',', 'bigger', ';', 'women', 'grow', 'by', 'men', '.', 'LADY', 'CAPULET', 'Speak', 'briefly', ',', 'can', 'you', 'like', 'of', 'Paris', \"'\", 'love', '?', 'JULIET', 'I', \"'ll\", 'look', 'to', 'like', ',', 'if', 'looking', 'liking', 'move', ':', 'But', 'no', 'more', 'deep', 'will', 'I', 'endart', 'mine', 'eye', 'Than', 'your', 'consent', 'gives', 'strength', 'to', 'make', 'it', 'fly', '.', 'Enter', 'a', 'Servant', 'Servant', 'Madam', ',', 'the', 'guests', 'are', 'come', ',', 'supper', 'served', 'up', ',', 'you', 'called', ',', 'my', 'young', 'lady', 'asked', 'for', ',', 'the', 'nurse', 'cursed', 'in', 'the', 'pantry', ',', 'and', 'every', 'thing', 'in', 'extremity', '.', 'I', 'must', 'hence', 'to', 'wait', ';', 'I', 'beseech', 'you', ',', 'follow', 'straight', '.', 'LADY', 'CAPULET', 'We', 'follow', 'thee', '.', 'Exit', 'Servant', 'Juliet', ',', 'the', 'county', 'stays', '.', 'Nurse', 'Go', ',', 'girl', ',', 'seek', 'happy', 'nights', 'to', 'happy', 'days', '.', 'Exeunt', 'SCENE', 'IV', '.', 'A', 'street', '.', 'Enter', 'ROMEO', ',', 'MERCUTIO', ',', 'BENVOLIO', ',', 'with', 'five', 'or', 'six', 'Maskers', ',', 'Torch-bearers', ',', 'and', 'others', 'ROMEO', 'What', ',', 'shall', 'this', 'speech', 'be', 'spoke', 'for', 'our', 'excuse', '?', 'Or', 'shall', 'we', 'on', 'without', 'a', 'apology', '?', 'BENVOLIO', 'The', 'date', 'is', 'out', 'of', 'such', 'prolixity', ':', 'We', \"'ll\", 'have', 'no', 'Cupid', 'hoodwink', \"'d\", 'with', 'a', 'scarf', ',', 'Bearing', 'a', 'Tartar', \"'s\", 'painted', 'bow', 'of', 'lath', ',', 'Scaring', 'the', 'ladies', 'like', 'a', 'crow-keeper', ';', 'Nor', 'no', 'without-book', 'prologue', ',', 'faintly', 'spoke', 'After', 'the', 'prompter', ',', 'for', 'our', 'entrance', ':', 'But', 'let', 'them', 'measure', 'us', 'by', 'what', 'they', 'will', ';', 'We', \"'ll\", 'measure', 'them', 'a', 'measure', ',', 'and', 'be', 'gone', '.', 'ROMEO', 'Give', 'me', 'a', 'torch', ':', 'I', 'am', 'not', 'for', 'this', 'ambling', ';', 'Being', 'but', 'heavy', ',', 'I', 'will', 'bear', 'the', 'light', '.', 'MERCUTIO', 'Nay', ',', 'gentle', 'Romeo', ',', 'we', 'must', 'have', 'you', 'dance', '.', 'ROMEO', 'Not', 'I', ',', 'believe', 'me', ':', 'you', 'have', 'dancing', 'shoes', 'With', 'nimble', 'soles', ':', 'I', 'have', 'a', 'soul', 'of', 'lead', 'So', 'stakes', 'me', 'to', 'the', 'ground', 'I', 'can', 'not', 'move', '.', 'MERCUTIO', 'You', 'are', 'a', 'lover', ';', 'borrow', 'Cupid', \"'s\", 'wings', ',', 'And', 'soar', 'with', 'them', 'above', 'a', 'common', 'bound', '.', 'ROMEO', 'I', 'am', 'too', 'sore', 'enpierced', 'with', 'his', 'shaft', 'To', 'soar', 'with', 'his', 'light', 'feathers', ',', 'and', 'so', 'bound', ',', 'I', 'can', 'not', 'bound', 'a', 'pitch', 'above', 'dull', 'woe', ':', 'Under', 'love', \"'s\", 'heavy', 'burden', 'do', 'I', 'sink', '.', 'MERCUTIO', 'And', ',', 'to', 'sink', 'in', 'it', ',', 'should', 'you', 'burden', 'love', ';', 'Too', 'great', 'oppression', 'for', 'a', 'tender', 'thing', '.', 'ROMEO', 'Is', 'love', 'a', 'tender', 'thing', '?', 'it', 'is', 'too', 'rough', ',', 'Too', 'rude', ',', 'too', 'boisterous', ',', 'and', 'it', 'pricks', 'like', 'thorn', '.', 'MERCUTIO', 'If', 'love', 'be', 'rough', 'with', 'you', ',', 'be', 'rough', 'with', 'love', ';', 'Prick', 'love', 'for', 'pricking', ',', 'and', 'you', 'beat', 'love', 'down', '.', 'Give', 'me', 'a', 'case', 'to', 'put', 'my', 'visage', 'in', ':', 'A', 'visor', 'for', 'a', 'visor', '!', 'what', 'care', 'I', 'What', 'curious', 'eye', 'doth', 'quote', 'deformities', '?', 'Here', 'are', 'the', 'beetle', 'brows', 'shall', 'blush', 'for', 'me', '.', 'BENVOLIO', 'Come', ',', 'knock', 'and', 'enter', ';', 'and', 'no', 'sooner', 'in', ',', 'But', 'every', 'man', 'betake', 'him', 'to', 'his', 'legs', '.', 'ROMEO', 'A', 'torch', 'for', 'me', ':', 'let', 'wantons', 'light', 'of', 'heart', 'Tickle', 'the', 'senseless', 'rushes', 'with', 'their', 'heels', ',', 'For', 'I', 'am', 'proverb', \"'d\", 'with', 'a', 'grandsire', 'phrase', ';', 'I', \"'ll\", 'be', 'a', 'candle-holder', ',', 'and', 'look', 'on', '.', 'The', 'game', 'was', \"ne'er\", 'so', 'fair', ',', 'and', 'I', 'am', 'done', '.', 'MERCUTIO', 'Tut', ',', 'dun', \"'s\", 'the', 'mouse', ',', 'the', 'constable', \"'s\", 'own', 'word', ':', 'If', 'thou', 'art', 'dun', ',', 'we', \"'ll\", 'draw', 'thee', 'from', 'the', 'mire', 'Of', 'this', 'sir-reverence', 'love', ',', 'wherein', 'thou', \"stick'st\", 'Up', 'to', 'the', 'ears', '.', 'Come', ',', 'we', 'burn', 'daylight', ',', 'ho', '!', 'ROMEO', 'Nay', ',', 'that', \"'s\", 'not', 'so', '.', 'MERCUTIO', 'I', 'mean', ',', 'sir', ',', 'in', 'delay', 'We', 'waste', 'our', 'lights', 'in', 'vain', ',', 'like', 'lamps', 'by', 'day', '.', 'Take', 'our', 'good', 'meaning', ',', 'for', 'our', 'judgment', 'sits', 'Five', 'times', 'in', 'that', 'ere', 'once', 'in', 'our', 'five', 'wits', '.', 'ROMEO', 'And', 'we', 'mean', 'well', 'in', 'going', 'to', 'this', 'mask', ';', 'But', \"'t\", 'is', 'no', 'wit', 'to', 'go', '.', 'MERCUTIO', 'Why', ',', 'may', 'one', 'ask', '?', 'ROMEO', 'I', 'dream', \"'d\", 'a', 'dream', 'to-night', '.', 'MERCUTIO', 'And', 'so', 'did', 'I.', 'ROMEO', 'Well', ',', 'what', 'was', 'yours', '?', 'MERCUTIO', 'That', 'dreamers', 'often', 'lie', '.', 'ROMEO', 'In', 'bed', 'asleep', ',', 'while', 'they', 'do', 'dream', 'things', 'true', '.', 'MERCUTIO', 'O', ',', 'then', ',', 'I', 'see', 'Queen', 'Mab', 'hath', 'been', 'with', 'you', '.', 'She', 'is', 'the', 'fairies', \"'\", 'midwife', ',', 'and', 'she', 'comes', 'In', 'shape', 'no', 'bigger', 'than', 'an', 'agate-stone', 'On', 'the', 'fore-finger', 'of', 'an', 'alderman', ',', 'Drawn', 'with', 'a', 'team', 'of', 'little', 'atomies', 'Athwart', 'men', \"'s\", 'noses', 'as', 'they', 'lie', 'asleep', ';', 'Her', 'wagon-spokes', 'made', 'of', 'long', 'spiders', \"'\", 'legs', ',', 'The', 'cover', 'of', 'the', 'wings', 'of', 'grasshoppers', ',', 'The', 'traces', 'of', 'the', 'smallest', 'spider', \"'s\", 'web', ',', 'The', 'collars', 'of', 'the', 'moonshine', \"'s\", 'watery', 'beams', ',', 'Her', 'whip', 'of', 'cricket', \"'s\", 'bone', ',', 'the', 'lash', 'of', 'film', ',', 'Her', 'wagoner', 'a', 'small', 'grey-coated', 'gnat', ',', 'Not', 'so', 'big', 'as', 'a', 'round', 'little', 'worm', 'Prick', \"'d\", 'from', 'the', 'lazy', 'finger', 'of', 'a', 'maid', ';', 'Her', 'chariot', 'is', 'an', 'empty', 'hazel-nut', 'Made', 'by', 'the', 'joiner', 'squirrel', 'or', 'old', 'grub', ',', 'Time', 'out', 'o', \"'\", 'mind', 'the', 'fairies', \"'\", 'coachmakers', '.', 'And', 'in', 'this', 'state', 'she', 'gallops', 'night', 'by', 'night', 'Through', 'lovers', \"'\", 'brains', ',', 'and', 'then', 'they', 'dream', 'of', 'love', ';', \"O'er\", 'courtiers', \"'\", 'knees', ',', 'that', 'dream', 'on', \"court'sies\", 'straight', ',', \"O'er\", 'lawyers', \"'\", 'fingers', ',', 'who', 'straight', 'dream', 'on', 'fees', ',', \"O'er\", 'ladies', \"'\", 'lips', ',', 'who', 'straight', 'on', 'kisses', 'dream', ',', 'Which', 'oft', 'the', 'angry', 'Mab', 'with', 'blisters', 'plagues', ',', 'Because', 'their', 'breaths', 'with', 'sweetmeats', 'tainted', 'are', ':', 'Sometime', 'she', 'gallops', \"o'er\", 'a', 'courtier', \"'s\", 'nose', ',', 'And', 'then', 'dreams', 'he', 'of', 'smelling', 'out', 'a', 'suit', ';', 'And', 'sometime', 'comes', 'she', 'with', 'a', 'tithe-pig', \"'s\", 'tail', 'Tickling', 'a', 'parson', \"'s\", 'nose', 'as', 'a', \"'\", 'lies', 'asleep', ',', 'Then', 'dreams', ',', 'he', 'of', 'another', 'benefice', ':', 'Sometime', 'she', 'driveth', \"o'er\", 'a', 'soldier', \"'s\", 'neck', ',', 'And', 'then', 'dreams', 'he', 'of', 'cutting', 'foreign', 'throats', ',', 'Of', 'breaches', ',', 'ambuscadoes', ',', 'Spanish', 'blades', ',', 'Of', 'healths', 'five-fathom', 'deep', ';', 'and', 'then', 'anon', 'Drums', 'in', 'his', 'ear', ',', 'at', 'which', 'he', 'starts', 'and', 'wakes', ',', 'And', 'being', 'thus', 'frighted', 'swears', 'a', 'prayer', 'or', 'two', 'And', 'sleeps', 'again', '.', 'This', 'is', 'that', 'very', 'Mab', 'That', 'plats', 'the', 'manes', 'of', 'horses', 'in', 'the', 'night', ',', 'And', 'bakes', 'the', 'elflocks', 'in', 'foul', 'sluttish', 'hairs', ',', 'Which', 'once', 'untangled', ',', 'much', 'misfortune', 'bodes', ':', 'This', 'is', 'the', 'hag', ',', 'when', 'maids', 'lie', 'on', 'their', 'backs', ',', 'That', 'presses', 'them', 'and', 'learns', 'them', 'first', 'to', 'bear', ',', 'Making', 'them', 'women', 'of', 'good', 'carriage', ':', 'This', 'is', 'she', '--', 'ROMEO', 'Peace', ',', 'peace', ',', 'Mercutio', ',', 'peace', '!', 'Thou', \"talk'st\", 'of', 'nothing', '.', 'MERCUTIO', 'True', ',', 'I', 'talk', 'of', 'dreams', ',', 'Which', 'are', 'the', 'children', 'of', 'an', 'idle', 'brain', ',', 'Begot', 'of', 'nothing', 'but', 'vain', 'fantasy', ',', 'Which', 'is', 'as', 'thin', 'of', 'substance', 'as', 'the', 'air', 'And', 'more', 'inconstant', 'than', 'the', 'wind', ',', 'who', 'wooes', 'Even', 'now', 'the', 'frozen', 'bosom', 'of', 'the', 'north', ',', 'And', ',', 'being', 'anger', \"'d\", ',', 'puffs', 'away', 'from', 'thence', ',', 'Turning', 'his', 'face', 'to', 'the', 'dew-dropping', 'south', '.', 'BENVOLIO', 'This', 'wind', ',', 'you', 'talk', 'of', ',', 'blows', 'us', 'from', 'ourselves', ';', 'Supper', 'is', 'done', ',', 'and', 'we', 'shall', 'come', 'too', 'late', '.', 'ROMEO', 'I', 'fear', ',', 'too', 'early', ':', 'for', 'my', 'mind', 'misgives', 'Some', 'consequence', 'yet', 'hanging', 'in', 'the', 'stars', 'Shall', 'bitterly', 'begin', 'his', 'fearful', 'date', 'With', 'this', 'night', \"'s\", 'revels', 'and', 'expire', 'the', 'term', 'Of', 'a', 'despised', 'life', 'closed', 'in', 'my', 'breast', 'By', 'some', 'vile', 'forfeit', 'of', 'untimely', 'death', '.', 'But', 'He', ',', 'that', 'hath', 'the', 'steerage', 'of', 'my', 'course', ',', 'Direct', 'my', 'sail', '!', 'On', ',', 'lusty', 'gentlemen', '.', 'BENVOLIO', 'Strike', ',', 'drum', '.', 'Exeunt', 'SCENE', 'V.', 'A', 'hall', 'in', 'Capulet', \"'s\", 'house', '.', 'Musicians', 'waiting', '.', 'Enter', 'Servingmen', 'with', 'napkins', 'First', 'Servant', 'Where', \"'s\", 'Potpan', ',', 'that', 'he', 'helps', 'not', 'to', 'take', 'away', '?', 'He', 'shift', 'a', 'trencher', '?', 'he', 'scrape', 'a', 'trencher', '!', 'Second', 'Servant', 'When', 'good', 'manners', 'shall', 'lie', 'all', 'in', 'one', 'or', 'two', \"men's\", 'hands', 'and', 'they', 'unwashed', 'too', ',', \"'t\", 'is', 'a', 'foul', 'thing', '.', 'First', 'Servant', 'Away', 'with', 'the', 'joint-stools', ',', 'remove', 'the', 'court-cupboard', ',', 'look', 'to', 'the', 'plate', '.', 'Good', 'thou', ',', 'save', 'me', 'a', 'piece', 'of', 'marchpane', ';', 'and', ',', 'as', 'thou', 'lovest', 'me', ',', 'let', 'the', 'porter', 'let', 'in', 'Susan', 'Grindstone', 'and', 'Nell', '.', 'Antony', ',', 'and', 'Potpan', '!', 'Second', 'Servant', 'Ay', ',', 'boy', ',', 'ready', '.', 'First', 'Servant', 'You', 'are', 'looked', 'for', 'and', 'called', 'for', ',', 'asked', 'for', 'and', 'sought', 'for', ',', 'in', 'the', 'great', 'chamber', '.', 'Second', 'Servant', 'We', 'can', 'not', 'be', 'here', 'and', 'there', 'too', '.', 'Cheerly', ',', 'boys', ';', 'be', 'brisk', 'awhile', ',', 'and', 'the', 'longer', 'liver', 'take', 'all', '.', 'Enter', 'CAPULET', ',', 'with', 'JULIET', 'and', 'others', 'of', 'his', 'house', ',', 'meeting', 'the', 'Guests', 'and', 'Maskers', 'CAPULET', 'Welcome', ',', 'gentlemen', '!', 'ladies', 'that', 'have', 'their', 'toes', 'Unplagued', 'with', 'corns', 'will', 'have', 'a', 'bout', 'with', 'you', '.', 'Ah', 'ha', ',', 'my', 'mistresses', '!', 'which', 'of', 'you', 'all', 'Will', 'now', 'deny', 'to', 'dance', '?', 'she', 'that', 'makes', 'dainty', ',', 'She', ',', 'I', \"'ll\", 'swear', ',', 'hath', 'corns', ';', 'am', 'I', 'come', 'near', 'ye', 'now', '?', 'Welcome', ',', 'gentlemen', '!', 'I', 'have', 'seen', 'the', 'day', 'That', 'I', 'have', 'worn', 'a', 'visor', 'and', 'could', 'tell', 'A', 'whispering', 'tale', 'in', 'a', 'fair', 'lady', \"'s\", 'ear', ',', 'Such', 'as', 'would', 'please', ':', \"'t\", 'is', 'gone', ',', \"'t\", 'is', 'gone', ',', \"'t\", 'is', 'gone', ':', 'You', 'are', 'welcome', ',', 'gentlemen', '!', 'come', ',', 'musicians', ',', 'play', '.', 'A', 'hall', ',', 'a', 'hall', '!', 'give', 'room', '!', 'and', 'foot', 'it', ',', 'girls', '.', 'Music', 'plays', ',', 'and', 'they', 'dance', 'More', 'light', ',', 'you', 'knaves', ';', 'and', 'turn', 'the', 'tables', 'up', ',', 'And', 'quench', 'the', 'fire', ',', 'the', 'room', 'is', 'grown', 'too', 'hot', '.', 'Ah', ',', 'sirrah', ',', 'this', \"unlook'd-for\", 'sport', 'comes', 'well', '.', 'Nay', ',', 'sit', ',', 'nay', ',', 'sit', ',', 'good', 'cousin', 'Capulet', ';', 'For', 'you', 'and', 'I', 'are', 'past', 'our', 'dancing', 'days', ':', 'How', 'long', \"is't\", 'now', 'since', 'last', 'yourself', 'and', 'I', 'Were', 'in', 'a', 'mask', '?', 'Second', 'Capulet', 'By', \"'\", 'r', 'lady', ',', 'thirty', 'years', '.', 'CAPULET', 'What', ',', 'man', '!', \"'t\", 'is', 'not', 'so', 'much', ',', \"'t\", 'is', 'not', 'so', 'much', ':', \"'Tis\", 'since', 'the', 'nuptials', 'of', 'Lucentio', ',', 'Come', 'pentecost', 'as', 'quickly', 'as', 'it', 'will', ',', 'Some', 'five', 'and', 'twenty', 'years', ';', 'and', 'then', 'we', 'mask', \"'d\", '.', 'Second', 'Capulet', \"'Tis\", 'more', ',', \"'t\", 'is', 'more', ',', 'his', 'son', 'is', 'elder', ',', 'sir', ';', 'His', 'son', 'is', 'thirty', '.', 'CAPULET', 'Will', 'you', 'tell', 'me', 'that', '?', 'His', 'son', 'was', 'but', 'a', 'ward', 'two', 'years', 'ago', '.', 'ROMEO', '[', 'To', 'a', 'Servingman', ']', 'What', 'lady', 'is', 'that', ',', 'which', 'doth', 'enrich', 'the', 'hand', 'Of', 'yonder', 'knight', '?', 'Servant', 'I', 'know', 'not', ',', 'sir', '.', 'ROMEO', 'O', ',', 'she', 'doth', 'teach', 'the', 'torches', 'to', 'burn', 'bright', '!', 'It', 'seems', 'she', 'hangs', 'upon', 'the', 'cheek', 'of', 'night', 'Like', 'a', 'rich', 'jewel', 'in', 'an', 'Ethiope', \"'s\", 'ear', ';', 'Beauty', 'too', 'rich', 'for', 'use', ',', 'for', 'earth', 'too', 'dear', '!', 'So', 'shows', 'a', 'snowy', 'dove', 'trooping', 'with', 'crows', ',', 'As', 'yonder', 'lady', \"o'er\", 'her', 'fellows', 'shows', '.', 'The', 'measure', 'done', ',', 'I', \"'ll\", 'watch', 'her', 'place', 'of', 'stand', ',', 'And', ',', 'touching', 'hers', ',', 'make', 'blessed', 'my', 'rude', 'hand', '.', 'Did', 'my', 'heart', 'love', 'till', 'now', '?', 'forswear', 'it', ',', 'sight', '!', 'For', 'I', \"ne'er\", 'saw', 'true', 'beauty', 'till', 'this', 'night', '.', 'TYBALT', 'This', ',', 'by', 'his', 'voice', ',', 'should', 'be', 'a', 'Montague', '.', 'Fetch', 'me', 'my', 'rapier', ',', 'boy', '.', 'What', 'dares', 'the', 'slave', 'Come', 'hither', ',', 'cover', \"'d\", 'with', 'an', 'antic', 'face', ',', 'To', 'fleer', 'and', 'scorn', 'at', 'our', 'solemnity', '?', 'Now', ',', 'by', 'the', 'stock', 'and', 'honour', 'of', 'my', 'kin', ',', 'To', 'strike', 'him', 'dead', ',', 'I', 'hold', 'it', 'not', 'a', 'sin', '.', 'CAPULET', 'Why', ',', 'how', 'now', ',', 'kinsman', '!', 'wherefore', 'storm', 'you', 'so', '?', 'TYBALT', 'Uncle', ',', 'this', 'is', 'a', 'Montague', ',', 'our', 'foe', ',', 'A', 'villain', 'that', 'is', 'hither', 'come', 'in', 'spite', ',', 'To', 'scorn', 'at', 'our', 'solemnity', 'this', 'night', '.', 'CAPULET', 'Young', 'Romeo', 'is', 'it', '?', 'TYBALT', \"'Tis\", 'he', ',', 'that', 'villain', 'Romeo', '.', 'CAPULET', 'Content', 'thee', ',', 'gentle', 'coz', ',', 'let', 'him', 'alone', ';', 'He', 'bears', 'him', 'like', 'a', 'portly', 'gentleman', ';', 'And', ',', 'to', 'say', 'truth', ',', 'Verona', 'brags', 'of', 'him', 'To', 'be', 'a', 'virtuous', 'and', 'well-govern', \"'d\", 'youth', ':', 'I', 'would', 'not', 'for', 'the', 'wealth', 'of', 'all', 'the', 'town', 'Here', 'in', 'my', 'house', 'do', 'him', 'disparagement', ':', 'Therefore', 'be', 'patient', ',', 'take', 'no', 'note', 'of', 'him', ':', 'It', 'is', 'my', 'will', ',', 'the', 'which', 'if', 'thou', 'respect', ',', 'Show', 'a', 'fair', 'presence', 'and', 'put', 'off', 'these', 'frowns', ',', 'And', 'ill-beseeming', 'semblance', 'for', 'a', 'feast', '.', 'TYBALT', 'It', 'fits', ',', 'when', 'such', 'a', 'villain', 'is', 'a', 'guest', ':', 'I', \"'ll\", 'not', 'endure', 'him', '.', 'CAPULET', 'He', 'shall', 'be', 'endured', ':', 'What', ',', 'goodman', 'boy', '!', 'I', 'say', ',', 'he', 'shall', ':', 'go', 'to', ';', 'Am', 'I', 'the', 'master', 'here', ',', 'or', 'you', '?', 'go', 'to', '.', 'You', \"'ll\", 'not', 'endure', 'him', '!', 'God', 'shall', 'mend', 'my', 'soul', '!', 'You', \"'ll\", 'make', 'a', 'mutiny', 'among', 'my', 'guests', '!', 'You', 'will', 'set', 'cock-a-hoop', '!', 'you', \"'ll\", 'be', 'the', 'man', '!', 'TYBALT', 'Why', ',', 'uncle', ',', \"'t\", 'is', 'a', 'shame', '.', 'CAPULET', 'Go', 'to', ',', 'go', 'to', ';', 'You', 'are', 'a', 'saucy', 'boy', ':', \"is't\", 'so', ',', 'indeed', '?', 'This', 'trick', 'may', 'chance', 'to', 'scathe', 'you', ',', 'I', 'know', 'what', ':', 'You', 'must', 'contrary', 'me', '!', 'marry', ',', \"'t\", 'is', 'time', '.', 'Well', 'said', ',', 'my', 'hearts', '!', 'You', 'are', 'a', 'princox', ';', 'go', ':', 'Be', 'quiet', ',', 'or', '--', 'More', 'light', ',', 'more', 'light', '!', 'For', 'shame', '!', 'I', \"'ll\", 'make', 'you', 'quiet', '.', 'What', ',', 'cheerly', ',', 'my', 'hearts', '!', 'TYBALT', 'Patience', 'perforce', 'with', 'wilful', 'choler', 'meeting', 'Makes', 'my', 'flesh', 'tremble', 'in', 'their', 'different', 'greeting', '.', 'I', 'will', 'withdraw', ':', 'but', 'this', 'intrusion', 'shall', 'Now', 'seeming', 'sweet', 'convert', 'to', 'bitter', 'gall', '.', 'Exit', 'ROMEO', '[', 'To', 'JULIET', ']', 'If', 'I', 'profane', 'with', 'my', 'unworthiest', 'hand', 'This', 'holy', 'shrine', ',', 'the', 'gentle', 'fine', 'is', 'this', ':', 'My', 'lips', ',', 'two', 'blushing', 'pilgrims', ',', 'ready', 'stand', 'To', 'smooth', 'that', 'rough', 'touch', 'with', 'a', 'tender', 'kiss', '.', 'JULIET', 'Good', 'pilgrim', ',', 'you', 'do', 'wrong', 'your', 'hand', 'too', 'much', ',', 'Which', 'mannerly', 'devotion', 'shows', 'in', 'this', ';', 'For', 'saints', 'have', 'hands', 'that', 'pilgrims', \"'\", 'hands', 'do', 'touch', ',', 'And', 'palm', 'to', 'palm', 'is', 'holy', 'palmers', \"'\", 'kiss', '.', 'ROMEO', 'Have', 'not', 'saints', 'lips', ',', 'and', 'holy', 'palmers', 'too', '?', 'JULIET', 'Ay', ',', 'pilgrim', ',', 'lips', 'that', 'they', 'must', 'use', 'in', 'prayer', '.', 'ROMEO', 'O', ',', 'then', ',', 'dear', 'saint', ',', 'let', 'lips', 'do', 'what', 'hands', 'do', ';', 'They', 'pray', ',', 'grant', 'thou', ',', 'lest', 'faith', 'turn', 'to', 'despair', '.', 'JULIET', 'Saints', 'do', 'not', 'move', ',', 'though', 'grant', 'for', 'prayers', \"'\", 'sake', '.', 'ROMEO', 'Then', 'move', 'not', ',', 'while', 'my', 'prayer', \"'s\", 'effect', 'I', 'take', '.', 'Thus', 'from', 'my', 'lips', ',', 'by', 'yours', ',', 'my', 'sin', 'is', 'purged', '.', 'JULIET', 'Then', 'have', 'my', 'lips', 'the', 'sin', 'that', 'they', 'have', 'took', '.', 'ROMEO', 'Sin', 'from', 'thy', 'lips', '?', 'O', 'trespass', 'sweetly', 'urged', '!', 'Give', 'me', 'my', 'sin', 'again', '.', 'JULIET', 'You', 'kiss', 'by', 'the', 'book', '.', 'Nurse', 'Madam', ',', 'your', 'mother', 'craves', 'a', 'word', 'with', 'you', '.', 'ROMEO', 'What', 'is', 'her', 'mother', '?', 'Nurse', 'Marry', ',', 'bachelor', ',', 'Her', 'mother', 'is', 'the', 'lady', 'of', 'the', 'house', ',', 'And', 'a', 'good', 'lady', ',', 'and', 'a', 'wise', 'and', 'virtuous', 'I', 'nursed', 'her', 'daughter', ',', 'that', 'you', 'talk', \"'d\", 'withal', ';', 'I', 'tell', 'you', ',', 'he', 'that', 'can', 'lay', 'hold', 'of', 'her', 'Shall', 'have', 'the', 'chinks', '.', 'ROMEO', 'Is', 'she', 'a', 'Capulet', '?', 'O', 'dear', 'account', '!', 'my', 'life', 'is', 'my', 'foe', \"'s\", 'debt', '.', 'BENVOLIO', 'Away', ',', 'begone', ';', 'the', 'sport', 'is', 'at', 'the', 'best', '.', 'ROMEO', 'Ay', ',', 'so', 'I', 'fear', ';', 'the', 'more', 'is', 'my', 'unrest', '.', 'CAPULET', 'Nay', ',', 'gentlemen', ',', 'prepare', 'not', 'to', 'be', 'gone', ';', 'We', 'have', 'a', 'trifling', 'foolish', 'banquet', 'towards', '.', 'Is', 'it', \"e'en\", 'so', '?', 'why', ',', 'then', ',', 'I', 'thank', 'you', 'all', 'I', 'thank', 'you', ',', 'honest', 'gentlemen', ';', 'good', 'night', '.', 'More', 'torches', 'here', '!', 'Come', 'on', 'then', ',', 'let', \"'s\", 'to', 'bed', '.', 'Ah', ',', 'sirrah', ',', 'by', 'my', 'fay', ',', 'it', 'waxes', 'late', ':', 'I', \"'ll\", 'to', 'my', 'rest', '.', 'Exeunt', 'all', 'but', 'JULIET', 'and', 'Nurse', 'JULIET', 'Come', 'hither', ',', 'nurse', '.', 'What', 'is', 'yond', 'gentleman', '?', 'Nurse', 'The', 'son', 'and', 'heir', 'of', 'old', 'Tiberio', '.', 'JULIET', 'What', \"'s\", 'he', 'that', 'now', 'is', 'going', 'out', 'of', 'door', '?', 'Nurse', 'Marry', ',', 'that', ',', 'I', 'think', ',', 'be', 'young', 'Petrucio', '.', 'JULIET', 'What', \"'s\", 'he', 'that', 'follows', 'there', ',', 'that', 'would', 'not', 'dance', '?', 'Nurse', 'I', 'know', 'not', '.', 'JULIET', 'Go', 'ask', 'his', 'name', ':', 'if', 'he', 'be', 'married', '.', 'My', 'grave', 'is', 'like', 'to', 'be', 'my', 'wedding', 'bed', '.', 'Nurse', 'His', 'name', 'is', 'Romeo', ',', 'and', 'a', 'Montague', ';', 'The', 'only', 'son', 'of', 'your', 'great', 'enemy', '.', 'JULIET', 'My', 'only', 'love', 'sprung', 'from', 'my', 'only', 'hate', '!', 'Too', 'early', 'seen', 'unknown', ',', 'and', 'known', 'too', 'late', '!', 'Prodigious', 'birth', 'of', 'love', 'it', 'is', 'to', 'me', ',', 'That', 'I', 'must', 'love', 'a', 'loathed', 'enemy', '.', 'Nurse', 'What', \"'s\", 'this', '?', 'what', \"'s\", 'this', '?', 'JULIET', 'A', 'rhyme', 'I', 'learn', \"'d\", 'even', 'now', 'Of', 'one', 'I', 'danced', 'withal', '.', 'One', 'calls', 'within', \"'Juliet\", '.', \"'\", 'Nurse', 'Anon', ',', 'anon', '!', 'Come', ',', 'let', \"'s\", 'away', ';', 'the', 'strangers', 'all', 'are', 'gone', '.', 'Exeunt', 'ACT', 'II', 'PROLOGUE', 'Enter', 'Chorus', 'Chorus', 'Now', 'old', 'desire', 'doth', 'in', 'his', 'death-bed', 'lie', ',', 'And', 'young', 'affection', 'gapes', 'to', 'be', 'his', 'heir', ';', 'That', 'fair', 'for', 'which', 'love', 'groan', \"'d\", 'for', 'and', 'would', 'die', ',', 'With', 'tender', 'Juliet', 'match', \"'d\", ',', 'is', 'now', 'not', 'fair', '.', 'Now', 'Romeo', 'is', 'beloved', 'and', 'loves', 'again', ',', 'Alike', 'betwitched', 'by', 'the', 'charm', 'of', 'looks', ',', 'But', 'to', 'his', 'foe', 'supposed', 'he', 'must', 'complain', ',', 'And', 'she', 'steal', 'love', \"'s\", 'sweet', 'bait', 'from', 'fearful', 'hooks', ':', 'Being', 'held', 'a', 'foe', ',', 'he', 'may', 'not', 'have', 'access', 'To', 'breathe', 'such', 'vows', 'as', 'lovers', 'use', 'to', 'swear', ';', 'And', 'she', 'as', 'much', 'in', 'love', ',', 'her', 'means', 'much', 'less', 'To', 'meet', 'her', 'new-beloved', 'any', 'where', ':', 'But', 'passion', 'lends', 'them', 'power', ',', 'time', 'means', ',', 'to', 'meet', 'Tempering', 'extremities', 'with', 'extreme', 'sweet', '.', 'Exit', 'SCENE', 'I', '.', 'A', 'lane', 'by', 'the', 'wall', 'of', 'Capulet', \"'s\", 'orchard', '.', 'Enter', 'ROMEO', 'ROMEO', 'Can', 'I', 'go', 'forward', 'when', 'my', 'heart', 'is', 'here', '?', 'Turn', 'back', ',', 'dull', 'earth', ',', 'and', 'find', 'thy', 'centre', 'out', '.', 'He', 'climbs', 'the', 'wall', ',', 'and', 'leaps', 'down', 'within', 'it', 'Enter', 'BENVOLIO', 'and', 'MERCUTIO', 'BENVOLIO', 'Romeo', '!', 'my', 'cousin', 'Romeo', '!', 'MERCUTIO', 'He', 'is', 'wise', ';', 'And', ',', 'on', 'my', 'lie', ',', 'hath', 'stol', \"'\", 'n', 'him', 'home', 'to', 'bed', '.', 'BENVOLIO', 'He', 'ran', 'this', 'way', ',', 'and', 'leap', \"'d\", 'this', 'orchard', 'wall', ':', 'Call', ',', 'good', 'Mercutio', '.', 'MERCUTIO', 'Nay', ',', 'I', \"'ll\", 'conjure', 'too', '.', 'Romeo', '!', 'humours', '!', 'madman', '!', 'passion', '!', 'lover', '!', 'Appear', 'thou', 'in', 'the', 'likeness', 'of', 'a', 'sigh', ':', 'Speak', 'but', 'one', 'rhyme', ',', 'and', 'I', 'am', 'satisfied', ';', 'Cry', 'but', \"'Ay\", 'me', '!', \"'\", 'pronounce', 'but', \"'love\", \"'\", 'and', \"'dove\", ';', \"'\", 'Speak', 'to', 'my', 'gossip', 'Venus', 'one', 'fair', 'word', ',', 'One', 'nick-name', 'for', 'her', 'purblind', 'son', 'and', 'heir', ',', 'Young', 'Adam', 'Cupid', ',', 'he', 'that', 'shot', 'so', 'trim', ',', 'When', 'King', 'Cophetua', 'loved', 'the', 'beggar-maid', '!', 'He', 'heareth', 'not', ',', 'he', 'stirreth', 'not', ',', 'he', 'moveth', 'not', ';', 'The', 'ape', 'is', 'dead', ',', 'and', 'I', 'must', 'conjure', 'him', '.', 'I', 'conjure', 'thee', 'by', 'Rosaline', \"'s\", 'bright', 'eyes', ',', 'By', 'her', 'high', 'forehead', 'and', 'her', 'scarlet', 'lip', ',', 'By', 'her', 'fine', 'foot', ',', 'straight', 'leg', 'and', 'quivering', 'thigh', 'And', 'the', 'demesnes', 'that', 'there', 'adjacent', 'lie', ',', 'That', 'in', 'thy', 'likeness', 'thou', 'appear', 'to', 'us', '!', 'BENVOLIO', 'And', 'if', 'he', 'hear', 'thee', ',', 'thou', 'wilt', 'anger', 'him', '.', 'MERCUTIO', 'This', 'can', 'not', 'anger', 'him', ':', \"'twould\", 'anger', 'him', 'To', 'raise', 'a', 'spirit', 'in', 'his', 'mistress', \"'\", 'circle', 'Of', 'some', 'strange', 'nature', ',', 'letting', 'it', 'there', 'stand', 'Till', 'she', 'had', 'laid', 'it', 'and', 'conjured', 'it', 'down', ';', 'That', 'were', 'some', 'spite', ':', 'my', 'invocation', 'Is', 'fair', 'and', 'honest', ',', 'and', 'in', 'his', 'mistres', 's', \"'\", 'name', 'I', 'conjure', 'only', 'but', 'to', 'raise', 'up', 'him', '.', 'BENVOLIO', 'Come', ',', 'he', 'hath', 'hid', 'himself', 'among', 'these', 'trees', ',', 'To', 'be', 'consorted', 'with', 'the', 'humorous', 'night', ':', 'Blind', 'is', 'his', 'love', 'and', 'best', 'befits', 'the', 'dark', '.', 'MERCUTIO', 'If', 'love', 'be', 'blind', ',', 'love', 'can', 'not', 'hit', 'the', 'mark', '.', 'Now', 'will', 'he', 'sit', 'under', 'a', 'medlar', 'tree', ',', 'And', 'wish', 'his', 'mistress', 'were', 'that', 'kind', 'of', 'fruit', 'As', 'maids', 'call', 'medlars', ',', 'when', 'they', 'laugh', 'alone', '.', 'Romeo', ',', 'that', 'she', 'were', ',', 'O', ',', 'that', 'she', 'were', 'An', 'open', 'et', 'caetera', ',', 'thou', 'a', 'poperin', 'pear', '!', 'Romeo', ',', 'good', 'night', ':', 'I', \"'ll\", 'to', 'my', 'truckle-bed', ';', 'This', 'field-bed', 'is', 'too', 'cold', 'for', 'me', 'to', 'sleep', ':', 'Come', ',', 'shall', 'we', 'go', '?', 'BENVOLIO', 'Go', ',', 'then', ';', 'for', \"'t\", 'is', 'in', 'vain', 'To', 'seek', 'him', 'here', 'that', 'means', 'not', 'to', 'be', 'found', '.', 'Exeunt', 'SCENE', 'II', '.', 'Capulet', \"'s\", 'orchard', '.', 'Enter', 'ROMEO', 'ROMEO', 'He', 'jests', 'at', 'scars', 'that', 'never', 'felt', 'a', 'wound', '.', 'JULIET', 'appears', 'above', 'at', 'a', 'window', 'But', ',', 'soft', '!', 'what', 'light', 'through', 'yonder', 'window', 'breaks', '?', 'It', 'is', 'the', 'east', ',', 'and', 'Juliet', 'is', 'the', 'sun', '.', 'Arise', ',', 'fair', 'sun', ',', 'and', 'kill', 'the', 'envious', 'moon', ',', 'Who', 'is', 'already', 'sick', 'and', 'pale', 'with', 'grief', ',', 'That', 'thou', 'her', 'maid', 'art', 'far', 'more', 'fair', 'than', 'she', ':', 'Be', 'not', 'her', 'maid', ',', 'since', 'she', 'is', 'envious', ';', 'Her', 'vestal', 'livery', 'is', 'but', 'sick', 'and', 'green', 'And', 'none', 'but', 'fools', 'do', 'wear', 'it', ';', 'cast', 'it', 'off', '.', 'It', 'is', 'my', 'lady', ',', 'O', ',', 'it', 'is', 'my', 'love', '!', 'O', ',', 'that', 'she', 'knew', 'she', 'were', '!', 'She', 'speaks', 'yet', 'she', 'says', 'nothing', ':', 'what', 'of', 'that', '?', 'Her', 'eye', 'discourses', ';', 'I', 'will', 'answer', 'it', '.', 'I', 'am', 'too', 'bold', ',', \"'t\", 'is', 'not', 'to', 'me', 'she', 'speaks', ':', 'Two', 'of', 'the', 'fairest', 'stars', 'in', 'all', 'the', 'heaven', ',', 'Having', 'some', 'business', ',', 'do', 'entreat', 'her', 'eyes', 'To', 'twinkle', 'in', 'their', 'spheres', 'till', 'they', 'return', '.', 'What', 'if', 'her', 'eyes', 'were', 'there', ',', 'they', 'in', 'her', 'head', '?', 'The', 'brightness', 'of', 'her', 'cheek', 'would', 'shame', 'those', 'stars', ',', 'As', 'daylight', 'doth', 'a', 'lamp', ';', 'her', 'eyes', 'in', 'heaven', 'Would', 'through', 'the', 'airy', 'region', 'stream', 'so', 'bright', 'That', 'birds', 'would', 'sing', 'and', 'think', 'it', 'were', 'not', 'night', '.', 'See', ',', 'how', 'she', 'leans', 'her', 'cheek', 'upon', 'her', 'hand', '!', 'O', ',', 'that', 'I', 'were', 'a', 'glove', 'upon', 'that', 'hand', ',', 'That', 'I', 'might', 'touch', 'that', 'cheek', '!', 'JULIET', 'Ay', 'me', '!', 'ROMEO', 'She', 'speaks', ':', 'O', ',', 'speak', 'again', ',', 'bright', 'angel', '!', 'for', 'thou', 'art', 'As', 'glorious', 'to', 'this', 'night', ',', 'being', \"o'er\", 'my', 'head', 'As', 'is', 'a', 'winged', 'messenger', 'of', 'heaven', 'Unto', 'the', 'white-upturned', 'wondering', 'eyes', 'Of', 'mortals', 'that', 'fall', 'back', 'to', 'gaze', 'on', 'him', 'When', 'he', 'bestrides', 'the', 'lazy-pacing', 'clouds', 'And', 'sails', 'upon', 'the', 'bosom', 'of', 'the', 'air', '.', 'JULIET', 'O', 'Romeo', ',', 'Romeo', '!', 'wherefore', 'art', 'thou', 'Romeo', '?', 'Deny', 'thy', 'father', 'and', 'refuse', 'thy', 'name', ';', 'Or', ',', 'if', 'thou', 'wilt', 'not', ',', 'be', 'but', 'sworn', 'my', 'love', ',', 'And', 'I', \"'ll\", 'no', 'longer', 'be', 'a', 'Capulet', '.', 'ROMEO', '[', 'Aside', ']', 'Shall', 'I', 'hear', 'more', ',', 'or', 'shall', 'I', 'speak', 'at', 'this', '?', 'JULIET', \"'Tis\", 'but', 'thy', 'name', 'that', 'is', 'my', 'enemy', ';', 'Thou', 'art', 'thyself', ',', 'though', 'not', 'a', 'Montague', '.', 'What', \"'s\", 'Montague', '?', 'it', 'is', 'nor', 'hand', ',', 'nor', 'foot', ',', 'Nor', 'arm', ',', 'nor', 'face', ',', 'nor', 'any', 'other', 'part', 'Belonging', 'to', 'a', 'man', '.', 'O', ',', 'be', 'some', 'other', 'name', '!', 'What', \"'s\", 'in', 'a', 'name', '?', 'that', 'which', 'we', 'call', 'a', 'rose', 'By', 'any', 'other', 'name', 'would', 'smell', 'as', 'sweet', ';', 'So', 'Romeo', 'would', ',', 'were', 'he', 'not', 'Romeo', 'call', \"'d\", ',', 'Retain', 'that', 'dear', 'perfection', 'which', 'he', 'owes', 'Without', 'that', 'title', '.', 'Romeo', ',', 'doff', 'thy', 'name', ',', 'And', 'for', 'that', 'name', 'which', 'is', 'no', 'part', 'of', 'thee', 'Take', 'all', 'myself', '.', 'ROMEO', 'I', 'take', 'thee', 'at', 'thy', 'word', ':', 'Call', 'me', 'but', 'love', ',', 'and', 'I', \"'ll\", 'be', 'new', 'baptized', ';', 'Henceforth', 'I', 'never', 'will', 'be', 'Romeo', '.', 'JULIET', 'What', 'man', 'art', 'thou', 'that', 'thus', 'bescreen', \"'d\", 'in', 'night', 'So', 'stumblest', 'on', 'my', 'counsel', '?', 'ROMEO', 'By', 'a', 'name', 'I', 'know', 'not', 'how', 'to', 'tell', 'thee', 'who', 'I', 'am', ':', 'My', 'name', ',', 'dear', 'saint', ',', 'is', 'hateful', 'to', 'myself', ',', 'Because', 'it', 'is', 'an', 'enemy', 'to', 'thee', ';', 'Had', 'I', 'it', 'written', ',', 'I', 'would', 'tear', 'the', 'word', '.', 'JULIET', 'My', 'ears', 'have', 'not', 'yet', 'drunk', 'a', 'hundred', 'words', 'Of', 'that', 'tongue', \"'s\", 'utterance', ',', 'yet', 'I', 'know', 'the', 'sound', ':', 'Art', 'thou', 'not', 'Romeo', 'and', 'a', 'Montague', '?', 'ROMEO', 'Neither', ',', 'fair', 'saint', ',', 'if', 'either', 'thee', 'dislike', '.', 'JULIET', 'How', 'camest', 'thou', 'hither', ',', 'tell', 'me', ',', 'and', 'wherefore', '?', 'The', 'orchard', 'walls', 'are', 'high', 'and', 'hard', 'to', 'climb', ',', 'And', 'the', 'place', 'death', ',', 'considering', 'who', 'thou', 'art', ',', 'If', 'any', 'of', 'my', 'kinsmen', 'find', 'thee', 'here', '.', 'ROMEO', 'With', 'love', \"'s\", 'light', 'wings', 'did', 'I', \"o'er-perch\", 'these', 'walls', ';', 'For', 'stony', 'limits', 'can', 'not', 'hold', 'love', 'out', ',', 'And', 'what', 'love', 'can', 'do', 'that', 'dares', 'love', 'attempt', ';', 'Therefore', 'thy', 'kinsmen', 'are', 'no', 'let', 'to', 'me', '.', 'JULIET', 'If', 'they', 'do', 'see', 'thee', ',', 'they', 'will', 'murder', 'thee', '.', 'ROMEO', 'Alack', ',', 'there', 'lies', 'more', 'peril', 'in', 'thine', 'eye', 'Than', 'twenty', 'of', 'their', 'swords', ':', 'look', 'thou', 'but', 'sweet', ',', 'And', 'I', 'am', 'proof', 'against', 'their', 'enmity', '.', 'JULIET', 'I', 'would', 'not', 'for', 'the', 'world', 'they', 'saw', 'thee', 'here', '.', 'ROMEO', 'I', 'have', 'night', \"'s\", 'cloak', 'to', 'hide', 'me', 'from', 'their', 'sight', ';', 'And', 'but', 'thou', 'love', 'me', ',', 'let', 'them', 'find', 'me', 'here', ':', 'My', 'life', 'were', 'better', 'ended', 'by', 'their', 'hate', ',', 'Than', 'death', 'prorogued', ',', 'wanting', 'of', 'thy', 'love', '.', 'JULIET', 'By', 'whose', 'direction', \"found'st\", 'thou', 'out', 'this', 'place', '?', 'ROMEO', 'By', 'love', ',', 'who', 'first', 'did', 'prompt', 'me', 'to', 'inquire', ';', 'He', 'lent', 'me', 'counsel', 'and', 'I', 'lent', 'him', 'eyes', '.', 'I', 'am', 'no', 'pilot', ';', 'yet', ',', 'wert', 'thou', 'as', 'far', 'As', 'that', 'vast', 'shore', 'wash', \"'d\", 'with', 'the', 'farthest', 'sea', ',', 'I', 'would', 'adventure', 'for', 'such', 'merchandise', '.', 'JULIET', 'Thou', \"know'st\", 'the', 'mask', 'of', 'night', 'is', 'on', 'my', 'face', ',', 'Else', 'would', 'a', 'maiden', 'blush', 'bepaint', 'my', 'cheek', 'For', 'that', 'which', 'thou', 'hast', 'heard', 'me', 'speak', 'to-night', 'Fain', 'would', 'I', 'dwell', 'on', 'form', ',', 'fain', ',', 'fain', 'deny', 'What', 'I', 'have', 'spoke', ':', 'but', 'farewell', 'compliment', '!', 'Dost', 'thou', 'love', 'me', '?', 'I', 'know', 'thou', 'wilt', 'say', \"'Ay\", ',', \"'\", 'And', 'I', 'will', 'take', 'thy', 'word', ':', 'yet', 'if', 'thou', \"swear'st\", ',', 'Thou', 'mayst', 'prove', 'false', ';', 'at', 'lovers', \"'\", 'perjuries', 'Then', 'say', ',', 'Jove', 'laughs', '.', 'O', 'gentle', 'Romeo', ',', 'If', 'thou', 'dost', 'love', ',', 'pronounce', 'it', 'faithfully', ':', 'Or', 'if', 'thou', \"think'st\", 'I', 'am', 'too', 'quickly', 'won', ',', 'I', \"'ll\", 'frown', 'and', 'be', 'perverse', 'an', 'say', 'thee', 'nay', ',', 'So', 'thou', 'wilt', 'woo', ';', 'but', 'else', ',', 'not', 'for', 'the', 'world', '.', 'In', 'truth', ',', 'fair', 'Montague', ',', 'I', 'am', 'too', 'fond', ',', 'And', 'therefore', 'thou', 'mayst', 'think', 'my', \"'havior\", 'light', ':', 'But', 'trust', 'me', ',', 'gentleman', ',', 'I', \"'ll\", 'prove', 'more', 'true', 'Than', 'those', 'that', 'have', 'more', 'cunning', 'to', 'be', 'strange', '.', 'I', 'should', 'have', 'been', 'more', 'strange', ',', 'I', 'must', 'confess', ',', 'But', 'that', 'thou', \"overheard'st\", ',', 'ere', 'I', 'was', 'ware', ',', 'My', 'true', 'love', \"'s\", 'passion', ':', 'therefore', 'pardon', 'me', ',', 'And', 'not', 'impute', 'this', 'yielding', 'to', 'light', 'love', ',', 'Which', 'the', 'dark', 'night', 'hath', 'so', 'discovered', '.', 'ROMEO', 'Lady', ',', 'by', 'yonder', 'blessed', 'moon', 'I', 'swear', 'That', 'tips', 'with', 'silver', 'all', 'these', 'fruit-tree', 'tops', '--', 'JULIET', 'O', ',', 'swear', 'not', 'by', 'the', 'moon', ',', 'the', 'inconstant', 'moon', ',', 'That', 'monthly', 'changes', 'in', 'her', 'circled', 'orb', ',', 'Lest', 'that', 'thy', 'love', 'prove', 'likewise', 'variable', '.', 'ROMEO', 'What', 'shall', 'I', 'swear', 'by', '?', 'JULIET', 'Do', 'not', 'swear', 'at', 'all', ';', 'Or', ',', 'if', 'thou', 'wilt', ',', 'swear', 'by', 'thy', 'gracious', 'self', ',', 'Which', 'is', 'the', 'god', 'of', 'my', 'idolatry', ',', 'And', 'I', \"'ll\", 'believe', 'thee', '.', 'ROMEO', 'If', 'my', 'heart', \"'s\", 'dear', 'love', '--', 'JULIET', 'Well', ',', 'do', 'not', 'swear', ':', 'although', 'I', 'joy', 'in', 'thee', ',', 'I', 'have', 'no', 'joy', 'of', 'this', 'contract', 'to-night', ':', 'It', 'is', 'too', 'rash', ',', 'too', 'unadvised', ',', 'too', 'sudden', ';', 'Too', 'like', 'the', 'lightning', ',', 'which', 'doth', 'cease', 'to', 'be', 'Ere', 'one', 'can', 'say', \"'It\", 'lightens', '.', \"'\", 'Sweet', ',', 'good', 'night', '!', 'This', 'bud', 'of', 'love', ',', 'by', 'summer', \"'s\", 'ripening', 'breath', ',', 'May', 'prove', 'a', 'beauteous', 'flower', 'when', 'next', 'we', 'meet', '.', 'Good', 'night', ',', 'good', 'night', '!', 'as', 'sweet', 'repose', 'and', 'rest', 'Come', 'to', 'thy', 'heart', 'as', 'that', 'within', 'my', 'breast', '!', 'ROMEO', 'O', ',', 'wilt', 'thou', 'leave', 'me', 'so', 'unsatisfied', '?', 'JULIET', 'What', 'satisfaction', 'canst', 'thou', 'have', 'to-night', '?', 'ROMEO', 'The', 'exchange', 'of', 'thy', 'love', \"'s\", 'faithful', 'vow', 'for', 'mine', '.', 'JULIET', 'I', 'gave', 'thee', 'mine', 'before', 'thou', 'didst', 'request', 'it', ':', 'And', 'yet', 'I', 'would', 'it', 'were', 'to', 'give', 'again', '.', 'ROMEO', 'Wouldst', 'thou', 'withdraw', 'it', '?', 'for', 'what', 'purpose', ',', 'love', '?', 'JULIET', 'But', 'to', 'be', 'frank', ',', 'and', 'give', 'it', 'thee', 'again', '.', 'And', 'yet', 'I', 'wish', 'but', 'for', 'the', 'thing', 'I', 'have', ':', 'My', 'bounty', 'is', 'as', 'boundless', 'as', 'the', 'sea', ',', 'My', 'love', 'as', 'deep', ';', 'the', 'more', 'I', 'give', 'to', 'thee', ',', 'The', 'more', 'I', 'have', ',', 'for', 'both', 'are', 'infinite', '.', 'Nurse', 'calls', 'within', 'I', 'hear', 'some', 'noise', 'within', ';', 'dear', 'love', ',', 'adieu', '!', 'Anon', ',', 'good', 'nurse', '!', 'Sweet', 'Montague', ',', 'be', 'true', '.', 'Stay', 'but', 'a', 'little', ',', 'I', 'will', 'come', 'again', '.', 'Exit', ',', 'above', 'ROMEO', 'O', 'blessed', ',', 'blessed', 'night', '!', 'I', 'am', 'afeard', '.', 'Being', 'in', 'night', ',', 'all', 'this', 'is', 'but', 'a', 'dream', ',', 'Too', 'flattering-sweet', 'to', 'be', 'substantial', '.', 'Re-enter', 'JULIET', ',', 'above', 'JULIET', 'Three', 'words', ',', 'dear', 'Romeo', ',', 'and', 'good', 'night', 'indeed', '.', 'If', 'that', 'thy', 'bent', 'of', 'love', 'be', 'honourable', ',', 'Thy', 'purpose', 'marriage', ',', 'send', 'me', 'word', 'to-morrow', ',', 'By', 'one', 'that', 'I', \"'ll\", 'procure', 'to', 'come', 'to', 'thee', ',', 'Where', 'and', 'what', 'time', 'thou', 'wilt', 'perform', 'the', 'rite', ';', 'And', 'all', 'my', 'fortunes', 'at', 'thy', 'foot', 'I', \"'ll\", 'lay', 'And', 'follow', 'thee', 'my', 'lord', 'throughout', 'the', 'world', '.', 'Nurse', '[', 'Within', ']', 'Madam', '!', 'JULIET', 'I', 'come', ',', 'anon.', '--', 'But', 'if', 'thou', \"mean'st\", 'not', 'well', ',', 'I', 'do', 'beseech', 'thee', '--', 'Nurse', '[', 'Within', ']', 'Madam', '!', 'JULIET', 'By', 'and', 'by', ',', 'I', 'come', ':', '--', 'To', 'cease', 'thy', 'suit', ',', 'and', 'leave', 'me', 'to', 'my', 'grief', ':', 'To-morrow', 'will', 'I', 'send', '.', 'ROMEO', 'So', 'thrive', 'my', 'soul', '--', 'JULIET', 'A', 'thousand', 'times', 'good', 'night', '!', 'Exit', ',', 'above', 'ROMEO', 'A', 'thousand', 'times', 'the', 'worse', ',', 'to', 'want', 'thy', 'light', '.', 'Love', 'goes', 'toward', 'love', ',', 'as', 'schoolboys', 'from', 'their', 'books', ',', 'But', 'love', 'from', 'love', ',', 'toward', 'school', 'with', 'heavy', 'looks', '.', 'Retiring', 'Re-enter', 'JULIET', ',', 'above', 'JULIET', 'Hist', '!', 'Romeo', ',', 'hist', '!', 'O', ',', 'for', 'a', 'falconer', \"'s\", 'voice', ',', 'To', 'lure', 'this', 'tassel-gentle', 'back', 'again', '!', 'Bondage', 'is', 'hoarse', ',', 'and', 'may', 'not', 'speak', 'aloud', ';', 'Else', 'would', 'I', 'tear', 'the', 'cave', 'where', 'Echo', 'lies', ',', 'And', 'make', 'her', 'airy', 'tongue', 'more', 'hoarse', 'than', 'mine', ',', 'With', 'repetition', 'of', 'my', 'Romeo', \"'s\", 'name', '.', 'ROMEO', 'It', 'is', 'my', 'soul', 'that', 'calls', 'upon', 'my', 'name', ':', 'How', 'silver-sweet', 'sound', 'lovers', \"'\", 'tongues', 'by', 'night', ',', 'Like', 'softest', 'music', 'to', 'attending', 'ears', '!', 'JULIET', 'Romeo', '!', 'ROMEO', 'My', 'dear', '?', 'JULIET', 'At', 'what', \"o'clock\", 'to-morrow', 'Shall', 'I', 'send', 'to', 'thee', '?', 'ROMEO', 'At', 'the', 'hour', 'of', 'nine', '.', 'JULIET', 'I', 'will', 'not', 'fail', ':', \"'t\", 'is', 'twenty', 'years', 'till', 'then', '.', 'I', 'have', 'forgot', 'why', 'I', 'did', 'call', 'thee', 'back', '.', 'ROMEO', 'Let', 'me', 'stand', 'here', 'till', 'thou', 'remember', 'it', '.', 'JULIET', 'I', 'shall', 'forget', ',', 'to', 'have', 'thee', 'still', 'stand', 'there', ',', 'Remembering', 'how', 'I', 'love', 'thy', 'company', '.', 'ROMEO', 'And', 'I', \"'ll\", 'still', 'stay', ',', 'to', 'have', 'thee', 'still', 'forget', ',', 'Forgetting', 'any', 'other', 'home', 'but', 'this', '.', 'JULIET', \"'Tis\", 'almost', 'morning', ';', 'I', 'would', 'have', 'thee', 'gone', ':', 'And', 'yet', 'no', 'further', 'than', 'a', 'wanton', \"'s\", 'bird', ';', 'Who', 'lets', 'it', 'hop', 'a', 'little', 'from', 'her', 'hand', ',', 'Like', 'a', 'poor', 'prisoner', 'in', 'his', 'twisted', 'gyves', ',', 'And', 'with', 'a', 'silk', 'thread', 'plucks', 'it', 'back', 'again', ',', 'So', 'loving-jealous', 'of', 'his', 'liberty', '.', 'ROMEO', 'I', 'would', 'I', 'were', 'thy', 'bird', '.', 'JULIET', 'Sweet', ',', 'so', 'would', 'I', ':', 'Yet', 'I', 'should', 'kill', 'thee', 'with', 'much', 'cherishing', '.', 'Good', 'night', ',', 'good', 'night', '!', 'parting', 'is', 'such', 'sweet', 'sorrow', ',', 'That', 'I', 'shall', 'say', 'good', 'night', 'till', 'it', 'be', 'morrow', '.', 'Exit', 'above', 'ROMEO', 'Sleep', 'dwell', 'upon', 'thine', 'eyes', ',', 'peace', 'in', 'thy', 'breast', '!', 'Would', 'I', 'were', 'sleep', 'and', 'peace', ',', 'so', 'sweet', 'to', 'rest', '!', 'Hence', 'will', 'I', 'to', 'my', 'ghostly', 'father', \"'s\", 'cell', ',', 'His', 'help', 'to', 'crave', ',', 'and', 'my', 'dear', 'hap', 'to', 'tell', '.', 'Exit', 'SCENE', 'III', '.', 'Friar', 'Laurence', \"'s\", 'cell', '.', 'Enter', 'FRIAR', 'LAURENCE', ',', 'with', 'a', 'basket', 'FRIAR', 'LAURENCE', 'The', 'grey-eyed', 'morn', 'smiles', 'on', 'the', 'frowning', 'night', ',', 'Chequering', 'the', 'eastern', 'clouds', 'with', 'streaks', 'of', 'light', ',', 'And', 'flecked', 'darkness', 'like', 'a', 'drunkard', 'reels', 'From', 'forth', 'day', \"'s\", 'path', 'and', 'Titan', \"'s\", 'fiery', 'wheels', ':', 'Now', ',', 'ere', 'the', 'sun', 'advance', 'his', 'burning', 'eye', ',', 'The', 'day', 'to', 'cheer', 'and', 'night', \"'s\", 'dank', 'dew', 'to', 'dry', ',', 'I', 'must', 'up-fill', 'this', 'osier', 'cage', 'of', 'ours', 'With', 'baleful', 'weeds', 'and', 'precious-juiced', 'flowers', '.', 'The', 'earth', 'that', \"'s\", 'nature', \"'s\", 'mother', 'is', 'her', 'tomb', ';', 'What', 'is', 'her', 'burying', 'grave', 'that', 'is', 'her', 'womb', ',', 'And', 'from', 'her', 'womb', 'children', 'of', 'divers', 'kind', 'We', 'sucking', 'on', 'her', 'natural', 'bosom', 'find', ',', 'Many', 'for', 'many', 'virtues', 'excellent', ',', 'None', 'but', 'for', 'some', 'and', 'yet', 'all', 'different', '.', 'O', ',', 'mickle', 'is', 'the', 'powerful', 'grace', 'that', 'lies', 'In', 'herbs', ',', 'plants', ',', 'stones', ',', 'and', 'their', 'true', 'qualities', ':', 'For', 'nought', 'so', 'vile', 'that', 'on', 'the', 'earth', 'doth', 'live', 'But', 'to', 'the', 'earth', 'some', 'special', 'good', 'doth', 'give', ',', 'Nor', 'aught', 'so', 'good', 'but', 'strain', \"'d\", 'from', 'that', 'fair', 'use', 'Revolts', 'from', 'true', 'birth', ',', 'stumbling', 'on', 'abuse', ':', 'Virtue', 'itself', 'turns', 'vice', ',', 'being', 'misapplied', ';', 'And', 'vice', 'sometimes', 'by', 'action', 'dignified', '.', 'Within', 'the', 'infant', 'rind', 'of', 'this', 'small', 'flower', 'Poison', 'hath', 'residence', 'and', 'medicine', 'power', ':', 'For', 'this', ',', 'being', 'smelt', ',', 'with', 'that', 'part', 'cheers', 'each', 'part', ';', 'Being', 'tasted', ',', 'slays', 'all', 'senses', 'with', 'the', 'heart', '.', 'Two', 'such', 'opposed', 'kings', 'encamp', 'them', 'still', 'In', 'man', 'as', 'well', 'as', 'herbs', ',', 'grace', 'and', 'rude', 'will', ';', 'And', 'where', 'the', 'worser', 'is', 'predominant', ',', 'Full', 'soon', 'the', 'canker', 'death', 'eats', 'up', 'that', 'plant', '.', 'Enter', 'ROMEO', 'ROMEO', 'Good', 'morrow', ',', 'father', '.', 'FRIAR', 'LAURENCE', 'Benedicite', '!', 'What', 'early', 'tongue', 'so', 'sweet', 'saluteth', 'me', '?', 'Young', 'son', ',', 'it', 'argues', 'a', 'distemper', \"'d\", 'head', 'So', 'soon', 'to', 'bid', 'good', 'morrow', 'to', 'thy', 'bed', ':', 'Care', 'keeps', 'his', 'watch', 'in', 'every', 'old', 'man', \"'s\", 'eye', ',', 'And', 'where', 'care', 'lodges', ',', 'sleep', 'will', 'never', 'lie', ';', 'But', 'where', 'unbruised', 'youth', 'with', 'unstuff', \"'d\", 'brain', 'Doth', 'couch', 'his', 'limbs', ',', 'there', 'golden', 'sleep', 'doth', 'reign', ':', 'Therefore', 'thy', 'earliness', 'doth', 'me', 'assure', 'Thou', 'art', 'up-roused', 'by', 'some', 'distemperature', ';', 'Or', 'if', 'not', 'so', ',', 'then', 'here', 'I', 'hit', 'it', 'right', ',', 'Our', 'Romeo', 'hath', 'not', 'been', 'in', 'bed', 'to-night', '.', 'ROMEO', 'That', 'last', 'is', 'true', ';', 'the', 'sweeter', 'rest', 'was', 'mine', '.', 'FRIAR', 'LAURENCE', 'God', 'pardon', 'sin', '!', 'wast', 'thou', 'with', 'Rosaline', '?', 'ROMEO', 'With', 'Rosaline', ',', 'my', 'ghostly', 'father', '?', 'no', ';', 'I', 'have', 'forgot', 'that', 'name', ',', 'and', 'that', 'name', \"'s\", 'woe', '.', 'FRIAR', 'LAURENCE', 'That', \"'s\", 'my', 'good', 'son', ':', 'but', 'where', 'hast', 'thou', 'been', ',', 'then', '?', 'ROMEO', 'I', \"'ll\", 'tell', 'thee', ',', 'ere', 'thou', 'ask', 'it', 'me', 'again', '.', 'I', 'have', 'been', 'feasting', 'with', 'mine', 'enemy', ',', 'Where', 'on', 'a', 'sudden', 'one', 'hath', 'wounded', 'me', ',', 'That', \"'s\", 'by', 'me', 'wounded', ':', 'both', 'our', 'remedies', 'Within', 'thy', 'help', 'and', 'holy', 'physic', 'lies', ':', 'I', 'bear', 'no', 'hatred', ',', 'blessed', 'man', ',', 'for', ',', 'lo', ',', 'My', 'intercession', 'likewise', 'steads', 'my', 'foe', '.', 'FRIAR', 'LAURENCE', 'Be', 'plain', ',', 'good', 'son', ',', 'and', 'homely', 'in', 'thy', 'drift', ';', 'Riddling', 'confession', 'finds', 'but', 'riddling', 'shrift', '.', 'ROMEO', 'Then', 'plainly', 'know', 'my', 'heart', \"'s\", 'dear', 'love', 'is', 'set', 'On', 'the', 'fair', 'daughter', 'of', 'rich', 'Capulet', ':', 'As', 'mine', 'on', 'hers', ',', 'so', 'hers', 'is', 'set', 'on', 'mine', ';', 'And', 'all', 'combined', ',', 'save', 'what', 'thou', 'must', 'combine', 'By', 'holy', 'marriage', ':', 'when', 'and', 'where', 'and', 'how', 'We', 'met', ',', 'we', 'woo', \"'d\", 'and', 'made', 'exchange', 'of', 'vow', ',', 'I', \"'ll\", 'tell', 'thee', 'as', 'we', 'pass', ';', 'but', 'this', 'I', 'pray', ',', 'That', 'thou', 'consent', 'to', 'marry', 'us', 'to-day', '.', 'FRIAR', 'LAURENCE', 'Holy', 'Saint', 'Francis', ',', 'what', 'a', 'change', 'is', 'here', '!', 'Is', 'Rosaline', ',', 'whom', 'thou', 'didst', 'love', 'so', 'dear', ',', 'So', 'soon', 'forsaken', '?', 'young', 'men', \"'s\", 'love', 'then', 'lies', 'Not', 'truly', 'in', 'their', 'hearts', ',', 'but', 'in', 'their', 'eyes', '.', 'Jesu', 'Maria', ',', 'what', 'a', 'deal', 'of', 'brine', 'Hath', 'wash', \"'d\", 'thy', 'sallow', 'cheeks', 'for', 'Rosaline', '!', 'How', 'much', 'salt', 'water', 'thrown', 'away', 'in', 'waste', ',', 'To', 'season', 'love', ',', 'that', 'of', 'it', 'doth', 'not', 'taste', '!', 'The', 'sun', 'not', 'yet', 'thy', 'sighs', 'from', 'heaven', 'clears', ',', 'Thy', 'old', 'groans', 'ring', 'yet', 'in', 'my', 'ancient', 'ears', ';', 'Lo', ',', 'here', 'upon', 'thy', 'cheek', 'the', 'stain', 'doth', 'sit', 'Of', 'an', 'old', 'tear', 'that', 'is', 'not', 'wash', \"'d\", 'off', 'yet', ':', 'If', \"e'er\", 'thou', 'wast', 'thyself', 'and', 'these', 'woes', 'thine', ',', 'Thou', 'and', 'these', 'woes', 'were', 'all', 'for', 'Rosaline', ':', 'And', 'art', 'thou', 'changed', '?', 'pronounce', 'this', 'sentence', 'then', ',', 'Women', 'may', 'fall', ',', 'when', 'there', \"'s\", 'no', 'strength', 'in', 'men', '.', 'ROMEO', 'Thou', \"chid'st\", 'me', 'oft', 'for', 'loving', 'Rosaline', '.', 'FRIAR', 'LAURENCE', 'For', 'doting', ',', 'not', 'for', 'loving', ',', 'pupil', 'mine', '.', 'ROMEO', 'And', \"bad'st\", 'me', 'bury', 'love', '.', 'FRIAR', 'LAURENCE', 'Not', 'in', 'a', 'grave', ',', 'To', 'lay', 'one', 'in', ',', 'another', 'out', 'to', 'have', '.', 'ROMEO', 'I', 'pray', 'thee', ',', 'chide', 'not', ';', 'she', 'whom', 'I', 'love', 'now', 'Doth', 'grace', 'for', 'grace', 'and', 'love', 'for', 'love', 'allow', ';', 'The', 'other', 'did', 'not', 'so', '.', 'FRIAR', 'LAURENCE', 'O', ',', 'she', 'knew', 'well', 'Thy', 'love', 'did', 'read', 'by', 'rote', 'and', 'could', 'not', 'spell', '.', 'But', 'come', ',', 'young', 'waverer', ',', 'come', ',', 'go', 'with', 'me', ',', 'In', 'one', 'respect', 'I', \"'ll\", 'thy', 'assistant', 'be', ';', 'For', 'this', 'alliance', 'may', 'so', 'happy', 'prove', ',', 'To', 'turn', 'your', 'households', \"'\", 'rancour', 'to', 'pure', 'love', '.', 'ROMEO', 'O', ',', 'let', 'us', 'hence', ';', 'I', 'stand', 'on', 'sudden', 'haste', '.', 'FRIAR', 'LAURENCE', 'Wisely', 'and', 'slow', ';', 'they', 'stumble', 'that', 'run', 'fast', '.', 'Exeunt', 'SCENE', 'IV', '.', 'A', 'street', '.', 'Enter', 'BENVOLIO', 'and', 'MERCUTIO', 'MERCUTIO', 'Where', 'the', 'devil', 'should', 'this', 'Romeo', 'be', '?', 'Came', 'he', 'not', 'home', 'to-night', '?', 'BENVOLIO', 'Not', 'to', 'his', 'father', \"'s\", ';', 'I', 'spoke', 'with', 'his', 'man', '.', 'MERCUTIO', 'Ah', ',', 'that', 'same', 'pale', 'hard-hearted', 'wench', ',', 'that', 'Rosaline', '.', 'Torments', 'him', 'so', ',', 'that', 'he', 'will', 'sure', 'run', 'mad', '.', 'BENVOLIO'])"
      ]
     },
     "execution_count": 71,
     "metadata": {},
     "output_type": "execute_result"
    }
   ],
   "source": [
    "blob_ryj.tokens"
   ]
  },
  {
   "cell_type": "code",
   "execution_count": 73,
   "metadata": {},
   "outputs": [],
   "source": [
    "frecuencias = {}\n",
    "for palabra in texto.split():\n",
    "    if palabra in frecuencias:\n",
    "        frecuencias[palabra] += 1\n",
    "    frecuencias[palabra] = 1"
   ]
  },
  {
   "cell_type": "code",
   "execution_count": 74,
   "metadata": {},
   "outputs": [
    {
     "data": {
      "text/plain": [
       "{'Hoy': 1,\n",
       " 'es': 1,\n",
       " 'un': 1,\n",
       " 'día': 1,\n",
       " 'hermoso.': 1,\n",
       " 'Mañana': 1,\n",
       " 'estará': 1,\n",
       " 'feo.': 1}"
      ]
     },
     "execution_count": 74,
     "metadata": {},
     "output_type": "execute_result"
    }
   ],
   "source": [
    "frecuencias"
   ]
  },
  {
   "cell_type": "code",
   "execution_count": 75,
   "metadata": {},
   "outputs": [],
   "source": [
    "#Histograma de frecuencia de palabras"
   ]
  },
  {
   "cell_type": "code",
   "execution_count": 76,
   "metadata": {},
   "outputs": [],
   "source": [
    "items = blob_ryj.word_counts.items()"
   ]
  },
  {
   "cell_type": "code",
   "execution_count": 94,
   "metadata": {},
   "outputs": [],
   "source": [
    "items = [item for item in items if item[0] not in stop_words]"
   ]
  },
  {
   "cell_type": "code",
   "execution_count": 95,
   "metadata": {},
   "outputs": [
    {
     "data": {
      "text/plain": [
       "[('sampson', 14),\n",
       " ('tis', 9),\n",
       " ('one', 22),\n",
       " ('show', 6),\n",
       " ('tyrant', 1),\n",
       " ('fought', 2),\n",
       " ('men', 11),\n",
       " ('cruel', 1),\n",
       " ('maids', 5),\n",
       " ('cut', 2),\n",
       " ('heads', 3),\n",
       " ('gregory', 11),\n",
       " ('ay', 15),\n",
       " ('maidenheads', 1),\n",
       " ('take', 13),\n",
       " ('sense', 2),\n",
       " ('thou', 82),\n",
       " ('wilt', 14),\n",
       " ('must', 14),\n",
       " ('feel', 5),\n",
       " ('shall', 34),\n",
       " ('able', 1),\n",
       " ('stand', 9),\n",
       " ('known', 2),\n",
       " ('pretty', 5),\n",
       " ('piece', 2),\n",
       " ('flesh', 2),\n",
       " ('well', 17),\n",
       " ('art', 13),\n",
       " ('fish', 2),\n",
       " ('hadst', 3),\n",
       " ('poor', 4),\n",
       " ('john', 1),\n",
       " ('draw', 4),\n",
       " ('thy', 46),\n",
       " ('tool', 1),\n",
       " ('comes', 6),\n",
       " ('two', 8),\n",
       " ('house', 12),\n",
       " ('montagues', 4),\n",
       " ('naked', 1),\n",
       " ('weapon', 1),\n",
       " ('quarrel', 4),\n",
       " ('back', 8),\n",
       " ('thee', 45),\n",
       " ('turn', 8),\n",
       " ('run', 4),\n",
       " ('fear', 4),\n",
       " ('marry', 8),\n",
       " ('let', 19),\n",
       " ('us', 9),\n",
       " ('law', 2),\n",
       " ('sides', 1),\n",
       " ('begin', 3),\n",
       " ('frown', 2),\n",
       " ('pass', 3),\n",
       " ('list', 1),\n",
       " ('nay', 12),\n",
       " ('dare', 1),\n",
       " ('bite', 6),\n",
       " ('thumb', 6),\n",
       " ('disgrace', 1),\n",
       " ('bear', 5),\n",
       " ('enter', 25),\n",
       " ('abraham', 6),\n",
       " ('balthasar', 1),\n",
       " ('sir', 16),\n",
       " ('aside', 3),\n",
       " ('side', 2),\n",
       " ('say', 18),\n",
       " ('serve', 2),\n",
       " ('good', 33),\n",
       " ('man', 16),\n",
       " ('better', 4),\n",
       " ('master', 4),\n",
       " ('kinsmen', 3),\n",
       " ('yes', 2),\n",
       " ('lie', 10),\n",
       " ('remember', 4),\n",
       " ('swashing', 1),\n",
       " ('blow', 1),\n",
       " ('fight', 2),\n",
       " ('benvolio', 48),\n",
       " ('part', 12),\n",
       " ('fools', 2),\n",
       " ('put', 5),\n",
       " ('swords', 3),\n",
       " ('know', 14),\n",
       " ('beats', 1),\n",
       " ('tybalt', 11),\n",
       " ('drawn', 3),\n",
       " ('among', 5),\n",
       " ('heartless', 1),\n",
       " ('hinds', 1),\n",
       " ('look', 6),\n",
       " ('upon', 13),\n",
       " ('death', 6),\n",
       " ('keep', 2),\n",
       " ('peace', 13),\n",
       " ('sword', 5),\n",
       " ('manage', 1),\n",
       " ('talk', 6),\n",
       " ('hate', 7),\n",
       " ('word', 10),\n",
       " ('hell', 1),\n",
       " ('coward', 1),\n",
       " ('several', 1),\n",
       " ('houses', 1),\n",
       " ('join', 1),\n",
       " ('fray', 3),\n",
       " ('citizens', 2),\n",
       " ('clubs', 2),\n",
       " ('first', 8),\n",
       " ('citizen', 1),\n",
       " ('bills', 1),\n",
       " ('partisans', 2),\n",
       " ('strike', 3),\n",
       " ('beat', 2),\n",
       " ('capulets', 1),\n",
       " ('capulet', 47),\n",
       " ('gown', 1),\n",
       " ('lady', 33),\n",
       " ('noise', 2),\n",
       " ('give', 11),\n",
       " ('long', 6),\n",
       " ('ho', 3),\n",
       " ('crutch', 2),\n",
       " ('call', 9),\n",
       " ('old', 15),\n",
       " ('montague', 26),\n",
       " ('come', 31),\n",
       " ('flourishes', 1),\n",
       " ('blade', 1),\n",
       " ('spite', 3),\n",
       " ('villain', 4),\n",
       " ('hold', 6),\n",
       " ('go', 19),\n",
       " ('shalt', 1),\n",
       " ('stir', 1),\n",
       " ('foot', 5),\n",
       " ('seek', 3),\n",
       " ('foe', 6),\n",
       " ('prince', 4),\n",
       " ('attendants', 1),\n",
       " ('rebellious', 1),\n",
       " ('subjects', 1),\n",
       " ('enemies', 1),\n",
       " ('profaners', 1),\n",
       " ('neighbour-stained', 1),\n",
       " ('steel', 1),\n",
       " ('hear', 8),\n",
       " ('beasts', 1),\n",
       " ('quench', 2),\n",
       " ('fire', 5),\n",
       " ('pernicious', 1),\n",
       " ('rage', 1),\n",
       " ('purple', 1),\n",
       " ('fountains', 1),\n",
       " ('issuing', 1),\n",
       " ('veins', 1),\n",
       " ('pain', 3),\n",
       " ('torture', 1),\n",
       " ('bloody', 1),\n",
       " ('hands', 6),\n",
       " ('throw', 1),\n",
       " ('mistemper', 1),\n",
       " ('weapons', 1),\n",
       " ('ground', 2),\n",
       " ('sentence', 2),\n",
       " ('moved', 1),\n",
       " ('three', 2),\n",
       " ('civil', 1),\n",
       " ('brawls', 1),\n",
       " ('bred', 1),\n",
       " ('airy', 3),\n",
       " ('thrice', 1),\n",
       " ('disturb', 2),\n",
       " ('quiet', 3),\n",
       " ('streets', 2),\n",
       " ('made', 8),\n",
       " ('verona', 6),\n",
       " ('ancient', 4),\n",
       " ('cast', 2),\n",
       " ('grave', 4),\n",
       " ('beseeming', 1),\n",
       " ('ornaments', 1),\n",
       " ('wield', 1),\n",
       " ('canker', 3),\n",
       " ('ever', 1),\n",
       " ('lives', 3),\n",
       " ('pay', 2),\n",
       " ('forfeit', 2),\n",
       " ('time', 7),\n",
       " ('rest', 8),\n",
       " ('depart', 2),\n",
       " ('away', 9),\n",
       " ('along', 3),\n",
       " ('afternoon', 1),\n",
       " ('pleasure', 2),\n",
       " ('case', 2),\n",
       " ('free-town', 1),\n",
       " ('common', 2),\n",
       " ('judgment-place', 1),\n",
       " ('exeunt', 11),\n",
       " ('set', 4),\n",
       " ('new', 4),\n",
       " ('abroach', 1),\n",
       " ('speak', 8),\n",
       " ('nephew', 1),\n",
       " ('began', 1),\n",
       " ('servants', 1),\n",
       " ('adversary', 1),\n",
       " ('close', 2),\n",
       " ('fighting', 1),\n",
       " ('ere', 8),\n",
       " ('approach', 1),\n",
       " ('drew', 1),\n",
       " ('instant', 1),\n",
       " ('came', 5),\n",
       " ('fiery', 2),\n",
       " ('prepared', 1),\n",
       " ('breathed', 1),\n",
       " ('defiance', 1),\n",
       " ('ears', 5),\n",
       " ('swung', 1),\n",
       " ('head', 4),\n",
       " ('winds', 1),\n",
       " ('nothing', 5),\n",
       " ('hurt', 1),\n",
       " ('withal', 3),\n",
       " ('hiss', 1),\n",
       " ('scorn', 3),\n",
       " ('interchanging', 1),\n",
       " ('thrusts', 1),\n",
       " ('blows', 2),\n",
       " ('till', 8),\n",
       " ('parted', 1),\n",
       " ('either', 3),\n",
       " ('romeo', 121),\n",
       " ('saw', 5),\n",
       " ('to-day', 2),\n",
       " ('right', 4),\n",
       " ('glad', 1),\n",
       " ('madam', 8),\n",
       " ('hour', 3),\n",
       " ('worshipp', 1),\n",
       " ('sun', 9),\n",
       " ('peer', 1),\n",
       " ('forth', 3),\n",
       " ('golden', 3),\n",
       " ('window', 3),\n",
       " ('east', 3),\n",
       " ('troubled', 1),\n",
       " ('mind', 4),\n",
       " ('drave', 1),\n",
       " ('walk', 1),\n",
       " ('abroad', 1),\n",
       " ('underneath', 1),\n",
       " ('grove', 1),\n",
       " ('sycamore', 1),\n",
       " ('westward', 1),\n",
       " ('rooteth', 1),\n",
       " ('city', 1),\n",
       " ('early', 5),\n",
       " ('walking', 1),\n",
       " ('see', 12),\n",
       " ('son', 11),\n",
       " ('towards', 2),\n",
       " ('ware', 2),\n",
       " ('stole', 1),\n",
       " ('covert', 1),\n",
       " ('wood', 1),\n",
       " ('measuring', 1),\n",
       " ('affections', 2),\n",
       " ('busied', 1),\n",
       " ('alone', 4),\n",
       " ('pursued', 1),\n",
       " ('humour', 2),\n",
       " ('pursuing', 1),\n",
       " ('gladly', 2),\n",
       " ('shunn', 1),\n",
       " ('fled', 1),\n",
       " ('many', 7),\n",
       " ('morning', 3),\n",
       " ('hath', 19),\n",
       " ('seen', 4),\n",
       " ('tears', 3),\n",
       " ('augmenting', 1),\n",
       " ('fresh', 2),\n",
       " ('dew', 2),\n",
       " ('adding', 1),\n",
       " ('clouds', 4),\n",
       " ('deep', 4),\n",
       " ('sighs', 3),\n",
       " ('soon', 5),\n",
       " ('all-cheering', 1),\n",
       " ('furthest', 1),\n",
       " ('shady', 1),\n",
       " ('curtains', 1),\n",
       " ('aurora', 1),\n",
       " ('bed', 7),\n",
       " ('light', 14),\n",
       " ('steals', 1),\n",
       " ('home', 4),\n",
       " ('heavy', 6),\n",
       " ('private', 1),\n",
       " ('chamber', 2),\n",
       " ('pens', 1),\n",
       " ('shuts', 1),\n",
       " ('windows', 1),\n",
       " ('locks', 2),\n",
       " ('far', 4),\n",
       " ('daylight', 3),\n",
       " ('makes', 6),\n",
       " ('artificial', 1),\n",
       " ('night', 36),\n",
       " ('black', 2),\n",
       " ('portentous', 1),\n",
       " ('prove', 6),\n",
       " ('unless', 1),\n",
       " ('counsel', 4),\n",
       " ('may', 11),\n",
       " ('cause', 2),\n",
       " ('remove', 2),\n",
       " ('noble', 1),\n",
       " ('uncle', 4),\n",
       " ('neither', 2),\n",
       " ('learn', 3),\n",
       " ('importuned', 1),\n",
       " ('means', 4),\n",
       " ('friends', 1),\n",
       " ('counsellor', 1),\n",
       " ('true', 11),\n",
       " ('secret', 2),\n",
       " ('sounding', 1),\n",
       " ('discovery', 1),\n",
       " ('bud', 2),\n",
       " ('bit', 1),\n",
       " ('envious', 3),\n",
       " ('worm', 2),\n",
       " ('spread', 1),\n",
       " ('sweet', 14),\n",
       " ('leaves', 1),\n",
       " ('air', 3),\n",
       " ('dedicate', 1),\n",
       " ('beauty', 9),\n",
       " ('could', 6),\n",
       " ('whence', 1),\n",
       " ('sorrows', 1),\n",
       " ('grow', 2),\n",
       " ('would', 23),\n",
       " ('willingly', 1),\n",
       " ('cure', 1),\n",
       " ('please', 2),\n",
       " ('step', 1),\n",
       " ('grievance', 1),\n",
       " ('much', 13),\n",
       " ('denied', 1),\n",
       " ('wert', 2),\n",
       " ('happy', 6),\n",
       " ('stay', 6),\n",
       " ('shrift', 2),\n",
       " ('good-morrow', 1),\n",
       " ('cousin', 5),\n",
       " ('day', 7),\n",
       " ('young', 13),\n",
       " ('struck', 1),\n",
       " ('nine', 2),\n",
       " ('sad', 1),\n",
       " ('hours', 2),\n",
       " ('seem', 1),\n",
       " ('father', 6),\n",
       " ('went', 1),\n",
       " ('hence', 4),\n",
       " ('fast', 2),\n",
       " ('sadness', 4),\n",
       " ('lengthens', 1),\n",
       " ('short', 1),\n",
       " ('love', 81),\n",
       " ('favour', 1),\n",
       " ('alas', 2),\n",
       " ('gentle', 6),\n",
       " ('view', 3),\n",
       " ('tyrannous', 1),\n",
       " ('rough', 5),\n",
       " ('proof', 3),\n",
       " ('whose', 7),\n",
       " ('muffled', 1),\n",
       " ('still', 6),\n",
       " ('without', 7),\n",
       " ('eyes', 14),\n",
       " ('pathways', 1),\n",
       " ('dine', 1),\n",
       " ('yet', 19),\n",
       " ('tell', 16),\n",
       " ('heard', 2),\n",
       " ('brawling', 1),\n",
       " ('loving', 4),\n",
       " ('thing', 7),\n",
       " ('create', 1),\n",
       " ('lightness', 1),\n",
       " ('serious', 1),\n",
       " ('vanity', 1),\n",
       " ('mis-shapen', 1),\n",
       " ('chaos', 1),\n",
       " ('well-seeming', 1),\n",
       " ('forms', 1),\n",
       " ('feather', 1),\n",
       " ('lead', 2),\n",
       " ('bright', 5),\n",
       " ('smoke', 2),\n",
       " ('cold', 2),\n",
       " ('sick', 4),\n",
       " ('health', 1),\n",
       " ('still-waking', 1),\n",
       " ('sleep', 6),\n",
       " ('dost', 4),\n",
       " ('laugh', 3),\n",
       " ('coz', 4),\n",
       " ('rather', 1),\n",
       " ('weep', 1),\n",
       " ('heart', 10),\n",
       " ('oppression', 2),\n",
       " ('transgression', 1),\n",
       " ('griefs', 1),\n",
       " ('mine', 16),\n",
       " ('breast', 4),\n",
       " ('propagate', 1),\n",
       " ('prest', 1),\n",
       " ('thine', 6),\n",
       " ('hast', 4),\n",
       " ('shown', 2),\n",
       " ('doth', 18),\n",
       " ('add', 1),\n",
       " ('grief', 4),\n",
       " ('raised', 1),\n",
       " ('fume', 1),\n",
       " ('purged', 2),\n",
       " ('sparkling', 1),\n",
       " ('lovers', 6),\n",
       " ('vex', 1),\n",
       " ('sea', 4),\n",
       " ('nourish', 1),\n",
       " ('else', 6),\n",
       " ('madness', 1),\n",
       " ('discreet', 1),\n",
       " ('choking', 1),\n",
       " ('gall', 2),\n",
       " ('preserving', 1),\n",
       " ('farewell', 3),\n",
       " ('soft', 2),\n",
       " ('leave', 5),\n",
       " ('wrong', 2),\n",
       " ('tut', 4),\n",
       " ('lost', 2),\n",
       " ('groan', 3),\n",
       " ('sadly', 1),\n",
       " ('bid', 3),\n",
       " ('make', 8),\n",
       " ('ah', 5),\n",
       " ('ill', 2),\n",
       " ('urged', 2),\n",
       " ('woman', 1),\n",
       " ('aim', 1),\n",
       " ('near', 2),\n",
       " ('supposed', 2),\n",
       " ('loved', 2),\n",
       " ('mark-man', 1),\n",
       " ('fair', 31),\n",
       " ('mark', 3),\n",
       " ('soonest', 1),\n",
       " ('hit', 5),\n",
       " ('miss', 1),\n",
       " ('cupid', 4),\n",
       " ('arrow', 1),\n",
       " ('dian', 1),\n",
       " ('wit', 3),\n",
       " ('strong', 1),\n",
       " ('chastity', 1),\n",
       " ('arm', 2),\n",
       " ('weak', 1),\n",
       " ('childish', 1),\n",
       " ('bow', 2),\n",
       " ('unharm', 1),\n",
       " ('siege', 1),\n",
       " ('terms', 1),\n",
       " ('bide', 1),\n",
       " ('encounter', 1),\n",
       " ('assailing', 1),\n",
       " ('ope', 1),\n",
       " ('lap', 1),\n",
       " ('saint-seducing', 1),\n",
       " ('gold', 2),\n",
       " ('rich', 5),\n",
       " ('dies', 2),\n",
       " ('store', 2),\n",
       " ('sworn', 2),\n",
       " ('live', 6),\n",
       " ('chaste', 1),\n",
       " ('sparing', 1),\n",
       " ('huge', 1),\n",
       " ('waste', 3),\n",
       " ('starved', 1),\n",
       " ('severity', 1),\n",
       " ('cuts', 1),\n",
       " ('posterity', 1),\n",
       " ('wise', 3),\n",
       " ('wisely', 2),\n",
       " ('merit', 2),\n",
       " ('bliss', 1),\n",
       " ('making', 3),\n",
       " ('despair', 2),\n",
       " ('forsworn', 1),\n",
       " ('vow', 3),\n",
       " ('dead', 3),\n",
       " ('ruled', 1),\n",
       " ('forget', 8),\n",
       " ('think', 10),\n",
       " ('teach', 3),\n",
       " ('giving', 2),\n",
       " ('liberty', 2),\n",
       " ('unto', 3),\n",
       " ('examine', 2),\n",
       " ('beauties', 2),\n",
       " ('way', 2),\n",
       " ('exquisite', 1),\n",
       " ('question', 1),\n",
       " ('masks', 1),\n",
       " ('kiss', 4),\n",
       " ('ladies', 5),\n",
       " ('brows', 2),\n",
       " ('hide', 3),\n",
       " ('strucken', 1),\n",
       " ('blind', 3),\n",
       " ('precious', 2),\n",
       " ('treasure', 1),\n",
       " ('eyesight', 1),\n",
       " ('mistress', 3),\n",
       " ('passing', 2),\n",
       " ('note', 2),\n",
       " ('read', 6),\n",
       " ('canst', 2),\n",
       " ('doctrine', 1),\n",
       " ('die', 4),\n",
       " ('debt', 2),\n",
       " ('scene', 8),\n",
       " ('ii', 3),\n",
       " ('street', 3),\n",
       " ('paris', 8),\n",
       " ('servant', 20),\n",
       " ('bound', 5),\n",
       " ('penalty', 1),\n",
       " ('alike', 2),\n",
       " ('hard', 2),\n",
       " ('honourable', 2),\n",
       " ('reckoning', 2),\n",
       " ('pity', 1),\n",
       " ('lived', 1),\n",
       " ('odds', 1),\n",
       " ('lord', 3),\n",
       " ('suit', 3),\n",
       " ('saying', 1),\n",
       " (\"o'er\", 9),\n",
       " ('said', 7),\n",
       " ('child', 2),\n",
       " ('stranger', 1),\n",
       " ('world', 6),\n",
       " ('change', 2),\n",
       " ('fourteen', 6),\n",
       " ('years', 9),\n",
       " ('summers', 1),\n",
       " ('wither', 1),\n",
       " ('pride', 2),\n",
       " ('ripe', 1),\n",
       " ('bride', 1),\n",
       " ('younger', 2),\n",
       " ('mothers', 2),\n",
       " ('marr', 1),\n",
       " ('earth', 7),\n",
       " ('swallow', 1),\n",
       " ('hopes', 1),\n",
       " ('hopeful', 1),\n",
       " ('woo', 3),\n",
       " ('get', 1),\n",
       " ('consent', 4),\n",
       " ('agree', 1),\n",
       " ('within', 11),\n",
       " ('scope', 1),\n",
       " ('choice', 1),\n",
       " ('lies', 8),\n",
       " ('according', 1),\n",
       " ('voice', 3),\n",
       " ('accustom', 1),\n",
       " ('feast', 5),\n",
       " ('whereto', 1),\n",
       " ('invited', 1),\n",
       " ('guest', 2),\n",
       " ('welcome', 5),\n",
       " ('number', 2),\n",
       " ('behold', 2),\n",
       " ('earth-treading', 1),\n",
       " ('stars', 4),\n",
       " ('dark', 3),\n",
       " ('heaven', 5),\n",
       " ('comfort', 1),\n",
       " ('lusty', 2),\n",
       " ('well-apparell', 1),\n",
       " ('april', 1),\n",
       " ('heel', 1),\n",
       " ('limping', 1),\n",
       " ('winter', 1),\n",
       " ('treads', 1),\n",
       " ('even', 5),\n",
       " ('delight', 2),\n",
       " ('female', 1),\n",
       " ('buds', 1),\n",
       " ('inherit', 1),\n",
       " ('like', 13),\n",
       " ('though', 3),\n",
       " ('none', 4),\n",
       " ('paper', 1),\n",
       " ('sirrah', 3),\n",
       " ('trudge', 2),\n",
       " ('find', 10),\n",
       " ('persons', 2),\n",
       " ('names', 4),\n",
       " ('written', 5),\n",
       " ('shoemaker', 1),\n",
       " ('meddle', 1),\n",
       " ('yard', 1),\n",
       " ('tailor', 1),\n",
       " ('last', 3),\n",
       " ('fisher', 1),\n",
       " ('pencil', 1),\n",
       " ('painter', 1),\n",
       " ('nets', 1),\n",
       " ('sent', 1),\n",
       " ('writ', 3),\n",
       " ('never', 7),\n",
       " ('writing', 1),\n",
       " ('person', 1),\n",
       " ('learned', 2),\n",
       " ('burns', 1),\n",
       " ('another', 6),\n",
       " ('burning', 2),\n",
       " ('lessen', 1),\n",
       " ('anguish', 1),\n",
       " ('giddy', 1),\n",
       " ('holp', 1),\n",
       " ('backward', 3),\n",
       " ('turning', 2),\n",
       " ('desperate', 1),\n",
       " ('cures', 1),\n",
       " ('languish', 1),\n",
       " ('infection', 1),\n",
       " ('eye', 10),\n",
       " ('rank', 1),\n",
       " ('poison', 2),\n",
       " ('plaintain-leaf', 1),\n",
       " ('excellent', 2),\n",
       " ('pray', 9),\n",
       " ('broken', 1),\n",
       " ('shin', 1),\n",
       " ('mad', 3),\n",
       " ('mad-man', 1),\n",
       " ('shut', 1),\n",
       " ('prison', 1),\n",
       " ('kept', 1),\n",
       " ('food', 1),\n",
       " ('whipp', 1),\n",
       " ('tormented', 1),\n",
       " ('god-den', 2),\n",
       " ('fellow', 2),\n",
       " ('god', 9),\n",
       " ('gi', 1),\n",
       " ('fortune', 1),\n",
       " ('misery', 1),\n",
       " ('perhaps', 1),\n",
       " ('book', 4),\n",
       " ('letters', 1),\n",
       " ('language', 1),\n",
       " ('ye', 2),\n",
       " ('honestly', 1),\n",
       " ('merry', 3),\n",
       " ('reads', 1),\n",
       " ('signior', 3),\n",
       " ('martino', 1),\n",
       " ('wife', 2),\n",
       " ('daughters', 2),\n",
       " ('county', 2),\n",
       " ('anselme', 1),\n",
       " ('beauteous', 2),\n",
       " ('sisters', 1),\n",
       " ('widow', 1),\n",
       " ('vitravio', 1),\n",
       " ('placentio', 1),\n",
       " ('lovely', 1),\n",
       " ('nieces', 1),\n",
       " ('mercutio', 23),\n",
       " ('brother', 1),\n",
       " ('valentine', 1),\n",
       " ('niece', 1),\n",
       " ('rosaline', 10),\n",
       " ('livia', 1),\n",
       " ('valentio', 1),\n",
       " ('lucio', 1),\n",
       " ('lively', 1),\n",
       " ('helena', 1),\n",
       " ('assembly', 1),\n",
       " ('whither', 2),\n",
       " ('supper', 3),\n",
       " ('indeed', 3),\n",
       " ('ask', 4),\n",
       " ('asking', 1),\n",
       " ('great', 4),\n",
       " ('crush', 1),\n",
       " ('cup', 1),\n",
       " ('wine', 1),\n",
       " ('exit', 8),\n",
       " (\"capulet's\", 1),\n",
       " ('sups', 1),\n",
       " ('lovest', 2),\n",
       " ('admired', 1),\n",
       " ('thither', 1),\n",
       " ('unattainted', 1),\n",
       " ('compare', 1),\n",
       " ('face', 8),\n",
       " ('swan', 1),\n",
       " ('crow', 1),\n",
       " ('devout', 1),\n",
       " ('religion', 1),\n",
       " ('maintains', 1),\n",
       " ('falsehood', 1),\n",
       " ('fires', 1),\n",
       " ('often', 2),\n",
       " ('drown', 1),\n",
       " ('transparent', 1),\n",
       " ('heretics', 1),\n",
       " ('burnt', 1),\n",
       " ('liars', 1),\n",
       " ('fairer', 1),\n",
       " ('all-seeing', 1),\n",
       " (\"ne'er\", 3),\n",
       " ('match', 2),\n",
       " ('since', 6),\n",
       " ('begun', 1),\n",
       " ('poised', 1),\n",
       " ('crystal', 1),\n",
       " ('scales', 1),\n",
       " (\"weigh'd\", 1),\n",
       " ('maid', 5),\n",
       " ('shining', 1),\n",
       " ('scant', 1),\n",
       " ('shows', 4),\n",
       " ('best', 3),\n",
       " ('sight', 3),\n",
       " ('rejoice', 1),\n",
       " ('splendor', 1),\n",
       " ('iii', 2),\n",
       " ('room', 3),\n",
       " ('nurse', 33),\n",
       " ('daughter', 5),\n",
       " ('maidenhead', 1),\n",
       " ('twelve', 1),\n",
       " ('year', 3),\n",
       " ('bade', 1),\n",
       " ('lamb', 1),\n",
       " ('ladybird', 1),\n",
       " ('forbid', 1),\n",
       " ('girl', 2),\n",
       " ('juliet', 56),\n",
       " ('calls', 4),\n",
       " ('mother', 6),\n",
       " ('matter', 1),\n",
       " ('awhile', 2),\n",
       " (\"know'st\", 2),\n",
       " ('age', 4),\n",
       " ('faith', 3),\n",
       " ('lay', 4),\n",
       " ('teeth', 2),\n",
       " ('spoken', 1),\n",
       " ('four', 1),\n",
       " ('lammas-tide', 1),\n",
       " ('fortnight', 1),\n",
       " ('odd', 2),\n",
       " ('days', 5),\n",
       " ('lammas-eve', 2),\n",
       " ('susan', 3),\n",
       " ('christian', 1),\n",
       " ('souls', 1),\n",
       " ('earthquake', 1),\n",
       " ('eleven', 2),\n",
       " ('wean', 1),\n",
       " ('laid', 2),\n",
       " ('wormwood', 2),\n",
       " ('dug', 3),\n",
       " ('sitting', 1),\n",
       " ('dove-house', 2),\n",
       " ('wall', 4),\n",
       " ('mantua', 1),\n",
       " ('brain', 3),\n",
       " ('taste', 2),\n",
       " ('nipple', 1),\n",
       " ('felt', 2),\n",
       " ('bitter', 2),\n",
       " ('fool', 2),\n",
       " ('tetchy', 1),\n",
       " ('fall', 6),\n",
       " ('shake', 1),\n",
       " ('quoth', 4),\n",
       " ('need', 1),\n",
       " ('trow', 1),\n",
       " ('rood', 1),\n",
       " ('waddled', 1),\n",
       " ('broke', 1),\n",
       " ('brow', 2),\n",
       " ('husband', 2),\n",
       " ('soul', 5),\n",
       " ('took', 2),\n",
       " ('yea', 2),\n",
       " ('jule', 3),\n",
       " ('holidame', 1),\n",
       " ('wretch', 1),\n",
       " ('left', 1),\n",
       " ('crying', 2),\n",
       " ('jest', 1),\n",
       " ('warrant', 2),\n",
       " ('thousand', 3),\n",
       " ('stinted', 2),\n",
       " ('enough', 1),\n",
       " ('choose', 1),\n",
       " ('bump', 1),\n",
       " ('big', 2),\n",
       " ('cockerel', 1),\n",
       " ('stone', 1),\n",
       " ('parlous', 1),\n",
       " ('knock', 2),\n",
       " ('cried', 1),\n",
       " ('bitterly', 2),\n",
       " (\"fall'st\", 1),\n",
       " ('comest', 1),\n",
       " ('stint', 1),\n",
       " ('done', 4),\n",
       " ('grace', 5),\n",
       " ('wast', 3),\n",
       " ('prettiest', 1),\n",
       " ('babe', 1),\n",
       " (\"e'er\", 2),\n",
       " ('nursed', 2),\n",
       " ('might', 2),\n",
       " ('married', 4),\n",
       " ('wish', 3),\n",
       " ('theme', 1),\n",
       " ('stands', 1),\n",
       " ('disposition', 1),\n",
       " ('honour', 3),\n",
       " ('dream', 9),\n",
       " ('suck', 1),\n",
       " ('wisdom', 1),\n",
       " ('teat', 1),\n",
       " ('marriage', 3),\n",
       " ('esteem', 1),\n",
       " ('already', 2),\n",
       " ('count', 1),\n",
       " ('thus', 4),\n",
       " ('brief', 1),\n",
       " ('valiant', 1),\n",
       " ('seeks', 1),\n",
       " ('wax', 1),\n",
       " ('summer', 2),\n",
       " ('flower', 5),\n",
       " ('gentleman', 4),\n",
       " ('volume', 2),\n",
       " ('pen', 1),\n",
       " ('every', 4),\n",
       " ('lineament', 1),\n",
       " ('lends', 2),\n",
       " ('content', 2),\n",
       " ('obscured', 1),\n",
       " ('margent', 1),\n",
       " ('unbound', 1),\n",
       " ('lover', 3),\n",
       " ('beautify', 1),\n",
       " ('lacks', 1),\n",
       " ('cover', 3),\n",
       " ('share', 2),\n",
       " ('glory', 1),\n",
       " ('clasps', 1),\n",
       " ('story', 1),\n",
       " ('possess', 1),\n",
       " ('less', 3),\n",
       " ('bigger', 2),\n",
       " ('women', 3),\n",
       " ('briefly', 1),\n",
       " ('looking', 1),\n",
       " ('liking', 1),\n",
       " ('move', 4),\n",
       " ('endart', 1),\n",
       " ('gives', 1),\n",
       " ('strength', 2),\n",
       " ('fly', 1),\n",
       " ('guests', 3),\n",
       " ('served', 1),\n",
       " ('called', 2),\n",
       " ('asked', 2),\n",
       " ('cursed', 1),\n",
       " ('pantry', 1),\n",
       " ('extremity', 1),\n",
       " ('wait', 1),\n",
       " ('beseech', 2),\n",
       " ('follow', 3),\n",
       " ('straight', 5),\n",
       " ('stays', 1),\n",
       " ('nights', 1),\n",
       " ('iv', 2),\n",
       " ('five', 4),\n",
       " ('six', 1),\n",
       " ('maskers', 2),\n",
       " ('torch-bearers', 1),\n",
       " ('others', 2),\n",
       " ('speech', 1),\n",
       " ('spoke', 4),\n",
       " ('excuse', 1),\n",
       " ('apology', 1),\n",
       " ('date', 2),\n",
       " ('prolixity', 1),\n",
       " ('hoodwink', 1),\n",
       " ('scarf', 1),\n",
       " ('bearing', 1),\n",
       " ('tartar', 1),\n",
       " ('painted', 1),\n",
       " ('lath', 1),\n",
       " ('scaring', 1),\n",
       " ('crow-keeper', 1),\n",
       " ('without-book', 1),\n",
       " ('prologue', 2),\n",
       " ('faintly', 1),\n",
       " ('prompter', 1),\n",
       " ('entrance', 1),\n",
       " ('measure', 4),\n",
       " ('gone', 7),\n",
       " ('torch', 2),\n",
       " ('ambling', 1),\n",
       " ('dance', 4),\n",
       " ('believe', 2),\n",
       " ('dancing', 2),\n",
       " ('shoes', 1),\n",
       " ('nimble', 1),\n",
       " ('soles', 1),\n",
       " ('stakes', 1),\n",
       " ('borrow', 1),\n",
       " ('wings', 3),\n",
       " ('soar', 2),\n",
       " ('sore', 1),\n",
       " ('enpierced', 1),\n",
       " ('shaft', 1),\n",
       " ('feathers', 1),\n",
       " ('pitch', 1),\n",
       " ('dull', 2),\n",
       " ('woe', 2),\n",
       " ('burden', 2),\n",
       " ('sink', 2),\n",
       " ('tender', 4),\n",
       " ('rude', 3),\n",
       " ('boisterous', 1),\n",
       " ('pricks', 1),\n",
       " ('thorn', 1),\n",
       " ('prick', 2),\n",
       " ('pricking', 1),\n",
       " ('visage', 1),\n",
       " ('visor', 3),\n",
       " ('care', 3),\n",
       " ('curious', 1),\n",
       " ('quote', 1),\n",
       " ('deformities', 1),\n",
       " ('beetle', 1),\n",
       " ('blush', 2),\n",
       " ('sooner', 1),\n",
       " ('betake', 1),\n",
       " ('legs', 2),\n",
       " ('wantons', 1),\n",
       " ('tickle', 1),\n",
       " ('senseless', 1),\n",
       " ('rushes', 1),\n",
       " ('heels', 1),\n",
       " ('proverb', 1),\n",
       " ('grandsire', 1),\n",
       " ('phrase', 1),\n",
       " ('candle-holder', 1),\n",
       " ('game', 1),\n",
       " ('dun', 2),\n",
       " ('mouse', 1),\n",
       " ('constable', 1),\n",
       " ('mire', 1),\n",
       " ('sir-reverence', 1),\n",
       " ('wherein', 1),\n",
       " (\"stick'st\", 1),\n",
       " ('burn', 2),\n",
       " ('mean', 2),\n",
       " ('delay', 1),\n",
       " ...]"
      ]
     },
     "execution_count": 95,
     "metadata": {},
     "output_type": "execute_result"
    }
   ],
   "source": [
    "items"
   ]
  },
  {
   "cell_type": "code",
   "execution_count": 96,
   "metadata": {},
   "outputs": [],
   "source": [
    "from operator import itemgetter\n",
    "sorted_items = sorted(items,key = itemgetter(1), reverse=True)"
   ]
  },
  {
   "cell_type": "code",
   "execution_count": 85,
   "metadata": {},
   "outputs": [
    {
     "name": "stderr",
     "output_type": "stream",
     "text": [
      "[nltk_data] Downloading package stopwords to\n",
      "[nltk_data]     /home/francisco/nltk_data...\n",
      "[nltk_data]   Unzipping corpora/stopwords.zip.\n"
     ]
    },
    {
     "data": {
      "text/plain": [
       "True"
      ]
     },
     "execution_count": 85,
     "metadata": {},
     "output_type": "execute_result"
    }
   ],
   "source": [
    "nltk.download('stopwords')"
   ]
  },
  {
   "cell_type": "code",
   "execution_count": 86,
   "metadata": {},
   "outputs": [],
   "source": [
    "from nltk.corpus import stopwords"
   ]
  },
  {
   "cell_type": "code",
   "execution_count": 92,
   "metadata": {},
   "outputs": [],
   "source": [
    "stop_words = stopwords.words('english')"
   ]
  },
  {
   "cell_type": "code",
   "execution_count": 93,
   "metadata": {},
   "outputs": [
    {
     "data": {
      "text/plain": [
       "['i',\n",
       " 'me',\n",
       " 'my',\n",
       " 'myself',\n",
       " 'we',\n",
       " 'our',\n",
       " 'ours',\n",
       " 'ourselves',\n",
       " 'you',\n",
       " \"you're\",\n",
       " \"you've\",\n",
       " \"you'll\",\n",
       " \"you'd\",\n",
       " 'your',\n",
       " 'yours',\n",
       " 'yourself',\n",
       " 'yourselves',\n",
       " 'he',\n",
       " 'him',\n",
       " 'his',\n",
       " 'himself',\n",
       " 'she',\n",
       " \"she's\",\n",
       " 'her',\n",
       " 'hers',\n",
       " 'herself',\n",
       " 'it',\n",
       " \"it's\",\n",
       " 'its',\n",
       " 'itself',\n",
       " 'they',\n",
       " 'them',\n",
       " 'their',\n",
       " 'theirs',\n",
       " 'themselves',\n",
       " 'what',\n",
       " 'which',\n",
       " 'who',\n",
       " 'whom',\n",
       " 'this',\n",
       " 'that',\n",
       " \"that'll\",\n",
       " 'these',\n",
       " 'those',\n",
       " 'am',\n",
       " 'is',\n",
       " 'are',\n",
       " 'was',\n",
       " 'were',\n",
       " 'be',\n",
       " 'been',\n",
       " 'being',\n",
       " 'have',\n",
       " 'has',\n",
       " 'had',\n",
       " 'having',\n",
       " 'do',\n",
       " 'does',\n",
       " 'did',\n",
       " 'doing',\n",
       " 'a',\n",
       " 'an',\n",
       " 'the',\n",
       " 'and',\n",
       " 'but',\n",
       " 'if',\n",
       " 'or',\n",
       " 'because',\n",
       " 'as',\n",
       " 'until',\n",
       " 'while',\n",
       " 'of',\n",
       " 'at',\n",
       " 'by',\n",
       " 'for',\n",
       " 'with',\n",
       " 'about',\n",
       " 'against',\n",
       " 'between',\n",
       " 'into',\n",
       " 'through',\n",
       " 'during',\n",
       " 'before',\n",
       " 'after',\n",
       " 'above',\n",
       " 'below',\n",
       " 'to',\n",
       " 'from',\n",
       " 'up',\n",
       " 'down',\n",
       " 'in',\n",
       " 'out',\n",
       " 'on',\n",
       " 'off',\n",
       " 'over',\n",
       " 'under',\n",
       " 'again',\n",
       " 'further',\n",
       " 'then',\n",
       " 'once',\n",
       " 'here',\n",
       " 'there',\n",
       " 'when',\n",
       " 'where',\n",
       " 'why',\n",
       " 'how',\n",
       " 'all',\n",
       " 'any',\n",
       " 'both',\n",
       " 'each',\n",
       " 'few',\n",
       " 'more',\n",
       " 'most',\n",
       " 'other',\n",
       " 'some',\n",
       " 'such',\n",
       " 'no',\n",
       " 'nor',\n",
       " 'not',\n",
       " 'only',\n",
       " 'own',\n",
       " 'same',\n",
       " 'so',\n",
       " 'than',\n",
       " 'too',\n",
       " 'very',\n",
       " 's',\n",
       " 't',\n",
       " 'can',\n",
       " 'will',\n",
       " 'just',\n",
       " 'don',\n",
       " \"don't\",\n",
       " 'should',\n",
       " \"should've\",\n",
       " 'now',\n",
       " 'd',\n",
       " 'll',\n",
       " 'm',\n",
       " 'o',\n",
       " 're',\n",
       " 've',\n",
       " 'y',\n",
       " 'ain',\n",
       " 'aren',\n",
       " \"aren't\",\n",
       " 'couldn',\n",
       " \"couldn't\",\n",
       " 'didn',\n",
       " \"didn't\",\n",
       " 'doesn',\n",
       " \"doesn't\",\n",
       " 'hadn',\n",
       " \"hadn't\",\n",
       " 'hasn',\n",
       " \"hasn't\",\n",
       " 'haven',\n",
       " \"haven't\",\n",
       " 'isn',\n",
       " \"isn't\",\n",
       " 'ma',\n",
       " 'mightn',\n",
       " \"mightn't\",\n",
       " 'mustn',\n",
       " \"mustn't\",\n",
       " 'needn',\n",
       " \"needn't\",\n",
       " 'shan',\n",
       " \"shan't\",\n",
       " 'shouldn',\n",
       " \"shouldn't\",\n",
       " 'wasn',\n",
       " \"wasn't\",\n",
       " 'weren',\n",
       " \"weren't\",\n",
       " 'won',\n",
       " \"won't\",\n",
       " 'wouldn',\n",
       " \"wouldn't\"]"
      ]
     },
     "execution_count": 93,
     "metadata": {},
     "output_type": "execute_result"
    }
   ],
   "source": [
    "stop_words"
   ]
  },
  {
   "cell_type": "code",
   "execution_count": 100,
   "metadata": {},
   "outputs": [],
   "source": [
    "top20 = sorted_items[:20]"
   ]
  },
  {
   "cell_type": "code",
   "execution_count": 99,
   "metadata": {},
   "outputs": [],
   "source": [
    "import pandas as pd"
   ]
  },
  {
   "cell_type": "code",
   "execution_count": 101,
   "metadata": {},
   "outputs": [],
   "source": [
    "df = pd.DataFrame(top20, columns=['palabra', 'frecuencia'])"
   ]
  },
  {
   "cell_type": "code",
   "execution_count": 102,
   "metadata": {},
   "outputs": [
    {
     "data": {
      "text/html": [
       "<div>\n",
       "<style scoped>\n",
       "    .dataframe tbody tr th:only-of-type {\n",
       "        vertical-align: middle;\n",
       "    }\n",
       "\n",
       "    .dataframe tbody tr th {\n",
       "        vertical-align: top;\n",
       "    }\n",
       "\n",
       "    .dataframe thead th {\n",
       "        text-align: right;\n",
       "    }\n",
       "</style>\n",
       "<table border=\"1\" class=\"dataframe\">\n",
       "  <thead>\n",
       "    <tr style=\"text-align: right;\">\n",
       "      <th></th>\n",
       "      <th>palabra</th>\n",
       "      <th>frecuencia</th>\n",
       "    </tr>\n",
       "  </thead>\n",
       "  <tbody>\n",
       "    <tr>\n",
       "      <th>0</th>\n",
       "      <td>romeo</td>\n",
       "      <td>121</td>\n",
       "    </tr>\n",
       "    <tr>\n",
       "      <th>1</th>\n",
       "      <td>thou</td>\n",
       "      <td>82</td>\n",
       "    </tr>\n",
       "    <tr>\n",
       "      <th>2</th>\n",
       "      <td>love</td>\n",
       "      <td>81</td>\n",
       "    </tr>\n",
       "    <tr>\n",
       "      <th>3</th>\n",
       "      <td>juliet</td>\n",
       "      <td>56</td>\n",
       "    </tr>\n",
       "    <tr>\n",
       "      <th>4</th>\n",
       "      <td>benvolio</td>\n",
       "      <td>48</td>\n",
       "    </tr>\n",
       "    <tr>\n",
       "      <th>5</th>\n",
       "      <td>capulet</td>\n",
       "      <td>47</td>\n",
       "    </tr>\n",
       "    <tr>\n",
       "      <th>6</th>\n",
       "      <td>thy</td>\n",
       "      <td>46</td>\n",
       "    </tr>\n",
       "    <tr>\n",
       "      <th>7</th>\n",
       "      <td>thee</td>\n",
       "      <td>45</td>\n",
       "    </tr>\n",
       "    <tr>\n",
       "      <th>8</th>\n",
       "      <td>night</td>\n",
       "      <td>36</td>\n",
       "    </tr>\n",
       "    <tr>\n",
       "      <th>9</th>\n",
       "      <td>shall</td>\n",
       "      <td>34</td>\n",
       "    </tr>\n",
       "    <tr>\n",
       "      <th>10</th>\n",
       "      <td>good</td>\n",
       "      <td>33</td>\n",
       "    </tr>\n",
       "    <tr>\n",
       "      <th>11</th>\n",
       "      <td>lady</td>\n",
       "      <td>33</td>\n",
       "    </tr>\n",
       "    <tr>\n",
       "      <th>12</th>\n",
       "      <td>nurse</td>\n",
       "      <td>33</td>\n",
       "    </tr>\n",
       "    <tr>\n",
       "      <th>13</th>\n",
       "      <td>come</td>\n",
       "      <td>31</td>\n",
       "    </tr>\n",
       "    <tr>\n",
       "      <th>14</th>\n",
       "      <td>fair</td>\n",
       "      <td>31</td>\n",
       "    </tr>\n",
       "    <tr>\n",
       "      <th>15</th>\n",
       "      <td>montague</td>\n",
       "      <td>26</td>\n",
       "    </tr>\n",
       "    <tr>\n",
       "      <th>16</th>\n",
       "      <td>enter</td>\n",
       "      <td>25</td>\n",
       "    </tr>\n",
       "    <tr>\n",
       "      <th>17</th>\n",
       "      <td>would</td>\n",
       "      <td>23</td>\n",
       "    </tr>\n",
       "    <tr>\n",
       "      <th>18</th>\n",
       "      <td>mercutio</td>\n",
       "      <td>23</td>\n",
       "    </tr>\n",
       "    <tr>\n",
       "      <th>19</th>\n",
       "      <td>one</td>\n",
       "      <td>22</td>\n",
       "    </tr>\n",
       "  </tbody>\n",
       "</table>\n",
       "</div>"
      ],
      "text/plain": [
       "     palabra  frecuencia\n",
       "0      romeo         121\n",
       "1       thou          82\n",
       "2       love          81\n",
       "3     juliet          56\n",
       "4   benvolio          48\n",
       "5    capulet          47\n",
       "6        thy          46\n",
       "7       thee          45\n",
       "8      night          36\n",
       "9      shall          34\n",
       "10      good          33\n",
       "11      lady          33\n",
       "12     nurse          33\n",
       "13      come          31\n",
       "14      fair          31\n",
       "15  montague          26\n",
       "16     enter          25\n",
       "17     would          23\n",
       "18  mercutio          23\n",
       "19       one          22"
      ]
     },
     "execution_count": 102,
     "metadata": {},
     "output_type": "execute_result"
    }
   ],
   "source": [
    "df"
   ]
  },
  {
   "cell_type": "code",
   "execution_count": 105,
   "metadata": {},
   "outputs": [
    {
     "data": {
      "text/plain": [
       "<AxesSubplot:xlabel='palabra'>"
      ]
     },
     "execution_count": 105,
     "metadata": {},
     "output_type": "execute_result"
    },
    {
     "data": {
      "image/png": "[encoded data removed]",
      "text/plain": [
       "<Figure size 432x288 with 1 Axes>"
      ]
     },
     "metadata": {
      "needs_background": "light"
     },
     "output_type": "display_data"
    }
   ],
   "source": [
    "df.plot.bar(x='palabra', y = 'frecuencia')"
   ]
  }
 ],
 "metadata": {
  "kernelspec": {
   "display_name": "Python 3",
   "language": "python",
   "name": "python3"
  },
  "language_info": {
   "codemirror_mode": {
    "name": "ipython",
    "version": 3
   },
   "file_extension": ".py",
   "mimetype": "text/x-python",
   "name": "python",
   "nbconvert_exporter": "python",
   "pygments_lexer": "ipython3",
   "version": "3.8.5"
  }
 },
 "nbformat": 4,
 "nbformat_minor": 4
}
