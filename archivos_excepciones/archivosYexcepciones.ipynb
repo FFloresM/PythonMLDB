{
 "cells": [
  {
   "cell_type": "markdown",
   "metadata": {},
   "source": [
    "# Archivos"
   ]
  },
  {
   "cell_type": "markdown",
   "metadata": {},
   "source": [
    "### leer archivo"
   ]
  },
  {
   "cell_type": "code",
   "execution_count": 1,
   "metadata": {},
   "outputs": [],
   "source": [
    "archivo = open(\"letras.txt\", 'r')"
   ]
  },
  {
   "cell_type": "code",
   "execution_count": 3,
   "metadata": {},
   "outputs": [],
   "source": [
    "lineas = archivo.readlines()"
   ]
  },
  {
   "cell_type": "code",
   "execution_count": 4,
   "metadata": {},
   "outputs": [
    {
     "data": {
      "text/plain": [
       "['primera linea\\n', 'segunda linea\\n', 'tercera linea\\n', 'ultima linea\\n']"
      ]
     },
     "execution_count": 4,
     "metadata": {},
     "output_type": "execute_result"
    }
   ],
   "source": [
    "lineas"
   ]
  },
  {
   "cell_type": "code",
   "execution_count": 6,
   "metadata": {},
   "outputs": [],
   "source": [
    "archivo.close()"
   ]
  },
  {
   "cell_type": "markdown",
   "metadata": {},
   "source": [
    "### escribir archivo"
   ]
  },
  {
   "cell_type": "code",
   "execution_count": 12,
   "metadata": {},
   "outputs": [],
   "source": [
    "nuevo = open(\"direcciones.txt\", 'w')"
   ]
  },
  {
   "cell_type": "code",
   "execution_count": 13,
   "metadata": {},
   "outputs": [
    {
     "data": {
      "text/plain": [
       "17"
      ]
     },
     "execution_count": 13,
     "metadata": {},
     "output_type": "execute_result"
    }
   ],
   "source": [
    "nuevo.write(\"juanito calle 1\\n \")"
   ]
  },
  {
   "cell_type": "code",
   "execution_count": 14,
   "metadata": {},
   "outputs": [
    {
     "data": {
      "text/plain": [
       "14"
      ]
     },
     "execution_count": 14,
     "metadata": {},
     "output_type": "execute_result"
    }
   ],
   "source": [
    "nuevo.write(\"pedro calle 2\\n\")"
   ]
  },
  {
   "cell_type": "code",
   "execution_count": 15,
   "metadata": {},
   "outputs": [
    {
     "data": {
      "text/plain": [
       "16"
      ]
     },
     "execution_count": 15,
     "metadata": {},
     "output_type": "execute_result"
    }
   ],
   "source": [
    "nuevo.write(\"ignacio calle 3\\n\")"
   ]
  },
  {
   "cell_type": "code",
   "execution_count": 16,
   "metadata": {},
   "outputs": [],
   "source": [
    "nuevo.close()"
   ]
  },
  {
   "cell_type": "markdown",
   "metadata": {},
   "source": [
    "## abrir archivos con with"
   ]
  },
  {
   "cell_type": "code",
   "execution_count": 17,
   "metadata": {},
   "outputs": [],
   "source": [
    "with open(\"lista_telefonica\", 'w') as file:\n",
    "    file.write(\"juanito 12345\\n\")\n",
    "    file.write(\"pedrito 12325\\n\")\n",
    "    file.write(\"ana 123456\\n\")\n",
    "    file.write(\"jonny 3456\\n\")"
   ]
  },
  {
   "cell_type": "code",
   "execution_count": 26,
   "metadata": {},
   "outputs": [
    {
     "name": "stdout",
     "output_type": "stream",
     "text": [
      "juanito 12345\n",
      "pedrito 12325\n",
      "ana 123456\n",
      "jonny 3456\n"
     ]
    }
   ],
   "source": [
    "with open(\"lista_telefonica\", 'r') as file:\n",
    "    for linea in file:\n",
    "        print(linea, end=\"\")"
   ]
  },
  {
   "cell_type": "code",
   "execution_count": 23,
   "metadata": {},
   "outputs": [
    {
     "data": {
      "text/plain": [
       "['hola', 'mundo']"
      ]
     },
     "execution_count": 23,
     "metadata": {},
     "output_type": "execute_result"
    }
   ],
   "source": [
    "\"hola mundo\".split()"
   ]
  },
  {
   "cell_type": "code",
   "execution_count": 25,
   "metadata": {},
   "outputs": [
    {
     "name": "stdout",
     "output_type": "stream",
     "text": [
      "nombre     numero telefono\n",
      "juanito    12345          \n",
      "pedrito    12325          \n",
      "ana        123456         \n",
      "jonny      3456           \n"
     ]
    }
   ],
   "source": [
    "with open(\"lista_telefonica\", 'r') as file:\n",
    "    print(f\"{'nombre':<10} {'numero telefono':<15}\")\n",
    "    for linea in file.readlines():\n",
    "        nombre, numero = linea.split()\n",
    "        print(f\"{nombre:<10} {numero:<15}\")"
   ]
  },
  {
   "cell_type": "code",
   "execution_count": 33,
   "metadata": {},
   "outputs": [],
   "source": [
    "with open(\"lista_telefonica\", 'a') as file:\n",
    "    file.write(f\"{'pancho':<10} {'5698':<15}\\n\")"
   ]
  },
  {
   "cell_type": "code",
   "execution_count": 34,
   "metadata": {},
   "outputs": [],
   "source": [
    "import os"
   ]
  },
  {
   "cell_type": "code",
   "execution_count": 35,
   "metadata": {},
   "outputs": [],
   "source": [
    "os.remove('lista_telefonica') #borrar una archivo"
   ]
  },
  {
   "cell_type": "code",
   "execution_count": 36,
   "metadata": {},
   "outputs": [],
   "source": [
    "os.rename('letras.txt', \"mis_letras\")"
   ]
  },
  {
   "cell_type": "code",
   "execution_count": 37,
   "metadata": {},
   "outputs": [],
   "source": [
    "# json"
   ]
  },
  {
   "cell_type": "code",
   "execution_count": 38,
   "metadata": {},
   "outputs": [],
   "source": [
    "dict_cuentas = {'cuentas': [\n",
    "    {'caja': 1234, 'mercaderia': 152, 'iva': 10500},\n",
    "    {'caja': 356, 'mercaderia': 456, 'iva': 559},\n",
    "]}"
   ]
  },
  {
   "cell_type": "code",
   "execution_count": 39,
   "metadata": {},
   "outputs": [
    {
     "data": {
      "text/plain": [
       "{'cuentas': [{'caja': 1234, 'mercaderia': 152, 'iva': 10500},\n",
       "  {'caja': 356, 'mercaderia': 456, 'iva': 559}]}"
      ]
     },
     "execution_count": 39,
     "metadata": {},
     "output_type": "execute_result"
    }
   ],
   "source": [
    "dict_cuentas"
   ]
  },
  {
   "cell_type": "code",
   "execution_count": 40,
   "metadata": {},
   "outputs": [],
   "source": [
    "import json"
   ]
  },
  {
   "cell_type": "code",
   "execution_count": 41,
   "metadata": {},
   "outputs": [],
   "source": [
    "with open(\"cuentas.json\", 'w') as cuentas:\n",
    "    json.dump(dict_cuentas, cuentas)"
   ]
  },
  {
   "cell_type": "code",
   "execution_count": 42,
   "metadata": {},
   "outputs": [],
   "source": [
    "with open(\"cuentas.json\", 'r') as cuentas:\n",
    "    cuentas_json = json.load(cuentas)"
   ]
  },
  {
   "cell_type": "code",
   "execution_count": 43,
   "metadata": {},
   "outputs": [
    {
     "data": {
      "text/plain": [
       "{'cuentas': [{'caja': 1234, 'mercaderia': 152, 'iva': 10500},\n",
       "  {'caja': 356, 'mercaderia': 456, 'iva': 559}]}"
      ]
     },
     "execution_count": 43,
     "metadata": {},
     "output_type": "execute_result"
    }
   ],
   "source": [
    "cuentas_json"
   ]
  },
  {
   "cell_type": "code",
   "execution_count": 44,
   "metadata": {},
   "outputs": [
    {
     "data": {
      "text/plain": [
       "[{'caja': 1234, 'mercaderia': 152, 'iva': 10500},\n",
       " {'caja': 356, 'mercaderia': 456, 'iva': 559}]"
      ]
     },
     "execution_count": 44,
     "metadata": {},
     "output_type": "execute_result"
    }
   ],
   "source": [
    "cuentas_json['cuentas']"
   ]
  },
  {
   "cell_type": "code",
   "execution_count": 46,
   "metadata": {},
   "outputs": [
    {
     "data": {
      "text/plain": [
       "10500"
      ]
     },
     "execution_count": 46,
     "metadata": {},
     "output_type": "execute_result"
    }
   ],
   "source": [
    "cuentas_json['cuentas'][0]['iva']"
   ]
  },
  {
   "cell_type": "code",
   "execution_count": 47,
   "metadata": {},
   "outputs": [
    {
     "data": {
      "text/plain": [
       "{'caja': 1234, 'mercaderia': 152, 'iva': 10500}"
      ]
     },
     "execution_count": 47,
     "metadata": {},
     "output_type": "execute_result"
    }
   ],
   "source": [
    "cuentas_json['cuentas'][0]"
   ]
  },
  {
   "cell_type": "code",
   "execution_count": 48,
   "metadata": {},
   "outputs": [
    {
     "data": {
      "text/plain": [
       "{'caja': 356, 'mercaderia': 456, 'iva': 559}"
      ]
     },
     "execution_count": 48,
     "metadata": {},
     "output_type": "execute_result"
    }
   ],
   "source": [
    "cuentas_json['cuentas'][1]"
   ]
  },
  {
   "cell_type": "code",
   "execution_count": 50,
   "metadata": {},
   "outputs": [
    {
     "name": "stdout",
     "output_type": "stream",
     "text": [
      "{\n",
      "    \"cuentas\": [\n",
      "        {\n",
      "            \"caja\": 1234,\n",
      "            \"mercaderia\": 152,\n",
      "            \"iva\": 10500\n",
      "        },\n",
      "        {\n",
      "            \"caja\": 356,\n",
      "            \"mercaderia\": 456,\n",
      "            \"iva\": 559\n",
      "        }\n",
      "    ]\n",
      "}\n"
     ]
    }
   ],
   "source": [
    "with open(\"cuentas.json\", 'r') as cuentas:\n",
    "    print(json.dumps(json.load(cuentas), indent=4))"
   ]
  },
  {
   "cell_type": "markdown",
   "metadata": {},
   "source": [
    "# excepciones"
   ]
  },
  {
   "cell_type": "code",
   "execution_count": 51,
   "metadata": {},
   "outputs": [
    {
     "ename": "ZeroDivisionError",
     "evalue": "division by zero",
     "output_type": "error",
     "traceback": [
      "\u001b[0;31m---------------------------------------------------------------------------\u001b[0m",
      "\u001b[0;31mZeroDivisionError\u001b[0m                         Traceback (most recent call last)",
      "\u001b[0;32m<ipython-input-51-9e1622b385b6>\u001b[0m in \u001b[0;36m<module>\u001b[0;34m\u001b[0m\n\u001b[0;32m----> 1\u001b[0;31m \u001b[0;36m1\u001b[0m\u001b[0;34m/\u001b[0m\u001b[0;36m0\u001b[0m\u001b[0;34m\u001b[0m\u001b[0;34m\u001b[0m\u001b[0m\n\u001b[0m",
      "\u001b[0;31mZeroDivisionError\u001b[0m: division by zero"
     ]
    }
   ],
   "source": [
    "1/0"
   ]
  },
  {
   "cell_type": "code",
   "execution_count": 52,
   "metadata": {},
   "outputs": [
    {
     "name": "stdout",
     "output_type": "stream",
     "text": [
      "ingrese un numerohola\n"
     ]
    },
    {
     "ename": "ValueError",
     "evalue": "invalid literal for int() with base 10: 'hola'",
     "output_type": "error",
     "traceback": [
      "\u001b[0;31m---------------------------------------------------------------------------\u001b[0m",
      "\u001b[0;31mValueError\u001b[0m                                Traceback (most recent call last)",
      "\u001b[0;32m<ipython-input-52-adf447919876>\u001b[0m in \u001b[0;36m<module>\u001b[0;34m\u001b[0m\n\u001b[0;32m----> 1\u001b[0;31m \u001b[0mvalor\u001b[0m \u001b[0;34m=\u001b[0m \u001b[0mint\u001b[0m\u001b[0;34m(\u001b[0m\u001b[0minput\u001b[0m\u001b[0;34m(\u001b[0m\u001b[0;34m\"ingrese un numero\"\u001b[0m\u001b[0;34m)\u001b[0m\u001b[0;34m)\u001b[0m\u001b[0;34m\u001b[0m\u001b[0;34m\u001b[0m\u001b[0m\n\u001b[0m",
      "\u001b[0;31mValueError\u001b[0m: invalid literal for int() with base 10: 'hola'"
     ]
    }
   ],
   "source": [
    "valor = int(input(\"ingrese un numero\"))"
   ]
  },
  {
   "cell_type": "code",
   "execution_count": 53,
   "metadata": {},
   "outputs": [],
   "source": [
    "#try:"
   ]
  },
  {
   "cell_type": "code",
   "execution_count": 56,
   "metadata": {},
   "outputs": [
    {
     "name": "stdout",
     "output_type": "stream",
     "text": [
      "ingrese numerador: hola\n",
      "debe ingresar dos números\n",
      "ingrese numerador: 5\n",
      "ingrese denominador: 0\n",
      "Intenta dividir por cero\n",
      "ingrese numerador: 5\n",
      "ingrese denominador: 9\n",
      "5.000 / 9.000 = 0.556\n"
     ]
    }
   ],
   "source": [
    "while True:\n",
    "    #intentar convertir y dividir valores\n",
    "    try:\n",
    "        numero1 = int(input(\"ingrese numerador: \"))\n",
    "        numero2 = int(input(\"ingrese denominador: \"))\n",
    "        resultado = numero1 / numero2\n",
    "    except ValueError: #intentar convertir un valor no numerico a int\n",
    "        print(\"debe ingresar dos números\")\n",
    "    except ZeroDivisionError: # denominador igual a 0\n",
    "        print(\"Intenta dividir por cero\")\n",
    "    else: #ejecuta siempre que no exista una excepción\n",
    "        print(f'{numero1:.3f} / {numero2:.3f} = {resultado:.3f}')\n",
    "        break #termina el loop\n",
    "        "
   ]
  },
  {
   "cell_type": "code",
   "execution_count": 57,
   "metadata": {},
   "outputs": [
    {
     "name": "stdout",
     "output_type": "stream",
     "text": [
      "no hay excepciones\n",
      "else se ejecuta porqeu no hay error en try\n",
      "finally siempre se ejecuta\n"
     ]
    }
   ],
   "source": [
    "try:\n",
    "    print(\"no hay excepciones\")\n",
    "except:\n",
    "    print(\"esto no se ejecuta\")\n",
    "else:\n",
    "    print('else se ejecuta porque no hay error en try')\n",
    "finally:\n",
    "    print(\"finally siempre se ejecuta\")"
   ]
  },
  {
   "cell_type": "code",
   "execution_count": 58,
   "metadata": {},
   "outputs": [
    {
     "ename": "FileNotFoundError",
     "evalue": "[Errno 2] No such file or directory: 'grades.txt'",
     "output_type": "error",
     "traceback": [
      "\u001b[0;31m---------------------------------------------------------------------------\u001b[0m",
      "\u001b[0;31mFileNotFoundError\u001b[0m                         Traceback (most recent call last)",
      "\u001b[0;32m<ipython-input-58-fb8d83b16d62>\u001b[0m in \u001b[0;36m<module>\u001b[0;34m\u001b[0m\n\u001b[0;32m----> 1\u001b[0;31m \u001b[0mopen\u001b[0m\u001b[0;34m(\u001b[0m\u001b[0;34m'grades.txt'\u001b[0m\u001b[0;34m)\u001b[0m\u001b[0;34m\u001b[0m\u001b[0;34m\u001b[0m\u001b[0m\n\u001b[0m",
      "\u001b[0;31mFileNotFoundError\u001b[0m: [Errno 2] No such file or directory: 'grades.txt'"
     ]
    }
   ],
   "source": [
    "open('grades.txt')"
   ]
  },
  {
   "cell_type": "code",
   "execution_count": 60,
   "metadata": {},
   "outputs": [
    {
     "name": "stdout",
     "output_type": "stream",
     "text": [
      "El nombre de archivo especificado no existe!!!\n"
     ]
    }
   ],
   "source": [
    "try:\n",
    "    with open(\"grades.txt\", 'r') as archivo:\n",
    "        for line in archivo.readlines():\n",
    "            print(line)\n",
    "except FileNotFoundError:\n",
    "    print(\"El nombre de archivo especificado no existe!!!\")"
   ]
  },
  {
   "cell_type": "code",
   "execution_count": 62,
   "metadata": {},
   "outputs": [
    {
     "name": "stdout",
     "output_type": "stream",
     "text": [
      "debe importar la librería.!!\n"
     ]
    }
   ],
   "source": [
    "try:\n",
    "    ramdon.randint(1,6)\n",
    "except NameError:\n",
    "    print(\"debe importar la librería.!!\")"
   ]
  },
  {
   "cell_type": "code",
   "execution_count": 63,
   "metadata": {},
   "outputs": [],
   "source": [
    "try:\n",
    "    import numpy as np\n",
    "except NameError:\n",
    "    print(\"debe instalar el paquete antes de importarlo\")"
   ]
  },
  {
   "cell_type": "markdown",
   "metadata": {},
   "source": [
    "## Intro to Data Science: trabajando con archivos CSV"
   ]
  },
  {
   "cell_type": "code",
   "execution_count": 64,
   "metadata": {},
   "outputs": [],
   "source": [
    "# comma separated values"
   ]
  },
  {
   "cell_type": "markdown",
   "metadata": {},
   "source": [
    "### usando csv de python"
   ]
  },
  {
   "cell_type": "code",
   "execution_count": 65,
   "metadata": {},
   "outputs": [],
   "source": [
    "import csv"
   ]
  },
  {
   "cell_type": "code",
   "execution_count": 66,
   "metadata": {},
   "outputs": [],
   "source": [
    "with open(\"cuentas.csv\", mode='w', newline='') as cuentas:\n",
    "    writer = csv.writer(cuentas)\n",
    "    writer.writerow([100, 'jones', 25.24])\n",
    "    writer.writerow([200, 'Donald', 0])\n",
    "    writer.writerow([300, 'joe', 20.24])\n",
    "    writer.writerow([400, 'juanito', 13.24])"
   ]
  },
  {
   "cell_type": "code",
   "execution_count": 69,
   "metadata": {},
   "outputs": [
    {
     "name": "stdout",
     "output_type": "stream",
     "text": [
      "Nombre    Edad      altura    \n",
      "juanito   13        1.56      \n",
      "pedrito   20        1.67      \n",
      "jonny     30        1.90      \n"
     ]
    }
   ],
   "source": [
    "with open('datos.csv', 'r', newline='') as datos:\n",
    "    print(f'{\"Nombre\":<10}{\"Edad\":<10}{\"altura\":<10}')\n",
    "    reader = csv.reader(datos)\n",
    "    for fila in reader:\n",
    "        nombre, edad, altura = fila\n",
    "        print(f\"{nombre:<10}{edad:<10}{altura:<10}\")"
   ]
  },
  {
   "cell_type": "markdown",
   "metadata": {},
   "source": [
    "### usando pandas"
   ]
  },
  {
   "cell_type": "code",
   "execution_count": 70,
   "metadata": {},
   "outputs": [],
   "source": [
    "import pandas as pd"
   ]
  },
  {
   "cell_type": "code",
   "execution_count": 74,
   "metadata": {},
   "outputs": [],
   "source": [
    "datos = pd.read_csv('datos.csv', names=['nombre', 'edad', 'altura'])"
   ]
  },
  {
   "cell_type": "code",
   "execution_count": 75,
   "metadata": {},
   "outputs": [
    {
     "data": {
      "text/html": [
       "<div>\n",
       "<style scoped>\n",
       "    .dataframe tbody tr th:only-of-type {\n",
       "        vertical-align: middle;\n",
       "    }\n",
       "\n",
       "    .dataframe tbody tr th {\n",
       "        vertical-align: top;\n",
       "    }\n",
       "\n",
       "    .dataframe thead th {\n",
       "        text-align: right;\n",
       "    }\n",
       "</style>\n",
       "<table border=\"1\" class=\"dataframe\">\n",
       "  <thead>\n",
       "    <tr style=\"text-align: right;\">\n",
       "      <th></th>\n",
       "      <th>nombre</th>\n",
       "      <th>edad</th>\n",
       "      <th>altura</th>\n",
       "    </tr>\n",
       "  </thead>\n",
       "  <tbody>\n",
       "    <tr>\n",
       "      <th>0</th>\n",
       "      <td>juanito</td>\n",
       "      <td>13</td>\n",
       "      <td>1.56</td>\n",
       "    </tr>\n",
       "    <tr>\n",
       "      <th>1</th>\n",
       "      <td>pedrito</td>\n",
       "      <td>20</td>\n",
       "      <td>1.67</td>\n",
       "    </tr>\n",
       "    <tr>\n",
       "      <th>2</th>\n",
       "      <td>jonny</td>\n",
       "      <td>30</td>\n",
       "      <td>1.90</td>\n",
       "    </tr>\n",
       "  </tbody>\n",
       "</table>\n",
       "</div>"
      ],
      "text/plain": [
       "    nombre  edad  altura\n",
       "0  juanito    13    1.56\n",
       "1  pedrito    20    1.67\n",
       "2    jonny    30    1.90"
      ]
     },
     "execution_count": 75,
     "metadata": {},
     "output_type": "execute_result"
    }
   ],
   "source": [
    "datos"
   ]
  },
  {
   "cell_type": "code",
   "execution_count": 76,
   "metadata": {},
   "outputs": [],
   "source": [
    "titanic = pd.read_csv('https://vincentarelbundock.github.io/' +\n",
    "'Rdatasets/csv/carData/TitanicSurvival.csv')"
   ]
  },
  {
   "cell_type": "code",
   "execution_count": 77,
   "metadata": {},
   "outputs": [
    {
     "data": {
      "text/html": [
       "<div>\n",
       "<style scoped>\n",
       "    .dataframe tbody tr th:only-of-type {\n",
       "        vertical-align: middle;\n",
       "    }\n",
       "\n",
       "    .dataframe tbody tr th {\n",
       "        vertical-align: top;\n",
       "    }\n",
       "\n",
       "    .dataframe thead th {\n",
       "        text-align: right;\n",
       "    }\n",
       "</style>\n",
       "<table border=\"1\" class=\"dataframe\">\n",
       "  <thead>\n",
       "    <tr style=\"text-align: right;\">\n",
       "      <th></th>\n",
       "      <th>Unnamed: 0</th>\n",
       "      <th>survived</th>\n",
       "      <th>sex</th>\n",
       "      <th>age</th>\n",
       "      <th>passengerClass</th>\n",
       "    </tr>\n",
       "  </thead>\n",
       "  <tbody>\n",
       "    <tr>\n",
       "      <th>0</th>\n",
       "      <td>Allen, Miss. Elisabeth Walton</td>\n",
       "      <td>yes</td>\n",
       "      <td>female</td>\n",
       "      <td>29.0000</td>\n",
       "      <td>1st</td>\n",
       "    </tr>\n",
       "    <tr>\n",
       "      <th>1</th>\n",
       "      <td>Allison, Master. Hudson Trevor</td>\n",
       "      <td>yes</td>\n",
       "      <td>male</td>\n",
       "      <td>0.9167</td>\n",
       "      <td>1st</td>\n",
       "    </tr>\n",
       "    <tr>\n",
       "      <th>2</th>\n",
       "      <td>Allison, Miss. Helen Loraine</td>\n",
       "      <td>no</td>\n",
       "      <td>female</td>\n",
       "      <td>2.0000</td>\n",
       "      <td>1st</td>\n",
       "    </tr>\n",
       "    <tr>\n",
       "      <th>3</th>\n",
       "      <td>Allison, Mr. Hudson Joshua Crei</td>\n",
       "      <td>no</td>\n",
       "      <td>male</td>\n",
       "      <td>30.0000</td>\n",
       "      <td>1st</td>\n",
       "    </tr>\n",
       "    <tr>\n",
       "      <th>4</th>\n",
       "      <td>Allison, Mrs. Hudson J C (Bessi</td>\n",
       "      <td>no</td>\n",
       "      <td>female</td>\n",
       "      <td>25.0000</td>\n",
       "      <td>1st</td>\n",
       "    </tr>\n",
       "    <tr>\n",
       "      <th>...</th>\n",
       "      <td>...</td>\n",
       "      <td>...</td>\n",
       "      <td>...</td>\n",
       "      <td>...</td>\n",
       "      <td>...</td>\n",
       "    </tr>\n",
       "    <tr>\n",
       "      <th>1304</th>\n",
       "      <td>Zabour, Miss. Hileni</td>\n",
       "      <td>no</td>\n",
       "      <td>female</td>\n",
       "      <td>14.5000</td>\n",
       "      <td>3rd</td>\n",
       "    </tr>\n",
       "    <tr>\n",
       "      <th>1305</th>\n",
       "      <td>Zabour, Miss. Thamine</td>\n",
       "      <td>no</td>\n",
       "      <td>female</td>\n",
       "      <td>NaN</td>\n",
       "      <td>3rd</td>\n",
       "    </tr>\n",
       "    <tr>\n",
       "      <th>1306</th>\n",
       "      <td>Zakarian, Mr. Mapriededer</td>\n",
       "      <td>no</td>\n",
       "      <td>male</td>\n",
       "      <td>26.5000</td>\n",
       "      <td>3rd</td>\n",
       "    </tr>\n",
       "    <tr>\n",
       "      <th>1307</th>\n",
       "      <td>Zakarian, Mr. Ortin</td>\n",
       "      <td>no</td>\n",
       "      <td>male</td>\n",
       "      <td>27.0000</td>\n",
       "      <td>3rd</td>\n",
       "    </tr>\n",
       "    <tr>\n",
       "      <th>1308</th>\n",
       "      <td>Zimmerman, Mr. Leo</td>\n",
       "      <td>no</td>\n",
       "      <td>male</td>\n",
       "      <td>29.0000</td>\n",
       "      <td>3rd</td>\n",
       "    </tr>\n",
       "  </tbody>\n",
       "</table>\n",
       "<p>1309 rows × 5 columns</p>\n",
       "</div>"
      ],
      "text/plain": [
       "                           Unnamed: 0 survived     sex      age passengerClass\n",
       "0       Allen, Miss. Elisabeth Walton      yes  female  29.0000            1st\n",
       "1      Allison, Master. Hudson Trevor      yes    male   0.9167            1st\n",
       "2        Allison, Miss. Helen Loraine       no  female   2.0000            1st\n",
       "3     Allison, Mr. Hudson Joshua Crei       no    male  30.0000            1st\n",
       "4     Allison, Mrs. Hudson J C (Bessi       no  female  25.0000            1st\n",
       "...                               ...      ...     ...      ...            ...\n",
       "1304             Zabour, Miss. Hileni       no  female  14.5000            3rd\n",
       "1305            Zabour, Miss. Thamine       no  female      NaN            3rd\n",
       "1306        Zakarian, Mr. Mapriededer       no    male  26.5000            3rd\n",
       "1307              Zakarian, Mr. Ortin       no    male  27.0000            3rd\n",
       "1308               Zimmerman, Mr. Leo       no    male  29.0000            3rd\n",
       "\n",
       "[1309 rows x 5 columns]"
      ]
     },
     "execution_count": 77,
     "metadata": {},
     "output_type": "execute_result"
    }
   ],
   "source": [
    "titanic"
   ]
  },
  {
   "cell_type": "code",
   "execution_count": 81,
   "metadata": {},
   "outputs": [],
   "source": [
    "camas = pd.read_csv('https://raw.githubusercontent.com/verocarcamo/Datos-COVID19/master/input/ReporteDiario/CamasHospital_Diario.csv')"
   ]
  },
  {
   "cell_type": "code",
   "execution_count": 82,
   "metadata": {},
   "outputs": [
    {
     "data": {
      "text/html": [
       "<div>\n",
       "<style scoped>\n",
       "    .dataframe tbody tr th:only-of-type {\n",
       "        vertical-align: middle;\n",
       "    }\n",
       "\n",
       "    .dataframe tbody tr th {\n",
       "        vertical-align: top;\n",
       "    }\n",
       "\n",
       "    .dataframe thead th {\n",
       "        text-align: right;\n",
       "    }\n",
       "</style>\n",
       "<table border=\"1\" class=\"dataframe\">\n",
       "  <thead>\n",
       "    <tr style=\"text-align: right;\">\n",
       "      <th></th>\n",
       "      <th>Tipo de cama</th>\n",
       "      <th>2020-04-16</th>\n",
       "      <th>2020-04-17</th>\n",
       "      <th>2020-04-18</th>\n",
       "      <th>2020-04-19</th>\n",
       "      <th>2020-04-20</th>\n",
       "      <th>2020-04-21</th>\n",
       "      <th>2020-04-22</th>\n",
       "      <th>2020-04-23</th>\n",
       "      <th>2020-04-24</th>\n",
       "      <th>...</th>\n",
       "      <th>2020-12-28</th>\n",
       "      <th>2020-12-29</th>\n",
       "      <th>2020-12-30</th>\n",
       "      <th>2020-12-31</th>\n",
       "      <th>2021-01-01</th>\n",
       "      <th>2021-01-02</th>\n",
       "      <th>2021-01-03</th>\n",
       "      <th>2021-01-04</th>\n",
       "      <th>2021-01-05</th>\n",
       "      <th>2021-01-06</th>\n",
       "    </tr>\n",
       "  </thead>\n",
       "  <tbody>\n",
       "    <tr>\n",
       "      <th>0</th>\n",
       "      <td>Basica</td>\n",
       "      <td>384</td>\n",
       "      <td>385</td>\n",
       "      <td>360</td>\n",
       "      <td>407</td>\n",
       "      <td>424</td>\n",
       "      <td>428</td>\n",
       "      <td>422</td>\n",
       "      <td>470</td>\n",
       "      <td>489</td>\n",
       "      <td>...</td>\n",
       "      <td>746</td>\n",
       "      <td>748</td>\n",
       "      <td>784</td>\n",
       "      <td>772</td>\n",
       "      <td>786</td>\n",
       "      <td>767</td>\n",
       "      <td>781</td>\n",
       "      <td>814</td>\n",
       "      <td>819</td>\n",
       "      <td>840</td>\n",
       "    </tr>\n",
       "    <tr>\n",
       "      <th>1</th>\n",
       "      <td>Media</td>\n",
       "      <td>157</td>\n",
       "      <td>113</td>\n",
       "      <td>131</td>\n",
       "      <td>195</td>\n",
       "      <td>204</td>\n",
       "      <td>202</td>\n",
       "      <td>219</td>\n",
       "      <td>192</td>\n",
       "      <td>189</td>\n",
       "      <td>...</td>\n",
       "      <td>712</td>\n",
       "      <td>727</td>\n",
       "      <td>725</td>\n",
       "      <td>768</td>\n",
       "      <td>752</td>\n",
       "      <td>759</td>\n",
       "      <td>778</td>\n",
       "      <td>835</td>\n",
       "      <td>863</td>\n",
       "      <td>850</td>\n",
       "    </tr>\n",
       "    <tr>\n",
       "      <th>2</th>\n",
       "      <td>UTI</td>\n",
       "      <td>111</td>\n",
       "      <td>168</td>\n",
       "      <td>180</td>\n",
       "      <td>134</td>\n",
       "      <td>129</td>\n",
       "      <td>121</td>\n",
       "      <td>184</td>\n",
       "      <td>120</td>\n",
       "      <td>118</td>\n",
       "      <td>...</td>\n",
       "      <td>425</td>\n",
       "      <td>431</td>\n",
       "      <td>435</td>\n",
       "      <td>444</td>\n",
       "      <td>452</td>\n",
       "      <td>446</td>\n",
       "      <td>467</td>\n",
       "      <td>464</td>\n",
       "      <td>469</td>\n",
       "      <td>457</td>\n",
       "    </tr>\n",
       "    <tr>\n",
       "      <th>3</th>\n",
       "      <td>UCI</td>\n",
       "      <td>384</td>\n",
       "      <td>407</td>\n",
       "      <td>380</td>\n",
       "      <td>373</td>\n",
       "      <td>377</td>\n",
       "      <td>392</td>\n",
       "      <td>399</td>\n",
       "      <td>411</td>\n",
       "      <td>415</td>\n",
       "      <td>...</td>\n",
       "      <td>734</td>\n",
       "      <td>745</td>\n",
       "      <td>752</td>\n",
       "      <td>766</td>\n",
       "      <td>794</td>\n",
       "      <td>791</td>\n",
       "      <td>781</td>\n",
       "      <td>787</td>\n",
       "      <td>801</td>\n",
       "      <td>820</td>\n",
       "    </tr>\n",
       "  </tbody>\n",
       "</table>\n",
       "<p>4 rows × 267 columns</p>\n",
       "</div>"
      ],
      "text/plain": [
       "  Tipo de cama  2020-04-16  2020-04-17  2020-04-18  2020-04-19  2020-04-20  \\\n",
       "0       Basica         384         385         360         407         424   \n",
       "1        Media         157         113         131         195         204   \n",
       "2          UTI         111         168         180         134         129   \n",
       "3          UCI         384         407         380         373         377   \n",
       "\n",
       "   2020-04-21  2020-04-22  2020-04-23  2020-04-24  ...  2020-12-28  \\\n",
       "0         428         422         470         489  ...         746   \n",
       "1         202         219         192         189  ...         712   \n",
       "2         121         184         120         118  ...         425   \n",
       "3         392         399         411         415  ...         734   \n",
       "\n",
       "   2020-12-29  2020-12-30  2020-12-31  2021-01-01  2021-01-02  2021-01-03  \\\n",
       "0         748         784         772         786         767         781   \n",
       "1         727         725         768         752         759         778   \n",
       "2         431         435         444         452         446         467   \n",
       "3         745         752         766         794         791         781   \n",
       "\n",
       "   2021-01-04  2021-01-05  2021-01-06  \n",
       "0         814         819         840  \n",
       "1         835         863         850  \n",
       "2         464         469         457  \n",
       "3         787         801         820  \n",
       "\n",
       "[4 rows x 267 columns]"
      ]
     },
     "execution_count": 82,
     "metadata": {},
     "output_type": "execute_result"
    }
   ],
   "source": [
    "camas"
   ]
  },
  {
   "cell_type": "code",
   "execution_count": 83,
   "metadata": {},
   "outputs": [
    {
     "data": {
      "text/html": [
       "<div>\n",
       "<style scoped>\n",
       "    .dataframe tbody tr th:only-of-type {\n",
       "        vertical-align: middle;\n",
       "    }\n",
       "\n",
       "    .dataframe tbody tr th {\n",
       "        vertical-align: top;\n",
       "    }\n",
       "\n",
       "    .dataframe thead th {\n",
       "        text-align: right;\n",
       "    }\n",
       "</style>\n",
       "<table border=\"1\" class=\"dataframe\">\n",
       "  <thead>\n",
       "    <tr style=\"text-align: right;\">\n",
       "      <th></th>\n",
       "      <th>age</th>\n",
       "    </tr>\n",
       "  </thead>\n",
       "  <tbody>\n",
       "    <tr>\n",
       "      <th>count</th>\n",
       "      <td>1046.000000</td>\n",
       "    </tr>\n",
       "    <tr>\n",
       "      <th>mean</th>\n",
       "      <td>29.881135</td>\n",
       "    </tr>\n",
       "    <tr>\n",
       "      <th>std</th>\n",
       "      <td>14.413500</td>\n",
       "    </tr>\n",
       "    <tr>\n",
       "      <th>min</th>\n",
       "      <td>0.166700</td>\n",
       "    </tr>\n",
       "    <tr>\n",
       "      <th>25%</th>\n",
       "      <td>21.000000</td>\n",
       "    </tr>\n",
       "    <tr>\n",
       "      <th>50%</th>\n",
       "      <td>28.000000</td>\n",
       "    </tr>\n",
       "    <tr>\n",
       "      <th>75%</th>\n",
       "      <td>39.000000</td>\n",
       "    </tr>\n",
       "    <tr>\n",
       "      <th>max</th>\n",
       "      <td>80.000000</td>\n",
       "    </tr>\n",
       "  </tbody>\n",
       "</table>\n",
       "</div>"
      ],
      "text/plain": [
       "               age\n",
       "count  1046.000000\n",
       "mean     29.881135\n",
       "std      14.413500\n",
       "min       0.166700\n",
       "25%      21.000000\n",
       "50%      28.000000\n",
       "75%      39.000000\n",
       "max      80.000000"
      ]
     },
     "execution_count": 83,
     "metadata": {},
     "output_type": "execute_result"
    }
   ],
   "source": [
    "titanic.describe()"
   ]
  },
  {
   "cell_type": "code",
   "execution_count": 90,
   "metadata": {},
   "outputs": [
    {
     "name": "stderr",
     "output_type": "stream",
     "text": [
      "/home/francisco/.local/lib/python3.8/site-packages/openpyxl/worksheet/_reader.py:308: UserWarning: Data Validation extension is not supported and will be removed\n",
      "  warn(msg)\n"
     ]
    }
   ],
   "source": [
    "audiencias = pd.read_excel('/home/francisco/Downloads/Estadistica Audiencias Año 2017.xlsm',engine='openpyxl', sheet_name='sala_sala1')"
   ]
  },
  {
   "cell_type": "code",
   "execution_count": 91,
   "metadata": {},
   "outputs": [
    {
     "data": {
      "text/html": [
       "<div>\n",
       "<style scoped>\n",
       "    .dataframe tbody tr th:only-of-type {\n",
       "        vertical-align: middle;\n",
       "    }\n",
       "\n",
       "    .dataframe tbody tr th {\n",
       "        vertical-align: top;\n",
       "    }\n",
       "\n",
       "    .dataframe thead th {\n",
       "        text-align: right;\n",
       "    }\n",
       "</style>\n",
       "<table border=\"1\" class=\"dataframe\">\n",
       "  <thead>\n",
       "    <tr style=\"text-align: right;\">\n",
       "      <th></th>\n",
       "      <th>JUEZ</th>\n",
       "      <th>SALA</th>\n",
       "      <th>RIT</th>\n",
       "      <th>F. AUDIENCIA</th>\n",
       "      <th>ADM. SALA</th>\n",
       "      <th>ASISTENTES</th>\n",
       "      <th>A. PUBLICO</th>\n",
       "      <th>TIPO DE AUDIENCIA</th>\n",
       "      <th>MATERIA</th>\n",
       "      <th>REALIZACION</th>\n",
       "      <th>MOTIVO</th>\n",
       "      <th>AMBAS PARTES RENUNCIAN PL</th>\n",
       "      <th>FECHA N. AUD</th>\n",
       "      <th>Bloques</th>\n",
       "      <th>Fecha Firma</th>\n",
       "      <th>CAUSA X?</th>\n",
       "      <th>RIT.1</th>\n",
       "      <th>FECHA 1RA RESOLUCION</th>\n",
       "      <th>OBSERVACIONES</th>\n",
       "      <th>Unnamed: 19</th>\n",
       "    </tr>\n",
       "  </thead>\n",
       "  <tbody>\n",
       "    <tr>\n",
       "      <th>0</th>\n",
       "      <td>CARO</td>\n",
       "      <td>1.0</td>\n",
       "      <td>F-745-2016</td>\n",
       "      <td>2017-01-03 00:00:00</td>\n",
       "      <td>MVL</td>\n",
       "      <td>NIA</td>\n",
       "      <td>OF.5</td>\n",
       "      <td>A. PREPARATORIA</td>\n",
       "      <td>Violencia intrafamiliar</td>\n",
       "      <td>NO_REALIZADA</td>\n",
       "      <td>AUSENCIA DE PARTES - CAJ LOTA</td>\n",
       "      <td>NaN</td>\n",
       "      <td>2017-01-18 00:00:00</td>\n",
       "      <td>2</td>\n",
       "      <td>2017-01-03</td>\n",
       "      <td>NO REQUIERE</td>\n",
       "      <td>NaN</td>\n",
       "      <td>NaT</td>\n",
       "      <td>NaN</td>\n",
       "      <td>NaN</td>\n",
       "    </tr>\n",
       "    <tr>\n",
       "      <th>1</th>\n",
       "      <td>CARO</td>\n",
       "      <td>1.0</td>\n",
       "      <td>F-724-2016</td>\n",
       "      <td>2017-01-03 00:00:00</td>\n",
       "      <td>MVL</td>\n",
       "      <td>NIA</td>\n",
       "      <td>OF.6</td>\n",
       "      <td>A. PREPARATORIA</td>\n",
       "      <td>Violencia intrafamiliar</td>\n",
       "      <td>REALIZADA</td>\n",
       "      <td>DICTACION DE SENTENCIA</td>\n",
       "      <td>NaN</td>\n",
       "      <td>NaN</td>\n",
       "      <td>NaN</td>\n",
       "      <td>2017-01-03</td>\n",
       "      <td>NO REQUIERE</td>\n",
       "      <td>NaN</td>\n",
       "      <td>NaT</td>\n",
       "      <td>NaN</td>\n",
       "      <td>NaN</td>\n",
       "    </tr>\n",
       "    <tr>\n",
       "      <th>2</th>\n",
       "      <td>CARO</td>\n",
       "      <td>1.0</td>\n",
       "      <td>Z-194-2016</td>\n",
       "      <td>2017-01-03 00:00:00</td>\n",
       "      <td>MVL</td>\n",
       "      <td>NaN</td>\n",
       "      <td>NaN</td>\n",
       "      <td>ESPECIAL / INCIDENTAL / UNICA</td>\n",
       "      <td>Alimentos</td>\n",
       "      <td>REALIZADA</td>\n",
       "      <td>RECHAZA / ACOGE INCIDENTE</td>\n",
       "      <td>NaN</td>\n",
       "      <td>None</td>\n",
       "      <td>NaN</td>\n",
       "      <td>2017-01-03</td>\n",
       "      <td>NO REQUIERE</td>\n",
       "      <td>NaN</td>\n",
       "      <td>NaT</td>\n",
       "      <td>NaN</td>\n",
       "      <td>NaN</td>\n",
       "    </tr>\n",
       "    <tr>\n",
       "      <th>3</th>\n",
       "      <td>CARO</td>\n",
       "      <td>1.0</td>\n",
       "      <td>Z-907-2015</td>\n",
       "      <td>2017-01-03 00:00:00</td>\n",
       "      <td>MVL</td>\n",
       "      <td>NaN</td>\n",
       "      <td>NaN</td>\n",
       "      <td>ESPECIAL / INCIDENTAL / UNICA</td>\n",
       "      <td>Relacion Directa Y Regular Con El Niño</td>\n",
       "      <td>REALIZADA</td>\n",
       "      <td>RECHAZA / ACOGE INCIDENTE</td>\n",
       "      <td>NaN</td>\n",
       "      <td>None</td>\n",
       "      <td>NaN</td>\n",
       "      <td>2017-01-03</td>\n",
       "      <td>NO REQUIERE</td>\n",
       "      <td>NaN</td>\n",
       "      <td>NaT</td>\n",
       "      <td>NaN</td>\n",
       "      <td>NaN</td>\n",
       "    </tr>\n",
       "    <tr>\n",
       "      <th>4</th>\n",
       "      <td>CARO</td>\n",
       "      <td>1.0</td>\n",
       "      <td>X-150-2015</td>\n",
       "      <td>2017-01-03 00:00:00</td>\n",
       "      <td>MVL</td>\n",
       "      <td>NaN</td>\n",
       "      <td>NaN</td>\n",
       "      <td>ESPECIAL / INCIDENTAL / UNICA</td>\n",
       "      <td>Otros Procedimientos Menores</td>\n",
       "      <td>REALIZADA</td>\n",
       "      <td>MANTIENE / MODIFICA / CESE MEDIDA DE PROTECCION</td>\n",
       "      <td>NaN</td>\n",
       "      <td>NaN</td>\n",
       "      <td>NaN</td>\n",
       "      <td>2017-01-03</td>\n",
       "      <td>NO REQUIERE</td>\n",
       "      <td>NaN</td>\n",
       "      <td>NaT</td>\n",
       "      <td>NaN</td>\n",
       "      <td>NaN</td>\n",
       "    </tr>\n",
       "    <tr>\n",
       "      <th>...</th>\n",
       "      <td>...</td>\n",
       "      <td>...</td>\n",
       "      <td>...</td>\n",
       "      <td>...</td>\n",
       "      <td>...</td>\n",
       "      <td>...</td>\n",
       "      <td>...</td>\n",
       "      <td>...</td>\n",
       "      <td>...</td>\n",
       "      <td>...</td>\n",
       "      <td>...</td>\n",
       "      <td>...</td>\n",
       "      <td>...</td>\n",
       "      <td>...</td>\n",
       "      <td>...</td>\n",
       "      <td>...</td>\n",
       "      <td>...</td>\n",
       "      <td>...</td>\n",
       "      <td>...</td>\n",
       "      <td>...</td>\n",
       "    </tr>\n",
       "    <tr>\n",
       "      <th>5300</th>\n",
       "      <td>NaN</td>\n",
       "      <td>NaN</td>\n",
       "      <td>NaN</td>\n",
       "      <td>NaN</td>\n",
       "      <td>NaN</td>\n",
       "      <td>NaN</td>\n",
       "      <td>NaN</td>\n",
       "      <td>NaN</td>\n",
       "      <td>NaN</td>\n",
       "      <td>NaN</td>\n",
       "      <td>NaN</td>\n",
       "      <td>NaN</td>\n",
       "      <td>NaN</td>\n",
       "      <td>NaN</td>\n",
       "      <td>NaT</td>\n",
       "      <td>NaN</td>\n",
       "      <td>NaN</td>\n",
       "      <td>NaT</td>\n",
       "      <td>NaN</td>\n",
       "      <td>NaN</td>\n",
       "    </tr>\n",
       "    <tr>\n",
       "      <th>5301</th>\n",
       "      <td>NaN</td>\n",
       "      <td>NaN</td>\n",
       "      <td>NaN</td>\n",
       "      <td>NaN</td>\n",
       "      <td>NaN</td>\n",
       "      <td>NaN</td>\n",
       "      <td>NaN</td>\n",
       "      <td>NaN</td>\n",
       "      <td>NaN</td>\n",
       "      <td>NaN</td>\n",
       "      <td>NaN</td>\n",
       "      <td>NaN</td>\n",
       "      <td>NaN</td>\n",
       "      <td>NaN</td>\n",
       "      <td>NaT</td>\n",
       "      <td>NaN</td>\n",
       "      <td>NaN</td>\n",
       "      <td>NaT</td>\n",
       "      <td>NaN</td>\n",
       "      <td>NaN</td>\n",
       "    </tr>\n",
       "    <tr>\n",
       "      <th>5302</th>\n",
       "      <td>NaN</td>\n",
       "      <td>NaN</td>\n",
       "      <td>NaN</td>\n",
       "      <td>NaN</td>\n",
       "      <td>NaN</td>\n",
       "      <td>NaN</td>\n",
       "      <td>NaN</td>\n",
       "      <td>NaN</td>\n",
       "      <td>NaN</td>\n",
       "      <td>NaN</td>\n",
       "      <td>NaN</td>\n",
       "      <td>NaN</td>\n",
       "      <td>NaN</td>\n",
       "      <td>NaN</td>\n",
       "      <td>NaT</td>\n",
       "      <td>NaN</td>\n",
       "      <td>NaN</td>\n",
       "      <td>NaT</td>\n",
       "      <td>NaN</td>\n",
       "      <td>NaN</td>\n",
       "    </tr>\n",
       "    <tr>\n",
       "      <th>5303</th>\n",
       "      <td>NaN</td>\n",
       "      <td>NaN</td>\n",
       "      <td>NaN</td>\n",
       "      <td>NaN</td>\n",
       "      <td>NaN</td>\n",
       "      <td>NaN</td>\n",
       "      <td>NaN</td>\n",
       "      <td>NaN</td>\n",
       "      <td>NaN</td>\n",
       "      <td>NaN</td>\n",
       "      <td>NaN</td>\n",
       "      <td>NaN</td>\n",
       "      <td>NaN</td>\n",
       "      <td>NaN</td>\n",
       "      <td>NaT</td>\n",
       "      <td>NaN</td>\n",
       "      <td>NaN</td>\n",
       "      <td>NaT</td>\n",
       "      <td>NaN</td>\n",
       "      <td>NaN</td>\n",
       "    </tr>\n",
       "    <tr>\n",
       "      <th>5304</th>\n",
       "      <td>NaN</td>\n",
       "      <td>NaN</td>\n",
       "      <td>NaN</td>\n",
       "      <td>NaN</td>\n",
       "      <td>NaN</td>\n",
       "      <td>NaN</td>\n",
       "      <td>NaN</td>\n",
       "      <td>NaN</td>\n",
       "      <td>NaN</td>\n",
       "      <td>NaN</td>\n",
       "      <td>NaN</td>\n",
       "      <td>NaN</td>\n",
       "      <td>NaN</td>\n",
       "      <td>NaN</td>\n",
       "      <td>NaT</td>\n",
       "      <td>NaN</td>\n",
       "      <td>NaN</td>\n",
       "      <td>NaT</td>\n",
       "      <td>NaN</td>\n",
       "      <td>NaN</td>\n",
       "    </tr>\n",
       "  </tbody>\n",
       "</table>\n",
       "<p>5305 rows × 20 columns</p>\n",
       "</div>"
      ],
      "text/plain": [
       "      JUEZ  SALA         RIT         F. AUDIENCIA ADM. SALA ASISTENTES  \\\n",
       "0     CARO   1.0  F-745-2016  2017-01-03 00:00:00       MVL        NIA   \n",
       "1     CARO   1.0  F-724-2016  2017-01-03 00:00:00       MVL        NIA   \n",
       "2     CARO   1.0  Z-194-2016  2017-01-03 00:00:00       MVL        NaN   \n",
       "3     CARO   1.0  Z-907-2015  2017-01-03 00:00:00       MVL        NaN   \n",
       "4     CARO   1.0  X-150-2015  2017-01-03 00:00:00       MVL        NaN   \n",
       "...    ...   ...         ...                  ...       ...        ...   \n",
       "5300   NaN   NaN         NaN                  NaN       NaN        NaN   \n",
       "5301   NaN   NaN         NaN                  NaN       NaN        NaN   \n",
       "5302   NaN   NaN         NaN                  NaN       NaN        NaN   \n",
       "5303   NaN   NaN         NaN                  NaN       NaN        NaN   \n",
       "5304   NaN   NaN         NaN                  NaN       NaN        NaN   \n",
       "\n",
       "     A. PUBLICO              TIPO DE AUDIENCIA  \\\n",
       "0          OF.5                A. PREPARATORIA   \n",
       "1          OF.6                A. PREPARATORIA   \n",
       "2           NaN  ESPECIAL / INCIDENTAL / UNICA   \n",
       "3           NaN  ESPECIAL / INCIDENTAL / UNICA   \n",
       "4           NaN  ESPECIAL / INCIDENTAL / UNICA   \n",
       "...         ...                            ...   \n",
       "5300        NaN                            NaN   \n",
       "5301        NaN                            NaN   \n",
       "5302        NaN                            NaN   \n",
       "5303        NaN                            NaN   \n",
       "5304        NaN                            NaN   \n",
       "\n",
       "                                     MATERIA   REALIZACION  \\\n",
       "0                    Violencia intrafamiliar  NO_REALIZADA   \n",
       "1                    Violencia intrafamiliar     REALIZADA   \n",
       "2                                  Alimentos     REALIZADA   \n",
       "3     Relacion Directa Y Regular Con El Niño     REALIZADA   \n",
       "4               Otros Procedimientos Menores     REALIZADA   \n",
       "...                                      ...           ...   \n",
       "5300                                     NaN           NaN   \n",
       "5301                                     NaN           NaN   \n",
       "5302                                     NaN           NaN   \n",
       "5303                                     NaN           NaN   \n",
       "5304                                     NaN           NaN   \n",
       "\n",
       "                                               MOTIVO  \\\n",
       "0                       AUSENCIA DE PARTES - CAJ LOTA   \n",
       "1                              DICTACION DE SENTENCIA   \n",
       "2                           RECHAZA / ACOGE INCIDENTE   \n",
       "3                           RECHAZA / ACOGE INCIDENTE   \n",
       "4     MANTIENE / MODIFICA / CESE MEDIDA DE PROTECCION   \n",
       "...                                               ...   \n",
       "5300                                              NaN   \n",
       "5301                                              NaN   \n",
       "5302                                              NaN   \n",
       "5303                                              NaN   \n",
       "5304                                              NaN   \n",
       "\n",
       "     AMBAS PARTES RENUNCIAN PL         FECHA N. AUD Bloques Fecha Firma  \\\n",
       "0                          NaN  2017-01-18 00:00:00       2  2017-01-03   \n",
       "1                          NaN                  NaN     NaN  2017-01-03   \n",
       "2                          NaN                 None     NaN  2017-01-03   \n",
       "3                          NaN                 None     NaN  2017-01-03   \n",
       "4                          NaN                  NaN     NaN  2017-01-03   \n",
       "...                        ...                  ...     ...         ...   \n",
       "5300                       NaN                  NaN     NaN         NaT   \n",
       "5301                       NaN                  NaN     NaN         NaT   \n",
       "5302                       NaN                  NaN     NaN         NaT   \n",
       "5303                       NaN                  NaN     NaN         NaT   \n",
       "5304                       NaN                  NaN     NaN         NaT   \n",
       "\n",
       "         CAUSA X? RIT.1 FECHA 1RA RESOLUCION OBSERVACIONES  Unnamed: 19  \n",
       "0     NO REQUIERE   NaN                  NaT           NaN          NaN  \n",
       "1     NO REQUIERE   NaN                  NaT           NaN          NaN  \n",
       "2     NO REQUIERE   NaN                  NaT           NaN          NaN  \n",
       "3     NO REQUIERE   NaN                  NaT           NaN          NaN  \n",
       "4     NO REQUIERE   NaN                  NaT           NaN          NaN  \n",
       "...           ...   ...                  ...           ...          ...  \n",
       "5300          NaN   NaN                  NaT           NaN          NaN  \n",
       "5301          NaN   NaN                  NaT           NaN          NaN  \n",
       "5302          NaN   NaN                  NaT           NaN          NaN  \n",
       "5303          NaN   NaN                  NaT           NaN          NaN  \n",
       "5304          NaN   NaN                  NaT           NaN          NaN  \n",
       "\n",
       "[5305 rows x 20 columns]"
      ]
     },
     "execution_count": 91,
     "metadata": {},
     "output_type": "execute_result"
    }
   ],
   "source": [
    "audiencias"
   ]
  },
  {
   "cell_type": "code",
   "execution_count": 92,
   "metadata": {},
   "outputs": [
    {
     "data": {
      "text/plain": [
       "array([[<AxesSubplot:title={'center':'age'}>]], dtype=object)"
      ]
     },
     "execution_count": 92,
     "metadata": {},
     "output_type": "execute_result"
    },
    {
     "data": {
      "image/png": "[encoded data removed]",
      "text/plain": [
       "<Figure size 432x288 with 1 Axes>"
      ]
     },
     "metadata": {
      "needs_background": "light"
     },
     "output_type": "display_data"
    }
   ],
   "source": [
    "titanic.hist()"
   ]
  },
  {
   "cell_type": "code",
   "execution_count": 93,
   "metadata": {},
   "outputs": [
    {
     "data": {
      "text/plain": [
       "array([[<AxesSubplot:title={'center':'SALA'}>,\n",
       "        <AxesSubplot:title={'center':'Unnamed: 19'}>]], dtype=object)"
      ]
     },
     "execution_count": 93,
     "metadata": {},
     "output_type": "execute_result"
    },
    {
     "data": {
      "image/png": "[encoded data removed]",
      "text/plain": [
       "<Figure size 432x288 with 2 Axes>"
      ]
     },
     "metadata": {
      "needs_background": "light"
     },
     "output_type": "display_data"
    }
   ],
   "source": [
    "audiencias.hist()"
   ]
  },
  {
   "cell_type": "code",
   "execution_count": null,
   "metadata": {},
   "outputs": [],
   "source": []
  }
 ],
 "metadata": {
  "kernelspec": {
   "display_name": "Python 3",
   "language": "python",
   "name": "python3"
  },
  "language_info": {
   "codemirror_mode": {
    "name": "ipython",
    "version": 3
   },
   "file_extension": ".py",
   "mimetype": "text/x-python",
   "name": "python",
   "nbconvert_exporter": "python",
   "pygments_lexer": "ipython3",
   "version": "3.8.5"
  }
 },
 "nbformat": 4,
 "nbformat_minor": 4
}
