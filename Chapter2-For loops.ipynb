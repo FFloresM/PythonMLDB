{
 "cells": [
  {
   "cell_type": "code",
   "execution_count": 2,
   "metadata": {},
   "outputs": [
    {
     "name": "stdout",
     "output_type": "stream",
     "text": [
      "Hello\n",
      "Hello\n",
      "Hello\n",
      "Hello\n",
      "Hello\n",
      "Hello\n",
      "Hello\n",
      "Hello\n",
      "Hello\n",
      "Hello\n"
     ]
    }
   ],
   "source": [
    "for i in range(10):\n",
    "    print('Hello')"
   ]
  },
  {
   "cell_type": "code",
   "execution_count": 3,
   "metadata": {},
   "outputs": [
    {
     "name": "stdout",
     "output_type": "stream",
     "text": [
      "Enter a number:5\n",
      "The square of your number is 25\n",
      "Enter a number:4\n",
      "The square of your number is 16\n",
      "Enter a number:19\n",
      "The square of your number is 361\n",
      "The loop is now done.\n"
     ]
    }
   ],
   "source": [
    "for i in range(3):\n",
    "    num = eval(input('Enter a number:'))\n",
    "    print ('The square of your number is', num*num)\n",
    "print ('The loop is now done.')"
   ]
  },
  {
   "cell_type": "code",
   "execution_count": 5,
   "metadata": {},
   "outputs": [
    {
     "name": "stdout",
     "output_type": "stream",
     "text": [
      "A\n",
      "B\n",
      "C\n",
      "D\n",
      "C\n",
      "D\n",
      "C\n",
      "D\n",
      "C\n",
      "D\n",
      "C\n",
      "D\n",
      "E\n"
     ]
    }
   ],
   "source": [
    "print('A')\n",
    "print('B')\n",
    "for i in range (5):\n",
    "    print('C')\n",
    "    print('D')\n",
    "print ('E')"
   ]
  },
  {
   "cell_type": "code",
   "execution_count": 7,
   "metadata": {},
   "outputs": [
    {
     "name": "stdout",
     "output_type": "stream",
     "text": [
      "A\n",
      "B\n",
      "C\n",
      "C\n",
      "C\n",
      "C\n",
      "C\n",
      "D\n",
      "D\n",
      "D\n",
      "D\n",
      "D\n",
      "E\n"
     ]
    }
   ],
   "source": [
    "print('A')\n",
    "print('B')\n",
    "for i in range(5):\n",
    "    print('C')\n",
    "for i in range (5):\n",
    "    print('D')\n",
    "print('E')"
   ]
  },
  {
   "cell_type": "code",
   "execution_count": 10,
   "metadata": {},
   "outputs": [
    {
     "name": "stdout",
     "output_type": "stream",
     "text": [
      "1 --Hello\n",
      "2 --Hello\n",
      "3 --Hello\n"
     ]
    }
   ],
   "source": [
    "for i in range(3):\n",
    "    print(i+1, '--Hello')"
   ]
  },
  {
   "cell_type": "code",
   "execution_count": 25,
   "metadata": {},
   "outputs": [
    {
     "name": "stdout",
     "output_type": "stream",
     "text": [
      "10 9 8 7 6 5 4 3 2 1  -- Blast off!!\n"
     ]
    }
   ],
   "source": [
    "for i in range (10,0,-1):\n",
    "    print (i, end =' ')\n",
    "print (' -- Blast off!!') "
   ]
  },
  {
   "cell_type": "code",
   "execution_count": 26,
   "metadata": {},
   "outputs": [
    {
     "name": "stdout",
     "output_type": "stream",
     "text": [
      "******\n",
      "******\n",
      "******\n",
      "******\n",
      "******\n"
     ]
    }
   ],
   "source": [
    "for i in range (5):\n",
    "    print('*'*6)"
   ]
  },
  {
   "cell_type": "code",
   "execution_count": 90,
   "metadata": {},
   "outputs": [
    {
     "name": "stdout",
     "output_type": "stream",
     "text": [
      "*\n",
      "**\n",
      "***\n",
      "****\n",
      "*****\n",
      "******\n"
     ]
    }
   ],
   "source": [
    "for i in range(6):\n",
    "    print('*'*(1+i))"
   ]
  },
  {
   "cell_type": "code",
   "execution_count": 91,
   "metadata": {},
   "outputs": [
    {
     "name": "stdout",
     "output_type": "stream",
     "text": [
      "JM Soto\n",
      "JM Soto\n",
      "JM Soto\n",
      "JM Soto\n",
      "JM Soto\n",
      "JM Soto\n",
      "JM Soto\n",
      "JM Soto\n",
      "JM Soto\n",
      "JM Soto\n",
      "JM Soto\n",
      "JM Soto\n",
      "JM Soto\n",
      "JM Soto\n",
      "JM Soto\n",
      "JM Soto\n",
      "JM Soto\n",
      "JM Soto\n",
      "JM Soto\n",
      "JM Soto\n",
      "JM Soto\n",
      "JM Soto\n",
      "JM Soto\n",
      "JM Soto\n",
      "JM Soto\n",
      "JM Soto\n",
      "JM Soto\n",
      "JM Soto\n",
      "JM Soto\n",
      "JM Soto\n",
      "JM Soto\n",
      "JM Soto\n",
      "JM Soto\n",
      "JM Soto\n",
      "JM Soto\n",
      "JM Soto\n",
      "JM Soto\n",
      "JM Soto\n",
      "JM Soto\n",
      "JM Soto\n",
      "JM Soto\n",
      "JM Soto\n",
      "JM Soto\n",
      "JM Soto\n",
      "JM Soto\n",
      "JM Soto\n",
      "JM Soto\n",
      "JM Soto\n",
      "JM Soto\n",
      "JM Soto\n",
      "JM Soto\n",
      "JM Soto\n",
      "JM Soto\n",
      "JM Soto\n",
      "JM Soto\n",
      "JM Soto\n",
      "JM Soto\n",
      "JM Soto\n",
      "JM Soto\n",
      "JM Soto\n",
      "JM Soto\n",
      "JM Soto\n",
      "JM Soto\n",
      "JM Soto\n",
      "JM Soto\n",
      "JM Soto\n",
      "JM Soto\n",
      "JM Soto\n",
      "JM Soto\n",
      "JM Soto\n",
      "JM Soto\n",
      "JM Soto\n",
      "JM Soto\n",
      "JM Soto\n",
      "JM Soto\n",
      "JM Soto\n",
      "JM Soto\n",
      "JM Soto\n",
      "JM Soto\n",
      "JM Soto\n",
      "JM Soto\n",
      "JM Soto\n",
      "JM Soto\n",
      "JM Soto\n",
      "JM Soto\n",
      "JM Soto\n",
      "JM Soto\n",
      "JM Soto\n",
      "JM Soto\n",
      "JM Soto\n",
      "JM Soto\n",
      "JM Soto\n",
      "JM Soto\n",
      "JM Soto\n",
      "JM Soto\n",
      "JM Soto\n",
      "JM Soto\n",
      "JM Soto\n",
      "JM Soto\n",
      "JM Soto\n"
     ]
    }
   ],
   "source": [
    "## Print your name 100 times\n",
    "for i in range(100):\n",
    "    print('JM Soto')"
   ]
  },
  {
   "cell_type": "code",
   "execution_count": 94,
   "metadata": {},
   "outputs": [
    {
     "name": "stdout",
     "output_type": "stream",
     "text": [
      "jmsotojmsotojmsotojmsotojmsotojmsotojmsotojmsotojmsotojmsotojmsotojmsotojmsotojmsotojmsotojmsotojmsotojmsotojmsotojmsotojmsotojmsotojmsotojmsotojmsotojmsotojmsotojmsotojmsotojmsotojmsotojmsotojmsotojmsotojmsotojmsotojmsotojmsotojmsotojmsotojmsotojmsotojmsotojmsotojmsotojmsotojmsotojmsotojmsotojmsotojmsotojmsotojmsotojmsotojmsotojmsotojmsotojmsotojmsotojmsotojmsotojmsotojmsotojmsotojmsotojmsotojmsotojmsotojmsotojmsotojmsotojmsotojmsotojmsotojmsotojmsotojmsotojmsotojmsotojmsotojmsotojmsotojmsotojmsotojmsotojmsotojmsotojmsotojmsotojmsotojmsotojmsotojmsotojmsotojmsotojmsotojmsotojmsotojmsotojmsotojmsotojmsotojmsotojmsotojmsotojmsotojmsotojmsotojmsotojmsotojmsotojmsotojmsotojmsotojmsotojmsotojmsotojmsotojmsotojmsotojmsotojmsotojmsotojmsotojmsotojmsotojmsotojmsotojmsotojmsotojmsotojmsotojmsotojmsotojmsotojmsotojmsotojmsotojmsotojmsotojmsotojmsotojmsotojmsotojmsotojmsotojmsotojmsotojmsotojmsotojmsotojmsotojmsotojmsotojmsotojmsotojmsotojmsotojmsotojmsotojmsotojmsotojmsotojmsotojmsotojmsotojmsotojmsotojmsotojmsotojmsotojmsotojmsotojmsotojmsotojmsotojmsotojmsotojmsotojmsotojmsotojmsotojmsotojmsotojmsotojmsotojmsotojmsotojmsotojmsotojmsotojmsotojmsotojmsotojmsotojmsotojmsotojmsotojmsotojmsotojmsotojmsotojmsotojmsotojmsotojmsotojmsotojmsotojmsotojmsotojmsotojmsotojmsotojmsotojmsotojmsotojmsotojmsotojmsotojmsotojmsotojmsotojmsotojmsotojmsotojmsotojmsotojmsotojmsotojmsotojmsotojmsotojmsotojmsotojmsotojmsotojmsotojmsotojmsotojmsotojmsotojmsotojmsotojmsotojmsotojmsotojmsotojmsotojmsotojmsotojmsotojmsotojmsotojmsotojmsotojmsotojmsotojmsotojmsotojmsotojmsotojmsotojmsotojmsotojmsotojmsotojmsotojmsotojmsotojmsotojmsotojmsotojmsotojmsotojmsotojmsotojmsotojmsotojmsotojmsotojmsotojmsotojmsotojmsotojmsotojmsotojmsotojmsotojmsotojmsotojmsotojmsotojmsotojmsotojmsotojmsotojmsotojmsotojmsotojmsotojmsotojmsotojmsotojmsotojmsotojmsotojmsotojmsotojmsotojmsotojmsotojmsotojmsotojmsotojmsotojmsotojmsotojmsotojmsotojmsotojmsotojmsotojmsotojmsotojmsotojmsotojmsotojmsotojmsotojmsotojmsotojmsotojmsotojmsotojmsotojmsotojmsotojmsotojmsotojmsotojmsotojmsotojmsotojmsotojmsotojmsotojmsotojmsotojmsotojmsotojmsotojmsotojmsotojmsotojmsotojmsotojmsotojmsotojmsotojmsotojmsotojmsotojmsotojmsotojmsotojmsotojmsotojmsotojmsotojmsotojmsotojmsotojmsotojmsotojmsotojmsotojmsotojmsotojmsotojmsotojmsotojmsotojmsotojmsotojmsotojmsotojmsotojmsotojmsotojmsotojmsotojmsotojmsotojmsotojmsotojmsotojmsotojmsotojmsotojmsotojmsotojmsotojmsotojmsotojmsotojmsotojmsotojmsotojmsotojmsotojmsotojmsotojmsotojmsotojmsotojmsotojmsotojmsotojmsotojmsotojmsotojmsotojmsotojmsotojmsotojmsotojmsotojmsotojmsotojmsotojmsotojmsotojmsotojmsotojmsotojmsotojmsotojmsotojmsotojmsotojmsotojmsotojmsotojmsotojmsotojmsotojmsotojmsotojmsotojmsotojmsotojmsotojmsotojmsotojmsotojmsotojmsotojmsotojmsotojmsotojmsotojmsotojmsotojmsotojmsotojmsotojmsotojmsotojmsotojmsotojmsotojmsotojmsotojmsotojmsotojmsotojmsotojmsotojmsotojmsotojmsotojmsotojmsotojmsotojmsotojmsotojmsotojmsotojmsotojmsotojmsotojmsotojmsotojmsotojmsotojmsotojmsotojmsotojmsotojmsotojmsotojmsotojmsotojmsotojmsotojmsotojmsotojmsotojmsotojmsotojmsotojmsotojmsotojmsotojmsotojmsotojmsotojmsotojmsotojmsotojmsotojmsotojmsotojmsotojmsotojmsotojmsotojmsotojmsotojmsotojmsotojmsotojmsotojmsotojmsotojmsotojmsotojmsotojmsotojmsotojmsotojmsotojmsotojmsotojmsotojmsotojmsotojmsotojmsotojmsotojmsotojmsotojmsotojmsotojmsotojmsotojmsotojmsotojmsotojmsotojmsotojmsotojmsotojmsotojmsotojmsotojmsotojmsotojmsotojmsotojmsotojmsotojmsotojmsotojmsotojmsotojmsotojmsotojmsotojmsotojmsotojmsotojmsotojmsotojmsotojmsotojmsotojmsotojmsotojmsotojmsotojmsotojmsotojmsotojmsotojmsotojmsotojmsotojmsotojmsotojmsotojmsotojmsotojmsotojmsotojmsotojmsotojmsotojmsotojmsotojmsotojmsotojmsotojmsotojmsotojmsotojmsotojmsotojmsotojmsotojmsotojmsotojmsotojmsotojmsotojmsotojmsotojmsotojmsotojmsotojmsotojmsotojmsotojmsotojmsotojmsotojmsotojmsotojmsotojmsotojmsotojmsotojmsotojmsotojmsotojmsotojmsotojmsotojmsotojmsotojmsotojmsotojmsotojmsotojmsotojmsotojmsotojmsotojmsotojmsotojmsotojmsotojmsotojmsotojmsotojmsotojmsotojmsotojmsotojmsotojmsotojmsotojmsotojmsotojmsotojmsotojmsotojmsotojmsotojmsotojmsotojmsotojmsotojmsotojmsotojmsotojmsotojmsotojmsotojmsotojmsotojmsotojmsotojmsotojmsotojmsotojmsotojmsotojmsotojmsotojmsotojmsotojmsotojmsotojmsotojmsotojmsotojmsotojmsotojmsotojmsotojmsotojmsotojmsotojmsotojmsotojmsotojmsotojmsotojmsotojmsotojmsotojmsotojmsotojmsotojmsotojmsotojmsotojmsotojmsotojmsotojmsotojmsotojmsotojmsotojmsotojmsotojmsotojmsotojmsotojmsotojmsotojmsotojmsotojmsotojmsotojmsotojmsotojmsotojmsotojmsotojmsotojmsotojmsotojmsotojmsotojmsotojmsotojmsotojmsotojmsotojmsotojmsotojmsotojmsotojmsotojmsotojmsotojmsotojmsotojmsotojmsotojmsotojmsotojmsotojmsotojmsotojmsotojmsotojmsotojmsotojmsotojmsotojmsotojmsotojmsotojmsotojmsotojmsotojmsotojmsotojmsotojmsotojmsotojmsotojmsotojmsotojmsotojmsotojmsotojmsotojmsotojmsotojmsotojmsotojmsotojmsotojmsotojmsotojmsotojmsotojmsotojmsotojmsotojmsotojmsotojmsotojmsotojmsotojmsotojmsotojmsotojmsotojmsotojmsotojmsotojmsotojmsotojmsotojmsotojmsotojmsotojmsotojmsotojmsotojmsotojmsotojmsotojmsotojmsotojmsotojmsotojmsotojmsotojmsotojmsotojmsotojmsotojmsotojmsotojmsotojmsotojmsotojmsotojmsotojmsotojmsotojmsotojmsotojmsotojmsotojmsotojmsotojmsotojmsotojmsotojmsotojmsotojmsotojmsotojmsotojmsotojmsotojmsotojmsotojmsotojmsotojmsotojmsotojmsotojmsotojmsotojmsotojmsotojmsotojmsotojmsotojmsotojmsotojmsotojmsotojmsotojmsotojmsotojmsotojmsotojmsotojmsotojmsotojmsotojmsotojmsotojmsotojmsotojmsotojmsotojmsotojmsotojmsotojmsotojmsotojmsotojmsotojmsotojmsotojmsotojmsotojmsotojmsotojmsotojmsotojmsotojmsotojmsotojmsotojmsotojmsotojmsotojmsotojmsotojmsotojmsotojmsotojmsotojmsotojmsotojmsotojmsotojmsotojmsotojmsotojmsotojmsotojmsotojmsotojmsotojmsotojmsotojmsotojmsotojmsotojmsotojmsotojmsotojmsotojmsotojmsotojmsotojmsotojmsotojmsotojmsotojmsotojmsotojmsotojmsotojmsotojmsotojmsotojmsotojmsotojmsotojmsotojmsotojmsotojmsotojmsotojmsotojmsotojmsotojmsotojmsotojmsotojmsotojmsotojmsotojmsotojmsotojmsotojmsotojmsotojmsotojmsotojmsotojmsotojmsotojmsotojmsotojmsotojmsotojmsotojmsotojmsotojmsotojmsotojmsotojmsotojmsotojmsotojmsotojmsotojmsotojmsotojmsotojmsotojmsotojmsotojmsotojmsotojmsotojmsotojmsotojmsotojmsotojmsotojmsotojmsotojmsotojmsotojmsotojmsotojmsotojmsotojmsotojmsotojmsotojmsotojmsotojmsotojmsotojmsotojmsotojmsotojmsotojmsotojmsotojmsotojmsotojmsotojmsotojmsotojmsotojmsotojmsotojmsotojmsotojmsotojmsotojmsotojmsotojmsotojmsotojmsotojmsotojmsotojmsotojmsotojmsotojmsotojmsotojmsotojmsotojmsotojmsotojmsotojmsotojmsotojmsotojmsotojmsotojmsotojmsotojmsotojmsotojmsotojmsotojmsotojmsotojmsotojmsotojmsotojmsotojmsotojmsotojmsotojmsotojmsotojmsotojmsotojmsotojmsotojmsotojmsotojmsotojmsotojmsotojmsotojmsotojmsotojmsotojmsotojmsotojmsotojmsotojmsotojmsotojmsotojmsotojmsotojmsotojmsotojmsotojmsotojmsotojmsotojmsotojmsotojmsotojmsotojmsotojmsotojmsotojmsotojmsotojmsotojmsotojmsotojmsotojmsotojmsotojmsotojmsotojmsotojmsotojmsotojmsotojmsotojmsotojmsotojmsotojmsotojmsotojmsotojmsotojmsotojmsotojmsotojmsotojmsotojmsotojmsotojmsotojmsotojmsotojmsotojmsotojmsotojmsotojmsotojmsotojmsotojmsotojmsotojmsotojmsotojmsotojmsotojmsotojmsotojmsotojmsotojmsotojmsotojmsotojmsotojmsotojmsotojmsotojmsotojmsotojmsotojmsotojmsotojmsotojmsotojmsotojmsotojmsotojmsotojmsotojmsotojmsotojmsotojmsotojmsotojmsotojmsotojmsotojmsotojmsotojmsotojmsotojmsotojmsotojmsotojmsotojmsotojmsotojmsotojmsotojmsotojmsotojmsotojmsotojmsotojmsotojmsotojmsotojmsotojmsotojmsotojmsotojmsotojmsotojmsotojmsotojmsotojmsotojmsotojmsotojmsotojmsotojmsotojmsotojmsotojmsotojmsotojmsotojmsotojmsotojmsotojmsotojmsotojmsotojmsotojmsotojmsotojmsotojmsotojmsotojmsotojmsotojmsotojmsotojmsotojmsotojmsotojmsotojmsotojmsotojmsotojmsotojmsotojmsotojmsotojmsotojmsotojmsotojmsotojmsotojmsotojmsotojmsotojmsotojmsotojmsotojmsotojmsotojmsotojmsotojmsotojmsotojmsotojmsotojmsotojmsotojmsotojmsotojmsotojmsotojmsotojmsotojmsotojmsotojmsotojmsotojmsotojmsotojmsotojmsotojmsotojmsotojmsotojmsotojmsotojmsotojmsotojmsotojmsotojmsotojmsotojmsotojmsotojmsotojmsotojmsotojmsotojmsotojmsotojmsotojmsotojmsotojmsotojmsotojmsotojmsotojmsotojmsotojmsotojmsotojmsotojmsotojmsotojmsotojmsotojmsotojmsotojmsotojmsotojmsotojmsotojmsotojmsotojmsotojmsotojmsotojmsotojmsotojmsotojmsotojmsotojmsotojmsotojmsotojmsotojmsotojmsotojmsotojmsotojmsotojmsotojmsotojmsotojmsotojmsotojmsotojmsotojmsotojmsotojmsotojmsotojmsotojmsotojmsotojmsotojmsotojmsotojmsotojmsotojmsotojmsotojmsotojmsotojmsotojmsotojmsotojmsotojmsotojmsotojmsotojmsotojmsotojmsotojmsotojmsotojmsotojmsotojmsotojmsotojmsotojmsotojmsotojmsotojmsotojmsotojmsotojmsotojmsotojmsotojmsotojmsotojmsotojmsotojmsotojmsotojmsotojmsotojmsotojmsotojmsotojmsotojmsotojmsotojmsotojmsotojmsotojmsotojmsotojmsotojmsotojmsotojmsotojmsotojmsotojmsotojmsotojmsotojmsotojmsotojmsotojmsotojmsotojmsotojmsotojmsotojmsotojmsotojmsotojmsotojmsotojmsotojmsotojmsotojmsotojmsotojmsotojmsotojmsotojmsotojmsotojmsotojmsotojmsotojmsotojmsotojmsotojmsotojmsotojmsotojmsotojmsotojmsotojmsotojmsotojmsotojmsotojmsotojmsotojmsotojmsotojmsotojmsotojmsotojmsotojmsotojmsotojmsotojmsotojmsotojmsotojmsotojmsotojmsotojmsotojmsotojmsotojmsotojmsotojmsotojmsotojmsotojmsotojmsotojmsotojmsotojmsotojmsotojmsotojmsotojmsotojmsotojmsotojmsotojmsotojmsotojmsotojmsotojmsotojmsotojmsotojmsotojmsotojmsotojmsotojmsotojmsotojmsotojmsotojmsotojmsotojmsotojmsotojmsotojmsotojmsotojmsotojmsotojmsotojmsotojmsotojmsotojmsotojmsotojmsotojmsotojmsotojmsotojmsotojmsotojmsotojmsotojmsotojmsotojmsotojmsotojmsotojmsotojmsotojmsotojmsotojmsotojmsotojmsotojmsotojmsotojmsotojmsotojmsotojmsotojmsotojmsotojmsotojmsotojmsotojmsotojmsotojmsotojmsotojmsotojmsotojmsotojmsotojmsotojmsotojmsotojmsotojmsotojmsotojmsotojmsotojmsotojmsotojmsotojmsotojmsotojmsotojmsotojmsotojmsotojmsotojmsotojmsotojmsotojmsotojmsotojmsotojmsotojmsotojmsotojmsotojmsotojmsotojmsotojmsotojmsotojmsotojmsotojmsotojmsotojmsotojmsotojmsotojmsotojmsotojmsotojmsotojmsotojmsotojmsotojmsotojmsotojmsotojmsotojmsotojmsotojmsotojmsotojmsotojmsotojmsotojmsotojmsotojmsotojmsotojmsotojmsotojmsotojmsotojmsotojmsotojmsotojmsotojmsotojmsotojmsotojmsotojmsotojmsotojmsotojmsotojmsotojmsotojmsotojmsotojmsotojmsotojmsotojmsotojmsotojmsotojmsotojmsotojmsotojmsotojmsotojmsotojmsotojmsotojmsotojmsotojmsotojmsotojmsotojmsotojmsotojmsotojmsotojmsotojmsotojmsotojmsotojmsotojmsotojmsotojmsotojmsotojmsotojmsotojmsotojmsotojmsotojmsotojmsotojmsotojmsotojmsotojmsotojmsotojmsotojmsotojmsotojmsotojmsotojmsotojmsotojmsotojmsotojmsotojmsotojmsotojmsotojmsotojmsotojmsotojmsotojmsotojmsotojmsotojmsotojmsotojmsotojmsotojmsotojmsotojmsotojmsotojmsotojmsotojmsotojmsotojmsotojmsotojmsotojmsotojmsotojmsotojmsotojmsotojmsotojmsotojmsotojmsotojmsotojmsotojmsotojmsotojmsotojmsotojmsotojmsotojmsotojmsotojmsotojmsotojmsotojmsotojmsotojmsotojmsotojmsotojmsotojmsotojmsotojmsotojmsotojmsotojmsotojmsotojmsotojmsotojmsotojmsotojmsotojmsotojmsotojmsotojmsotojmsotojmsotojmsotojmsotojmsotojmsotojmsotojmsotojmsotojmsotojmsotojmsotojmsotojmsotojmsotojmsotojmsotojmsotojmsotojmsotojmsotojmsotojmsotojmsotojmsotojmsotojmsotojmsotojmsotojmsotojmsotojmsotojmsotojmsotojmsotojmsotojmsotojmsotojmsotojmsotojmsotojmsotojmsotojmsotojmsotojmsotojmsotojmsotojmsotojmsotojmsotojmsotojmsotojmsotojmsotojmsotojmsotojmsotojmsotojmsotojmsotojmsotojmsotojmsotojmsotojmsotojmsotojmsotojmsotojmsotojmsotojmsotojmsotojmsotojmsotojmsotojmsotojmsotojmsotojmsotojmsotojmsotojmsotojmsotojmsotojmsotojmsotojmsotojmsotojmsotojmsotojmsotojmsotojmsotojmsotojmsotojmsotojmsotojmsotojmsotojmsotojmsotojmsotojmsotojmsotojmsotojmsotojmsotojmsotojmsotojmsotojmsotojmsotojmsotojmsotojmsotojmsotojmsotojmsotojmsotojmsotojmsotojmsotojmsotojmsotojmsotojmsotojmsotojmsotojmsotojmsotojmsotojmsotojmsotojmsotojmsotojmsotojmsotojmsotojmsotojmsotojmsotojmsotojmsotojmsotojmsotojmsotojmsotojmsotojmsotojmsotojmsotojmsotojmsotojmsotojmsotojmsotojmsotojmsotojmsotojmsotojmsotojmsotojmsotojmsotojmsotojmsotojmsotojmsotojmsotojmsotojmsotojmsotojmsotojmsotojmsotojmsotojmsotojmsotojmsotojmsotojmsotojmsotojmsotojmsotojmsotojmsotojmsotojmsotojmsotojmsotojmsotojmsotojmsotojmsotojmsotojmsotojmsotojmsotojmsotojmsotojmsotojmsotojmsotojmsotojmsotojmsotojmsotojmsotojmsotojmsotojmsotojmsotojmsotojmsotojmsotojmsotojmsotojmsotojmsotojmsotojmsotojmsotojmsotojmsotojmsotojmsotojmsotojmsotojmsotojmsotojmsotojmsotojmsotojmsotojmsotojmsotojmsotojmsotojmsotojmsotojmsotojmsotojmsotojmsotojmsotojmsotojmsotojmsotojmsotojmsotojmsotojmsotojmsotojmsotojmsotojmsotojmsotojmsotojmsotojmsotojmsotojmsotojmsotojmsotojmsotojmsotojmsotojmsotojmsotojmsotojmsotojmsotojmsotojmsotojmsotojmsotojmsotojmsotojmsotojmsotojmsotojmsotojmsotojmsotojmsotojmsotojmsotojmsotojmsotojmsotojmsotojmsotojmsotojmsotojmsotojmsotojmsotojmsotojmsotojmsotojmsotojmsotojmsotojmsotojmsotojmsotojmsotojmsotojmsotojmsotojmsotojmsotojmsotojmsotojmsotojmsotojmsotojmsotojmsotojmsotojmsotojmsotojmsotojmsotojmsotojmsotojmsotojmsotojmsotojmsotojmsotojmsotojmsotojmsotojmsotojmsotojmsotojmsotojmsotojmsotojmsotojmsotojmsotojmsotojmsotojmsotojmsotojmsotojmsotojmsotojmsotojmsotojmsotojmsotojmsotojmsotojmsotojmsotojmsotojmsotojmsotojmsotojmsotojmsotojmsotojmsotojmsotojmsotojmsotojmsotojmsotojmsotojmsotojmsotojmsotojmsotojmsotojmsotojmsotojmsotojmsotojmsotojmsotojmsotojmsotojmsotojmsotojmsotojmsotojmsotojmsotojmsotojmsotojmsotojmsotojmsotojmsotojmsotojmsotojmsotojmsotojmsotojmsotojmsotojmsotojmsotojmsotojmsotojmsotojmsotojmsotojmsotojmsotojmsotojmsotojmsotojmsotojmsotojmsotojmsotojmsotojmsotojmsotojmsotojmsotojmsotojmsotojmsotojmsotojmsotojmsotojmsotojmsotojmsotojmsotojmsotojmsotojmsotojmsotojmsotojmsotojmsotojmsotojmsotojmsotojmsotojmsotojmsotojmsotojmsotojmsotojmsotojmsotojmsotojmsotojmsotojmsotojmsotojmsotojmsotojmsotojmsotojmsotojmsotojmsotojmsotojmsotojmsotojmsotojmsotojmsotojmsotojmsotojmsotojmsotojmsotojmsotojmsotojmsotojmsotojmsotojmsotojmsotojmsotojmsotojmsotojmsotojmsotojmsotojmsotojmsotojmsotojmsotojmsotojmsotojmsotojmsotojmsotojmsotojmsotojmsotojmsotojmsotojmsotojmsotojmsotojmsotojmsotojmsotojmsotojmsotojmsotojmsotojmsotojmsotojmsotojmsotojmsotojmsotojmsotojmsotojmsotojmsotojmsotojmsotojmsotojmsotojmsotojmsotojmsotojmsotojmsotojmsotojmsotojmsotojmsotojmsotojmsotojmsotojmsotojmsotojmsotojmsotojmsotojmsotojmsotojmsotojmsotojmsotojmsotojmsotojmsotojmsotojmsotojmsotojmsotojmsotojmsotojmsotojmsotojmsotojmsotojmsotojmsotojmsotojmsotojmsotojmsotojmsotojmsotojmsotojmsotojmsotojmsotojmsotojmsotojmsotojmsotojmsotojmsotojmsotojmsotojmsotojmsotojmsotojmsotojmsotojmsotojmsotojmsotojmsotojmsotojmsotojmsotojmsotojmsotojmsotojmsotojmsotojmsotojmsotojmsotojmsotojmsotojmsotojmsotojmsotojmsotojmsotojmsotojmsotojmsotojmsotojmsotojmsotojmsotojmsotojmsotojmsotojmsotojmsotojmsotojmsotojmsotojmsotojmsotojmsotojmsotojmsotojmsotojmsotojmsotojmsotojmsotojmsotojmsotojmsotojmsotojmsotojmsotojmsotojmsotojmsotojmsotojmsotojmsotojmsotojmsotojmsotojmsotojmsotojmsotojmsotojmsotojmsotojmsotojmsotojmsotojmsotojmsotojmsotojmsotojmsotojmsotojmsotojmsotojmsotojmsotojmsotojmsotojmsotojmsotojmsotojmsotojmsotojmsotojmsotojmsotojmsotojmsotojmsotojmsotojmsotojmsotojmsotojmsotojmsotojmsotojmsotojmsotojmsotojmsotojmsotojmsotojmsotojmsotojmsotojmsotojmsotojmsotojmsotojmsotojmsotojmsotojmsotojmsotojmsotojmsotojmsotojmsotojmsotojmsotojmsotojmsotojmsotojmsotojmsotojmsotojmsotojmsotojmsotojmsotojmsotojmsotojmsotojmsotojmsotojmsotojmsotojmsotojmsotojmsotojmsotojmsotojmsotojmsotojmsotojmsotojmsotojmsotojmsotojmsotojmsotojmsotojmsotojmsotojmsotojmsotojmsotojmsotojmsotojmsotojmsotojmsotojmsotojmsotojmsotojmsotojmsotojmsotojmsotojmsotojmsotojmsotojmsotojmsotojmsotojmsotojmsotojmsotojmsotojmsotojmsotojmsotojmsotojmsotojmsotojmsotojmsotojmsotojmsotojmsotojmsotojmsotojmsotojmsotojmsotojmsotojmsotojmsotojmsotojmsotojmsotojmsotojmsotojmsotojmsotojmsotojmsotojmsotojmsotojmsotojmsotojmsotojmsotojmsotojmsotojmsotojmsotojmsotojmsotojmsotojmsotojmsotojmsotojmsotojmsotojmsotojmsotojmsotojmsotojmsotojmsotojmsotojmsotojmsotojmsotojmsotojmsotojmsotojmsotojmsotojmsotojmsotojmsotojmsotojmsotojmsotojmsotojmsotojmsotojmsotojmsotojmsotojmsotojmsotojmsotojmsotojmsotojmsotojmsotojmsotojmsotojmsotojmsotojmsotojmsotojmsotojmsotojmsotojmsotojmsotojmsotojmsotojmsotojmsotojmsotojmsotojmsotojmsotojmsotojmsotojmsotojmsotojmsotojmsotojmsotojmsotojmsotojmsotojmsotojmsotojmsotojmsotojmsotojmsotojmsotojmsotojmsotojmsotojmsotojmsotojmsotojmsotojmsotojmsotojmsotojmsotojmsotojmsotojmsotojmsotojmsotojmsotojmsotojmsotojmsotojmsotojmsotojmsotojmsotojmsotojmsotojmsotojmsotojmsotojmsotojmsotojmsotojmsotojmsotojmsotojmsotojmsotojmsotojmsotojmsotojmsotojmsotojmsotojmsotojmsotojmsotojmsotojmsotojmsotojmsotojmsotojmsotojmsotojmsotojmsotojmsotojmsotojmsotojmsotojmsotojmsotojmsotojmsotojmsotojmsotojmsotojmsotojmsotojmsotojmsotojmsotojmsotojmsotojmsotojmsotojmsotojmsotojmsotojmsotojmsotojmsotojmsotojmsotojmsotojmsotojmsotojmsotojmsotojmsotojmsotojmsotojmsotojmsotojmsotojmsotojmsotojmsotojmsotojmsotojmsotojmsotojmsotojmsotojmsotojmsotojmsotojmsotojmsotojmsotojmsotojmsotojmsotojmsotojmsotojmsotojmsotojmsotojmsotojmsotojmsotojmsotojmsotojmsotojmsotojmsotojmsotojmsotojmsotojmsotojmsotojmsotojmsotojmsotojmsotojmsotojmsotojmsotojmsotojmsotojmsotojmsotojmsotojmsotojmsotojmsotojmsotojmsotojmsotojmsotojmsotojmsotojmsotojmsotojmsotojmsotojmsotojmsotojmsotojmsotojmsotojmsotojmsotojmsotojmsotojmsotojmsotojmsotojmsotojmsotojmsotojmsotojmsotojmsotojmsotojmsotojmsotojmsotojmsotojmsotojmsotojmsotojmsotojmsotojmsotojmsotojmsotojmsotojmsotojmsotojmsotojmsotojmsotojmsotojmsotojmsotojmsotojmsotojmsotojmsotojmsotojmsotojmsotojmsotojmsotojmsotojmsotojmsotojmsotojmsotojmsotojmsotojmsotojmsotojmsotojmsotojmsotojmsotojmsotojmsotojmsotojmsotojmsotojmsotojmsotojmsotojmsotojmsotojmsotojmsotojmsotojmsotojmsotojmsotojmsotojmsotojmsotojmsotojmsotojmsotojmsotojmsotojmsotojmsotojmsotojmsotojmsotojmsotojmsotojmsotojmsotojmsotojmsotojmsotojmsotojmsotojmsotojmsotojmsotojmsotojmsotojmsotojmsotojmsotojmsotojmsotojmsotojmsotojmsotojmsotojmsotojmsotojmsotojmsotojmsotojmsotojmsotojmsotojmsotojmsotojmsotojmsotojmsotojmsotojmsotojmsotojmsotojmsotojmsotojmsotojmsotojmsotojmsotojmsotojmsotojmsotojmsotojmsotojmsotojmsotojmsotojmsotojmsotojmsotojmsotojmsotojmsotojmsotojmsotojmsotojmsotojmsotojmsotojmsotojmsotojmsotojmsotojmsotojmsotojmsotojmsotojmsotojmsotojmsotojmsotojmsotojmsotojmsotojmsotojmsotojmsotojmsotojmsotojmsotojmsotojmsotojmsotojmsotojmsotojmsotojmsotojmsotojmsotojmsotojmsotojmsotojmsotojmsotojmsotojmsotojmsotojmsotojmsotojmsotojmsotojmsotojmsotojmsotojmsotojmsotojmsotojmsotojmsotojmsotojmsotojmsotojmsotojmsotojmsotojmsotojmsotojmsotojmsotojmsotojmsotojmsotojmsotojmsotojmsotojmsotojmsotojmsotojmsotojmsotojmsotojmsotojmsotojmsotojmsotojmsotojmsotojmsotojmsotojmsotojmsotojmsotojmsotojmsotojmsotojmsotojmsotojmsotojmsotojmsotojmsotojmsotojmsotojmsotojmsotojmsotojmsotojmsotojmsotojmsotojmsotojmsotojmsotojmsotojmsotojmsotojmsotojmsotojmsotojmsotojmsotojmsotojmsotojmsotojmsotojmsotojmsotojmsotojmsotojmsotojmsotojmsotojmsotojmsotojmsotojmsotojmsotojmsotojmsotojmsotojmsotojmsotojmsotojmsotojmsotojmsotojmsotojmsotojmsotojmsotojmsotojmsotojmsotojmsotojmsotojmsotojmsotojmsotojmsotojmsotojmsotojmsotojmsotojmsotojmsotojmsotojmsotojmsotojmsotojmsotojmsotojmsotojmsotojmsotojmsotojmsotojmsotojmsotojmsotojmsotojmsotojmsotojmsotojmsotojmsotojmsotojmsotojmsotojmsotojmsotojmsotojmsotojmsotojmsotojmsotojmsotojmsotojmsotojmsotojmsotojmsotojmsotojmsotojmsotojmsotojmsotojmsotojmsotojmsotojmsotojmsotojmsotojmsotojmsotojmsotojmsotojmsotojmsotojmsotojmsotojmsotojmsotojmsotojmsotojmsotojmsotojmsotojmsotojmsotojmsotojmsotojmsotojmsotojmsotojmsotojmsotojmsotojmsotojmsotojmsotojmsotojmsotojmsotojmsotojmsotojmsotojmsotojmsotojmsotojmsotojmsotojmsotojmsotojmsotojmsotojmsotojmsotojmsotojmsotojmsotojmsotojmsotojmsotojmsotojmsotojmsotojmsotojmsotojmsotojmsotojmsotojmsotojmsotojmsotojmsotojmsotojmsotojmsotojmsotojmsotojmsotojmsotojmsotojmsotojmsotojmsotojmsotojmsotojmsotojmsotojmsotojmsotojmsotojmsotojmsotojmsotojmsotojmsotojmsotojmsotojmsotojmsotojmsotojmsotojmsotojmsotojmsotojmsotojmsotojmsotojmsotojmsotojmsotojmsotojmsotojmsotojmsotojmsotojmsotojmsotojmsotojmsotojmsotojmsotojmsotojmsotojmsotojmsotojmsotojmsotojmsotojmsotojmsotojmsotojmsotojmsotojmsotojmsotojmsotojmsotojmsotojmsotojmsotojmsotojmsotojmsotojmsotojmsotojmsotojmsotojmsotojmsotojmsotojmsotojmsotojmsotojmsotojmsotojmsotojmsotojmsotojmsotojmsotojmsotojmsotojmsotojmsotojmsotojmsotojmsotojmsotojmsotojmsotojmsotojmsotojmsotojmsotojmsotojmsotojmsotojmsotojmsotojmsotojmsotojmsotojmsotojmsotojmsotojmsotojmsotojmsotojmsotojmsotojmsotojmsotojmsotojmsotojmsotojmsotojmsotojmsotojmsotojmsotojmsotojmsotojmsotojmsotojmsotojmsotojmsotojmsotojmsotojmsotojmsotojmsotojmsotojmsotojmsotojmsotojmsotojmsotojmsotojmsotojmsotojmsotojmsotojmsotojmsotojmsotojmsotojmsotojmsotojmsotojmsotojmsotojmsotojmsotojmsotojmsotojmsotojmsotojmsotojmsotojmsotojmsotojmsotojmsotojmsotojmsotojmsotojmsotojmsotojmsotojmsotojmsotojmsotojmsotojmsotojmsotojmsotojmsotojmsotojmsotojmsotojmsotojmsotojmsotojmsotojmsotojmsotojmsotojmsotojmsotojmsotojmsotojmsotojmsotojmsotojmsotojmsotojmsotojmsotojmsotojmsotojmsotojmsotojmsotojmsotojmsotojmsotojmsotojmsotojmsotojmsotojmsotojmsotojmsotojmsotojmsotojmsotojmsotojmsotojmsotojmsotojmsotojmsotojmsotojmsotojmsotojmsotojmsotojmsotojmsotojmsotojmsotojmsotojmsotojmsotojmsotojmsotojmsotojmsotojmsotojmsotojmsotojmsotojmsotojmsotojmsotojmsotojmsotojmsotojmsotojmsotojmsotojmsotojmsotojmsotojmsotojmsotojmsotojmsotojmsotojmsotojmsotojmsotojmsotojmsotojmsotojmsotojmsotojmsotojmsotojmsotojmsotojmsotojmsotojmsotojmsotojmsotojmsotojmsotojmsotojmsotojmsotojmsotojmsotojmsotojmsotojmsotojmsotojmsotojmsotojmsotojmsotojmsotojmsotojmsotojmsotojmsotojmsotojmsotojmsotojmsotojmsotojmsotojmsotojmsotojmsotojmsotojmsotojmsotojmsotojmsotojmsotojmsotojmsotojmsotojmsotojmsotojmsotojmsotojmsotojmsotojmsotojmsotojmsotojmsotojmsotojmsotojmsotojmsotojmsotojmsotojmsotojmsotojmsotojmsotojmsotojmsotojmsotojmsotojmsotojmsotojmsotojmsotojmsotojmsotojmsotojmsotojmsotojmsotojmsotojmsotojmsotojmsotojmsotojmsotojmsotojmsotojmsotojmsotojmsotojmsotojmsotojmsotojmsotojmsotojmsotojmsotojmsotojmsotojmsotojmsotojmsotojmsotojmsotojmsotojmsotojmsotojmsotojmsotojmsotojmsotojmsotojmsotojmsotojmsotojmsotojmsotojmsotojmsotojmsotojmsotojmsotojmsotojmsotojmsotojmsotojmsotojmsotojmsotojmsotojmsotojmsotojmsotojmsotojmsotojmsotojmsotojmsotojmsotojmsotojmsotojmsotojmsotojmsotojmsotojmsotojmsotojmsotojmsotojmsotojmsotojmsotojmsotojmsotojmsotojmsotojmsotojmsotojmsotojmsotojmsotojmsotojmsotojmsotojmsotojmsotojmsotojmsotojmsotojmsotojmsotojmsotojmsotojmsotojmsotojmsotojmsotojmsotojmsotojmsotojmsotojmsotojmsotojmsotojmsotojmsotojmsotojmsotojmsotojmsotojmsotojmsotojmsotojmsotojmsotojmsotojmsotojmsotojmsotojmsotojmsotojmsotojmsotojmsotojmsotojmsotojmsotojmsotojmsotojmsotojmsotojmsotojmsotojmsotojmsotojmsotojmsotojmsotojmsotojmsotojmsotojmsotojmsotojmsotojmsotojmsotojmsotojmsotojmsotojmsotojmsotojmsotojmsotojmsotojmsotojmsotojmsotojmsotojmsotojmsotojmsotojmsotojmsotojmsotojmsotojmsotojmsotojmsotojmsotojmsotojmsotojmsotojmsotojmsotojmsotojmsotojmsotojmsotojmsotojmsotojmsotojmsotojmsotojmsotojmsotojmsotojmsotojmsotojmsotojmsotojmsotojmsotojmsotojmsotojmsotojmsotojmsotojmsotojmsotojmsotojmsotojmsotojmsotojmsotojmsotojmsotojmsotojmsotojmsotojmsotojmsotojmsotojmsotojmsotojmsotojmsotojmsotojmsotojmsotojmsotojmsotojmsotojmsotojmsotojmsotojmsotojmsotojmsotojmsotojmsotojmsotojmsotojmsotojmsotojmsotojmsotojmsotojmsotojmsotojmsotojmsotojmsotojmsotojmsotojmsotojmsotojmsotojmsotojmsotojmsotojmsotojmsotojmsotojmsotojmsotojmsotojmsotojmsotojmsotojmsotojmsotojmsotojmsotojmsotojmsotojmsotojmsotojmsotojmsotojmsotojmsotojmsotojmsotojmsotojmsotojmsotojmsotojmsotojmsotojmsotojmsotojmsotojmsotojmsotojmsotojmsotojmsotojmsotojmsotojmsotojmsotojmsotojmsotojmsotojmsotojmsotojmsotojmsotojmsotojmsotojmsotojmsotojmsotojmsotojmsotojmsotojmsotojmsotojmsotojmsotojmsotojmsotojmsotojmsotojmsotojmsotojmsotojmsotojmsotojmsotojmsotojmsotojmsotojmsotojmsotojmsotojmsotojmsotojmsotojmsotojmsotojmsotojmsotojmsotojmsotojmsotojmsotojmsotojmsotojmsotojmsotojmsotojmsotojmsotojmsotojmsotojmsotojmsotojmsotojmsotojmsotojmsotojmsotojmsotojmsotojmsotojmsotojmsotojmsotojmsotojmsotojmsotojmsotojmsotojmsotojmsotojmsotojmsotojmsotojmsotojmsotojmsotojmsotojmsotojmsotojmsotojmsotojmsotojmsotojmsotojmsotojmsotojmsotojmsotojmsotojmsotojmsotojmsotojmsotojmsotojmsotojmsotojmsotojmsotojmsotojmsotojmsotojmsotojmsotojmsotojmsotojmsotojmsotojmsotojmsotojmsotojmsotojmsotojmsotojmsotojmsotojmsotojmsotojmsotojmsotojmsotojmsotojmsotojmsotojmsotojmsotojmsotojmsotojmsotojmsotojmsotojmsotojmsotojmsotojmsotojmsotojmsotojmsotojmsotojmsotojmsotojmsotojmsotojmsotojmsotojmsotojmsotojmsotojmsotojmsotojmsotojmsotojmsotojmsotojmsotojmsotojmsotojmsotojmsotojmsotojmsotojmsotojmsotojmsotojmsotojmsotojmsotojmsotojmsotojmsotojmsotojmsotojmsotojmsotojmsotojmsotojmsotojmsotojmsotojmsotojmsotojmsotojmsotojmsotojmsotojmsotojmsotojmsotojmsotojmsotojmsotojmsotojmsotojmsotojmsotojmsotojmsotojmsotojmsotojmsotojmsotojmsotojmsotojmsotojmsotojmsotojmsotojmsotojmsotojmsotojmsotojmsotojmsotojmsotojmsotojmsotojmsotojmsotojmsotojmsotojmsotojmsotojmsotojmsotojmsotojmsotojmsotojmsotojmsotojmsotojmsotojmsotojmsotojmsotojmsotojmsotojmsotojmsotojmsotojmsotojmsotojmsotojmsotojmsotojmsotojmsotojmsotojmsotojmsotojmsotojmsotojmsotojmsotojmsotojmsotojmsotojmsotojmsotojmsotojmsotojmsotojmsotojmsotojmsotojmsotojmsotojmsotojmsotojmsotojmsotojmsotojmsotojmsotojmsotojmsotojmsotojmsotojmsotojmsotojmsotojmsotojmsotojmsotojmsotojmsotojmsotojmsotojmsotojmsotojmsotojmsotojmsotojmsotojmsotojmsotojmsotojmsotojmsotojmsotojmsotojmsotojmsotojmsotojmsotojmsotojmsotojmsotojmsotojmsotojmsotojmsotojmsotojmsotojmsotojmsotojmsotojmsotojmsotojmsotojmsotojmsotojmsotojmsotojmsotojmsotojmsotojmsotojmsotojmsotojmsotojmsotojmsotojmsotojmsotojmsotojmsotojmsotojmsotojmsotojmsotojmsotojmsotojmsotojmsotojmsotojmsotojmsotojmsotojmsotojmsotojmsotojmsotojmsotojmsotojmsotojmsotojmsotojmsotojmsotojmsotojmsotojmsotojmsotojmsotojmsotojmsotojmsotojmsotojmsotojmsotojmsotojmsotojmsotojmsotojmsotojmsotojmsotojmsotojmsotojmsotojmsotojmsotojmsotojmsotojmsotojmsotojmsotojmsotojmsotojmsotojmsotojmsotojmsotojmsotojmsotojmsotojmsotojmsotojmsotojmsotojmsotojmsotojmsotojmsotojmsotojmsotojmsotojmsotojmsotojmsotojmsotojmsotojmsotojmsotojmsotojmsotojmsotojmsotojmsotojmsotojmsotojmsotojmsotojmsotojmsotojmsotojmsotojmsotojmsotojmsotojmsotojmsotojmsotojmsotojmsotojmsotojmsotojmsotojmsotojmsotojmsotojmsotojmsotojmsotojmsotojmsotojmsotojmsotojmsotojmsotojmsotojmsotojmsotojmsotojmsotojmsotojmsotojmsotojmsotojmsotojmsotojmsotojmsotojmsotojmsotojmsotojmsotojmsotojmsotojmsotojmsotojmsotojmsotojmsotojmsotojmsotojmsotojmsotojmsotojmsotojmsotojmsotojmsotojmsotojmsotojmsotojmsotojmsotojmsotojmsotojmsotojmsotojmsotojmsotojmsotojmsotojmsotojmsotojmsotojmsotojmsotojmsotojmsotojmsotojmsotojmsotojmsotojmsotojmsotojmsotojmsotojmsotojmsotojmsotojmsotojmsotojmsotojmsotojmsotojmsotojmsotojmsotojmsotojmsotojmsotojmsotojmsotojmsotojmsotojmsotojmsotojmsotojmsotojmsotojmsotojmsotojmsotojmsotojmsotojmsotojmsotojmsotojmsotojmsotojmsotojmsotojmsotojmsotojmsotojmsotojmsotojmsotojmsotojmsotojmsotojmsotojmsotojmsotojmsotojmsotojmsotojmsotojmsotojmsotojmsotojmsotojmsotojmsotojmsotojmsotojmsotojmsotojmsotojmsotojmsotojmsotojmsotojmsotojmsotojmsotojmsotojmsotojmsotojmsotojmsotojmsotojmsotojmsotojmsotojmsotojmsotojmsotojmsotojmsotojmsotojmsotojmsotojmsotojmsotojmsotojmsotojmsotojmsotojmsotojmsotojmsotojmsotojmsotojmsotojmsotojmsotojmsotojmsotojmsotojmsotojmsotojmsotojmsotojmsotojmsotojmsotojmsotojmsotojmsotojmsotojmsotojmsotojmsotojmsotojmsotojmsotojmsotojmsotojmsotojmsotojmsotojmsotojmsotojmsotojmsotojmsotojmsotojmsotojmsotojmsotojmsotojmsotojmsotojmsotojmsotojmsotojmsotojmsotojmsotojmsotojmsotojmsotojmsotojmsotojmsotojmsotojmsotojmsotojmsotojmsotojmsotojmsotojmsotojmsotojmsotojmsotojmsotojmsotojmsotojmsotojmsotojmsotojmsotojmsotojmsotojmsotojmsotojmsotojmsotojmsotojmsotojmsotojmsotojmsotojmsotojmsotojmsotojmsotojmsotojmsotojmsotojmsotojmsotojmsotojmsotojmsotojmsotojmsotojmsotojmsotojmsotojmsotojmsotojmsotojmsotojmsotojmsotojmsotojmsotojmsotojmsotojmsotojmsotojmsotojmsotojmsotojmsotojmsotojmsotojmsotojmsotojmsotojmsotojmsotojmsotojmsotojmsotojmsotojmsotojmsotojmsotojmsotojmsotojmsotojmsotojmsotojmsotojmsotojmsotojmsotojmsotojmsotojmsotojmsotojmsotojmsotojmsotojmsotojmsotojmsotojmsotojmsotojmsotojmsotojmsotojmsotojmsotojmsotojmsotojmsotojmsotojmsotojmsotojmsotojmsotojmsotojmsotojmsotojmsotojmsotojmsotojmsotojmsotojmsotojmsotojmsotojmsotojmsotojmsotojmsotojmsotojmsotojmsotojmsotojmsotojmsotojmsotojmsotojmsotojmsotojmsotojmsotojmsotojmsotojmsotojmsotojmsotojmsotojmsotojmsotojmsotojmsotojmsotojmsotojmsotojmsotojmsotojmsotojmsotojmsotojmsotojmsotojmsotojmsotojmsotojmsotojmsotojmsotojmsotojmsotojmsotojmsotojmsotojmsotojmsotojmsotojmsotojmsotojmsotojmsotojmsotojmsotojmsotojmsotojmsotojmsotojmsotojmsotojmsotojmsotojmsotojmsotojmsotojmsotojmsotojmsotojmsotojmsotojmsotojmsotojmsotojmsotojmsotojmsotojmsotojmsotojmsotojmsotojmsotojmsotojmsotojmsotojmsotojmsotojmsotojmsotojmsotojmsotojmsotojmsotojmsotojmsotojmsotojmsotojmsotojmsotojmsotojmsotojmsotojmsotojmsotojmsotojmsotojmsotojmsotojmsotojmsotojmsotojmsotojmsotojmsotojmsotojmsotojmsotojmsotojmsotojmsotojmsotojmsotojmsotojmsotojmsotojmsotojmsotojmsotojmsotojmsotojmsotojmsotojmsotojmsotojmsotojmsotojmsotojmsotojmsotojmsotojmsotojmsotojmsotojmsotojmsotojmsotojmsotojmsotojmsotojmsotojmsotojmsotojmsotojmsotojmsotojmsotojmsotojmsotojmsotojmsotojmsotojmsotojmsotojmsotojmsotojmsotojmsotojmsotojmsotojmsotojmsotojmsotojmsotojmsotojmsotojmsotojmsotojmsotojmsotojmsotojmsotojmsotojmsotojmsotojmsotojmsotojmsotojmsotojmsotojmsotojmsotojmsotojmsotojmsotojmsotojmsotojmsotojmsotojmsotojmsotojmsotojmsotojmsotojmsotojmsotojmsotojmsotojmsotojmsotojmsotojmsotojmsotojmsotojmsotojmsotojmsotojmsotojmsotojmsotojmsotojmsotojmsotojmsotojmsotojmsotojmsotojmsotojmsotojmsotojmsotojmsotojmsotojmsotojmsotojmsotojmsotojmsotojmsotojmsotojmsotojmsotojmsotojmsotojmsotojmsotojmsotojmsotojmsotojmsotojmsotojmsotojmsoto"
     ]
    }
   ],
   "source": [
    "'''\n",
    "## Write a program to fill the screen horizontally and vertically your name. \n",
    "[Hint: add the option end='' into the print function to fill the scrren horizontally]'''\n",
    "\n",
    "for i in range(100):\n",
    "    print ('jmsoto'*i, end='')"
   ]
  },
  {
   "cell_type": "code",
   "execution_count": 97,
   "metadata": {},
   "outputs": [
    {
     "name": "stdout",
     "output_type": "stream",
     "text": [
      "1 JM Soto\n",
      "2 JM Soto\n",
      "3 JM Soto\n",
      "4 JM Soto\n",
      "5 JM Soto\n",
      "6 JM Soto\n",
      "7 JM Soto\n",
      "8 JM Soto\n",
      "9 JM Soto\n",
      "10 JM Soto\n",
      "11 JM Soto\n",
      "12 JM Soto\n",
      "13 JM Soto\n",
      "14 JM Soto\n",
      "15 JM Soto\n",
      "16 JM Soto\n",
      "17 JM Soto\n",
      "18 JM Soto\n",
      "19 JM Soto\n",
      "20 JM Soto\n",
      "21 JM Soto\n",
      "22 JM Soto\n",
      "23 JM Soto\n",
      "24 JM Soto\n",
      "25 JM Soto\n",
      "26 JM Soto\n",
      "27 JM Soto\n",
      "28 JM Soto\n",
      "29 JM Soto\n",
      "30 JM Soto\n",
      "31 JM Soto\n",
      "32 JM Soto\n",
      "33 JM Soto\n",
      "34 JM Soto\n",
      "35 JM Soto\n",
      "36 JM Soto\n",
      "37 JM Soto\n",
      "38 JM Soto\n",
      "39 JM Soto\n",
      "40 JM Soto\n",
      "41 JM Soto\n",
      "42 JM Soto\n",
      "43 JM Soto\n",
      "44 JM Soto\n",
      "45 JM Soto\n",
      "46 JM Soto\n",
      "47 JM Soto\n",
      "48 JM Soto\n",
      "49 JM Soto\n",
      "50 JM Soto\n",
      "51 JM Soto\n",
      "52 JM Soto\n",
      "53 JM Soto\n",
      "54 JM Soto\n",
      "55 JM Soto\n",
      "56 JM Soto\n",
      "57 JM Soto\n",
      "58 JM Soto\n",
      "59 JM Soto\n",
      "60 JM Soto\n",
      "61 JM Soto\n",
      "62 JM Soto\n",
      "63 JM Soto\n",
      "64 JM Soto\n",
      "65 JM Soto\n",
      "66 JM Soto\n",
      "67 JM Soto\n",
      "68 JM Soto\n",
      "69 JM Soto\n",
      "70 JM Soto\n",
      "71 JM Soto\n",
      "72 JM Soto\n",
      "73 JM Soto\n",
      "74 JM Soto\n",
      "75 JM Soto\n",
      "76 JM Soto\n",
      "77 JM Soto\n",
      "78 JM Soto\n",
      "79 JM Soto\n",
      "80 JM Soto\n",
      "81 JM Soto\n",
      "82 JM Soto\n",
      "83 JM Soto\n",
      "84 JM Soto\n",
      "85 JM Soto\n",
      "86 JM Soto\n",
      "87 JM Soto\n",
      "88 JM Soto\n",
      "89 JM Soto\n",
      "90 JM Soto\n",
      "91 JM Soto\n",
      "92 JM Soto\n",
      "93 JM Soto\n",
      "94 JM Soto\n",
      "95 JM Soto\n",
      "96 JM Soto\n",
      "97 JM Soto\n",
      "98 JM Soto\n",
      "99 JM Soto\n",
      "100 JM Soto\n"
     ]
    }
   ],
   "source": [
    "'''\n",
    "Write a program that outpus 100 lines, numbered 1 to 100, each with your name on it.\n",
    "The output should look like the output below:\n",
    "1 Your name\n",
    "2 Your name\n",
    "....\n",
    "100 Your name'''\n",
    "for i in range (100):\n",
    "    print(i+1, 'JM Soto')"
   ]
  },
  {
   "cell_type": "code",
   "execution_count": 99,
   "metadata": {},
   "outputs": [
    {
     "name": "stdout",
     "output_type": "stream",
     "text": [
      "1 1\n",
      "2 4\n",
      "3 9\n",
      "4 16\n",
      "5 25\n",
      "6 36\n",
      "7 49\n",
      "8 64\n",
      "9 81\n",
      "10 100\n",
      "11 121\n",
      "12 144\n",
      "13 169\n",
      "14 196\n",
      "15 225\n",
      "16 256\n",
      "17 289\n",
      "18 324\n",
      "19 361\n",
      "20 400\n"
     ]
    }
   ],
   "source": [
    "'''\n",
    "Write a program that prints out a list of the integers from 1 to 20 and theri squares.\n",
    "The output should look like the otuput below:\n",
    "1 ---1\n",
    "2 ---4\n",
    "....\n",
    "20 ---400'''\n",
    "\n",
    "for i in range(1,21):\n",
    "    print(i, i*i)"
   ]
  },
  {
   "cell_type": "code",
   "execution_count": 100,
   "metadata": {},
   "outputs": [
    {
     "name": "stdout",
     "output_type": "stream",
     "text": [
      "8\n",
      "11\n",
      "14\n",
      "17\n",
      "20\n",
      "23\n",
      "26\n",
      "29\n",
      "32\n",
      "35\n",
      "38\n",
      "41\n",
      "44\n",
      "47\n",
      "50\n",
      "53\n",
      "56\n",
      "59\n",
      "62\n",
      "65\n",
      "68\n",
      "71\n",
      "74\n",
      "77\n",
      "80\n",
      "83\n",
      "86\n",
      "89\n"
     ]
    }
   ],
   "source": [
    "'''\n",
    "Write a program that uses a for loop to print the numbers 8, 11, 14, 17, 20,...,83, 86, 89.'''\n",
    "\n",
    "for i in range (8,90,3):\n",
    "    print (i)"
   ]
  },
  {
   "cell_type": "code",
   "execution_count": 125,
   "metadata": {},
   "outputs": [
    {
     "name": "stdout",
     "output_type": "stream",
     "text": [
      "100\n",
      "98\n",
      "96\n",
      "94\n",
      "92\n",
      "90\n",
      "88\n",
      "86\n",
      "84\n",
      "82\n",
      "80\n",
      "78\n",
      "76\n",
      "74\n",
      "72\n",
      "70\n",
      "68\n",
      "66\n",
      "64\n",
      "62\n",
      "60\n",
      "58\n",
      "56\n",
      "54\n",
      "52\n",
      "50\n",
      "48\n",
      "46\n",
      "44\n",
      "42\n",
      "40\n",
      "38\n",
      "36\n",
      "34\n",
      "32\n",
      "30\n",
      "28\n",
      "26\n",
      "24\n",
      "22\n",
      "20\n",
      "18\n",
      "16\n",
      "14\n",
      "12\n",
      "10\n",
      "8\n",
      "6\n",
      "4\n",
      "2\n"
     ]
    }
   ],
   "source": [
    "'''\n",
    "Write a program that uses a for loop to print the numbers 100,98,96, ..., 4, 2.'''\n",
    "\n",
    "for i in range (100,1,-1):\n",
    "    if i % 2 == 0:\n",
    "        print (i)\n",
    "        "
   ]
  },
  {
   "cell_type": "code",
   "execution_count": 161,
   "metadata": {},
   "outputs": [
    {
     "name": "stdout",
     "output_type": "stream",
     "text": [
      "AAAAAAAAAABBBBBBBCDCDCDCDCDCDEFFFFFF G"
     ]
    }
   ],
   "source": [
    "'''\n",
    "Write a program that uses exactly four for loops to print the sequence of letters below:\n",
    "AAAAAAAAAABBBBBBBCDCDCDCDCDCDEFFFFFFG'''\n",
    "\n",
    "for i in range (5):\n",
    "    for j in range (i,11):\n",
    "        if i == 1:\n",
    "            print('A', end='')\n",
    "    for j in range (i,9):\n",
    "        if i == 2:\n",
    "            print('B', end='')\n",
    "        elif i== 3:\n",
    "            print('CD', end='')\n",
    "    for j in range (i, 5):\n",
    "        if i==4:\n",
    "            print('E', end='')\n",
    "print('F'*6,'G',end='')"
   ]
  },
  {
   "cell_type": "code",
   "execution_count": 174,
   "metadata": {},
   "outputs": [
    {
     "name": "stdout",
     "output_type": "stream",
     "text": [
      "Input your name: Bad Pancho\n",
      "Please input how many time we will print your name:10\n",
      "1 Bad Pancho\n",
      "2 Bad Pancho\n",
      "3 Bad Pancho\n",
      "4 Bad Pancho\n",
      "5 Bad Pancho\n",
      "6 Bad Pancho\n",
      "7 Bad Pancho\n",
      "8 Bad Pancho\n",
      "9 Bad Pancho\n",
      "10 Bad Pancho\n"
     ]
    }
   ],
   "source": [
    "'''\n",
    "Write a program that asks the user for their name and how many time to print it. The program should print\n",
    "out the user's name the specified numbers of times'''\n",
    "name = input('Input your name: ')\n",
    "times = eval(input('Please input how many time we will print your name:'))\n",
    "for i in range (times):\n",
    "    print(i+1, name)\n",
    "    "
   ]
  },
  {
   "cell_type": "code",
   "execution_count": 205,
   "metadata": {},
   "outputs": [
    {
     "name": "stdout",
     "output_type": "stream",
     "text": [
      "Enter how many numbers needed in Fibonacci series: 6\n",
      "0,1,1,2,3,5,"
     ]
    }
   ],
   "source": [
    "'''\n",
    "The Fibonacci numbers are the sequence below, where the first two numbers are 1, \n",
    "and each number thereafter is the sum of the two preceding numbers.  Write a program that asks\n",
    "the user how many Fibonacci numbers to print and then prints that many'''\n",
    "\n",
    "def fibonacci(num):\n",
    "    num1 = 0\n",
    "    num2 = 1\n",
    "    series = 0\n",
    "    for i in range(num):\n",
    "        print(series, end=',');\n",
    "        num1 = num2;\n",
    "        num2 = series;\n",
    "        series = num1 + num2;\n",
    " \n",
    " \n",
    "# running function after takking user input\n",
    "num = int(input('Enter how many numbers needed in Fibonacci series: '))\n",
    "fibonacci(num)\n"
   ]
  },
  {
   "cell_type": "code",
   "execution_count": 221,
   "metadata": {},
   "outputs": [
    {
     "name": "stdout",
     "output_type": "stream",
     "text": [
      "Ingresa un número: 10\n",
      "0 0 1 0\n",
      "1 1 0 1\n",
      "2 0 1 1\n",
      "3 1 1 2\n",
      "4 1 2 3\n",
      "5 2 3 5\n",
      "6 3 5 8\n",
      "7 5 8 13\n",
      "8 8 13 21\n",
      "9 13 21 34\n"
     ]
    }
   ],
   "source": [
    "numero = int(input('Ingresa un número: '))\n",
    "\n",
    "numero1 = 0\n",
    "numero2 = 1\n",
    "series = 0\n",
    "\n",
    "for i in range(numero):\n",
    "    print(i, numero1, numero2, series)\n",
    "    numero1 = numero2;\n",
    "    numero2 = series;\n",
    "    series = numero1+numero2\n",
    "   \n"
   ]
  },
  {
   "cell_type": "code",
   "execution_count": 228,
   "metadata": {},
   "outputs": [
    {
     "name": "stdout",
     "output_type": "stream",
     "text": [
      "Please input the high: 10\n",
      "Please input the wide: 5\n",
      "*****\n",
      "*****\n",
      "*****\n",
      "*****\n",
      "*****\n",
      "*****\n",
      "*****\n",
      "*****\n",
      "*****\n",
      "*****\n"
     ]
    }
   ],
   "source": [
    "'''\n",
    "Use a for loop to print a box like athe one below.  Allow the user to specify how wide and how\n",
    "high the box should be. [Int: print('*'*10)prints ten asterisks]\n",
    "'''\n",
    "high = int(input('Please input the high: '))\n",
    "wide = int(input('Please input the wide: '))\n",
    "\n",
    "for i in range (high):\n",
    "    for j in range (wide):\n",
    "        print('*',end='')\n",
    "    print()\n"
   ]
  },
  {
   "cell_type": "code",
   "execution_count": 288,
   "metadata": {
    "scrolled": true
   },
   "outputs": [
    {
     "name": "stdout",
     "output_type": "stream",
     "text": [
      "Please input the high: 5\n",
      "Please input the wide: 5\n",
      "******\n",
      "*    *\n",
      "*    *\n",
      "*    *\n",
      "*    *\n",
      "******\n"
     ]
    }
   ],
   "source": [
    "'''\n",
    "Use a for loop to print a box like the one below.  Allow the user to specify how wide and how high\n",
    "the box should be\n",
    "++++++++++++++++\n",
    "+              +\n",
    "+              +\n",
    "++++++++++++++++\n",
    "\n",
    "'''\n",
    "high = int(input('Please input the high: '))\n",
    "wide = int(input('Please input the wide: '))\n",
    "\n",
    "for i in range (high+1):\n",
    "    for j in range(wide+1):\n",
    "        if i==0 or i== high:\n",
    "            print('*', end='')\n",
    "        elif j== 0:\n",
    "            print('*', end='')\n",
    "        elif j == wide:\n",
    "            print('*',end='')\n",
    "        else:\n",
    "            print(' ',end='')\n",
    "    print()"
   ]
  },
  {
   "cell_type": "code",
   "execution_count": 260,
   "metadata": {},
   "outputs": [
    {
     "name": "stdout",
     "output_type": "stream",
     "text": [
      "Ingrese el alto del triangulo: 8\n",
      "\n",
      "*\n",
      "**\n",
      "***\n",
      "****\n",
      "*****\n",
      "******\n",
      "*******\n"
     ]
    }
   ],
   "source": [
    "high = int(input('Ingrese el alto del triangulo: '))\n",
    "for i in range(0,high):\n",
    "    print('*'*i,end='')\n",
    "    print()"
   ]
  },
  {
   "cell_type": "code",
   "execution_count": 262,
   "metadata": {},
   "outputs": [
    {
     "name": "stdout",
     "output_type": "stream",
     "text": [
      "Ingrese el alto del triángulo: 8\n",
      "********\n",
      "*******\n",
      "******\n",
      "*****\n",
      "****\n",
      "***\n",
      "**\n",
      "*\n"
     ]
    }
   ],
   "source": [
    "high = int(input('Ingrese el alto del triángulo: '))\n",
    "for i in range (high,0,-1):\n",
    "    print('*'*i, end='')\n",
    "    print()"
   ]
  },
  {
   "cell_type": "code",
   "execution_count": 313,
   "metadata": {},
   "outputs": [
    {
     "ename": "NameError",
     "evalue": "name 'meidoi' is not defined",
     "output_type": "error",
     "traceback": [
      "\u001b[0;31m---------------------------------------------------------------------------\u001b[0m",
      "\u001b[0;31mNameError\u001b[0m                                 Traceback (most recent call last)",
      "\u001b[0;32m<ipython-input-313-e7776ff895d6>\u001b[0m in \u001b[0;36m<module>\u001b[0;34m\u001b[0m\n\u001b[1;32m      5\u001b[0m     \u001b[0mmedioi\u001b[0m \u001b[0;34m=\u001b[0m \u001b[0mi\u001b[0m\u001b[0;34m/\u001b[0m\u001b[0;36m2\u001b[0m\u001b[0;34m\u001b[0m\u001b[0;34m\u001b[0m\u001b[0m\n\u001b[1;32m      6\u001b[0m     \u001b[0;32mfor\u001b[0m \u001b[0mj\u001b[0m \u001b[0;32min\u001b[0m \u001b[0mrange\u001b[0m\u001b[0;34m(\u001b[0m\u001b[0;36m7\u001b[0m\u001b[0;34m)\u001b[0m\u001b[0;34m:\u001b[0m\u001b[0;34m\u001b[0m\u001b[0;34m\u001b[0m\u001b[0m\n\u001b[0;32m----> 7\u001b[0;31m         \u001b[0;32mif\u001b[0m \u001b[0mj\u001b[0m \u001b[0;34m>\u001b[0m \u001b[0mmeidoi\u001b[0m\u001b[0;34m:\u001b[0m\u001b[0;34m\u001b[0m\u001b[0;34m\u001b[0m\u001b[0m\n\u001b[0m\u001b[1;32m      8\u001b[0m             \u001b[0mprint\u001b[0m\u001b[0;34m(\u001b[0m\u001b[0;34m'u'\u001b[0m\u001b[0;34m,\u001b[0m \u001b[0mend\u001b[0m\u001b[0;34m=\u001b[0m\u001b[0;34m''\u001b[0m\u001b[0;34m)\u001b[0m\u001b[0;34m\u001b[0m\u001b[0;34m\u001b[0m\u001b[0m\n\u001b[1;32m      9\u001b[0m \u001b[0;34m\u001b[0m\u001b[0m\n",
      "\u001b[0;31mNameError\u001b[0m: name 'meidoi' is not defined"
     ]
    }
   ],
   "source": [
    "##Diamond\n"
   ]
  },
  {
   "cell_type": "code",
   "execution_count": null,
   "metadata": {},
   "outputs": [],
   "source": [
    "##Letra A\n"
   ]
  }
 ],
 "metadata": {
  "kernelspec": {
   "display_name": "Python 3",
   "language": "python",
   "name": "python3"
  },
  "language_info": {
   "codemirror_mode": {
    "name": "ipython",
    "version": 3
   },
   "file_extension": ".py",
   "mimetype": "text/x-python",
   "name": "python",
   "nbconvert_exporter": "python",
   "pygments_lexer": "ipython3",
   "version": "3.8.5"
  }
 },
 "nbformat": 4,
 "nbformat_minor": 4
}
