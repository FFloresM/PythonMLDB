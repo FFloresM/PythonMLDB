{
 "cells": [
  {
   "cell_type": "markdown",
   "metadata": {},
   "source": [
    "1) Leer números enteros de teclado, hasta que el usuario ingrese el 0. Finalmente, mostrar la sumatoria de todos los números ingresados."
   ]
  },
  {
   "cell_type": "code",
   "execution_count": 12,
   "metadata": {},
   "outputs": [
    {
     "name": "stdout",
     "output_type": "stream",
     "text": [
      "Ingrese cualquier número entero: 1\n",
      "Ingrese cualquier número entero: 2\n",
      "Ingrese cualquier número entero: 3\n",
      "Ingrese cualquier número entero: 4\n",
      "Ingrese cualquier número entero: 0\n",
      "la suma todal de todos los números ingresados es:  10\n",
      "fin del programa\n"
     ]
    }
   ],
   "source": [
    "numero = int(input('Ingrese cualquier número entero: '))\n",
    "acumulado = 0\n",
    "while numero !=0:\n",
    "    acumulado += numero\n",
    "    numero = int(input('Ingrese cualquier número entero: '))\n",
    "   \n",
    "print ('la suma todal de todos los números ingresados es: ', acumulado)\n",
    "print ('fin del programa')"
   ]
  },
  {
   "cell_type": "markdown",
   "metadata": {},
   "source": [
    "2) Leer números enteros de teclado, hasta que el usuario ingrese el 0. Finalmente, mostrar la sumatoria de todos los números positivos ingresados."
   ]
  },
  {
   "cell_type": "code",
   "execution_count": 15,
   "metadata": {},
   "outputs": [
    {
     "name": "stdout",
     "output_type": "stream",
     "text": [
      "Ingrese cualquier número entero: 1\n",
      "Ingrese cualquier número entero: 4\n",
      "Ingrese cualquier número entero: 5\n",
      "Ingrese cualquier número entero: -9\n",
      "Ingrese cualquier número entero: 0\n",
      "la suma todal de todos los números ingresados es:  10\n",
      "fin del programa\n"
     ]
    }
   ],
   "source": [
    "numero = int(input('Ingrese cualquier número entero: '))\n",
    "acumulado = 0\n",
    "while numero !=0:\n",
    "    if numero >0:\n",
    "        acumulado += numero\n",
    "    \n",
    "    numero = int(input('Ingrese cualquier número entero: '))\n",
    "    \n",
    "print ('la suma todal de todos los números ingresados es: ', acumulado)\n",
    "print ('fin del programa')"
   ]
  },
  {
   "cell_type": "markdown",
   "metadata": {},
   "source": [
    "3) Leer números enteros positivos de teclado, hasta que el usuario ingrese el 0. Informar cuál fue el mayor número ingresado."
   ]
  },
  {
   "cell_type": "code",
   "execution_count": 19,
   "metadata": {},
   "outputs": [
    {
     "name": "stdout",
     "output_type": "stream",
     "text": [
      "Ingrese cualquier número entero: 10\n",
      "Ingrese cualquier número entero: 2\n",
      "Ingrese cualquier número entero: 5\n",
      "Ingrese cualquier número entero: 666\n",
      "Ingrese cualquier número entero: 0\n",
      "el número mayor ingresado de la serie es:  666\n"
     ]
    }
   ],
   "source": [
    "numero = int(input('Ingrese cualquier número entero: '))\n",
    "mayor = 0\n",
    "while numero !=0:\n",
    "    if mayor < numero:\n",
    "           mayor = numero\n",
    "    numero = int(input('Ingrese cualquier número entero: '))\n",
    "print ('el número mayor ingresado de la serie es: ', mayor)"
   ]
  },
  {
   "cell_type": "markdown",
   "metadata": {},
   "source": [
    "4) Leer un número entero positivo desde teclado e imprimir la suma de los dígitos que lo componen."
   ]
  },
  {
   "cell_type": "code",
   "execution_count": 27,
   "metadata": {},
   "outputs": [
    {
     "name": "stdout",
     "output_type": "stream",
     "text": [
      "Ingrese cualquier número entero: 0000023\n",
      "5\n"
     ]
    }
   ],
   "source": [
    "numero = int(input('Ingrese cualquier número entero: '))\n",
    "entero = str(numero)\n",
    "suma = 0\n",
    "for i in entero:\n",
    "    suma += int(i)\n",
    "\n",
    "print (suma)\n"
   ]
  },
  {
   "cell_type": "markdown",
   "metadata": {},
   "source": [
    "5) Solicitar al usuario el ingreso de una frase y de una letra (que puede o no estar en la frase). Recorrer la frase, carácter a carácter, comparando con la letra buscada. Si el carácter no coincide, indicar que no hay coincidencia en esa posición (imprimiendo la posición) y continuar. Si se encuentra una coincidencia, indicar en qué posición se encontró y finalizar la ejecución."
   ]
  },
  {
   "cell_type": "code",
   "execution_count": 36,
   "metadata": {},
   "outputs": [
    {
     "name": "stdout",
     "output_type": "stream",
     "text": [
      "Ingrese una frase: hola como estas\n",
      "Ingrese una letra:  \n",
      "no hay coincidencias en posición 1\n",
      "no hay coincidencias en posición 2\n",
      "no hay coincidencias en posición 3\n",
      "no hay coincidencias en posición 4\n",
      "hay coincidencias en posición  5\n"
     ]
    }
   ],
   "source": [
    "frase_usuario = input('Ingrese una frase: ')\n",
    "letra_usuario = input('Ingrese una letra: ')\n",
    "posicion = 0 \n",
    "\n",
    "for letra in frase_usuario:\n",
    "    posicion += 1\n",
    "    if letra == letra_usuario:\n",
    "        print ('hay coincidencias en posición ', posicion)\n",
    "        break\n",
    "    else:\n",
    "        print ('no hay coincidencias en posición', posicion)\n",
    "       \n",
    "    \n",
    "    "
   ]
  },
  {
   "cell_type": "markdown",
   "metadata": {},
   "source": [
    "6) Crear un programa que solicite el ingreso de números enteros positivos, hasta que el usuario ingrese el 0. Por cada número, informar cuántos dígitos pares y cuántos impares tiene.<br>\n",
    "Al finalizar, informar la cantidad de dígitos pares y de dígitos impares leídos en total."
   ]
  },
  {
   "cell_type": "code",
   "execution_count": 46,
   "metadata": {},
   "outputs": [
    {
     "name": "stdout",
     "output_type": "stream",
     "text": [
      "Ingrese números enteros positivos: 123456\n",
      "la cantidad de pares es:  3 y la cantidad de impares es: 3\n",
      "Ingrese números enteros positivos: 9998888\n",
      "la cantidad de pares es:  4 y la cantidad de impares es: 3\n",
      "Ingrese números enteros positivos: 1000\n",
      "la cantidad de pares es:  3 y la cantidad de impares es: 1\n",
      "Ingrese números enteros positivos: 0\n"
     ]
    }
   ],
   "source": [
    "numeros = int(input('Ingrese números enteros positivos: '))\n",
    "while numeros != 0:\n",
    "    pares = 0\n",
    "    impares = 0   \n",
    "    numero2 = str(numeros)\n",
    "    for i in numero2:\n",
    "        if int(i) %2 == 0:\n",
    "            pares += 1\n",
    "        elif int(i) %2 == 1:\n",
    "            impares +=1\n",
    "    print('la cantidad de pares es: ', pares, 'y la cantidad de impares es:', impares)  \n",
    "    numeros = int(input('Ingrese números enteros positivos: '))\n",
    "\n",
    "    "
   ]
  },
  {
   "cell_type": "markdown",
   "metadata": {},
   "source": [
    "7) Escriba un ciclo que imprima por pantalla todos los números enteros entre 10 y 20. Escriba dos versiones del programa, uno con ciclo `while` y otro con `for`."
   ]
  },
  {
   "cell_type": "code",
   "execution_count": 55,
   "metadata": {},
   "outputs": [
    {
     "name": "stdout",
     "output_type": "stream",
     "text": [
      "11\n",
      "12\n",
      "13\n",
      "14\n",
      "15\n",
      "16\n",
      "17\n",
      "18\n",
      "19\n",
      "20\n"
     ]
    }
   ],
   "source": [
    "version1 = 10\n",
    "\n",
    "while version1 >=9 and version1 <=19:\n",
    "    version1 +=1\n",
    "    print (version1)\n",
    "    \n",
    "\n"
   ]
  },
  {
   "cell_type": "code",
   "execution_count": 57,
   "metadata": {},
   "outputs": [
    {
     "name": "stdout",
     "output_type": "stream",
     "text": [
      "10\n",
      "11\n",
      "12\n",
      "13\n",
      "14\n",
      "15\n",
      "16\n",
      "17\n",
      "18\n",
      "19\n"
     ]
    }
   ],
   "source": [
    "for i in range(10,20):\n",
    "    print (i)\n"
   ]
  },
  {
   "cell_type": "markdown",
   "metadata": {},
   "source": [
    "8) Escriba un programa que imprima todos los enteros pares entre dos números que se le piden al usuario."
   ]
  },
  {
   "cell_type": "code",
   "execution_count": 60,
   "metadata": {},
   "outputs": [
    {
     "name": "stdout",
     "output_type": "stream",
     "text": [
      "ingrese numero 1: 10\n",
      "ingrese numero 2: 20\n",
      "10\n",
      "12\n",
      "14\n",
      "16\n",
      "18\n",
      "20\n"
     ]
    }
   ],
   "source": [
    "n1=int(input('ingrese numero 1: '))\n",
    "n2=int(input('ingrese numero 2: '))\n",
    "for i in range(n1,n2+1):\n",
    "    if i %2 == 0:\n",
    "        print (i)\n",
    "        "
   ]
  },
  {
   "cell_type": "markdown",
   "metadata": {},
   "source": [
    "9) Cree una variable p y asígnele un valor entero que ingrese el usuario. Realice las siguientes operaciones (son todas independientes):\n",
    "* Sume 15 a la variable p\n",
    "* Multiplique por 3 la variable p\n",
    "* Imprima los 10 sucesores de p (use un ciclo while).\n",
    "* Imprima los 10 antecesores de p (use un ciclo for).\n",
    "* Muestre todos los números enteros entre p y $p^2$\n"
   ]
  },
  {
   "cell_type": "code",
   "execution_count": 73,
   "metadata": {},
   "outputs": [
    {
     "name": "stdout",
     "output_type": "stream",
     "text": [
      "Ingrese un número entero: 2\n",
      "17\n",
      "6\n",
      "3\n",
      "4\n",
      "5\n",
      "6\n",
      "7\n",
      "8\n",
      "9\n",
      "10\n",
      "11\n",
      "12\n",
      "-8\n",
      "-7\n",
      "-6\n",
      "-5\n",
      "-4\n",
      "-3\n",
      "-2\n",
      "-1\n",
      "0\n",
      "1\n",
      "2\n",
      "3\n"
     ]
    }
   ],
   "source": [
    "variablep = int(input('Ingrese un número entero: '))\n",
    "otrap = variablep\n",
    "contador = 0\n",
    "print(variablep +15)\n",
    "print(variablep*3)\n",
    "while contador <10:\n",
    "    contador +=1\n",
    "    variablep +=1\n",
    "    print(variablep)\n",
    "\n",
    "for i in range(otrap-10,otrap):\n",
    "    print (i)\n",
    "\n",
    "for i in range(otrap, otrap**2):\n",
    "        print (i)"
   ]
  },
  {
   "cell_type": "markdown",
   "metadata": {},
   "source": [
    "10) Use ciclos para imprimir cada uno de los siguientes triángulos. Muestre cada asterisco usando solo una sentencia de la forma<br> `print('*', end='')`.\n",
    "```\n",
    "(a)\n",
    "*\n",
    "**\n",
    "***\n",
    "****\n",
    "*****\n",
    "******\n",
    "*******\n",
    "********\n",
    "*********\n",
    "**********\n",
    "(b)\n",
    "**********\n",
    "*********\n",
    "********\n",
    "*******\n",
    "******\n",
    "*****\n",
    "****\n",
    "***\n",
    "**\n",
    "*\n",
    "(c)\n",
    "**********\n",
    " *********\n",
    "  ********\n",
    "   *******\n",
    "    ******\n",
    "     *****\n",
    "      ****\n",
    "       ***\n",
    "        **\n",
    "         *\n",
    "(d)\n",
    "         *\n",
    "        **\n",
    "       ***\n",
    "      ****\n",
    "     *****\n",
    "    ******\n",
    "   *******\n",
    "  ********\n",
    " *********\n",
    "**********\n",
    "```"
   ]
  },
  {
   "cell_type": "code",
   "execution_count": 14,
   "metadata": {},
   "outputs": [
    {
     "name": "stdout",
     "output_type": "stream",
     "text": [
      "\n",
      "*\n",
      "**\n",
      "***\n",
      "****\n",
      "*****\n",
      "******\n",
      "*******\n",
      "********\n",
      "*********\n"
     ]
    }
   ],
   "source": [
    "for i in range(0,10):\n",
    "    for v in range (0,i):\n",
    "        print('*', end='')\n",
    "    print()\n",
    "    "
   ]
  },
  {
   "cell_type": "code",
   "execution_count": 34,
   "metadata": {},
   "outputs": [
    {
     "name": "stdout",
     "output_type": "stream",
     "text": [
      "**********\n",
      "*********\n",
      "********\n",
      "*******\n",
      "******\n",
      "*****\n",
      "****\n",
      "***\n",
      "**\n",
      "*\n"
     ]
    }
   ],
   "source": [
    "for i in range(0,10):\n",
    "    for v in range(i,10):\n",
    "        print('*', end ='')\n",
    "    print ()\n",
    "    "
   ]
  },
  {
   "cell_type": "code",
   "execution_count": 123,
   "metadata": {},
   "outputs": [
    {
     "name": "stdout",
     "output_type": "stream",
     "text": [
      " *********\n",
      "  ********\n",
      "   *******\n",
      "    ******\n",
      "     *****\n",
      "      ****\n",
      "       ***\n",
      "        **\n",
      "         *\n",
      "          \n"
     ]
    }
   ],
   "source": [
    "for i in range(10):\n",
    "    for v in range (10):\n",
    "        if i < v:\n",
    "            print('*', end='')\n",
    "        else:\n",
    "            print(' ', end='') \n",
    "    print()"
   ]
  },
  {
   "cell_type": "code",
   "execution_count": 147,
   "metadata": {},
   "outputs": [
    {
     "name": "stdout",
     "output_type": "stream",
     "text": [
      "(0, 0)(0, 1)(0, 2)(0, 3)(0, 4)(0, 5)(0, 6)(0, 7)(0, 8)(0, 9)\n",
      "(1, 0)(1, 1)(1, 2)(1, 3)(1, 4)(1, 5)(1, 6)(1, 7)(1, 8)(1, 9)\n",
      "(2, 0)(2, 1)(2, 2)(2, 3)(2, 4)(2, 5)(2, 6)(2, 7)(2, 8)(2, 9)\n",
      "(3, 0)(3, 1)(3, 2)(3, 3)(3, 4)(3, 5)(3, 6)(3, 7)(3, 8)(3, 9)\n",
      "(4, 0)(4, 1)(4, 2)(4, 3)(4, 4)(4, 5)(4, 6)(4, 7)(4, 8)(4, 9)\n",
      "(5, 0)(5, 1)(5, 2)(5, 3)(5, 4)(5, 5)(5, 6)(5, 7)(5, 8)(5, 9)\n",
      "(6, 0)(6, 1)(6, 2)(6, 3)(6, 4)(6, 5)(6, 6)(6, 7)(6, 8)(6, 9)\n",
      "(7, 0)(7, 1)(7, 2)(7, 3)(7, 4)(7, 5)(7, 6)(7, 7)(7, 8)(7, 9)\n",
      "(8, 0)(8, 1)(8, 2)(8, 3)(8, 4)(8, 5)(8, 6)(8, 7)(8, 8)(8, 9)\n",
      "(9, 0)(9, 1)(9, 2)(9, 3)(9, 4)(9, 5)(9, 6)(9, 7)(9, 8)(9, 9)\n"
     ]
    }
   ],
   "source": [
    "for i in range (10):\n",
    "    for v in range(10):\n",
    "        if i<v and i +=\n",
    "        print((i,v), end='') \n",
    "    print()"
   ]
  },
  {
   "cell_type": "markdown",
   "metadata": {},
   "source": [
    "10) Averigüe qué hace el siguiente código. Intente escribir la salida a mano, luego compruebe ejecutando la celda. Pruebe con varios valores de v."
   ]
  },
  {
   "cell_type": "code",
   "execution_count": 33,
   "metadata": {},
   "outputs": [
    {
     "name": "stdout",
     "output_type": "stream",
     "text": [
      "ingrese un entero: 10\n",
      "**********\n",
      "*        *\n",
      "*        *\n",
      "*        *\n",
      "*        *\n",
      "*        *\n",
      "*        *\n",
      "*        *\n",
      "*        *\n",
      "**********\n"
     ]
    }
   ],
   "source": [
    "v = int(input(\"ingrese un entero: \"))\n",
    "for i in range(v):\n",
    "    for j in range(v):\n",
    "        if i == 0 or  i == v-1:\n",
    "            print('*',end='')\n",
    "        else:\n",
    "            if j==0 or j==v-1:\n",
    "                print('*',end='')\n",
    "            else:\n",
    "                print(' ',end='')\n",
    "    print()"
   ]
  }
 ],
 "metadata": {
  "kernelspec": {
   "display_name": "Python 3",
   "language": "python",
   "name": "python3"
  },
  "language_info": {
   "codemirror_mode": {
    "name": "ipython",
    "version": 3
   },
   "file_extension": ".py",
   "mimetype": "text/x-python",
   "name": "python",
   "nbconvert_exporter": "python",
   "pygments_lexer": "ipython3",
   "version": "3.8.5"
  }
 },
 "nbformat": 4,
 "nbformat_minor": 4
}
