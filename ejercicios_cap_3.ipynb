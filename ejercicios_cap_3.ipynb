{
 "cells": [
  {
   "cell_type": "markdown",
   "metadata": {},
   "source": [
    "1) ¿qué imprime el siguiente programa? <br>\n",
    "Intente escribir la salida a mano, luego compruebe ejecutando la celda."
   ]
  },
  {
   "cell_type": "code",
   "execution_count": 1,
   "metadata": {},
   "outputs": [
    {
     "name": "stdout",
     "output_type": "stream",
     "text": [
      ">>>>>>>>>>\n",
      "<<<<<<<<<<\n",
      ">>>>>>>>>>\n",
      "<<<<<<<<<<\n",
      ">>>>>>>>>>\n",
      "<<<<<<<<<<\n",
      ">>>>>>>>>>\n",
      "<<<<<<<<<<\n",
      ">>>>>>>>>>\n",
      "<<<<<<<<<<\n"
     ]
    }
   ],
   "source": [
    "for row in range(10):\n",
    "    for column in range(10):\n",
    "        print('<' if row % 2 == 1 else '>', end='')\n",
    "    print()"
   ]
  },
  {
   "cell_type": "markdown",
   "metadata": {},
   "source": [
    "no entiendo definitivamente el comando %\n"
   ]
  },
  {
   "cell_type": "markdown",
   "metadata": {},
   "source": [
    "2) En el código de abajo, reemplace los *** para que cuando ejecute el código, muestre dos filas, cada una contiene siete @, como en:<br>\n",
    "@@@@@@@<br>\n",
    "@@@@@@@\n"
   ]
  },
  {
   "cell_type": "code",
   "execution_count": 31,
   "metadata": {},
   "outputs": [
    {
     "name": "stdout",
     "output_type": "stream",
     "text": [
      "@@@@@@@\n",
      "@@@@@@@\n"
     ]
    }
   ],
   "source": [
    "for row in range(2):\n",
    "    for column in range(7):\n",
    "        print('@' if row % 2 == 1 else '@', end='')\n",
    "    print()"
   ]
  },
  {
   "cell_type": "markdown",
   "metadata": {},
   "source": [
    "3) Los choferes están preocupados con el rendimiento de sus vehículos. Un conductor ha mantenido un registro de varios tanques llenos de gasolina escribiendo los kilómetros recorridos y el consumo de gasolina. Desarrolle un programa que pida al usuario como entrada los kilómetros recorridos y el combustible utilizado. Su programa debe mostrar los kilómetros por litro de consumo. Luego de procesar toda la información, el script debe calcular y mostrar los kilómetros por litro combinado de todos los registros (esto es, total de kilómetros dividido por el total de litros usados)."
   ]
  },
  {
   "cell_type": "markdown",
   "metadata": {},
   "source": [
    "`Ingrese los litros usados (-1 para salir): 12.8\n",
    "Ingrese los kilómetros conducidos: 287\n",
    "Los km/lt para ese recorrido fueron: 22.421875\n",
    "Ingrese los litros usados (-1 para salir): 10.3\n",
    "Ingrese los kilómetros conducidos: 200\n",
    "Los km/lt para ese recorrido fueron: 19.417475\n",
    "Ingrese los litros usados (-1 para salir): 5\n",
    "Ingrese los kilómetros conducidos: 120\n",
    "Los km/lt para ese recorrido fueron: 24.000000\n",
    "Ingrese los litros usados (-1 para salir): -1\n",
    "El promedio general km/lt fue 21.601423`"
   ]
  },
  {
   "cell_type": "code",
   "execution_count": 13,
   "metadata": {},
   "outputs": [
    {
     "name": "stdout",
     "output_type": "stream",
     "text": [
      "Ingrese el total de viajes realizados4\n",
      "Ingrese los litros usados (-1 para salir)12.8\n",
      "Ingrese los kilómteros conducidos287\n",
      "Los km/lt para ese recorrido fueron: , 22.421875\n",
      "Ingrese el siguiente recorrido\n",
      "Ingrese los litros usados (-1 para salir)10.3\n",
      "Ingrese los kilómteros conducidos200\n",
      "Los km/lt para ese recorrido fueron: , 19.417476\n",
      "Ingrese el siguiente recorrido\n",
      "Ingrese los litros usados (-1 para salir)5\n",
      "Ingrese los kilómteros conducidos120\n",
      "Los km/lt para ese recorrido fueron: , 24.000000\n",
      "Ingrese el siguiente recorrido\n",
      "Ingrese los litros usados (-1 para salir)-1\n",
      "El rendimiento general km/lt fue de: , 21.601423\n"
     ]
    }
   ],
   "source": [
    "totalkm = 0 #para acumular los kilometros totales\n",
    "totallt = 0 #para acumular los litros totales\n",
    "\n",
    "totalviajes = input('Ingrese el total de viajes realizados')\n",
    "n = int(totalviajes)\n",
    "\n",
    "for i in range(n):\n",
    "    \n",
    "    litros = float(input('Ingrese los litros usados (-1 para salir)'))\n",
    "    lt=int(litros)\n",
    "    if lt > -1:\n",
    "        kilometros = float(input('Ingrese los kilómteros conducidos'))\n",
    "        rendimiento = kilometros/litros\n",
    "        totalkm += kilometros\n",
    "        totallt += litros\n",
    "        print (f'Los km/lt para ese recorrido fueron: , {rendimiento:.6f}')\n",
    "        print ('Ingrese el siguiente recorrido')\n",
    "    \n",
    "rendgral = totalkm/totallt\n",
    "print (f'El rendimiento general km/lt fue de: , {rendgral:.6f}')"
   ]
  },
  {
   "cell_type": "markdown",
   "metadata": {},
   "source": [
    "4) Un palíndromo es un número, palabra o frase de texto que se lee de igual forma hacia atrás o hacia adelante. Por ejemplo, cada uno de los siguientes enteros de cinco dígitos es un palíndromo: 12321, 55555, 45554 y 11611. Escriba un script que lea un entero de cindo dígitos y determine cuando es un palíndromo. [HINT: use // y % para separar los números en sus dígitos.]"
   ]
  },
  {
   "cell_type": "code",
   "execution_count": 53,
   "metadata": {},
   "outputs": [
    {
     "name": "stdout",
     "output_type": "stream",
     "text": [
      "Ingrese un número:  98765\n"
     ]
    },
    {
     "ename": "TypeError",
     "evalue": "'tuple' object cannot be interpreted as an integer",
     "output_type": "error",
     "traceback": [
      "\u001b[0;31m---------------------------------------------------------------------------\u001b[0m",
      "\u001b[0;31mTypeError\u001b[0m                                 Traceback (most recent call last)",
      "\u001b[0;32m<ipython-input-53-69bbf2ffe4be>\u001b[0m in \u001b[0;36m<module>\u001b[0;34m\u001b[0m\n\u001b[1;32m      3\u001b[0m \u001b[0mn2\u001b[0m \u001b[0;34m=\u001b[0m \u001b[0mnumero\u001b[0m\u001b[0;34m//\u001b[0m\u001b[0;36m10000\u001b[0m\u001b[0;34m,\u001b[0m \u001b[0;34m(\u001b[0m\u001b[0mnumero\u001b[0m\u001b[0;34m//\u001b[0m\u001b[0;36m1000\u001b[0m\u001b[0;34m)\u001b[0m\u001b[0;34m%\u001b[0m\u001b[0;36m10\u001b[0m\u001b[0;34m,\u001b[0m \u001b[0;34m(\u001b[0m\u001b[0mnumero\u001b[0m\u001b[0;34m//\u001b[0m\u001b[0;36m100\u001b[0m\u001b[0;34m)\u001b[0m\u001b[0;34m%\u001b[0m\u001b[0;36m10\u001b[0m\u001b[0;34m,\u001b[0m \u001b[0;34m(\u001b[0m\u001b[0mnumero\u001b[0m\u001b[0;34m//\u001b[0m\u001b[0;36m10\u001b[0m\u001b[0;34m)\u001b[0m\u001b[0;34m%\u001b[0m\u001b[0;36m10\u001b[0m\u001b[0;34m,\u001b[0m \u001b[0mnumero\u001b[0m\u001b[0;34m%\u001b[0m\u001b[0;36m10\u001b[0m\u001b[0;34m\u001b[0m\u001b[0;34m\u001b[0m\u001b[0m\n\u001b[1;32m      4\u001b[0m \u001b[0;32mfor\u001b[0m \u001b[0mi\u001b[0m \u001b[0;32min\u001b[0m \u001b[0mn2\u001b[0m\u001b[0;34m:\u001b[0m\u001b[0;34m\u001b[0m\u001b[0;34m\u001b[0m\u001b[0m\n\u001b[0;32m----> 5\u001b[0;31m     \u001b[0mlista\u001b[0m \u001b[0;34m=\u001b[0m \u001b[0mrange\u001b[0m\u001b[0;34m(\u001b[0m\u001b[0mn2\u001b[0m\u001b[0;34m)\u001b[0m\u001b[0;34m\u001b[0m\u001b[0;34m\u001b[0m\u001b[0m\n\u001b[0m\u001b[1;32m      6\u001b[0m     \u001b[0msorted\u001b[0m \u001b[0;34m(\u001b[0m\u001b[0mlista\u001b[0m\u001b[0;34m,\u001b[0m \u001b[0mreverse\u001b[0m\u001b[0;34m=\u001b[0m\u001b[0;32mTrue\u001b[0m\u001b[0;34m)\u001b[0m\u001b[0;34m\u001b[0m\u001b[0;34m\u001b[0m\u001b[0m\n\u001b[1;32m      7\u001b[0m     \u001b[0mprint\u001b[0m \u001b[0;34m(\u001b[0m\u001b[0mlista\u001b[0m\u001b[0;34m)\u001b[0m\u001b[0;34m\u001b[0m\u001b[0;34m\u001b[0m\u001b[0m\n",
      "\u001b[0;31mTypeError\u001b[0m: 'tuple' object cannot be interpreted as an integer"
     ]
    }
   ],
   "source": [
    "numero = 0 #define el valor\n",
    "numero = int(input('Ingrese un número:  '))\n",
    "n2 = numero//10000, (numero//1000)%10, (numero//100)%10, (numero//10)%10, numero%10\n",
    "for i in n2:\n",
    "    lista = range(n2)\n",
    "    sorted (lista, reverse=True)\n",
    "    print (lista)"
   ]
  },
  {
   "cell_type": "code",
   "execution_count": 26,
   "metadata": {},
   "outputs": [],
   "source": [
    "sorted?\n"
   ]
  },
  {
   "cell_type": "markdown",
   "metadata": {},
   "source": [
    "5) El cálculo de factorial es común en probabilidades. El factorial de un entero no negativo $n$ se escribe $n!$ (se lee como \"n factorial\" o \"factorial de n\") y se define como:\n",
    "$$n! = n\\cdot(n-1)\\cdot(n-1)\\cdot...\\cdot1$$\n",
    "para los valores de $n$ mayores o iguales a 1, con $0!$ definido como 1. Entonces:\n",
    "$$5! = 5\\cdot4\\cdot3\\cdot2\\cdot1$$\n",
    "que es igual a 120. Los factoriales aumentan su tamaño muy rápidamente. Escriba un script que reciba un entero no negativo y calcule y muestre su factorial. Pruebe su script con los enteros 10, 20, 30 e incluso más grandes. ¿puedes encontrar un entero para el cual Python no puede calcular su factorial?"
   ]
  },
  {
   "cell_type": "code",
   "execution_count": null,
   "metadata": {},
   "outputs": [],
   "source": []
  },
  {
   "cell_type": "markdown",
   "metadata": {},
   "source": [
    "6) Escriba un script que calcule el valor de $\\pi$ con la siguiente serie infinita. Imprima una tabla que muestre los valores de $\\pi$ con un decimal, con dos decimales, con tres y así.<br>\n",
    "$$\\pi = 4 - \\frac{4}{3}+\\frac{4}{5}-\\frac{4}{7}+\\frac{4}{9}-\\frac{4}{11}+\\cdot\\cdot\\cdot$$"
   ]
  },
  {
   "cell_type": "code",
   "execution_count": null,
   "metadata": {},
   "outputs": [],
   "source": []
  },
  {
   "cell_type": "markdown",
   "metadata": {},
   "source": [
    "7) Use un ciclo para encontrar los dos valores más grandes de 10 números ingresados."
   ]
  },
  {
   "cell_type": "code",
   "execution_count": null,
   "metadata": {},
   "outputs": [],
   "source": []
  },
  {
   "cell_type": "markdown",
   "metadata": {},
   "source": [
    "8) **Conversión binario-decimal** Ingrese un entero que contine ceros y unos (e.d. un entero binario) y muestre su decimal equivalente [sistema binario](https://es.wikipedia.org/wiki/Sistema_binario)"
   ]
  },
  {
   "cell_type": "code",
   "execution_count": null,
   "metadata": {},
   "outputs": [],
   "source": []
  },
  {
   "cell_type": "markdown",
   "metadata": {},
   "source": [
    "9) Calcule la media, la moda y la mediana de los valores 9, 11, 22, 34, 17, 22, 34, 22 y 40. Luego, suponga que los valores incluyen otro 34. ¿qué problema puede ocurrir?"
   ]
  },
  {
   "cell_type": "code",
   "execution_count": null,
   "metadata": {},
   "outputs": [],
   "source": []
  }
 ],
 "metadata": {
  "kernelspec": {
   "display_name": "Python 3",
   "language": "python",
   "name": "python3"
  },
  "language_info": {
   "codemirror_mode": {
    "name": "ipython",
    "version": 3
   },
   "file_extension": ".py",
   "mimetype": "text/x-python",
   "name": "python",
   "nbconvert_exporter": "python",
   "pygments_lexer": "ipython3",
   "version": "3.8.5"
  }
 },
 "nbformat": 4,
 "nbformat_minor": 4
}
