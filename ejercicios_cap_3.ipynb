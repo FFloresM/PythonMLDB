{
 "cells": [
  {
   "cell_type": "markdown",
   "metadata": {},
   "source": [
    "1) ¿qué imprime el siguiente programa? <br>\n",
    "Intente escribir la salida a mano, luego compruebe ejecutando la celda."
   ]
  },
  {
   "cell_type": "code",
   "execution_count": null,
   "metadata": {},
   "outputs": [],
   "source": [
    "for row in range(10):\n",
    "    for column in range(10):\n",
    "        print('<' if row % 2 == 1 else '>', end='')\n",
    "    print()"
   ]
  },
  {
   "cell_type": "markdown",
   "metadata": {},
   "source": [
    "2) En el código de abajo, reemplace los *** para que cuando ejecute el código, muestre dos filas, cada una contiene siete @, como en:<br>\n",
    "@@@@@@@<br>\n",
    "@@@@@@@\n"
   ]
  },
  {
   "cell_type": "code",
   "execution_count": null,
   "metadata": {},
   "outputs": [],
   "source": [
    "for ***:\n",
    "    for ***:\n",
    "        print('@')\n",
    "    print()"
   ]
  },
  {
   "cell_type": "markdown",
   "metadata": {},
   "source": [
    "3) Los choferes están preocupados con el rendimiento de sus vehículos. Un conductor ha mantenido un registro de varios tanques llenos de gasolina escribiendo los kilómetros recorridos y el consumo de gasolina. Desarrolle un programa que pida al usuario como entrada los kilómetros recorridos y el combustible utilizado. Su programa debe mostrar los kilómetros por litro de consumo. Luego de procesar toda la información, el script debe calcular y mostrar los kilómetros por litro combinado de todos los registros (esto es, total de kilómetros dividido por el total de litros usados)."
   ]
  },
  {
   "cell_type": "markdown",
   "metadata": {},
   "source": [
    "`Ingrese los litros usados (-1 para salir): 12.8\n",
    "Ingrese los kilómetros conducidos: 287\n",
    "Los km/lt para ese recorrido fueron: 22.421875\n",
    "Ingrese los litros usados (-1 para salir): 10.3\n",
    "Ingrese los kilómetros conducidos: 200\n",
    "Los km/lt para ese recorrido fueron: 19.417475\n",
    "Ingrese los litros usados (-1 para salir): 5\n",
    "Ingrese los kilómetros conducidos: 120\n",
    "Los km/lt para ese recorrido fueron: 24.000000\n",
    "Ingrese los litros usados (-1 para salir): -1\n",
    "El promedio general km/lt fue 21.601423`"
   ]
  },
  {
   "cell_type": "code",
   "execution_count": null,
   "metadata": {},
   "outputs": [],
   "source": []
  },
  {
   "cell_type": "markdown",
   "metadata": {},
   "source": [
    "4) Un palíndromo es un número, palabra o frase de texto que se lee de igual forma hacia atrás o hacia adelante. Por ejemplo, cada uno de los siguientes enteros de cinco dígitos es un palíndromo: 12321, 55555, 45554 y 11611. Escriba un script que lea un entero de cindo dígitos y determine cuando es un palíndromo. [HINT: use // y % para separar los números en sus dígitos.]"
   ]
  },
  {
   "cell_type": "code",
   "execution_count": null,
   "metadata": {},
   "outputs": [],
   "source": []
  },
  {
   "cell_type": "markdown",
   "metadata": {},
   "source": [
    "5) El cálculo de factorial es común en probabilidades. El factorial de un entero no negativo $n$ se escribe $n!$ (se lee como \"n factorial\" o \"factorial de n\") y se define como:\n",
    "$$n! = n\\cdot(n-1)\\cdot(n-1)\\cdot...\\cdot1$$\n",
    "para los valores de $n$ mayores o iguales a 1, con $0!$ definido como 1. Entonces:\n",
    "$$5! = 5\\cdot4\\cdot3\\cdot2\\cdot1$$\n",
    "que es igual a 120. Los factoriales aumentan su tamaño muy rápidamente. Escriba un script que reciba un entero no negativo y calcule y muestre su factorial. Pruebe su script con los enteros 10, 20, 30 e incluso más grandes. ¿puedes encontrar un entero para el cual Python no puede calcular su factorial?"
   ]
  },
  {
   "cell_type": "code",
   "execution_count": null,
   "metadata": {},
   "outputs": [],
   "source": []
  },
  {
   "cell_type": "markdown",
   "metadata": {},
   "source": [
    "6) Escriba un script que calcule el valor de $\\pi$ con la siguiente serie infinita. Imprima una tabla que muestre los valores de $\\pi$ con un decimal, con dos decimales, con tres y así.<br>\n",
    "$$\\pi = 4 - \\frac{4}{3}+\\frac{4}{5}-\\frac{4}{7}+\\frac{4}{9}-\\frac{4}{11}+\\cdot\\cdot\\cdot$$"
   ]
  },
  {
   "cell_type": "code",
   "execution_count": null,
   "metadata": {},
   "outputs": [],
   "source": []
  },
  {
   "cell_type": "markdown",
   "metadata": {},
   "source": [
    "7) Use un ciclo para encontrar los dos valores más grandes de 10 números ingresados."
   ]
  },
  {
   "cell_type": "code",
   "execution_count": null,
   "metadata": {},
   "outputs": [],
   "source": []
  },
  {
   "cell_type": "markdown",
   "metadata": {},
   "source": [
    "8) **Conversión binario-decimal** Ingrese un entero que contine ceros y unos (e.d. un entero binario) y muestre su decimal equivalente [sistema binario](https://es.wikipedia.org/wiki/Sistema_binario)"
   ]
  },
  {
   "cell_type": "code",
   "execution_count": null,
   "metadata": {},
   "outputs": [],
   "source": []
  },
  {
   "cell_type": "markdown",
   "metadata": {},
   "source": [
    "9) Calcule la media, la moda y la mediana de los valores 9, 11, 22, 34, 17, 22, 34, 22 y 40. Luego, suponga que los valores incluyen otro 34. ¿qué problema puede ocurrir?"
   ]
  },
  {
   "cell_type": "code",
   "execution_count": null,
   "metadata": {},
   "outputs": [],
   "source": []
  }
 ],
 "metadata": {
  "kernelspec": {
   "display_name": "Python 3",
   "language": "python",
   "name": "python3"
  },
  "language_info": {
   "codemirror_mode": {
    "name": "ipython",
    "version": 3
   },
   "file_extension": ".py",
   "mimetype": "text/x-python",
   "name": "python",
   "nbconvert_exporter": "python",
   "pygments_lexer": "ipython3",
   "version": "3.8.5"
  }
 },
 "nbformat": 4,
 "nbformat_minor": 4
}
