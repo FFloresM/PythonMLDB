{
 "cells": [
  {
   "cell_type": "markdown",
   "metadata": {},
   "source": [
    "1) ¿qué imprime el siguiente programa? <br>\n",
    "Intente escribir la salida a mano, luego compruebe ejecutando la celda."
   ]
  },
  {
   "cell_type": "code",
   "execution_count": 1,
   "metadata": {},
   "outputs": [
    {
     "name": "stdout",
     "output_type": "stream",
     "text": [
      ">>>>>>>>>>\n",
      "<<<<<<<<<<\n",
      ">>>>>>>>>>\n",
      "<<<<<<<<<<\n",
      ">>>>>>>>>>\n",
      "<<<<<<<<<<\n",
      ">>>>>>>>>>\n",
      "<<<<<<<<<<\n",
      ">>>>>>>>>>\n",
      "<<<<<<<<<<\n"
     ]
    }
   ],
   "source": [
    "for row in range(10):\n",
    "    for column in range(10):\n",
    "        print('<' if row % 2 == 1 else '>', end='')\n",
    "    print()"
   ]
  },
  {
   "cell_type": "code",
   "execution_count": 2,
   "metadata": {},
   "outputs": [
    {
     "name": "stdout",
     "output_type": "stream",
     "text": [
      ">>>>>>>>>>\n",
      "<<<<<<<<<<\n",
      ">>>>>>>>>>\n",
      "<<<<<<<<<<\n",
      ">>>>>>>>>>\n",
      "<<<<<<<<<<\n",
      ">>>>>>>>>>\n",
      "<<<<<<<<<<\n",
      ">>>>>>>>>>\n",
      "<<<<<<<<<<\n"
     ]
    }
   ],
   "source": [
    "for row in range(10):\n",
    "    for column in range(10):\n",
    "        if row %2 == 1:\n",
    "            print('<', end='')  \n",
    "        else:\n",
    "            print('>', end='')\n",
    "    print()"
   ]
  },
  {
   "cell_type": "code",
   "execution_count": 6,
   "metadata": {},
   "outputs": [
    {
     "data": {
      "text/plain": [
       "1"
      ]
     },
     "execution_count": 6,
     "metadata": {},
     "output_type": "execute_result"
    }
   ],
   "source": [
    "3%2"
   ]
  },
  {
   "cell_type": "markdown",
   "metadata": {},
   "source": [
    "2) En el código de abajo, reemplace los *** para que cuando ejecute el código, muestre dos filas, cada una contiene siete @, como en:<br>\n",
    "@@@@@@@<br>\n",
    "@@@@@@@\n"
   ]
  },
  {
   "cell_type": "code",
   "execution_count": 10,
   "metadata": {
    "scrolled": true
   },
   "outputs": [
    {
     "name": "stdout",
     "output_type": "stream",
     "text": [
      "@@@@@@@\n",
      "@@@@@@@\n"
     ]
    }
   ],
   "source": [
    "for row in range(2):\n",
    "    for column in range(7):\n",
    "        print('@', end='')\n",
    "    print()"
   ]
  },
  {
   "cell_type": "markdown",
   "metadata": {},
   "source": [
    "3) Los choferes están preocupados con el rendimiento de sus vehículos. Un conductor ha mantenido un registro de varios tanques llenos de gasolina escribiendo los kilómetros recorridos y el consumo de gasolina. Desarrolle un programa que pida al usuario como entrada los kilómetros recorridos y el combustible utilizado. Su programa debe mostrar los kilómetros por litro de consumo. Luego de procesar toda la información, el script debe calcular y mostrar los kilómetros por litro combinado de todos los registros (esto es, total de kilómetros dividido por el total de litros usados)."
   ]
  },
  {
   "cell_type": "markdown",
   "metadata": {},
   "source": [
    "`Ingrese los litros usados (-1 para salir): 12.8\n",
    "Ingrese los kilómetros conducidos: 287\n",
    "Los km/lt para ese recorrido fueron: 22.421875\n",
    "Ingrese los litros usados (-1 para salir): 10.3\n",
    "Ingrese los kilómetros conducidos: 200\n",
    "Los km/lt para ese recorrido fueron: 19.417475\n",
    "Ingrese los litros usados (-1 para salir): 5\n",
    "Ingrese los kilómetros conducidos: 120\n",
    "Los km/lt para ese recorrido fueron: 24.000000\n",
    "Ingrese los litros usados (-1 para salir): -1\n",
    "El promedio general km/lt fue 21.601423`"
   ]
  },
  {
   "cell_type": "code",
   "execution_count": 13,
   "metadata": {},
   "outputs": [
    {
     "name": "stdout",
     "output_type": "stream",
     "text": [
      "Ingrese el total de viajes realizados4\n",
      "Ingrese los litros usados (-1 para salir)12.8\n",
      "Ingrese los kilómteros conducidos287\n",
      "Los km/lt para ese recorrido fueron: , 22.421875\n",
      "Ingrese el siguiente recorrido\n",
      "Ingrese los litros usados (-1 para salir)10.3\n",
      "Ingrese los kilómteros conducidos200\n",
      "Los km/lt para ese recorrido fueron: , 19.417476\n",
      "Ingrese el siguiente recorrido\n",
      "Ingrese los litros usados (-1 para salir)5\n",
      "Ingrese los kilómteros conducidos120\n",
      "Los km/lt para ese recorrido fueron: , 24.000000\n",
      "Ingrese el siguiente recorrido\n",
      "Ingrese los litros usados (-1 para salir)-1\n",
      "El rendimiento general km/lt fue de: , 21.601423\n"
     ]
    }
   ],
   "source": [
    "totalkm = 0 #para acumular los kilometros totales\n",
    "totallt = 0 #para acumular los litros totales\n",
    "\n",
    "totalviajes = input('Ingrese el total de viajes realizados')\n",
    "n = int(totalviajes)\n",
    "\n",
    "for i in range(n):\n",
    "    \n",
    "    litros = float(input('Ingrese los litros usados (-1 para salir)'))\n",
    "    lt=int(litros)\n",
    "    if lt > -1:\n",
    "        kilometros = float(input('Ingrese los kilómteros conducidos'))\n",
    "        rendimiento = kilometros/litros\n",
    "        totalkm += kilometros\n",
    "        totallt += litros\n",
    "        print (f'Los km/lt para ese recorrido fueron: , {rendimiento:.6f}')\n",
    "        print ('Ingrese el siguiente recorrido')\n",
    "    \n",
    "rendgral = totalkm/totallt\n",
    "print (f'El rendimiento general km/lt fue de: , {rendgral:.6f}')"
   ]
  },
  {
   "cell_type": "markdown",
   "metadata": {},
   "source": [
    "4) Un palíndromo es un número, palabra o frase de texto que se lee de igual forma hacia atrás o hacia adelante. Por ejemplo, cada uno de los siguientes enteros de cinco dígitos es un palíndromo: 12321, 55555, 45554 y 11611. Escriba un script que lea un entero de cindo dígitos y determine cuando es un palíndromo. [HINT: use // y % para separar los números en sus dígitos.]"
   ]
  },
  {
   "cell_type": "code",
   "execution_count": 28,
   "metadata": {},
   "outputs": [
    {
     "name": "stdout",
     "output_type": "stream",
     "text": [
      "Ingrese el número a analizar: 12345\n",
      "54321\n",
      "intenta nuevamente: \n"
     ]
    }
   ],
   "source": [
    "numero = int(input('Ingrese el número a analizar: '))\n",
    "numero2 = str(numero)\n",
    "numero3 = str('')\n",
    "for i in range(1,len(numero2)+1):\n",
    "    numero3 = numero3+numero2[-i]\n",
    "print(numero3)\n",
    " \n",
    "palindromo = numero - int(numero3)\n",
    "if palindromo ==0:\n",
    "    print('el numero es un palíndromo:')\n",
    "else:\n",
    "    print('intenta nuevamente: ')"
   ]
  },
  {
   "cell_type": "markdown",
   "metadata": {},
   "source": [
    "5) El cálculo de factorial es común en probabilidades. El factorial de un entero no negativo $n$ se escribe $n!$ (se lee como \"n factorial\" o \"factorial de n\") y se define como:\n",
    "$$n! = n\\cdot(n-1)\\cdot(n-1)\\cdot...\\cdot1$$\n",
    "para los valores de $n$ mayores o iguales a 1, con $0!$ definido como 1. Entonces:\n",
    "$$5! = 5\\cdot4\\cdot3\\cdot2\\cdot1$$\n",
    "que es igual a 120. Los factoriales aumentan su tamaño muy rápidamente. Escriba un script que reciba un entero no negativo y calcule y muestre su factorial. Pruebe su script con los enteros 10, 20, 30 e incluso más grandes. ¿puedes encontrar un entero para el cual Python no puede calcular su factorial?"
   ]
  },
  {
   "cell_type": "code",
   "execution_count": 35,
   "metadata": {},
   "outputs": [
    {
     "name": "stdout",
     "output_type": "stream",
     "text": [
      "ingrese el factorial a calcular:5\n",
      "1 1\n",
      "2 2\n",
      "3 6\n",
      "4 24\n",
      "5 120\n"
     ]
    }
   ],
   "source": [
    "numero = int(input('ingrese el factorial a calcular:'))\n",
    "producto = 1\n",
    "             \n",
    "for i in range(1,numero+1):\n",
    "    producto = i*producto\n",
    "    \n",
    "    print(i, producto)\n",
    "             "
   ]
  },
  {
   "cell_type": "markdown",
   "metadata": {},
   "source": [
    "6) Escriba un script que calcule el valor de $\\pi$ con la siguiente serie infinita. Imprima una tabla que muestre los valores de $\\pi$ con un decimal, con dos decimales, con tres y así.<br>\n",
    "$$\\pi = 4 - \\frac{4}{3}+\\frac{4}{5}-\\frac{4}{7}+\\frac{4}{9}-\\frac{4}{11}+\\cdot\\cdot\\cdot$$"
   ]
  },
  {
   "cell_type": "code",
   "execution_count": 47,
   "metadata": {},
   "outputs": [
    {
     "name": "stdout",
     "output_type": "stream",
     "text": [
      "3.1\n",
      "3.14\n",
      "3.142\n"
     ]
    }
   ],
   "source": [
    "pi = 0\n",
    "contador = 1\n",
    "for i in range(1,1000000,2):\n",
    "    if contador %2 == 1:\n",
    "        pi += 4/i\n",
    "    else:\n",
    "        pi -= 4/i\n",
    "    contador += 1\n",
    "\n",
    "print (f'{pi:.1f}')\n",
    "print (f'{pi:.2f}')\n",
    "print (f'{pi:.3f}')\n",
    "\n",
    "    \n",
    "    "
   ]
  },
  {
   "cell_type": "markdown",
   "metadata": {},
   "source": [
    "7) Use un ciclo para encontrar los dos valores más grandes de 10 números ingresados."
   ]
  },
  {
   "cell_type": "code",
   "execution_count": 54,
   "metadata": {},
   "outputs": [
    {
     "name": "stdout",
     "output_type": "stream",
     "text": [
      "ingrese un número: 1\n",
      "ingrese un número: 2\n",
      "ingrese un número: 3\n",
      "ingrese un número: 4\n",
      "ingrese un número: 5\n",
      "ingrese un número: 6\n",
      "ingrese un número: 9\n",
      "ingrese un número: 8\n",
      "ingrese un número: 7\n",
      "ingrese un número: 6\n",
      "9 9\n"
     ]
    }
   ],
   "source": [
    "i = 1\n",
    "mayor = 0\n",
    "mayor2 = 0\n",
    "while i <= 10: #La condición es siempre verdadera\n",
    "    numero = int(input('ingrese un número: '))\n",
    "    if numero > mayor:\n",
    "        mayor = numero\n",
    "    if mayor2 > mayor:\n",
    "        mayor2 = numero\n",
    "    i = i+1\n",
    "print(mayor, mayor2)"
   ]
  },
  {
   "cell_type": "markdown",
   "metadata": {},
   "source": [
    "8) **Conversión binario-decimal** Ingrese un entero que contine ceros y unos (e.d. un entero binario) y muestre su decimal equivalente [sistema binario](https://es.wikipedia.org/wiki/Sistema_binario)"
   ]
  },
  {
   "cell_type": "code",
   "execution_count": 56,
   "metadata": {},
   "outputs": [
    {
     "name": "stdout",
     "output_type": "stream",
     "text": [
      "ingrese el número binario:1010010\n",
      "64\n",
      "64\n",
      "80\n",
      "80\n",
      "80\n",
      "82\n",
      "82\n"
     ]
    }
   ],
   "source": [
    "# Para realizar la conversión de binario a decimal, realice lo siguiente:\n",
    "# Comience por el lado derecho del número en binario.\n",
    "# Multiplique cada dígito por 2 elevado a la potencia consecutiva (comenzando por 2**0).\n",
    "# Después de realizar cada una de las multiplicaciones, súmelas todas y \n",
    "# el número resultante será el equivalente al sistema decimal.\n",
    "    \n",
    "binario = input('ingrese el número binario:')\n",
    "numero_binario = str(binario)\n",
    "posicion = len(numero_binario)-1  #hacer prueba sin la posición (solo el for)\n",
    "decimal = 0\n",
    "\n",
    "for digito_binario in numero_binario:\n",
    "    digito = int(digito_binario)\n",
    "    producto = digito*2**posicion\n",
    "    posicion -=1\n",
    "    decimal += producto\n",
    "    print(decimal)\n",
    "    \n",
    "\n"
   ]
  },
  {
   "cell_type": "markdown",
   "metadata": {},
   "source": [
    "9) Calcule la media, la moda y la mediana de los valores 9, 11, 22, 34, 17, 22, 34, 22 y 40. Luego, suponga que los valores incluyen otro 34. ¿qué problema puede ocurrir?"
   ]
  },
  {
   "cell_type": "code",
   "execution_count": 21,
   "metadata": {},
   "outputs": [
    {
     "name": "stdout",
     "output_type": "stream",
     "text": [
      "La media es:  23.444444444444443 la moda es:  22 la mediana es:  22\n",
      "agregando 34\n",
      "La media es:  24.5 la moda es:  22.0 la mediana es:  22\n"
     ]
    }
   ],
   "source": [
    "import statistics\n",
    "n = [9,11,22,34,17,22,34,22,40]\n",
    "media = statistics.mean(n)\n",
    "moda = statistics.median(n)\n",
    "mediana = statistics.mode(n)\n",
    "\n",
    "print('La media es: ', media, 'la moda es: ', moda, 'la mediana es: ', mediana)\n",
    "print ('agregando 34')\n",
    "n.append(34)\n",
    "media = statistics.mean(n)\n",
    "moda = statistics.median(n)\n",
    "mediana = statistics.mode(n)\n",
    "\n",
    "print('La media es: ', media, 'la moda es: ', moda, 'la mediana es: ', mediana)"
   ]
  },
  {
   "cell_type": "code",
   "execution_count": null,
   "metadata": {},
   "outputs": [],
   "source": []
  }
 ],
 "metadata": {
  "kernelspec": {
   "display_name": "Python 3",
   "language": "python",
   "name": "python3"
  },
  "language_info": {
   "codemirror_mode": {
    "name": "ipython",
    "version": 3
   },
   "file_extension": ".py",
   "mimetype": "text/x-python",
   "name": "python",
   "nbconvert_exporter": "python",
   "pygments_lexer": "ipython3",
   "version": "3.8.5"
  }
 },
 "nbformat": 4,
 "nbformat_minor": 4
}
