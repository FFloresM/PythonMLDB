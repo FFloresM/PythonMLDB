{
 "cells": [
  {
   "cell_type": "markdown",
   "metadata": {},
   "source": [
    "# ejercicios for loops"
   ]
  },
  {
   "cell_type": "code",
   "execution_count": null,
   "metadata": {},
   "outputs": [],
   "source": [
    "for i in range (1,51):\n",
    "    print (i)"
   ]
  },
  {
   "cell_type": "code",
   "execution_count": null,
   "metadata": {},
   "outputs": [],
   "source": [
    "# ejercicio 1\n",
    "i= 0\n",
    "while i < 50:\n",
    "    i += 1\n",
    "    print (i)"
   ]
  },
  {
   "cell_type": "code",
   "execution_count": null,
   "metadata": {},
   "outputs": [],
   "source": [
    "# ejercicio 2 (a)\n",
    "texto = 'Escribe un programa que usa un while'\n",
    "i= 0\n",
    "f = len(texto)\n",
    "\n",
    "while i < f:\n",
    "    print (texto[i])\n",
    "    i +=1\n",
    "\n"
   ]
  },
  {
   "cell_type": "code",
   "execution_count": null,
   "metadata": {},
   "outputs": [],
   "source": [
    "for i in texto:\n",
    "    print (i)\n",
    "    "
   ]
  },
  {
   "cell_type": "code",
   "execution_count": null,
   "metadata": {},
   "outputs": [],
   "source": [
    "# ejercicio 2 (b)\n",
    "texto = 'Escribe un programa que usa un while'\n",
    "i= 0\n",
    "f = len(texto)\n",
    "\n",
    "while i < f:\n",
    "    print (texto[i])\n",
    "    i +=2"
   ]
  },
  {
   "cell_type": "code",
   "execution_count": null,
   "metadata": {},
   "outputs": [],
   "source": [
    "#ejercicio 3\n",
    "peso = -1\n",
    "while peso < 0:\n",
    "    peso = int(input('Ingrese peso en kilos: '))\n",
    "print(peso*2.20462)"
   ]
  },
  {
   "cell_type": "code",
   "execution_count": 2,
   "metadata": {},
   "outputs": [
    {
     "name": "stdout",
     "output_type": "stream",
     "text": [
      "0\n",
      "1\n",
      "2\n",
      "3\n",
      "4\n",
      "5\n"
     ]
    }
   ],
   "source": [
    "count = 0\n",
    "while count < 5:\n",
    "    print(count)\n",
    "    count = count + 1\n",
    "else:\n",
    "    print(count)"
   ]
  },
  {
   "cell_type": "code",
   "execution_count": 19,
   "metadata": {},
   "outputs": [
    {
     "name": "stdout",
     "output_type": "stream",
     "text": [
      "0\n",
      "2\n",
      "1\n",
      "3\n",
      "2\n",
      "3\n",
      "5\n",
      "4\n",
      "6\n"
     ]
    }
   ],
   "source": [
    "count = 0\n",
    "while count < 5:\n",
    "    print(count)\n",
    "    count = count + 1\n",
    "    if count == 3:\n",
    "        continue\n",
    "    else:\n",
    "        print(count+1)\n",
    "        "
   ]
  },
  {
   "cell_type": "code",
   "execution_count": 20,
   "metadata": {},
   "outputs": [
    {
     "name": "stdout",
     "output_type": "stream",
     "text": [
      "P\n",
      "y\n",
      "t\n",
      "h\n",
      "o\n",
      "n\n"
     ]
    }
   ],
   "source": [
    "language = 'Python'\n",
    "for letter in language:\n",
    "    print(letter)"
   ]
  },
  {
   "cell_type": "code",
   "execution_count": 27,
   "metadata": {},
   "outputs": [
    {
     "name": "stdout",
     "output_type": "stream",
     "text": [
      "first_name\n",
      "last_name\n",
      "age\n",
      "country\n",
      "is_marred\n",
      "skills\n",
      "address\n",
      "age : 250\n",
      "country : Finland\n",
      "is_marred : True\n",
      "skills : ['JavaScript', 'React', 'Node', 'MongoDB', 'Python']\n",
      "address : {'street': 'Space street', 'zipcode': '02210'}\n"
     ]
    }
   ],
   "source": [
    "person = {\n",
    "    'first_name':'Asabeneh',\n",
    "    'last_name':'Yetayeh',\n",
    "    'age':250,\n",
    "    'country':'Finland',\n",
    "    'is_marred':True,\n",
    "    'skills':['JavaScript', 'React', 'Node', 'MongoDB', 'Python'],\n",
    "    'address':{\n",
    "        'street':'Space street',\n",
    "        'zipcode':'02210'\n",
    "    }\n",
    "}\n",
    "for key in person:\n",
    "    print(key)\n",
    "\n",
    "for key, value in list(person.items())[2:]:\n",
    "    print(key,\":\",value) # this way we get both keys and values printed out"
   ]
  },
  {
   "cell_type": "code",
   "execution_count": 26,
   "metadata": {},
   "outputs": [
    {
     "data": {
      "text/plain": [
       "dict_items([('first_name', 'Asabeneh'), ('last_name', 'Yetayeh'), ('age', 250), ('country', 'Finland'), ('is_marred', True), ('skills', ['JavaScript', 'React', 'Node', 'MongoDB', 'Python']), ('address', {'street': 'Space street', 'zipcode': '02210'})])"
      ]
     },
     "execution_count": 26,
     "metadata": {},
     "output_type": "execute_result"
    }
   ],
   "source": [
    "person.items()"
   ]
  },
  {
   "cell_type": "code",
   "execution_count": 30,
   "metadata": {},
   "outputs": [
    {
     "name": "stdout",
     "output_type": "stream",
     "text": [
      "Apple\n",
      "Microsoft\n",
      "Oracle\n",
      "Amazon\n",
      "PanchoInc\n",
      "Facebook\n",
      "IBM\n",
      "Google\n"
     ]
    }
   ],
   "source": [
    "it_companies = {'Facebook', 'Microsoft', 'Apple', 'IBM', 'Oracle', 'Amazon','Google', 'PanchoInc'}\n",
    "for company in it_companies:\n",
    "    print(company)"
   ]
  },
  {
   "cell_type": "code",
   "execution_count": 31,
   "metadata": {},
   "outputs": [
    {
     "name": "stdout",
     "output_type": "stream",
     "text": [
      "0\n",
      "1\n",
      "2\n",
      "3\n",
      "4\n",
      "5\n",
      "6\n",
      "7\n",
      "8\n",
      "9\n",
      "10\n"
     ]
    }
   ],
   "source": [
    "for i in range(11):\n",
    "    print(i)"
   ]
  },
  {
   "cell_type": "code",
   "execution_count": 34,
   "metadata": {},
   "outputs": [
    {
     "name": "stdout",
     "output_type": "stream",
     "text": [
      "0\n",
      "1\n",
      "2\n",
      "3\n",
      "4\n",
      "5\n",
      "6\n",
      "7\n",
      "8\n",
      "9\n",
      "10\n"
     ]
    }
   ],
   "source": [
    "i=0\n",
    "while i<11:\n",
    "    print(i)\n",
    "    i=i+1"
   ]
  },
  {
   "cell_type": "code",
   "execution_count": 61,
   "metadata": {},
   "outputs": [
    {
     "name": "stdout",
     "output_type": "stream",
     "text": [
      "10\n",
      "9\n",
      "8\n",
      "7\n",
      "6\n",
      "5\n",
      "4\n",
      "3\n",
      "2\n",
      "1\n",
      "0\n"
     ]
    }
   ],
   "source": [
    "for i in range(10,-1,-1):\n",
    "    print(i)"
   ]
  },
  {
   "cell_type": "code",
   "execution_count": 63,
   "metadata": {},
   "outputs": [
    {
     "name": "stdout",
     "output_type": "stream",
     "text": [
      "10\n",
      "9\n",
      "8\n",
      "7\n",
      "6\n",
      "5\n",
      "4\n",
      "3\n",
      "2\n",
      "1\n",
      "0\n"
     ]
    }
   ],
   "source": [
    "i=10\n",
    "while i>=0:\n",
    "    print(i)\n",
    "    i=i-1"
   ]
  },
  {
   "cell_type": "code",
   "execution_count": 71,
   "metadata": {},
   "outputs": [
    {
     "name": "stdout",
     "output_type": "stream",
     "text": [
      "# # # # # # # # \n",
      "# # # # # # # # \n",
      "# # # # # # # # \n",
      "# # # # # # # # \n",
      "# # # # # # # # \n",
      "# # # # # # # # \n",
      "# # # # # # # # \n",
      "# # # # # # # # \n"
     ]
    }
   ],
   "source": [
    "for i in range(8):\n",
    "    for j in range(8):\n",
    "        print('# ', end='')\n",
    "    print()"
   ]
  },
  {
   "cell_type": "code",
   "execution_count": 74,
   "metadata": {},
   "outputs": [
    {
     "name": "stdout",
     "output_type": "stream",
     "text": [
      "0 x 0 = 0\n",
      "1 x 1 = 1\n",
      "2 x 2 = 4\n",
      "3 x 3 = 9\n",
      "4 x 4 = 16\n",
      "5 x 5 = 25\n",
      "6 x 6 = 36\n",
      "7 x 7 = 49\n",
      "8 x 8 = 64\n",
      "9 x 9 = 81\n",
      "10 x 10 = 100\n"
     ]
    }
   ],
   "source": [
    "for i in range(11):\n",
    "    print(i,'x',i,'=',i*i)"
   ]
  }
 ],
 "metadata": {
  "kernelspec": {
   "display_name": "Python 3",
   "language": "python",
   "name": "python3"
  },
  "language_info": {
   "codemirror_mode": {
    "name": "ipython",
    "version": 3
   },
   "file_extension": ".py",
   "mimetype": "text/x-python",
   "name": "python",
   "nbconvert_exporter": "python",
   "pygments_lexer": "ipython3",
   "version": "3.8.5"
  }
 },
 "nbformat": 4,
 "nbformat_minor": 4
}
