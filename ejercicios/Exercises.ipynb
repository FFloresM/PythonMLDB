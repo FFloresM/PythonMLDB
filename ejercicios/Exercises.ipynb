{
 "cells": [
  {
   "cell_type": "code",
   "execution_count": 13,
   "metadata": {},
   "outputs": [
    {
     "name": "stdout",
     "output_type": "stream",
     "text": [
      "ingrese su nombre:Jose\n",
      "ingrese su edad: 43\n",
      "cumplira 100 años el año: 2078\n"
     ]
    }
   ],
   "source": [
    "#Cálcula cuando una persona cumplirá 100 años\n",
    "\n",
    "year = 2021\n",
    "datos = input('ingrese su nombre:')\n",
    "edad = int(input ('ingrese su edad: '))\n",
    "siglo = 2021+100-edad\n",
    "print('cumplira 100 años el año:', siglo)"
   ]
  },
  {
   "cell_type": "code",
   "execution_count": 12,
   "metadata": {},
   "outputs": [
    {
     "name": "stdout",
     "output_type": "stream",
     "text": [
      "ingrese un número: 5\n",
      "el número es impar\n"
     ]
    }
   ],
   "source": [
    "#Pregunta al usuario y devuelve si es par o impar\n",
    "\n",
    "numero = int(input('ingrese un número: '))\n",
    "if numero %4 == 0:\n",
    "    print('el número es múltiplo de 4')\n",
    "elif numero %2 == 0:\n",
    "    print('el número es par')\n",
    "else:\n",
    "    print('el número es impar')"
   ]
  },
  {
   "cell_type": "code",
   "execution_count": 7,
   "metadata": {},
   "outputs": [
    {
     "name": "stdout",
     "output_type": "stream",
     "text": [
      "Ingrese una palabra:Jose Manuel\n",
      "Orginal String is  Jose Manuel\n",
      "Printing only even index chars\n",
      "index[ 0 ] J\n",
      "index[ 2 ] s\n",
      "index[ 4 ]  \n",
      "index[ 6 ] a\n",
      "index[ 8 ] u\n"
     ]
    }
   ],
   "source": [
    "def printEveIndexChar(str):\n",
    "  for i in range(0, len(str)-1, 2):\n",
    "    print(\"index[\",i,\"]\", str[i] )\n",
    "\n",
    "inputStr = input('Ingrese una palabra:') \n",
    "print(\"Orginal String is \", inputStr)\n",
    "\n",
    "print(\"Printing only even index chars\")\n",
    "printEveIndexChar(inputStr)"
   ]
  },
  {
   "cell_type": "code",
   "execution_count": null,
   "metadata": {},
   "outputs": [],
   "source": []
  }
 ],
 "metadata": {
  "kernelspec": {
   "display_name": "Python 3",
   "language": "python",
   "name": "python3"
  },
  "language_info": {
   "codemirror_mode": {
    "name": "ipython",
    "version": 3
   },
   "file_extension": ".py",
   "mimetype": "text/x-python",
   "name": "python",
   "nbconvert_exporter": "python",
   "pygments_lexer": "ipython3",
   "version": "3.8.5"
  }
 },
 "nbformat": 4,
 "nbformat_minor": 4
}
