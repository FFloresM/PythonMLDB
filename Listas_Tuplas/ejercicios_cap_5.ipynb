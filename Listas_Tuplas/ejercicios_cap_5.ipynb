{
 "cells": [
  {
   "cell_type": "markdown",
   "metadata": {},
   "source": [
    "# Listas y Tuplas"
   ]
  },
  {
   "cell_type": "markdown",
   "metadata": {},
   "source": [
    "Goce escribiendo codigo en PYTHON que resuelva los siguientes problemas\n",
    "![](https://media2.giphy.com/media/PiQejEf31116URju4V/giphy.gif?cid=ecf05e47iro2ibkrsjbwprqjej8xj9rd9sz1udptuyqxht3m&rid=giphy.gif)"
   ]
  },
  {
   "cell_type": "markdown",
   "metadata": {},
   "source": [
    "1) ¿Cuál es el error, si existe, con cada uno de los siguientes segmentos de código? Escriba sus respuestas en una nueva celda Markdown."
   ]
  },
  {
   "cell_type": "code",
   "execution_count": null,
   "metadata": {},
   "outputs": [],
   "source": [
    "#a)\n",
    "dia, temperatura = ('Monday', 87, 65)\n",
    "\n",
    "#b)\n",
    "numbers = [1, 2, 3, 4, 5]\n",
    "numbers[10]\n",
    "\n",
    "#c)\n",
    "name = 'amanda'\n",
    "name[0] = 'A'\n",
    "\n",
    "#d)\n",
    "numbers = [1, 2, 3, 4, 5]\n",
    "numbers[3.4]\n",
    "\n",
    "#e)\n",
    "student_tuple = ('Amanda', 'Blue', [98, 75, 87])\n",
    "student_tuple[0] = 'Ariana'\n",
    "\n",
    "#f)\n",
    "('Monday', 87, 65) + 'Tuesday'\n",
    "\n",
    "#g)\n",
    "'A' += ('B', 'C')\n",
    "\n",
    "#h)\n",
    "x = 7\n",
    "del x\n",
    "print(x)\n",
    "\n",
    "#i)\n",
    "numbers = [1, 2, 3, 4, 5]\n",
    "numbers.index(10)\n",
    "\n",
    "#j)\n",
    "numbers = [1, 2, 3, 4, 5]\n",
    "numbers.extend(6, 7, 8)\n",
    "\n",
    "#k)\n",
    "numbers = [1, 2, 3, 4, 5]\n",
    "numbers.remove(10)\n",
    "\n",
    "#l)\n",
    "values = []\n",
    "values.pop()"
   ]
  },
  {
   "cell_type": "code",
   "execution_count": null,
   "metadata": {},
   "outputs": [],
   "source": []
  },
  {
   "cell_type": "markdown",
   "metadata": {},
   "source": [
    "2)  ¿qué hace la siguiente función, basado en la secuencia que recibe como argumento?"
   ]
  },
  {
   "cell_type": "code",
   "execution_count": null,
   "metadata": {},
   "outputs": [],
   "source": [
    "def misterio(secuencia):\n",
    "    return secuencia == sorted(secuencia)"
   ]
  },
  {
   "cell_type": "markdown",
   "metadata": {},
   "source": [
    "3) Reemplace los *** en la siguiente lista por comprensión y llama a la función `map`, tal que dada una lista de alturas en pulgadas, el codigo mapea la lista a una lista de tuplas que continene la altura original y su correspondiente valor en metros. Por ejemplo, si un elemento en la lista original contiene la altura 69 en pulgadas, el correspondiente elemento en la nueva lista contendrá la tupla `(69, 1.7526)`, que representa la altura en pulgadas y la altura en metros. Hay 0.0254 metros por pulgada."
   ]
  },
  {
   "cell_type": "code",
   "execution_count": null,
   "metadata": {},
   "outputs": [],
   "source": [
    "[*** for x in [69, 77, 54]]\n",
    "list(map(lambda ***, [69, 77, 54]))"
   ]
  },
  {
   "cell_type": "markdown",
   "metadata": {},
   "source": [
    "4) Cree una lista de 2x3, luego cree un loop anidado que:\n",
    "* a) asigne cada valor a un entero indicando el orden en el cual fue procesado por el loop anidado.\n",
    "* b) Muestre los elementos en formato tabular. Use el índice de columna como título en la parte superior, y el índice de fila a la izquierda de cada fila."
   ]
  },
  {
   "cell_type": "code",
   "execution_count": null,
   "metadata": {},
   "outputs": [],
   "source": []
  },
  {
   "cell_type": "markdown",
   "metadata": {},
   "source": [
    "5) Cree un string llamado `alfabeto` que contenga`'abcdefghijklmnñopqrstuvwxyz'`, luego ejecute las siguientes operaciones de <i>slicing</i> para obtener:<br>\n",
    "a) La primera mitad del string usando índices de inicio y fin.<br>\n",
    "b) La primera mitad del string usando solo el índice de término.<br>\n",
    "c) LA segunda mitad del string usando índices de inicio y fin.<br>\n",
    "d) La segunda mitad del string usando solo el índice de inicio.<br>\n",
    "e) Cada dos letras en el string comenzando con `'a'`.<br>\n",
    "f) El string completo en reversa.<br>\n",
    "g) Cada tres letras en el string en reversa comenzando con `'z'`."
   ]
  },
  {
   "cell_type": "code",
   "execution_count": null,
   "metadata": {},
   "outputs": [],
   "source": []
  },
  {
   "cell_type": "markdown",
   "metadata": {},
   "source": [
    "6) Defina una función `rotar` que reciba tres argumentos y retorne una tupla en la cual el primer argumento está en el índice 1, el segundo argumento en el índice 2 y el tercer argumento en el índice 0. Defina las variables a, b y c que contenga `'Gato'`, `22` y `1984`. Luego llame a la función tres veces. Para cada llamada, desempaque su resultado en las variables `a`, `b` y `c`, luego muestre sus valores."
   ]
  },
  {
   "cell_type": "code",
   "execution_count": null,
   "metadata": {},
   "outputs": [],
   "source": []
  },
  {
   "cell_type": "markdown",
   "metadata": {},
   "source": [
    "7) Crear una función que reciba una lista y retorne una (posiblemente más corta) lista que contenga solo los valores únicos ordenados. Pruebe su función con una lista de números y una lista de strings."
   ]
  },
  {
   "cell_type": "code",
   "execution_count": null,
   "metadata": {},
   "outputs": [],
   "source": []
  },
  {
   "cell_type": "markdown",
   "metadata": {},
   "source": [
    "8) Un string que se lee igual hacia adelante y hacia atrás, como `'radar'`, es un palíndromo. Escriba una función `esPalindromo` que tome un string y retorne `True` si es un palóndromo o `False` en otro caso. Su función debe ignorar mayúsculos o minúsculas (e.d `'a'` y `'A'` son lo mismo), espacios y puntuación."
   ]
  },
  {
   "cell_type": "code",
   "execution_count": null,
   "metadata": {},
   "outputs": [],
   "source": []
  },
  {
   "cell_type": "markdown",
   "metadata": {},
   "source": [
    "9) Escriba una función `resumen_letras` que reciba un string y retorne una lista de tuplas que contenga las letras únicas y su frecuencia en el string. Pruebe su función y muestre cada letra con su frecuencia. Su función debe ignorar mayúsculas y minúsculas (e.d 'a' y 'A' son lo mismo), espacios y puntuación. "
   ]
  },
  {
   "cell_type": "code",
   "execution_count": null,
   "metadata": {},
   "outputs": [],
   "source": []
  },
  {
   "cell_type": "markdown",
   "metadata": {},
   "source": [
    "10) Inserte 20 letras aleatorias en el rango `'a'` hasta la `'f'`en una lista. Realice las siguientes tareas y muestre sus resultados:<br>\n",
    "a) Ordene la lista en orden ascendente.<br>\n",
    "b) Ordene la lista en orden descendente.<br>\n",
    "c) Obtenga los valores únicos y ordénelos ascendentemente."
   ]
  },
  {
   "cell_type": "code",
   "execution_count": null,
   "metadata": {},
   "outputs": [],
   "source": []
  }
 ],
 "metadata": {
  "kernelspec": {
   "display_name": "Python 3",
   "language": "python",
   "name": "python3"
  },
  "language_info": {
   "codemirror_mode": {
    "name": "ipython",
    "version": 3
   },
   "file_extension": ".py",
   "mimetype": "text/x-python",
   "name": "python",
   "nbconvert_exporter": "python",
   "pygments_lexer": "ipython3",
   "version": "3.8.5"
  }
 },
 "nbformat": 4,
 "nbformat_minor": 4
}
